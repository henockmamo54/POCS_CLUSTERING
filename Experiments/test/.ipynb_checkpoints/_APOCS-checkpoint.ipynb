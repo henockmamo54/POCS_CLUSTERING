{
 "cells": [
  {
   "cell_type": "code",
   "execution_count": 1,
   "metadata": {},
   "outputs": [],
   "source": [
    "import numpy as np\n",
    "import random\n",
    "import math\n",
    "from matplotlib import pyplot as plt\n",
    "from sklearn.datasets.samples_generator import make_blobs\n",
    "import time\n",
    "import pandas as pd\n",
    "from scipy.spatial.distance import cdist\n",
    "from sklearn.utils import shuffle"
   ]
  },
  {
   "cell_type": "markdown",
   "metadata": {},
   "source": [
    "Initialize the data points and Random centers\n",
    "===========================\n"
   ]
  },
  {
   "cell_type": "code",
   "execution_count": 2,
   "metadata": {},
   "outputs": [
    {
     "data": {
      "image/png": "[encoded data removed]",
      "text/plain": [
       "<Figure size 432x288 with 1 Axes>"
      ]
     },
     "metadata": {
      "needs_background": "light"
     },
     "output_type": "display_data"
    }
   ],
   "source": [
    "cluster=2\n",
    "centers =[(-5, -5), (5, 5),(-5, 5), (5, -5),(15,5),(15,-5)]\n",
    "cluster_std =[3,3,3,3,3,3]\n",
    "\n",
    "x, y = make_blobs(n_samples=1000, cluster_std=cluster_std, centers=centers, n_features=2, random_state=7,shuffle =True )\n",
    "\n",
    "for i in range ( cluster):\n",
    "    plt.scatter(x[y == i, 0], x[y == i, 1],  s=10, label=\"Cluster - \"+str(i))\n",
    "plt.show() "
   ]
  },
  {
   "cell_type": "code",
   "execution_count": 3,
   "metadata": {},
   "outputs": [],
   "source": [
    "# haberman=pd.read_csv('../dataset/habermans-survival-data-set/haberman.csv', header=None)\n",
    "# haberman.head()\n",
    "\n",
    "# x= np.asarray( haberman.iloc[:, : -1])\n",
    "# y= np.asarray( haberman.iloc[:,-1])\n",
    "\n",
    "from sklearn.preprocessing import LabelEncoder\n",
    "lableencoder = LabelEncoder()\n",
    "\n",
    "data=pd.read_csv('../../dataset/sonar.all-data', header=None)  #\n",
    "datasetname='sonar'\n",
    "data=shuffle(data)\n",
    "\n",
    "\n",
    "data=data.sort_values(by=data.shape[1]-1)\n",
    "x= np.asarray (data.iloc[:, 0: -1])\n",
    "y=data.iloc[:,-1]\n",
    "\n",
    "# # data=data.sort_values(by=0)\n",
    "# # x= np.asarray(data.iloc[:, 1:])\n",
    "# # y=data.iloc[:,0]\n",
    "\n",
    "y=lableencoder.fit_transform(y)\n"
   ]
  },
  {
   "cell_type": "code",
   "execution_count": 4,
   "metadata": {},
   "outputs": [],
   "source": [
    "# data[data[6]=='?'].index\n",
    "# data=data.drop(data[data[6]=='?'].index)\n",
    "# data=data.astype(float)\n",
    "# x= np.asarray (data.iloc[:, 1: -1])\n",
    "# y=data.iloc[:,-1]"
   ]
  },
  {
   "cell_type": "code",
   "execution_count": 5,
   "metadata": {},
   "outputs": [
    {
     "data": {
      "text/plain": [
       "array([[0.02916394, 0.03843654, 0.04383221, 0.05389231, 0.0752024 ,\n",
       "        0.10457019, 0.12174663, 0.13479904, 0.17800288, 0.20825913,\n",
       "        0.23601298, 0.25022115, 0.27330529, 0.29656827, 0.32020144,\n",
       "        0.37848654, 0.41598317, 0.45231827, 0.50481154, 0.56304663,\n",
       "        0.6090601 , 0.624275  , 0.646975  , 0.67265433, 0.67542356,\n",
       "        0.69986635, 0.70215481, 0.69402404, 0.64207404, 0.58092788,\n",
       "        0.50447548, 0.43904038, 0.41721971, 0.40323317, 0.39257115,\n",
       "        0.3848476 , 0.36380673, 0.33965721, 0.32579952, 0.31120673,\n",
       "        0.28925192, 0.27829327, 0.24654183, 0.214075  , 0.19723221,\n",
       "        0.16063125, 0.12245288, 0.09142404, 0.05192885, 0.02042404,\n",
       "        0.01606875, 0.01342019, 0.01070913, 0.01094087, 0.00929038,\n",
       "        0.00822163, 0.00782019, 0.00794904, 0.00794135, 0.00650721],\n",
       "       [0.03916394, 0.04843654, 0.05383221, 0.06389231, 0.0852024 ,\n",
       "        0.11457019, 0.13174663, 0.14479904, 0.18800288, 0.21825913,\n",
       "        0.24601298, 0.26022115, 0.28330529, 0.30656827, 0.33020144,\n",
       "        0.38848654, 0.42598317, 0.46231827, 0.51481154, 0.57304663,\n",
       "        0.6190601 , 0.634275  , 0.656975  , 0.68265433, 0.68542356,\n",
       "        0.70986635, 0.71215481, 0.70402404, 0.65207404, 0.59092788,\n",
       "        0.51447548, 0.44904038, 0.42721971, 0.41323317, 0.40257115,\n",
       "        0.3948476 , 0.37380673, 0.34965721, 0.33579952, 0.32120673,\n",
       "        0.29925192, 0.28829327, 0.25654183, 0.224075  , 0.20723221,\n",
       "        0.17063125, 0.13245288, 0.10142404, 0.06192885, 0.03042404,\n",
       "        0.02606875, 0.02342019, 0.02070913, 0.02094087, 0.01929038,\n",
       "        0.01822163, 0.01782019, 0.01794904, 0.01794135, 0.01650721]])"
      ]
     },
     "execution_count": 5,
     "metadata": {},
     "output_type": "execute_result"
    }
   ],
   "source": [
    "def generateRandomCenters(c,x):\n",
    "    centers=[]\n",
    "    _min= (np.min(x))\n",
    "    _max= (np.max(x))\n",
    "    t= np.mean(x,axis=0)    \n",
    "    for i in range(c):\n",
    "        centers.append( t + 0.01*i)   \n",
    "    return np.asarray(centers) \n",
    "\n",
    "generateRandomCenters(cluster,x)"
   ]
  },
  {
   "cell_type": "code",
   "execution_count": 6,
   "metadata": {},
   "outputs": [],
   "source": [
    "# intialize random member ship\n",
    "def initializeMembershipMatrix(n):\n",
    "    membership_mat = list()\n",
    "    for i in range(n.shape[0]):\n",
    "        random_num_list = [random.random() for i in range(cluster)]\n",
    "        summation = sum(random_num_list) \n",
    "        temp_list = [x/summation for x in random_num_list]\n",
    "        membership_mat.append(temp_list) \n",
    "    return np.asarray(membership_mat) "
   ]
  },
  {
   "cell_type": "code",
   "execution_count": 7,
   "metadata": {},
   "outputs": [],
   "source": [
    "def updateMembershipValue3_2(u, v,val):\n",
    "    distances = cdist(val, v,metric='euclidean')\n",
    "    return distances"
   ]
  },
  {
   "cell_type": "code",
   "execution_count": 8,
   "metadata": {},
   "outputs": [],
   "source": [
    "\n",
    "def CalculateWeightValues(cluster_center,val,q):\n",
    "        \n",
    "    membership=[]    \n",
    "    distances = cdist(val, v,metric='euclidean')[:,q]  \n",
    "    sumdistance=np.sum(distances)\n",
    "    membership= distances/sumdistance \n",
    "    \n",
    "    return membership\n"
   ]
  },
  {
   "cell_type": "code",
   "execution_count": 9,
   "metadata": {},
   "outputs": [],
   "source": [
    "\n",
    "def CalculateWeightValuesByIndex(cluster_center,val,q,index):\n",
    "    \n",
    "#     print(centers[q])\n",
    "#     distances=[]\n",
    "#     for j in range(val.shape[0]):\n",
    "#         distances.append(np.linalg.norm(val[j]- v[q])) \n",
    "    \n",
    "    distances = cdist(val, v,metric='euclidean')[:,q]  \n",
    "    sumdistance=np.sum(distances)\n",
    "    membership= distances[index]/sumdistance\n",
    "        \n",
    "    return membership\n"
   ]
  },
  {
   "cell_type": "code",
   "execution_count": 10,
   "metadata": {},
   "outputs": [],
   "source": [
    "def calcError(center,mem):\n",
    "    dist=0\n",
    "    for i in range(mem.shape[0]):\n",
    "        dist+=np.linalg.norm(center - mem[i])\n",
    "    return dist"
   ]
  },
  {
   "cell_type": "code",
   "execution_count": 11,
   "metadata": {},
   "outputs": [],
   "source": [
    "def moveVtoTheCenter(v,u,x):\n",
    "    for k in range( cluster):\n",
    "        items=[]\n",
    "        for i  in range(  (x.shape[0])):\n",
    "            if(u[i,k]>=np.max(u[i])):\n",
    "                items.append(x[i])\n",
    "        v[k]=np.mean(items, axis=0)\n",
    "    return v"
   ]
  },
  {
   "cell_type": "code",
   "execution_count": 12,
   "metadata": {},
   "outputs": [],
   "source": [
    "def _k_init(X, n_clusters, x_squared_norms, random_state, n_local_trials=None):\n",
    "    \"\"\"Init n_clusters seeds according to k-means++\n",
    "    Parameters\n",
    "    ----------\n",
    "    X : array or sparse matrix, shape (n_samples, n_features)\n",
    "        The data to pick seeds for. To avoid memory copy, the input data\n",
    "        should be double precision (dtype=np.float64).\n",
    "    n_clusters : integer\n",
    "        The number of seeds to choose\n",
    "    x_squared_norms : array, shape (n_samples,)\n",
    "        Squared Euclidean norm of each data point.\n",
    "    random_state : int, RandomState instance\n",
    "        The generator used to initialize the centers. Use an int to make the\n",
    "        randomness deterministic.\n",
    "        See :term:`Glossary <random_state>`.\n",
    "    n_local_trials : integer, optional\n",
    "        The number of seeding trials for each center (except the first),\n",
    "        of which the one reducing inertia the most is greedily chosen.\n",
    "        Set to None to make the number of trials depend logarithmically\n",
    "        on the number of seeds (2+log(k)); this is the default.\n",
    "    Notes\n",
    "    -----\n",
    "    Selects initial cluster centers for k-mean clustering in a smart way\n",
    "    to speed up convergence. see: Arthur, D. and Vassilvitskii, S.\n",
    "    \"k-means++: the advantages of careful seeding\". ACM-SIAM symposium\n",
    "    on Discrete algorithms. 2007\n",
    "    Version ported from http://www.stanford.edu/~darthur/kMeansppTest.zip,\n",
    "    which is the implementation used in the aforementioned paper.\n",
    "    \"\"\"\n",
    "    n_samples, n_features = X.shape\n",
    "\n",
    "    centers = np.empty((n_clusters, n_features), dtype=X.dtype)\n",
    "\n",
    "    assert x_squared_norms is not None, 'x_squared_norms None in _k_init'\n",
    "\n",
    "    # Set the number of local seeding trials if none is given\n",
    "    if n_local_trials is None:\n",
    "        # This is what Arthur/Vassilvitskii tried, but did not report\n",
    "        # specific results for other than mentioning in the conclusion\n",
    "        # that it helped.\n",
    "        n_local_trials = 2 + int(np.log(n_clusters))\n",
    "\n",
    "    # Pick first center randomly\n",
    "    center_id = random_state.randint(n_samples)\n",
    "    if sp.issparse(X):\n",
    "        centers[0] = X[center_id].toarray()\n",
    "    else:\n",
    "        centers[0] = X[center_id]\n",
    "\n",
    "    # Initialize list of closest distances and calculate current potential\n",
    "    closest_dist_sq = euclidean_distances(\n",
    "        centers[0, np.newaxis], X, Y_norm_squared=x_squared_norms,\n",
    "        squared=True)\n",
    "    current_pot = closest_dist_sq.sum()\n",
    "\n",
    "    # Pick the remaining n_clusters-1 points\n",
    "    for c in range(1, n_clusters):\n",
    "        # Choose center candidates by sampling with probability proportional\n",
    "        # to the squared distance to the closest existing center\n",
    "        rand_vals = random_state.random_sample(n_local_trials) * current_pot\n",
    "        candidate_ids = np.searchsorted(stable_cumsum(closest_dist_sq),\n",
    "                                        rand_vals)\n",
    "\n",
    "        # Compute distances to center candidates\n",
    "        distance_to_candidates = euclidean_distances(\n",
    "            X[candidate_ids], X, Y_norm_squared=x_squared_norms, squared=True)\n",
    "\n",
    "        # Decide which candidate is the best\n",
    "        best_candidate = None\n",
    "        best_pot = None\n",
    "        best_dist_sq = None\n",
    "        for trial in range(n_local_trials):\n",
    "            # Compute potential when including center candidate\n",
    "            new_dist_sq = np.minimum(closest_dist_sq,\n",
    "                                     distance_to_candidates[trial])\n",
    "            new_pot = new_dist_sq.sum()\n",
    "\n",
    "            # Store result if it is the best local trial so far\n",
    "            if (best_candidate is None) or (new_pot < best_pot):\n",
    "                best_candidate = candidate_ids[trial]\n",
    "                best_pot = new_pot\n",
    "                best_dist_sq = new_dist_sq\n",
    "\n",
    "        # Permanently add best center candidate found in local tries\n",
    "        if sp.issparse(X):\n",
    "            centers[c] = X[best_candidate].toarray()\n",
    "        else:\n",
    "            centers[c] = X[best_candidate]\n",
    "        current_pot = best_pot\n",
    "        closest_dist_sq = best_dist_sq\n",
    "\n",
    "    return centers"
   ]
  },
  {
   "cell_type": "code",
   "execution_count": 13,
   "metadata": {},
   "outputs": [
    {
     "data": {
      "text/plain": [
       "array([[0.0366, 0.0421, 0.0504, 0.025 , 0.0596, 0.0252, 0.0958, 0.0991,\n",
       "        0.1419, 0.1847, 0.2222, 0.2648, 0.2508, 0.2291, 0.1555, 0.1863,\n",
       "        0.2387, 0.3345, 0.5233, 0.6684, 0.7766, 0.7928, 0.794 , 0.9129,\n",
       "        0.9498, 0.9835, 1.    , 0.9471, 0.8237, 0.6252, 0.4181, 0.3209,\n",
       "        0.2658, 0.2196, 0.1588, 0.0561, 0.0948, 0.17  , 0.1215, 0.1282,\n",
       "        0.0386, 0.1329, 0.2331, 0.2468, 0.196 , 0.1985, 0.157 , 0.0921,\n",
       "        0.0549, 0.0194, 0.0166, 0.0132, 0.0027, 0.0022, 0.0059, 0.0016,\n",
       "        0.0025, 0.0017, 0.0027, 0.0027],\n",
       "       [0.0131, 0.0201, 0.0045, 0.0217, 0.023 , 0.0481, 0.0742, 0.0333,\n",
       "        0.1369, 0.2079, 0.2295, 0.199 , 0.1184, 0.1891, 0.2949, 0.5343,\n",
       "        0.685 , 0.7923, 0.822 , 0.729 , 0.7352, 0.7918, 0.8057, 0.4898,\n",
       "        0.1934, 0.2924, 0.6255, 0.8546, 0.8966, 0.7821, 0.5168, 0.484 ,\n",
       "        0.4038, 0.3411, 0.2849, 0.2353, 0.2699, 0.4442, 0.4323, 0.3314,\n",
       "        0.1195, 0.1669, 0.3702, 0.3072, 0.0945, 0.1545, 0.1394, 0.0772,\n",
       "        0.0615, 0.023 , 0.0111, 0.0168, 0.0086, 0.0045, 0.0062, 0.0065,\n",
       "        0.003 , 0.0066, 0.0029, 0.0053]])"
      ]
     },
     "execution_count": 13,
     "metadata": {},
     "output_type": "execute_result"
    }
   ],
   "source": [
    "# x_squared_norms = np.row_norms(x, squared=True)\n",
    "\n",
    "from sklearn.utils.extmath import row_norms\n",
    "from sklearn.utils.extmath import row_norms, squared_norm, stable_cumsum\n",
    "import scipy.sparse as sp\n",
    "from sklearn.metrics.pairwise import euclidean_distances\n",
    " \n",
    "c = _k_init(x,cluster, row_norms(x, squared=True), np.random.RandomState())\n",
    "c"
   ]
  },
  {
   "cell_type": "markdown",
   "metadata": {},
   "source": [
    "Initialization\n",
    "================="
   ]
  },
  {
   "cell_type": "code",
   "execution_count": 14,
   "metadata": {},
   "outputs": [
    {
     "data": {
      "image/png": "[encoded data removed]",
      "text/plain": [
       "<Figure size 432x288 with 1 Axes>"
      ]
     },
     "metadata": {
      "needs_background": "light"
     },
     "output_type": "display_data"
    }
   ],
   "source": [
    "import random\n",
    "# x =np.asarray( random.sample(x.tolist(), len(x.tolist())))\n",
    "# print(x[:5,])\n",
    "\n",
    "u=initializeMembershipMatrix(x)\n",
    "v=c#generateRandomCenters(cluster,x)\n",
    " \n",
    "w=updateMembershipValue3_2(u,v,x)\n",
    "\n",
    "\n",
    "ny=np.argmin(w,axis=1)\n",
    "\n",
    "for i in range ( cluster):\n",
    "    plt.scatter(x[ny == i, 0], x[ny == i, 1],  s=10, label=\"Cluster - \"+str(i))\n",
    "plt.scatter(x=np.asarray(v)[:,0],y=np.asarray(v)[:,1], color='black',s=50)\n",
    "plt.show()  "
   ]
  },
  {
   "cell_type": "code",
   "execution_count": null,
   "metadata": {},
   "outputs": [],
   "source": []
  },
  {
   "cell_type": "markdown",
   "metadata": {},
   "source": [
    "POCS -- Alternative projection\n",
    "================="
   ]
  },
  {
   "cell_type": "code",
   "execution_count": 15,
   "metadata": {
    "scrolled": true
   },
   "outputs": [
    {
     "name": "stdout",
     "output_type": "stream",
     "text": [
      "[[0.02347478 0.02905832 0.03338742 0.03992878 0.06169609 0.09324482\n",
      "  0.11078496 0.11239426 0.15150443 0.17294599 0.19869565 0.21945044\n",
      "  0.24259784 0.24441622 0.24444713 0.29496079 0.32666424 0.35526993\n",
      "  0.41334105 0.47784923 0.54312209 0.59511398 0.65612649 0.72066849\n",
      "  0.77103437 0.81950999 0.82430994 0.79943425 0.72353191 0.63059074\n",
      "  0.55467017 0.49134997 0.44748242 0.41673722 0.39658462 0.3639657\n",
      "  0.32740947 0.30218355 0.28497345 0.26813253 0.25992271 0.25690772\n",
      "  0.25037879 0.22670668 0.2059476  0.16891443 0.12182045 0.08692457\n",
      "  0.0472946  0.01967801 0.01531593 0.01291456 0.01009531 0.00917612\n",
      "  0.00788175 0.00770286 0.00689482 0.00635007 0.00656673 0.00524539]\n",
      " [0.03597777 0.04963016 0.05547946 0.06705422 0.0889007  0.12154229\n",
      "  0.14039001 0.16878642 0.20590755 0.24399673 0.25752989 0.26106854\n",
      "  0.29237593 0.36190199 0.43613271 0.51818233 0.55539593 0.58565908\n",
      "  0.60455367 0.63419847 0.63920313 0.58698188 0.55567205 0.53650957\n",
      "  0.4828123  0.49122664 0.48127102 0.50337745 0.50370479 0.51342747\n",
      "  0.45965945 0.39043583 0.41809673 0.45818287 0.48184237 0.50427756\n",
      "  0.48254496 0.43999915 0.41584263 0.41344178 0.36161931 0.31346633\n",
      "  0.23892142 0.20095507 0.1884011  0.15230147 0.12206828 0.09528933\n",
      "  0.05621624 0.02216231 0.01621809 0.01324814 0.01186956 0.01308253\n",
      "  0.01165311 0.00912383 0.00937266 0.0099484  0.01006192 0.00816155]]\n"
     ]
    }
   ],
   "source": [
    "\n",
    "val=x\n",
    "errorlist=[]\n",
    "\n",
    "\n",
    "error=0\n",
    "for q in range(v.shape[0]):\n",
    "    error+=calcError(v[q],x[ny == q,:]) \n",
    "errorlist.append([error,time.time()- time.time()])\n",
    "\n",
    "start=time.time()\n",
    "for t in range(50):\n",
    "    error=0\n",
    "    for e in range(x.shape[0]):\n",
    "          \n",
    "        q = ny[e]   \n",
    "    \n",
    "        # find the points in the cluster q  \n",
    "        val=x[ny == q,:] \n",
    "        \n",
    "        # find the index of that element \n",
    "        index= -1\n",
    "        for r in range(val.shape[0]):\n",
    "            if(val[r][0]==x[e][0] and val[r][1]==x[e][1]):\n",
    "                index=r \n",
    "                 \n",
    "        weight=CalculateWeightValuesByIndex(v[q],val,q,index) \n",
    "                \n",
    "        v[q]= v[q]+ weight*(x[e]- v[q])  \n",
    "         \n",
    "        w=updateMembershipValue3_2(u,v,x) \n",
    "        ny=np.argmin(w,axis=1)  \n",
    "        \n",
    "    for q in range(v.shape[0]):\n",
    "        error+=calcError(v[q],x[ny == q,:]) \n",
    "    errorlist.append([error,time.time()- start])\n",
    "\n",
    "print(v)"
   ]
  },
  {
   "cell_type": "code",
   "execution_count": 16,
   "metadata": {},
   "outputs": [
    {
     "data": {
      "image/png": "[encoded data removed]",
      "text/plain": [
       "<Figure size 432x288 with 1 Axes>"
      ]
     },
     "metadata": {
      "needs_background": "light"
     },
     "output_type": "display_data"
    },
    {
     "name": "stdout",
     "output_type": "stream",
     "text": [
      "[[0.02347478 0.02905832 0.03338742 0.03992878 0.06169609 0.09324482\n",
      "  0.11078496 0.11239426 0.15150443 0.17294599 0.19869565 0.21945044\n",
      "  0.24259784 0.24441622 0.24444713 0.29496079 0.32666424 0.35526993\n",
      "  0.41334105 0.47784923 0.54312209 0.59511398 0.65612649 0.72066849\n",
      "  0.77103437 0.81950999 0.82430994 0.79943425 0.72353191 0.63059074\n",
      "  0.55467017 0.49134997 0.44748242 0.41673722 0.39658462 0.3639657\n",
      "  0.32740947 0.30218355 0.28497345 0.26813253 0.25992271 0.25690772\n",
      "  0.25037879 0.22670668 0.2059476  0.16891443 0.12182045 0.08692457\n",
      "  0.0472946  0.01967801 0.01531593 0.01291456 0.01009531 0.00917612\n",
      "  0.00788175 0.00770286 0.00689482 0.00635007 0.00656673 0.00524539]\n",
      " [0.03597777 0.04963016 0.05547946 0.06705422 0.0889007  0.12154229\n",
      "  0.14039001 0.16878642 0.20590755 0.24399673 0.25752989 0.26106854\n",
      "  0.29237593 0.36190199 0.43613271 0.51818233 0.55539593 0.58565908\n",
      "  0.60455367 0.63419847 0.63920313 0.58698188 0.55567205 0.53650957\n",
      "  0.4828123  0.49122664 0.48127102 0.50337745 0.50370479 0.51342747\n",
      "  0.45965945 0.39043583 0.41809673 0.45818287 0.48184237 0.50427756\n",
      "  0.48254496 0.43999915 0.41584263 0.41344178 0.36161931 0.31346633\n",
      "  0.23892142 0.20095507 0.1884011  0.15230147 0.12206828 0.09528933\n",
      "  0.05621624 0.02216231 0.01621809 0.01324814 0.01186956 0.01308253\n",
      "  0.01165311 0.00912383 0.00937266 0.0099484  0.01006192 0.00816155]]\n"
     ]
    }
   ],
   "source": [
    "\n",
    "for i in range ( cluster):\n",
    "    plt.scatter(x[ny == i, 0], x[ny == i, 1],  s=10, label=\"Cluster - \"+str(i))\n",
    "plt.scatter(x=np.asarray(v)[:,0],y=np.asarray(v)[:,1], color='black',s=50)\n",
    "plt.show()  \n",
    "print(v)\n"
   ]
  },
  {
   "cell_type": "code",
   "execution_count": 17,
   "metadata": {},
   "outputs": [
    {
     "data": {
      "image/png": "[encoded data removed]",
      "text/plain": [
       "<Figure size 432x288 with 1 Axes>"
      ]
     },
     "metadata": {
      "needs_background": "light"
     },
     "output_type": "display_data"
    },
    {
     "data": {
      "image/png": "[encoded data removed]",
      "text/plain": [
       "<Figure size 432x288 with 1 Axes>"
      ]
     },
     "metadata": {
      "needs_background": "light"
     },
     "output_type": "display_data"
    }
   ],
   "source": [
    "errorlist=np.asarray(errorlist) \n",
    "r=np.arange(errorlist.shape[0]) \n",
    "plt.xlabel('Epoch')\n",
    "plt.ylabel('Error')\n",
    "plt.xticks(np.arange(0,50,5))\n",
    "plt.plot(r,errorlist[:,0])\n",
    "plt.savefig(datasetname+'_Apocs_error.jpg')\n",
    "plt.show()\n",
    "np.savetxt(datasetname+\"_Apocs_errorANDtime.csv\", errorlist, delimiter=\",\")\n",
    "\n",
    "plt.xlabel('Time[sec]')\n",
    "plt.ylabel('Error')\n",
    "plt.plot(errorlist[:,1],errorlist[:,0])\n",
    "plt.savefig(datasetname+'_Apocs_time.jpg')\n",
    "plt.show()"
   ]
  },
  {
   "cell_type": "code",
   "execution_count": 18,
   "metadata": {},
   "outputs": [
    {
     "data": {
      "text/plain": [
       "y  ny\n",
       "0  0     73\n",
       "   1     38\n",
       "1  0     56\n",
       "   1     41\n",
       "dtype: int64"
      ]
     },
     "execution_count": 18,
     "metadata": {},
     "output_type": "execute_result"
    }
   ],
   "source": [
    "test=pd.DataFrame()\n",
    "test['y']=y\n",
    "test['ny']=ny\n",
    "test.head()\n",
    "test.groupby(by=['y','ny']).size()"
   ]
  },
  {
   "cell_type": "code",
   "execution_count": 19,
   "metadata": {},
   "outputs": [
    {
     "data": {
      "text/plain": [
       "array([1, 1, 1, 0, 0, 1, 1, 1, 0, 0, 1, 0, 1, 1, 0, 0, 0, 0, 0, 0, 1, 1,\n",
       "       1, 0, 0, 0, 1, 0, 0, 0, 0, 1, 1, 1, 1, 0, 0, 1, 1, 1, 0, 1, 0, 0,\n",
       "       0, 0, 0, 0, 0, 0, 1, 0, 0, 1, 0, 0, 0, 0, 1, 0, 1, 0, 0, 0, 0, 1,\n",
       "       0, 0, 0, 0, 0, 0, 1, 1, 1, 1, 1, 0, 0, 0, 0, 1, 0, 0, 0, 0, 0, 1,\n",
       "       0, 0, 0, 0, 0, 0, 0, 1, 1, 0, 0, 0, 0, 0, 1, 0, 0, 0, 0, 1, 1, 0,\n",
       "       0, 0, 1, 1, 1, 0, 1, 0, 0, 1, 0, 0, 0, 0, 1, 1, 0, 0, 0, 0, 0, 0,\n",
       "       0, 1, 0, 0, 1, 0, 0, 0, 0, 1, 0, 1, 1, 1, 1, 0, 0, 0, 1, 1, 0, 0,\n",
       "       0, 0, 0, 1, 1, 0, 1, 0, 1, 0, 1, 0, 1, 0, 1, 1, 1, 0, 0, 1, 1, 0,\n",
       "       1, 1, 0, 0, 1, 1, 0, 0, 0, 1, 1, 1, 0, 0, 0, 1, 0, 0, 1, 0, 0, 1,\n",
       "       0, 1, 0, 1, 0, 0, 0, 1, 0, 1], dtype=int64)"
      ]
     },
     "execution_count": 19,
     "metadata": {},
     "output_type": "execute_result"
    }
   ],
   "source": [
    "ny"
   ]
  },
  {
   "cell_type": "code",
   "execution_count": 20,
   "metadata": {},
   "outputs": [
    {
     "data": {
      "text/plain": [
       "array([0, 0, 0, 0, 0, 0, 0, 0, 0, 0, 0, 0, 0, 0, 0, 0, 0, 0, 0, 0, 0, 0,\n",
       "       0, 0, 0, 0, 0, 0, 0, 0, 0, 0, 0, 0, 0, 0, 0, 0, 0, 0, 0, 0, 0, 0,\n",
       "       0, 0, 0, 0, 0, 0, 0, 0, 0, 0, 0, 0, 0, 0, 0, 0, 0, 0, 0, 0, 0, 0,\n",
       "       0, 0, 0, 0, 0, 0, 0, 0, 0, 0, 0, 0, 0, 0, 0, 0, 0, 0, 0, 0, 0, 0,\n",
       "       0, 0, 0, 0, 0, 0, 0, 0, 0, 0, 0, 0, 0, 0, 0, 0, 0, 0, 0, 0, 0, 0,\n",
       "       0, 1, 1, 1, 1, 1, 1, 1, 1, 1, 1, 1, 1, 1, 1, 1, 1, 1, 1, 1, 1, 1,\n",
       "       1, 1, 1, 1, 1, 1, 1, 1, 1, 1, 1, 1, 1, 1, 1, 1, 1, 1, 1, 1, 1, 1,\n",
       "       1, 1, 1, 1, 1, 1, 1, 1, 1, 1, 1, 1, 1, 1, 1, 1, 1, 1, 1, 1, 1, 1,\n",
       "       1, 1, 1, 1, 1, 1, 1, 1, 1, 1, 1, 1, 1, 1, 1, 1, 1, 1, 1, 1, 1, 1,\n",
       "       1, 1, 1, 1, 1, 1, 1, 1, 1, 1])"
      ]
     },
     "execution_count": 20,
     "metadata": {},
     "output_type": "execute_result"
    }
   ],
   "source": [
    "np.unique(y)\n",
    "np.asarray(y)"
   ]
  },
  {
   "cell_type": "code",
   "execution_count": 24,
   "metadata": {},
   "outputs": [],
   "source": [
    "# ny[ny==0]=5\n",
    "# ny[ny==1]=0\n",
    "# ny[ny==5]=1\n",
    "\n",
    "# ny[ny==1]=2\n",
    "# ny[ny==0]=4\n",
    "\n",
    "\n",
    "# # ny=ny+5\n",
    "\n",
    "# ny[ny==10]=0\n",
    "# ny[ny==5]=1\n",
    "# ny[ny==12]=2\n",
    "# ny[ny==9]=3\n",
    "# ny[ny==6]=4\n",
    "# ny[ny==8]=5\n",
    "# ny[ny==11]=6\n",
    "# ny[ny==7]=7\n"
   ]
  },
  {
   "cell_type": "code",
   "execution_count": 25,
   "metadata": {},
   "outputs": [
    {
     "name": "stdout",
     "output_type": "stream",
     "text": [
      "0.5480769230769231\n"
     ]
    },
    {
     "data": {
      "text/plain": [
       "114"
      ]
     },
     "execution_count": 25,
     "metadata": {},
     "output_type": "execute_result"
    }
   ],
   "source": [
    "from sklearn.metrics import accuracy_score\n",
    "print(accuracy_score(y, ny))\n",
    "accuracy_score(y, ny, normalize=False)"
   ]
  },
  {
   "cell_type": "code",
   "execution_count": 26,
   "metadata": {},
   "outputs": [
    {
     "name": "stdout",
     "output_type": "stream",
     "text": [
      "              precision    recall  f1-score   support\n",
      "\n",
      "           0       0.57      0.66      0.61       111\n",
      "           1       0.52      0.42      0.47        97\n",
      "\n",
      "    accuracy                           0.55       208\n",
      "   macro avg       0.54      0.54      0.54       208\n",
      "weighted avg       0.54      0.55      0.54       208\n",
      "\n"
     ]
    }
   ],
   "source": [
    "from sklearn.metrics import classification_report\n",
    "print(classification_report(y, ny))"
   ]
  },
  {
   "cell_type": "code",
   "execution_count": null,
   "metadata": {},
   "outputs": [],
   "source": []
  },
  {
   "cell_type": "code",
   "execution_count": null,
   "metadata": {},
   "outputs": [],
   "source": []
  },
  {
   "cell_type": "code",
   "execution_count": null,
   "metadata": {},
   "outputs": [],
   "source": []
  }
 ],
 "metadata": {
  "kernelspec": {
   "display_name": "Python 3",
   "language": "python",
   "name": "python3"
  },
  "language_info": {
   "codemirror_mode": {
    "name": "ipython",
    "version": 3
   },
   "file_extension": ".py",
   "mimetype": "text/x-python",
   "name": "python",
   "nbconvert_exporter": "python",
   "pygments_lexer": "ipython3",
   "version": "3.7.3"
  }
 },
 "nbformat": 4,
 "nbformat_minor": 2
}
