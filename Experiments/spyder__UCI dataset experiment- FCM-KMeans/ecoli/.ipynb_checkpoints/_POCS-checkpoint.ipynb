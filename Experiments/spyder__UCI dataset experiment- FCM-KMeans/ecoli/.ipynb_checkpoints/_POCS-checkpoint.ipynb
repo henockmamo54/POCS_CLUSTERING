{
 "cells": [
  {
   "cell_type": "code",
   "execution_count": 1,
   "metadata": {},
   "outputs": [],
   "source": [
    "import numpy as np\n",
    "import random\n",
    "import math\n",
    "from matplotlib import pyplot as plt\n",
    "from sklearn.datasets.samples_generator import make_blobs\n",
    "import time\n",
    "import pandas as pd\n",
    "from scipy.spatial.distance import cdist\n",
    "from sklearn.utils import shuffle\n",
    "np.random.seed(5)\n",
    "from sklearn.utils.extmath import row_norms\n",
    "from sklearn.utils.extmath import row_norms, squared_norm, stable_cumsum\n",
    "import scipy.sparse as sp\n",
    "from sklearn.metrics.pairwise import euclidean_distances\n",
    "from sklearn.preprocessing import LabelEncoder\n",
    "from sklearn.utils import shuffle"
   ]
  },
  {
   "cell_type": "markdown",
   "metadata": {},
   "source": [
    "Initialize the data points and Random centers\n",
    "===========================\n"
   ]
  },
  {
   "cell_type": "code",
   "execution_count": 2,
   "metadata": {},
   "outputs": [],
   "source": [
    "def generateRandomCenters(c,x):\n",
    "    centers=[]\n",
    "    _min= (np.min(x))\n",
    "    _max= (np.max(x))\n",
    "    t= np.mean(x,axis=0)    \n",
    "    for i in range(c):\n",
    "        centers.append( t + 0.01*i)   \n",
    "    return np.asarray(centers) \n"
   ]
  },
  {
   "cell_type": "code",
   "execution_count": 3,
   "metadata": {},
   "outputs": [],
   "source": [
    "# intialize random member ship\n",
    "def initializeMembershipMatrix(n,cluster):\n",
    "    membership_mat = list()\n",
    "    for i in range(n.shape[0]):\n",
    "        random_num_list = [ np.random.rand() for i in range(cluster)]\n",
    "        summation = sum(random_num_list) \n",
    "        temp_list = [x/summation for x in random_num_list]\n",
    "        membership_mat.append(temp_list) \n",
    "    return np.asarray(membership_mat) "
   ]
  },
  {
   "cell_type": "code",
   "execution_count": 4,
   "metadata": {},
   "outputs": [],
   "source": [
    "def updateMembershipValue3_2(v,val):\n",
    "    distances = cdist(val, v,metric='euclidean')\n",
    "    return distances"
   ]
  },
  {
   "cell_type": "code",
   "execution_count": 5,
   "metadata": {},
   "outputs": [],
   "source": [
    "\n",
    "def CalculateWeightValues(cluster_center,val,q):\n",
    "        \n",
    "    membership=[]    \n",
    "    distances = cdist(val, v,metric='euclidean')[:,q]  \n",
    "    sumdistance=np.sum(distances)\n",
    "    membership= distances/sumdistance \n",
    "    \n",
    "    return membership\n"
   ]
  },
  {
   "cell_type": "code",
   "execution_count": 6,
   "metadata": {},
   "outputs": [],
   "source": [
    "\n",
    "def CalculateWeightValuesByIndex(cluster_center,val,q,index):\n",
    "        \n",
    "    distances = cdist(val, v,metric='euclidean')[:,q]  \n",
    "    sumdistance=np.sum(distances)\n",
    "    membership= distances[index]/sumdistance\n",
    "        \n",
    "    return membership\n"
   ]
  },
  {
   "cell_type": "code",
   "execution_count": 7,
   "metadata": {},
   "outputs": [],
   "source": [
    "def calcError(center,mem):\n",
    "    dist=0\n",
    "    for i in range(mem.shape[0]):\n",
    "        dist+=np.linalg.norm(center - mem[i])\n",
    "    return dist"
   ]
  },
  {
   "cell_type": "code",
   "execution_count": 8,
   "metadata": {},
   "outputs": [],
   "source": [
    "def moveVtoTheCenter(v,u,x):\n",
    "    for k in range( cluster):\n",
    "        items=[]\n",
    "        for i  in range(  (x.shape[0])):\n",
    "            if(u[i,k]>=np.max(u[i])):\n",
    "                items.append(x[i])\n",
    "        v[k]=np.mean(items, axis=0)\n",
    "    return v"
   ]
  },
  {
   "cell_type": "code",
   "execution_count": 9,
   "metadata": {},
   "outputs": [],
   "source": [
    "def _k_init(X, n_clusters, x_squared_norms, random_state, n_local_trials=None):\n",
    "    \"\"\"Init n_clusters seeds according to k-means++\n",
    "    Parameters\n",
    "    ----------\n",
    "    X : array or sparse matrix, shape (n_samples, n_features)\n",
    "        The data to pick seeds for. To avoid memory copy, the input data\n",
    "        should be double precision (dtype=np.float64).\n",
    "    n_clusters : integer\n",
    "        The number of seeds to choose\n",
    "    x_squared_norms : array, shape (n_samples,)\n",
    "        Squared Euclidean norm of each data point.\n",
    "    random_state : int, RandomState instance\n",
    "        The generator used to initialize the centers. Use an int to make the\n",
    "        randomness deterministic.\n",
    "        See :term:`Glossary <random_state>`.\n",
    "    n_local_trials : integer, optional\n",
    "        The number of seeding trials for each center (except the first),\n",
    "        of which the one reducing inertia the most is greedily chosen.\n",
    "        Set to None to make the number of trials depend logarithmically\n",
    "        on the number of seeds (2+log(k)); this is the default.\n",
    "    Notes\n",
    "    -----\n",
    "    Selects initial cluster centers for k-mean clustering in a smart way\n",
    "    to speed up convergence. see: Arthur, D. and Vassilvitskii, S.\n",
    "    \"k-means++: the advantages of careful seeding\". ACM-SIAM symposium\n",
    "    on Discrete algorithms. 2007\n",
    "    Version ported from http://www.stanford.edu/~darthur/kMeansppTest.zip,\n",
    "    which is the implementation used in the aforementioned paper.\n",
    "    \"\"\"\n",
    "    n_samples, n_features = X.shape\n",
    "\n",
    "    centers = np.empty((n_clusters, n_features), dtype=X.dtype)\n",
    "\n",
    "    assert x_squared_norms is not None, 'x_squared_norms None in _k_init'\n",
    "\n",
    "    # Set the number of local seeding trials if none is given\n",
    "    if n_local_trials is None:\n",
    "        # This is what Arthur/Vassilvitskii tried, but did not report\n",
    "        # specific results for other than mentioning in the conclusion\n",
    "        # that it helped.\n",
    "        n_local_trials = 2 + int(np.log(n_clusters))\n",
    "\n",
    "    # Pick first center randomly\n",
    "    center_id = random_state.randint(n_samples)\n",
    "    if sp.issparse(X):\n",
    "        centers[0] = X[center_id].toarray()\n",
    "    else:\n",
    "        centers[0] = X[center_id]\n",
    "\n",
    "    # Initialize list of closest distances and calculate current potential\n",
    "    closest_dist_sq = euclidean_distances(\n",
    "        centers[0, np.newaxis], X, Y_norm_squared=x_squared_norms,\n",
    "        squared=True)\n",
    "    current_pot = closest_dist_sq.sum()\n",
    "\n",
    "    # Pick the remaining n_clusters-1 points\n",
    "    for c in range(1, n_clusters):\n",
    "        # Choose center candidates by sampling with probability proportional\n",
    "        # to the squared distance to the closest existing center\n",
    "        rand_vals = random_state.random_sample(n_local_trials) * current_pot\n",
    "        candidate_ids = np.searchsorted(stable_cumsum(closest_dist_sq),\n",
    "                                        rand_vals)\n",
    "\n",
    "        # Compute distances to center candidates\n",
    "        distance_to_candidates = euclidean_distances(\n",
    "            X[candidate_ids], X, Y_norm_squared=x_squared_norms, squared=True)\n",
    "\n",
    "        # Decide which candidate is the best\n",
    "        best_candidate = None\n",
    "        best_pot = None\n",
    "        best_dist_sq = None\n",
    "        for trial in range(n_local_trials):\n",
    "            # Compute potential when including center candidate\n",
    "            new_dist_sq = np.minimum(closest_dist_sq,\n",
    "                                     distance_to_candidates[trial])\n",
    "            new_pot = new_dist_sq.sum()\n",
    "\n",
    "            # Store result if it is the best local trial so far\n",
    "            if (best_candidate is None) or (new_pot < best_pot):\n",
    "                best_candidate = candidate_ids[trial]\n",
    "                best_pot = new_pot\n",
    "                best_dist_sq = new_dist_sq\n",
    "\n",
    "        # Permanently add best center candidate found in local tries\n",
    "        if sp.issparse(X):\n",
    "            centers[c] = X[best_candidate].toarray()\n",
    "        else:\n",
    "            centers[c] = X[best_candidate]\n",
    "        current_pot = best_pot\n",
    "        closest_dist_sq = best_dist_sq\n",
    "\n",
    "    return centers"
   ]
  },
  {
   "cell_type": "code",
   "execution_count": 10,
   "metadata": {},
   "outputs": [
    {
     "data": {
      "text/html": [
       "<div>\n",
       "<style scoped>\n",
       "    .dataframe tbody tr th:only-of-type {\n",
       "        vertical-align: middle;\n",
       "    }\n",
       "\n",
       "    .dataframe tbody tr th {\n",
       "        vertical-align: top;\n",
       "    }\n",
       "\n",
       "    .dataframe thead th {\n",
       "        text-align: right;\n",
       "    }\n",
       "</style>\n",
       "<table border=\"1\" class=\"dataframe\">\n",
       "  <thead>\n",
       "    <tr style=\"text-align: right;\">\n",
       "      <th></th>\n",
       "      <th>0</th>\n",
       "      <th>1</th>\n",
       "      <th>2</th>\n",
       "      <th>3</th>\n",
       "      <th>4</th>\n",
       "      <th>5</th>\n",
       "      <th>6</th>\n",
       "      <th>7</th>\n",
       "      <th>8</th>\n",
       "    </tr>\n",
       "  </thead>\n",
       "  <tbody>\n",
       "    <tr>\n",
       "      <th>0</th>\n",
       "      <td>AAT_ECOLI</td>\n",
       "      <td>0.49</td>\n",
       "      <td>0.29</td>\n",
       "      <td>0.48</td>\n",
       "      <td>0.5</td>\n",
       "      <td>0.56</td>\n",
       "      <td>0.24</td>\n",
       "      <td>0.35</td>\n",
       "      <td>cp</td>\n",
       "    </tr>\n",
       "    <tr>\n",
       "      <th>1</th>\n",
       "      <td>ACEA_ECOLI</td>\n",
       "      <td>0.07</td>\n",
       "      <td>0.40</td>\n",
       "      <td>0.48</td>\n",
       "      <td>0.5</td>\n",
       "      <td>0.54</td>\n",
       "      <td>0.35</td>\n",
       "      <td>0.44</td>\n",
       "      <td>cp</td>\n",
       "    </tr>\n",
       "    <tr>\n",
       "      <th>2</th>\n",
       "      <td>ACEK_ECOLI</td>\n",
       "      <td>0.56</td>\n",
       "      <td>0.40</td>\n",
       "      <td>0.48</td>\n",
       "      <td>0.5</td>\n",
       "      <td>0.49</td>\n",
       "      <td>0.37</td>\n",
       "      <td>0.46</td>\n",
       "      <td>cp</td>\n",
       "    </tr>\n",
       "    <tr>\n",
       "      <th>3</th>\n",
       "      <td>ACKA_ECOLI</td>\n",
       "      <td>0.59</td>\n",
       "      <td>0.49</td>\n",
       "      <td>0.48</td>\n",
       "      <td>0.5</td>\n",
       "      <td>0.52</td>\n",
       "      <td>0.45</td>\n",
       "      <td>0.36</td>\n",
       "      <td>cp</td>\n",
       "    </tr>\n",
       "    <tr>\n",
       "      <th>4</th>\n",
       "      <td>ADI_ECOLI</td>\n",
       "      <td>0.23</td>\n",
       "      <td>0.32</td>\n",
       "      <td>0.48</td>\n",
       "      <td>0.5</td>\n",
       "      <td>0.55</td>\n",
       "      <td>0.25</td>\n",
       "      <td>0.35</td>\n",
       "      <td>cp</td>\n",
       "    </tr>\n",
       "  </tbody>\n",
       "</table>\n",
       "</div>"
      ],
      "text/plain": [
       "            0     1     2     3    4     5     6     7   8\n",
       "0   AAT_ECOLI  0.49  0.29  0.48  0.5  0.56  0.24  0.35  cp\n",
       "1  ACEA_ECOLI  0.07  0.40  0.48  0.5  0.54  0.35  0.44  cp\n",
       "2  ACEK_ECOLI  0.56  0.40  0.48  0.5  0.49  0.37  0.46  cp\n",
       "3  ACKA_ECOLI  0.59  0.49  0.48  0.5  0.52  0.45  0.36  cp\n",
       "4   ADI_ECOLI  0.23  0.32  0.48  0.5  0.55  0.25  0.35  cp"
      ]
     },
     "execution_count": 10,
     "metadata": {},
     "output_type": "execute_result"
    }
   ],
   "source": [
    "cluster=8\n",
    "data=pd.read_csv('../../../dataset/ecoli.data', header=None, sep=',')  \n",
    "datasetname='iris'\n",
    "x= np.asarray(data.iloc[:, 1:-1]) \n",
    "y= np.asarray(data.iloc[:, -1]) \n",
    "le=LabelEncoder()\n",
    "y=le.fit_transform(y)\n",
    "data.head() "
   ]
  },
  {
   "cell_type": "code",
   "execution_count": 11,
   "metadata": {},
   "outputs": [],
   "source": [
    "c = _k_init(x,cluster, row_norms(x, squared=True), np.random.RandomState())"
   ]
  },
  {
   "cell_type": "markdown",
   "metadata": {},
   "source": [
    "Initialization\n",
    "================="
   ]
  },
  {
   "cell_type": "code",
   "execution_count": 12,
   "metadata": {
    "scrolled": true
   },
   "outputs": [],
   "source": [
    "# y"
   ]
  },
  {
   "cell_type": "code",
   "execution_count": 13,
   "metadata": {},
   "outputs": [],
   "source": [
    "# x.shape"
   ]
  },
  {
   "cell_type": "markdown",
   "metadata": {},
   "source": [
    "POCS -- Parallel projection\n",
    "================="
   ]
  },
  {
   "cell_type": "code",
   "execution_count": 14,
   "metadata": {
    "scrolled": true
   },
   "outputs": [
    {
     "name": "stdout",
     "output_type": "stream",
     "text": [
      "0\n",
      "1\n",
      "2\n",
      "3\n",
      "4\n"
     ]
    }
   ],
   "source": [
    "for i in range(5):\n",
    "    \n",
    "    data=shuffle(data)\n",
    "    x= np.asarray(data.iloc[:, 1:-1]) \n",
    "    y= np.asarray(data.iloc[:, -1]) \n",
    "    le=LabelEncoder()\n",
    "    y=le.fit_transform(y)\n",
    "\n",
    "    v=c \n",
    "    w=updateMembershipValue3_2(v,x)\n",
    "    ny=np.argmin(w,axis=1)\n",
    "\n",
    "\n",
    "    errorlist=[]\n",
    "    start=time.time()\n",
    "    for t in range(50):\n",
    "        error=0\n",
    "        for q in range(cluster): \n",
    "\n",
    "            val=x[ny == q,:] \n",
    "\n",
    "            if(val.shape[0]!=0):\n",
    "\n",
    "                weight=CalculateWeightValues(v,val,q) \n",
    "\n",
    "                v[q]= v[q]+np.dot(weight,val-v[q])\n",
    "\n",
    "\n",
    "\n",
    "        w=updateMembershipValue3_2(v,x)  \n",
    "        ny=np.argmin(w,axis=1)\n",
    "\n",
    "\n",
    "    total_time= time.time()- start\n",
    "    \n",
    "    mypred=pd.DataFrame()\n",
    "    mypred['Actual']=y\n",
    "    mypred['Predicted']=ny\n",
    "    \n",
    "    mypred.to_csv('PPCOS_'+str(i)+'_pred.txt',sep=',',index=False)\n",
    "    print(i)\n",
    "    "
   ]
  },
  {
   "cell_type": "code",
   "execution_count": null,
   "metadata": {},
   "outputs": [],
   "source": []
  },
  {
   "cell_type": "code",
   "execution_count": null,
   "metadata": {
    "scrolled": true
   },
   "outputs": [],
   "source": []
  },
  {
   "cell_type": "code",
   "execution_count": null,
   "metadata": {},
   "outputs": [],
   "source": []
  }
 ],
 "metadata": {
  "kernelspec": {
   "display_name": "Python 3",
   "language": "python",
   "name": "python3"
  },
  "language_info": {
   "codemirror_mode": {
    "name": "ipython",
    "version": 3
   },
   "file_extension": ".py",
   "mimetype": "text/x-python",
   "name": "python",
   "nbconvert_exporter": "python",
   "pygments_lexer": "ipython3",
   "version": "3.7.3"
  }
 },
 "nbformat": 4,
 "nbformat_minor": 2
}
