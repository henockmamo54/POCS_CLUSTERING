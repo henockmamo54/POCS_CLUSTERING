{
 "cells": [
  {
   "cell_type": "code",
   "execution_count": 1,
   "metadata": {},
   "outputs": [
    {
     "name": "stderr",
     "output_type": "stream",
     "text": [
      "C:\\ProgramData\\Anaconda3\\lib\\site-packages\\sklearn\\utils\\deprecation.py:144: FutureWarning: The sklearn.datasets.samples_generator module is  deprecated in version 0.22 and will be removed in version 0.24. The corresponding classes / functions should instead be imported from sklearn.datasets. Anything that cannot be imported from sklearn.datasets is now part of the private API.\n",
      "  warnings.warn(message, FutureWarning)\n"
     ]
    }
   ],
   "source": [
    "import numpy as np\n",
    "# import random\n",
    "import math\n",
    "from matplotlib import pyplot as plt\n",
    "from sklearn.datasets.samples_generator import make_blobs\n",
    "import time\n",
    "import pandas as pd\n",
    "from scipy.spatial.distance import cdist\n",
    "from sklearn.utils import shuffle\n",
    "import cv2 as cv\n",
    "from sklearn.utils.extmath import row_norms\n",
    "from sklearn.utils.extmath import row_norms, squared_norm, stable_cumsum\n",
    "import scipy.sparse as sp\n",
    "from sklearn.metrics.pairwise import euclidean_distances\n",
    "import PsnrSnr as p\n",
    "np.random.seed(15)"
   ]
  },
  {
   "cell_type": "code",
   "execution_count": 2,
   "metadata": {},
   "outputs": [],
   "source": [
    "# intialize random member ship\n",
    "def initializeMembershipMatrix(n,cluster):\n",
    "    membership_mat = list()\n",
    "    for i in range(n.shape[0]):\n",
    "        random_num_list = [ np.random.rand() for i in range(cluster)]\n",
    "        summation = sum(random_num_list) \n",
    "        temp_list = [x/summation for x in random_num_list]\n",
    "        membership_mat.append(temp_list) \n",
    "    return np.asarray(membership_mat) "
   ]
  },
  {
   "cell_type": "code",
   "execution_count": 3,
   "metadata": {},
   "outputs": [],
   "source": [
    "def updateMembershipValue3_2(v,val):\n",
    "    distances = cdist(val, v,metric='euclidean')\n",
    "    return distances"
   ]
  },
  {
   "cell_type": "code",
   "execution_count": 4,
   "metadata": {},
   "outputs": [],
   "source": [
    "def CalculateWeightValues(cluster_center,val,q):        \n",
    "    membership=[]    \n",
    "    distances = cdist(val, cluster_center,metric='euclidean')[:,q]  \n",
    "    sumdistance=np.sum(distances)  \n",
    "    membership= distances/sumdistance    \n",
    "    return membership"
   ]
  },
  {
   "cell_type": "code",
   "execution_count": 5,
   "metadata": {},
   "outputs": [],
   "source": [
    "def CalculateWeightValuesByIndex(cluster_center,val,q,index):        \n",
    "    distances = cdist(val, v,metric='euclidean')[:,q]  \n",
    "    sumdistance=np.sum(distances)\n",
    "    membership= distances[index]/sumdistance        \n",
    "    return membership"
   ]
  },
  {
   "cell_type": "code",
   "execution_count": 6,
   "metadata": {},
   "outputs": [],
   "source": [
    "def _k_init(X, n_clusters, x_squared_norms, random_state, n_local_trials=None):\n",
    "    \"\"\"Init n_clusters seeds according to k-means++\n",
    "    Parameters\n",
    "    ----------\n",
    "    X : array or sparse matrix, shape (n_samples, n_features)\n",
    "        The data to pick seeds for. To avoid memory copy, the input data\n",
    "        should be double precision (dtype=np.float64).\n",
    "    n_clusters : integer\n",
    "        The number of seeds to choose\n",
    "    x_squared_norms : array, shape (n_samples,)\n",
    "        Squared Euclidean norm of each data point.\n",
    "    random_state : int, RandomState instance\n",
    "        The generator used to initialize the centers. Use an int to make the\n",
    "        randomness deterministic.\n",
    "        See :term:`Glossary <random_state>`.\n",
    "    n_local_trials : integer, optional\n",
    "        The number of seeding trials for each center (except the first),\n",
    "        of which the one reducing inertia the most is greedily chosen.\n",
    "        Set to None to make the number of trials depend logarithmically\n",
    "        on the number of seeds (2+log(k)); this is the default.\n",
    "    Notes\n",
    "    -----\n",
    "    Selects initial cluster centers for k-mean clustering in a smart way\n",
    "    to speed up convergence. see: Arthur, D. and Vassilvitskii, S.\n",
    "    \"k-means++: the advantages of careful seeding\". ACM-SIAM symposium\n",
    "    on Discrete algorithms. 2007\n",
    "    Version ported from http://www.stanford.edu/~darthur/kMeansppTest.zip,\n",
    "    which is the implementation used in the aforementioned paper.\n",
    "    \"\"\"\n",
    "    n_samples, n_features = X.shape\n",
    "\n",
    "    centers = np.empty((n_clusters, n_features), dtype=X.dtype)\n",
    "\n",
    "    assert x_squared_norms is not None, 'x_squared_norms None in _k_init'\n",
    "\n",
    "    # Set the number of local seeding trials if none is given\n",
    "    if n_local_trials is None:\n",
    "        # This is what Arthur/Vassilvitskii tried, but did not report\n",
    "        # specific results for other than mentioning in the conclusion\n",
    "        # that it helped.\n",
    "        n_local_trials = 2 + int(np.log(n_clusters))\n",
    "\n",
    "    # Pick first center randomly\n",
    "    center_id = random_state.randint(n_samples)\n",
    "    if sp.issparse(X):\n",
    "        centers[0] = X[center_id].toarray()\n",
    "    else:\n",
    "        centers[0] = X[center_id]\n",
    "\n",
    "    # Initialize list of closest distances and calculate current potential\n",
    "    closest_dist_sq = euclidean_distances(\n",
    "        centers[0, np.newaxis], X, Y_norm_squared=x_squared_norms,\n",
    "        squared=True)\n",
    "    current_pot = closest_dist_sq.sum()\n",
    "\n",
    "    # Pick the remaining n_clusters-1 points\n",
    "    for c in range(1, n_clusters):\n",
    "        # Choose center candidates by sampling with probability proportional\n",
    "        # to the squared distance to the closest existing center\n",
    "        rand_vals = random_state.random_sample(n_local_trials) * current_pot\n",
    "        candidate_ids = np.searchsorted(stable_cumsum(closest_dist_sq),\n",
    "                                        rand_vals)\n",
    "\n",
    "        # Compute distances to center candidates\n",
    "        distance_to_candidates = euclidean_distances(\n",
    "            X[candidate_ids], X, Y_norm_squared=x_squared_norms, squared=True)\n",
    "\n",
    "        # Decide which candidate is the best\n",
    "        best_candidate = None\n",
    "        best_pot = None\n",
    "        best_dist_sq = None\n",
    "        for trial in range(n_local_trials):\n",
    "            # Compute potential when including center candidate\n",
    "            new_dist_sq = np.minimum(closest_dist_sq,\n",
    "                                     distance_to_candidates[trial])\n",
    "            new_pot = new_dist_sq.sum()\n",
    "\n",
    "            # Store result if it is the best local trial so far\n",
    "            if (best_candidate is None) or (new_pot < best_pot):\n",
    "                best_candidate = candidate_ids[trial]\n",
    "                best_pot = new_pot\n",
    "                best_dist_sq = new_dist_sq\n",
    "\n",
    "        # Permanently add best center candidate found in local tries\n",
    "        if sp.issparse(X):\n",
    "            centers[c] = X[best_candidate].toarray()\n",
    "        else:\n",
    "            centers[c] = X[best_candidate]\n",
    "        current_pot = best_pot\n",
    "        closest_dist_sq = best_dist_sq\n",
    "\n",
    "    return centers"
   ]
  },
  {
   "cell_type": "code",
   "execution_count": 7,
   "metadata": {},
   "outputs": [
    {
     "data": {
      "image/png": "[encoded data removed]",
      "text/plain": [
       "<Figure size 432x288 with 1 Axes>"
      ]
     },
     "metadata": {},
     "output_type": "display_data"
    }
   ],
   "source": [
    "img = cv.imread(\"181021.jpg\", 0)\n",
    "size=200\n",
    "img = cv.resize(img, dsize=(size, size)) \n",
    "width=img.shape[0]\n",
    "height=img.shape[1]\n",
    "\n",
    "plt.imshow(img, cmap=\"gray\")\n",
    "plt.xticks([])\n",
    "plt.yticks([])\n",
    "plt.grid(False)\n",
    "plt.show()\n"
   ]
  },
  {
   "cell_type": "code",
   "execution_count": 8,
   "metadata": {},
   "outputs": [],
   "source": [
    "i = 0\n",
    "j = 0\n",
    "luv = []\n",
    "\n",
    "for h in range(int(width / 2)):\n",
    "    j = 0\n",
    "    for k in range(int(height / 2)):\n",
    "\n",
    "        luv.append([img[i, j], img[i + 1, j], img[i, j + 1], img[i + 1, j + 1]])\n",
    "\n",
    "        j = j + 2\n",
    "\n",
    "    i = i + 2"
   ]
  },
  {
   "cell_type": "code",
   "execution_count": 9,
   "metadata": {},
   "outputs": [],
   "source": [
    "def generateRandomCenters(c,x):\n",
    "    centers=[]\n",
    "    _min= (np.min(x))\n",
    "    _max= (np.max(x))\n",
    "    t= np.mean(x,axis=0)    \n",
    "    for i in range(c):\n",
    "        centers.append( t + 0.01*i)   \n",
    "    return np.asarray(centers) \n"
   ]
  },
  {
   "cell_type": "code",
   "execution_count": 10,
   "metadata": {},
   "outputs": [],
   "source": [
    "import time as t\n",
    "\n",
    "cluster = 36\n",
    "\n",
    "clusterssize = [cluster]  # 2, 3, 4, 5, 6, 7, 8, 9,\n",
    "timearray = []\n",
    "psnrarray = []\n",
    "segementedImg = []\n",
    "x=np.array(luv)"
   ]
  },
  {
   "cell_type": "code",
   "execution_count": 11,
   "metadata": {
    "scrolled": true
   },
   "outputs": [
    {
     "name": "stdout",
     "output_type": "stream",
     "text": [
      "[27.424034464809033]\n",
      "[27.424034464809033, 27.424034464809033]\n",
      "[27.424034464809033, 27.424034464809033, 27.424034464809033]\n",
      "[27.424034464809033, 27.424034464809033, 27.424034464809033, 27.424034464809033]\n",
      "[27.424034464809033, 27.424034464809033, 27.424034464809033, 27.424034464809033, 27.424034464809033]\n",
      "[27.424034464809033, 27.424034464809033, 27.424034464809033, 27.424034464809033, 27.424034464809033, 27.424034464809033]\n",
      "[27.424034464809033, 27.424034464809033, 27.424034464809033, 27.424034464809033, 27.424034464809033, 27.424034464809033, 27.424034464809033]\n",
      "[27.424034464809033, 27.424034464809033, 27.424034464809033, 27.424034464809033, 27.424034464809033, 27.424034464809033, 27.424034464809033, 27.424034464809033]\n",
      "[27.424034464809033, 27.424034464809033, 27.424034464809033, 27.424034464809033, 27.424034464809033, 27.424034464809033, 27.424034464809033, 27.424034464809033, 27.424034464809033]\n",
      "[27.424034464809033, 27.424034464809033, 27.424034464809033, 27.424034464809033, 27.424034464809033, 27.424034464809033, 27.424034464809033, 27.424034464809033, 27.424034464809033, 27.424034464809033]\n"
     ]
    }
   ],
   "source": [
    "for i in range(10):\n",
    "    \n",
    "    #initialize centers \n",
    "    v= generateRandomCenters(cluster,x)\n",
    "        \n",
    "    # update membership\n",
    "    w=updateMembershipValue3_2(v,x)    \n",
    "    ny=np.argmin(w,axis=1)\n",
    "    \n",
    "    \n",
    "    start=time.time()           \n",
    "    \n",
    "    for t in range(50):\n",
    "#         print('\\t\\t',t)\n",
    "        \n",
    "        for q in range(cluster): \n",
    "            \n",
    "             \n",
    "            val=x[ny == q,:] \n",
    "            \n",
    "\n",
    "            if(val.shape[0]!=0):\n",
    "                \n",
    "                weight=CalculateWeightValues(v,val,q) \n",
    "               \n",
    "                v[q]= v[q]+np.dot(weight,val-v[q])\n",
    "                \n",
    "\n",
    "        w=updateMembershipValue3_2(v,x)  \n",
    "        ny=np.argmin(w,axis=1)\n",
    "    \n",
    "    timearray.append(time.time()-start)    \n",
    "    segementedImg.append(ny)\n",
    "    pic2show = v\n",
    "#     print(timearray)\n",
    "\n",
    "    lables = np.array(ny)\n",
    "#     print(np.array(ny).shape)\n",
    "#     print(v.shape)\n",
    "\n",
    "    clustercenters = (v).reshape(cluster, 4)\n",
    "    centersp = (v).reshape(cluster, 4)\n",
    "    centersp.shape\n",
    "\n",
    "    finalval = []\n",
    "    for i in range(lables.shape[0]):\n",
    "        finalval.append(centersp[lables[i]])\n",
    "\n",
    "    finalval = np.array(finalval).reshape(int(width / 2), int(height / 2), 4)\n",
    "\n",
    "\n",
    "    temp = np.zeros((width, height))\n",
    "    i = 0\n",
    "    j = 0\n",
    "    for h in range(int(width / 2)):\n",
    "        j = 0\n",
    "        for k in range(int(height / 2)):\n",
    "            val = finalval\n",
    "\n",
    "            temp[i, j] = val[h][k][0]\n",
    "            temp[i + 1, j] = val[h][k][1]\n",
    "            temp[i, j + 1] = val[h][k][2]\n",
    "            temp[i + 1, j + 1] = val[h][k][3]\n",
    "\n",
    "            j = j + 2\n",
    "        i = i + 2\n",
    "\n",
    "    psnr = p.psnr(np.array(img).astype(int), np.array(temp).astype(int))\n",
    "    psnrarray.append(psnr)\n",
    "    print(psnrarray)"
   ]
  },
  {
   "cell_type": "code",
   "execution_count": 12,
   "metadata": {},
   "outputs": [
    {
     "name": "stdout",
     "output_type": "stream",
     "text": [
      "PSNR 27.424034464809033 +/- \n",
      " 0.0\n",
      "timearray 0.42585480213165283 +/- \n",
      " 0.026674374112093252\n"
     ]
    }
   ],
   "source": [
    "print(\"PSNR\", np.mean(psnrarray), \"+/- \\n\", np.std(psnrarray))\n",
    "print(\"timearray\", np.mean(timearray), \"+/- \\n\", np.std(timearray))"
   ]
  },
  {
   "cell_type": "code",
   "execution_count": null,
   "metadata": {},
   "outputs": [],
   "source": []
  },
  {
   "cell_type": "code",
   "execution_count": null,
   "metadata": {},
   "outputs": [],
   "source": []
  }
 ],
 "metadata": {
  "kernelspec": {
   "display_name": "Python 3",
   "language": "python",
   "name": "python3"
  },
  "language_info": {
   "codemirror_mode": {
    "name": "ipython",
    "version": 3
   },
   "file_extension": ".py",
   "mimetype": "text/x-python",
   "name": "python",
   "nbconvert_exporter": "python",
   "pygments_lexer": "ipython3",
   "version": "3.7.7"
  }
 },
 "nbformat": 4,
 "nbformat_minor": 2
}
