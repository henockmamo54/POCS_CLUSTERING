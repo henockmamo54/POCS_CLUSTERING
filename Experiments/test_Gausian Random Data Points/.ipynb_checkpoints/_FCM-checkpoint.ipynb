{
 "cells": [
  {
   "cell_type": "code",
   "execution_count": 1,
   "metadata": {},
   "outputs": [],
   "source": [
    "import numpy as np\n",
    "import random\n",
    "import math\n",
    "import operator\n",
    "from matplotlib import pyplot as plt\n",
    "import time\n",
    "import pandas as pd\n",
    "from sklearn.preprocessing import LabelEncoder\n",
    "from scipy.spatial.distance import cdist\n",
    "from sklearn.utils import shuffle"
   ]
  },
  {
   "cell_type": "code",
   "execution_count": 2,
   "metadata": {},
   "outputs": [
    {
     "data": {
      "image/png": "[encoded data removed]",
      "text/plain": [
       "<Figure size 432x288 with 1 Axes>"
      ]
     },
     "metadata": {
      "needs_background": "light"
     },
     "output_type": "display_data"
    }
   ],
   "source": [
    "\n",
    "m=2 # fuzzyness\n",
    "e=0.1\n",
    "maxiter=10\n",
    "from sklearn.datasets.samples_generator import make_blobs\n",
    "\n",
    "\n",
    "cluster=2 # number of clusters\n",
    "datasetname='2class'\n",
    "cluster_std =[3,3]\n",
    "# cluster_std =[3,3,3,3]\n",
    "# cluster_std =[3,3,3,3,3,3]\n",
    "\n",
    "\n",
    "centers =[(-5, -5), (5, 5)] \n",
    "# centers =[(0, 10), (0, 25), (0, 40), (0, 55)]\n",
    "# centers =[(-5, -5), (5, 5),(-5, 5), (5, -5),(15,5),(15,-5)]\n",
    "\n",
    "\n",
    "x, y = make_blobs(n_samples=1000, cluster_std=cluster_std, centers=centers, n_features=2, random_state=7,shuffle =True )\n",
    "\n",
    "for i in range ( cluster):\n",
    "    plt.scatter(x[y == i, 0], x[y == i, 1],  s=10, label=\"Cluster - \"+str(i))\n",
    "\n",
    "plt.savefig(datasetname+'.jpg')\n",
    "plt.show() \n"
   ]
  },
  {
   "cell_type": "code",
   "execution_count": 3,
   "metadata": {},
   "outputs": [],
   "source": [
    "# intialize random member ship\n",
    "def initializeMembershipMatrix(n):\n",
    "    membership_mat = list()\n",
    "    for i in range(n.shape[0]):\n",
    "        random_num_list = [random.random() for i in range(cluster)]\n",
    "        summation = sum(random_num_list) \n",
    "        temp_list = [x/summation for x in random_num_list]\n",
    "        membership_mat.append(temp_list) \n",
    "    return np.asarray(membership_mat) "
   ]
  },
  {
   "cell_type": "code",
   "execution_count": 4,
   "metadata": {},
   "outputs": [],
   "source": [
    "# intialize V\n",
    "def intializeV():\n",
    "    xc=np.mean(x[:,0]) \n",
    "    yc=np.mean(x[:,1])\n",
    "    v=[]\n",
    "    for i in range(cluster):\n",
    "        if(i%2==0):\n",
    "            v.append([xc + (i+1)*e,yc + (i+1)*e])\n",
    "        else:\n",
    "            v.append([xc - (i+1)*e,yc - (i+1)*e])    \n",
    "    return v\n"
   ]
  },
  {
   "cell_type": "code",
   "execution_count": 5,
   "metadata": {},
   "outputs": [],
   "source": [
    "def updateCenterV( v,u):\n",
    "    for k in range(cluster):\n",
    "        num=0\n",
    "        deno= 0\n",
    "        for i in range(x.shape[0]):\n",
    "            p=pow(u[i,k],m)\n",
    "            num = num + (p*x[i])\n",
    "            deno = deno+ p\n",
    "            \n",
    "        v[k]=num/deno\n",
    "    return v"
   ]
  },
  {
   "cell_type": "code",
   "execution_count": 6,
   "metadata": {},
   "outputs": [],
   "source": [
    "def updateMembershipValue(membership_mat, cluster_centers,val):\n",
    "    n=val.shape[0]\n",
    "    k=cluster\n",
    "    p = float(2/(m-1))\n",
    "    \n",
    "    distances2 = cdist(val, v,metric='euclidean')\n",
    "    \n",
    "    for i in range(n):\n",
    "        x = val[i]\n",
    "        \n",
    "        distances = distances2[i]\n",
    "                \n",
    "        for j in range(cluster):\n",
    "            den=0\n",
    "            for z in range(cluster):\n",
    "                den= den + math.pow(float(distances[j]/distances[z]), p) \n",
    "                \n",
    "            membership_mat[i][j] = float(1/den)  \n",
    "    \n",
    "    return membership_mat"
   ]
  },
  {
   "cell_type": "code",
   "execution_count": 7,
   "metadata": {},
   "outputs": [],
   "source": [
    "def calcError(center,mem):\n",
    "    dist=0\n",
    "    for i in range(mem.shape[0]):\n",
    "        dist+=np.linalg.norm(center - mem[i])\n",
    "    return dist"
   ]
  },
  {
   "cell_type": "code",
   "execution_count": 8,
   "metadata": {},
   "outputs": [],
   "source": [
    "def _k_init(X, n_clusters, x_squared_norms, random_state, n_local_trials=None):\n",
    "    \"\"\"Init n_clusters seeds according to k-means++\n",
    "    Parameters\n",
    "    ----------\n",
    "    X : array or sparse matrix, shape (n_samples, n_features)\n",
    "        The data to pick seeds for. To avoid memory copy, the input data\n",
    "        should be double precision (dtype=np.float64).\n",
    "    n_clusters : integer\n",
    "        The number of seeds to choose\n",
    "    x_squared_norms : array, shape (n_samples,)\n",
    "        Squared Euclidean norm of each data point.\n",
    "    random_state : int, RandomState instance\n",
    "        The generator used to initialize the centers. Use an int to make the\n",
    "        randomness deterministic.\n",
    "        See :term:`Glossary <random_state>`.\n",
    "    n_local_trials : integer, optional\n",
    "        The number of seeding trials for each center (except the first),\n",
    "        of which the one reducing inertia the most is greedily chosen.\n",
    "        Set to None to make the number of trials depend logarithmically\n",
    "        on the number of seeds (2+log(k)); this is the default.\n",
    "    Notes\n",
    "    -----\n",
    "    Selects initial cluster centers for k-mean clustering in a smart way\n",
    "    to speed up convergence. see: Arthur, D. and Vassilvitskii, S.\n",
    "    \"k-means++: the advantages of careful seeding\". ACM-SIAM symposium\n",
    "    on Discrete algorithms. 2007\n",
    "    Version ported from http://www.stanford.edu/~darthur/kMeansppTest.zip,\n",
    "    which is the implementation used in the aforementioned paper.\n",
    "    \"\"\"\n",
    "    n_samples, n_features = X.shape\n",
    "\n",
    "    centers = np.empty((n_clusters, n_features), dtype=X.dtype)\n",
    "\n",
    "    assert x_squared_norms is not None, 'x_squared_norms None in _k_init'\n",
    "\n",
    "    # Set the number of local seeding trials if none is given\n",
    "    if n_local_trials is None:\n",
    "        # This is what Arthur/Vassilvitskii tried, but did not report\n",
    "        # specific results for other than mentioning in the conclusion\n",
    "        # that it helped.\n",
    "        n_local_trials = 2 + int(np.log(n_clusters))\n",
    "\n",
    "    # Pick first center randomly\n",
    "    center_id = random_state.randint(n_samples)\n",
    "    if sp.issparse(X):\n",
    "        centers[0] = X[center_id].toarray()\n",
    "    else:\n",
    "        centers[0] = X[center_id]\n",
    "\n",
    "    # Initialize list of closest distances and calculate current potential\n",
    "    closest_dist_sq = euclidean_distances(\n",
    "        centers[0, np.newaxis], X, Y_norm_squared=x_squared_norms,\n",
    "        squared=True)\n",
    "    current_pot = closest_dist_sq.sum()\n",
    "\n",
    "    # Pick the remaining n_clusters-1 points\n",
    "    for c in range(1, n_clusters):\n",
    "        # Choose center candidates by sampling with probability proportional\n",
    "        # to the squared distance to the closest existing center\n",
    "        rand_vals = random_state.random_sample(n_local_trials) * current_pot\n",
    "        candidate_ids = np.searchsorted(stable_cumsum(closest_dist_sq),\n",
    "                                        rand_vals)\n",
    "\n",
    "        # Compute distances to center candidates\n",
    "        distance_to_candidates = euclidean_distances(\n",
    "            X[candidate_ids], X, Y_norm_squared=x_squared_norms, squared=True)\n",
    "\n",
    "        # Decide which candidate is the best\n",
    "        best_candidate = None\n",
    "        best_pot = None\n",
    "        best_dist_sq = None\n",
    "        for trial in range(n_local_trials):\n",
    "            # Compute potential when including center candidate\n",
    "            new_dist_sq = np.minimum(closest_dist_sq,\n",
    "                                     distance_to_candidates[trial])\n",
    "            new_pot = new_dist_sq.sum()\n",
    "\n",
    "            # Store result if it is the best local trial so far\n",
    "            if (best_candidate is None) or (new_pot < best_pot):\n",
    "                best_candidate = candidate_ids[trial]\n",
    "                best_pot = new_pot\n",
    "                best_dist_sq = new_dist_sq\n",
    "\n",
    "        # Permanently add best center candidate found in local tries\n",
    "        if sp.issparse(X):\n",
    "            centers[c] = X[best_candidate].toarray()\n",
    "        else:\n",
    "            centers[c] = X[best_candidate]\n",
    "        current_pot = best_pot\n",
    "        closest_dist_sq = best_dist_sq\n",
    "\n",
    "    return centers"
   ]
  },
  {
   "cell_type": "code",
   "execution_count": 9,
   "metadata": {},
   "outputs": [],
   "source": [
    "# cluster_std =[3,3,3,3,3,3] \n",
    "# centers =[(-5, -5), (5, 5),(-5, 5), (5, -5),(15,5),(15,-5)]\n",
    "\n",
    "# X, y = make_blobs(n_samples=1000, cluster_std=cluster_std, centers=centers, n_features=2, random_state=7,shuffle =True )\n",
    "\n",
    "\n",
    "# np.unique(y)\n",
    "# x=X\n",
    "\n",
    "\n",
    "# for i in range ( cluster):\n",
    "#     plt.scatter(x[y == i, 0], x[y == i, 1],  s=10, label=\"Cluster - \"+str(i))\n",
    "# # plt.scatter(x=np.asarray(v)[:,0],y=np.asarray(v)[:,1], color='black',s=50)\n",
    "# plt.show()   "
   ]
  },
  {
   "cell_type": "code",
   "execution_count": 10,
   "metadata": {},
   "outputs": [],
   "source": [
    "# from sklearn.preprocessing import LabelEncoder\n",
    "# lableencoder = LabelEncoder()\n",
    "\n",
    "# data=pd.read_csv('../dataset/Skin_NonSkin.txt', header=None, sep='\\t')  #\n",
    "# datasetname='Skin_NonSkin'\n",
    "# # data=shuffle(data)\n",
    "\n",
    "# data=data.sort_values(by=data.shape[1]-1)  #.astype(float)\n",
    "# x= np.asarray (data.iloc[:, 0:-1])\n",
    "# y=data.iloc[:,-1]\n",
    "\n",
    "# # data=data.sort_values(by=0)\n",
    "# # x= np.asarray(data.iloc[:, 1:])\n",
    "# # y=data.iloc[:,0]\n",
    "\n",
    "# y=lableencoder.fit_transform(y)\n",
    "# data.head() \n",
    "\n",
    "\n",
    "\n",
    "# cluster=7\n",
    "# data=pd.read_csv('../../dataset/Aggregation.txt', header=None, sep=',')  #\n",
    "# datasetname='Aggregation'\n",
    "# x= np.asarray(data.iloc[:, :-1]) # np.asarray (data.iloc[:, :-1])\n",
    "# data.head()  "
   ]
  },
  {
   "cell_type": "code",
   "execution_count": 11,
   "metadata": {},
   "outputs": [],
   "source": [
    "# data[data[6]=='?'].index\n",
    "# data=data.drop(data[data[6]=='?'].index)\n",
    "# data=data.astype(float)\n",
    "# x= np.asarray (data.iloc[:, 1: -1])\n",
    "# y=data.iloc[:,-1]\n",
    "# np.unique(y)"
   ]
  },
  {
   "cell_type": "code",
   "execution_count": 12,
   "metadata": {},
   "outputs": [
    {
     "data": {
      "text/plain": [
       "array([[ 5.33211946,  1.71882338],\n",
       "       [-2.7908661 , -8.51874969]])"
      ]
     },
     "execution_count": 12,
     "metadata": {},
     "output_type": "execute_result"
    }
   ],
   "source": [
    "# x_squared_norms = np.row_norms(x, squared=True)\n",
    "\n",
    "x=np.asarray(x)\n",
    "\n",
    "from sklearn.utils.extmath import row_norms\n",
    "from sklearn.utils.extmath import row_norms, squared_norm, stable_cumsum\n",
    "import scipy.sparse as sp\n",
    "from sklearn.metrics.pairwise import euclidean_distances\n",
    " \n",
    "c = _k_init(x,cluster, row_norms(x, squared=True), np.random.RandomState(7))\n",
    "c"
   ]
  },
  {
   "cell_type": "markdown",
   "metadata": {},
   "source": [
    "Initialization & FCM\n",
    "================="
   ]
  },
  {
   "cell_type": "code",
   "execution_count": 13,
   "metadata": {},
   "outputs": [],
   "source": [
    "u=initializeMembershipMatrix(x)\n",
    "v=c#intializeV()\n",
    "errorlist=[]\n",
    "# print(u)\n",
    "\n"
   ]
  },
  {
   "cell_type": "code",
   "execution_count": 14,
   "metadata": {},
   "outputs": [],
   "source": [
    "\n",
    "start=time.time()\n",
    "\n",
    "for l in range(20):\n",
    "    error=0\n",
    "    v=updateCenterV(v,u)\n",
    "    u=updateMembershipValue(u,v,x) \n",
    "    \n",
    "    v=np.asarray(v)\n",
    "    ny=np.argmax(u,axis=1)\n",
    "    \n",
    "    for q in range(v.shape[0]):\n",
    "        error+=calcError(v[q],x[ny == q,:])\n",
    "    errorlist.append([error,time.time()- start])\n",
    "total_time= time.time()- start"
   ]
  },
  {
   "cell_type": "code",
   "execution_count": null,
   "metadata": {},
   "outputs": [],
   "source": []
  },
  {
   "cell_type": "code",
   "execution_count": 15,
   "metadata": {},
   "outputs": [
    {
     "data": {
      "image/png": "[encoded data removed]",
      "text/plain": [
       "<Figure size 432x288 with 1 Axes>"
      ]
     },
     "metadata": {
      "needs_background": "light"
     },
     "output_type": "display_data"
    }
   ],
   "source": [
    "\n",
    "for i in range ( cluster):\n",
    "    plt.scatter(x[ny == i, 0], x[ny == i, 1],  s=10, label=\"Cluster - \"+str(i))\n",
    "plt.scatter(x=np.asarray(v)[:,0],y=np.asarray(v)[:,1], color='black',s=50)\n",
    "plt.savefig(datasetname+'_'+str(total_time)+'_fcm.jpg')\n",
    "plt.show()  \n",
    "\n"
   ]
  },
  {
   "cell_type": "code",
   "execution_count": 16,
   "metadata": {},
   "outputs": [
    {
     "data": {
      "image/png": "[encoded data removed]",
      "text/plain": [
       "<Figure size 432x288 with 1 Axes>"
      ]
     },
     "metadata": {
      "needs_background": "light"
     },
     "output_type": "display_data"
    },
    {
     "data": {
      "image/png": "[encoded data removed]",
      "text/plain": [
       "<Figure size 432x288 with 1 Axes>"
      ]
     },
     "metadata": {
      "needs_background": "light"
     },
     "output_type": "display_data"
    }
   ],
   "source": [
    "errorlist=np.asarray(errorlist) \n",
    "r=np.arange(errorlist.shape[0]) \n",
    "plt.xlabel('Epoch')\n",
    "plt.ylabel('Error')\n",
    "plt.xticks(np.arange(0,20,2))\n",
    "plt.plot(r,errorlist[:,0])\n",
    "plt.savefig(datasetname+'_fcm_error.jpg')\n",
    "plt.show()\n",
    "np.savetxt(datasetname+\"_fcm_errorANDtime.csv\", errorlist, delimiter=\",\")\n",
    "\n",
    "plt.xlabel('Time[sec]')\n",
    "plt.ylabel('Error')\n",
    "plt.plot(errorlist[:,1],errorlist[:,0])\n",
    "plt.savefig(datasetname+'_fcm_time.jpg')\n",
    "plt.show()"
   ]
  },
  {
   "cell_type": "code",
   "execution_count": 17,
   "metadata": {},
   "outputs": [],
   "source": [
    "# test=pd.DataFrame()\n",
    "# test['y']=y\n",
    "# test['ny']=ny\n",
    "# test.head()\n",
    "# test.groupby(by=['y','ny']).size()"
   ]
  },
  {
   "cell_type": "code",
   "execution_count": 18,
   "metadata": {},
   "outputs": [],
   "source": [
    "# (ny)"
   ]
  },
  {
   "cell_type": "code",
   "execution_count": 19,
   "metadata": {},
   "outputs": [],
   "source": [
    "# np.unique(y)\n",
    "# np.asarray(y)"
   ]
  },
  {
   "cell_type": "code",
   "execution_count": 20,
   "metadata": {},
   "outputs": [],
   "source": [
    "# np.unique(y)"
   ]
  },
  {
   "cell_type": "code",
   "execution_count": 21,
   "metadata": {},
   "outputs": [],
   "source": [
    "# # ny[ny==0]=5\n",
    "# # ny[ny==2]=0\n",
    "# # ny[ny==5]=2\n",
    "\n",
    "\n",
    "# # # # ny[ny==1]=2\n",
    "# # # # ny[ny==0]=4\n",
    "\n",
    "\n",
    "# # ny=ny+5\n",
    "\n",
    "# ny[ny==9]=0\n",
    "# ny[ny==10]=1\n",
    "# ny[ny==5]=2\n",
    "# ny[ny==12]=3\n",
    "# ny[ny==11]=4\n",
    "# ny[ny==7]=5\n",
    "# ny[ny==6]=6\n",
    "# ny[ny==8]=7"
   ]
  },
  {
   "cell_type": "code",
   "execution_count": 22,
   "metadata": {},
   "outputs": [],
   "source": [
    "# from sklearn.metrics import accuracy_score\n",
    "# print(accuracy_score(y, ny))\n",
    "# accuracy_score(y, ny, normalize=False)"
   ]
  },
  {
   "cell_type": "code",
   "execution_count": 23,
   "metadata": {},
   "outputs": [],
   "source": [
    "# from sklearn.metrics import classification_report\n",
    "# print(classification_report(y, ny))"
   ]
  },
  {
   "cell_type": "code",
   "execution_count": null,
   "metadata": {},
   "outputs": [],
   "source": []
  }
 ],
 "metadata": {
  "kernelspec": {
   "display_name": "Python 3",
   "language": "python",
   "name": "python3"
  },
  "language_info": {
   "codemirror_mode": {
    "name": "ipython",
    "version": 3
   },
   "file_extension": ".py",
   "mimetype": "text/x-python",
   "name": "python",
   "nbconvert_exporter": "python",
   "pygments_lexer": "ipython3",
   "version": "3.7.3"
  }
 },
 "nbformat": 4,
 "nbformat_minor": 2
}
