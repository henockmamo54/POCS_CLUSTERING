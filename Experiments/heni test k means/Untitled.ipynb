{
 "cells": [
  {
   "cell_type": "code",
   "execution_count": 1,
   "metadata": {},
   "outputs": [],
   "source": [
    "import warnings\n",
    "\n",
    "warnings.filterwarnings('ignore')"
   ]
  },
  {
   "cell_type": "code",
   "execution_count": 2,
   "metadata": {},
   "outputs": [],
   "source": [
    "import numpy as np\n",
    "import pandas as pd \n",
    "from sklearn import datasets"
   ]
  },
  {
   "cell_type": "code",
   "execution_count": 3,
   "metadata": {},
   "outputs": [],
   "source": [
    "import kmeans"
   ]
  },
  {
   "cell_type": "code",
   "execution_count": 4,
   "metadata": {},
   "outputs": [],
   "source": [
    "data=datasets.load_iris()\n",
    "x=data.data\n",
    "y=data.target\n"
   ]
  },
  {
   "cell_type": "code",
   "execution_count": 5,
   "metadata": {},
   "outputs": [
    {
     "data": {
      "text/plain": [
       "array([0, 0, 0, 0, 0, 0, 0, 0, 0, 0, 0, 0, 0, 0, 0, 0, 0, 0, 0, 0, 0, 0,\n",
       "       0, 0, 0, 0, 0, 0, 0, 0, 0, 0, 0, 0, 0, 0, 0, 0, 0, 0, 0, 0, 0, 0,\n",
       "       0, 0, 0, 0, 0, 0, 1, 2, 1, 2, 2, 2, 2, 2, 2, 2, 2, 2, 2, 2, 2, 2,\n",
       "       2, 2, 2, 2, 2, 2, 2, 2, 2, 2, 2, 1, 2, 2, 2, 2, 2, 2, 2, 2, 2, 2,\n",
       "       2, 2, 2, 2, 2, 2, 2, 2, 2, 2, 2, 2, 1, 2, 1, 1, 1, 1, 2, 1, 1, 1,\n",
       "       1, 1, 1, 2, 2, 1, 1, 1, 1, 2, 1, 2, 1, 2, 1, 1, 2, 2, 1, 1, 1, 1,\n",
       "       1, 2, 1, 1, 1, 1, 2, 1, 1, 1, 2, 1, 1, 1, 2, 1, 1, 2], dtype=int64)"
      ]
     },
     "execution_count": 5,
     "metadata": {},
     "output_type": "execute_result"
    }
   ],
   "source": [
    "kk=kmeans.Kmeans(n_clusters=3)\n",
    "kk.fit(x)\n",
    "kk.labels"
   ]
  },
  {
   "cell_type": "code",
   "execution_count": null,
   "metadata": {},
   "outputs": [],
   "source": []
  },
  {
   "cell_type": "code",
   "execution_count": null,
   "metadata": {},
   "outputs": [],
   "source": []
  },
  {
   "cell_type": "code",
   "execution_count": 6,
   "metadata": {},
   "outputs": [
    {
     "data": {
      "text/plain": [
       "6"
      ]
     },
     "execution_count": 6,
     "metadata": {},
     "output_type": "execute_result"
    }
   ],
   "source": [
    "from itertools import permutations\n",
    "noclasses=3\n",
    "combcols=(list(permutations(np.arange(0,noclasses,1), noclasses)))\n",
    "len(combcols)"
   ]
  },
  {
   "cell_type": "code",
   "execution_count": 7,
   "metadata": {},
   "outputs": [],
   "source": [
    "from sklearn import metrics as m\n",
    "\n",
    "accuracylist=[]\n",
    "\n",
    "for j in range(len(combcols)):\n",
    "    currentlist=combcols[j]\n",
    "    temp=kk.labels.copy()\n",
    "    for i in range(temp.shape[0]):\n",
    "        temp[i] = currentlist[temp[i]]\n",
    "    accuracylist.append(m.accuracy_score(y,temp))\n",
    "\n",
    "currentlist=combcols[np.argmax(accuracylist)]\n",
    "\n",
    "temp=kk.labels.copy()\n",
    "for i in range(temp.shape[0]):\n",
    "    temp[i] = currentlist[temp[i]]\n",
    "\n",
    "prf=m.precision_recall_fscore_support(y,kk.labels,average='weighted')    \n",
    "\n",
    "# Accuracy.append(accuracylist[np.argmax(accuracylist)])\n",
    "# Precision.append(prf[0])\n",
    "# Recall.append(prf[1])\n",
    "# F1_score.append(prf[2])\n",
    "\n",
    "# print(h)"
   ]
  },
  {
   "cell_type": "code",
   "execution_count": 8,
   "metadata": {},
   "outputs": [
    {
     "data": {
      "text/plain": [
       "(0.4354770912147961, 0.44666666666666666, 0.439889327529777, None)"
      ]
     },
     "execution_count": 8,
     "metadata": {},
     "output_type": "execute_result"
    }
   ],
   "source": [
    "prf"
   ]
  },
  {
   "cell_type": "code",
   "execution_count": 9,
   "metadata": {},
   "outputs": [
    {
     "data": {
      "text/plain": [
       "[0.44666666666666666,\n",
       " 0.8866666666666667,\n",
       " 0.09333333333333334,\n",
       " 0.24,\n",
       " 0.31333333333333335,\n",
       " 0.02]"
      ]
     },
     "execution_count": 9,
     "metadata": {},
     "output_type": "execute_result"
    }
   ],
   "source": [
    "accuracylist"
   ]
  },
  {
   "cell_type": "code",
   "execution_count": null,
   "metadata": {},
   "outputs": [],
   "source": []
  },
  {
   "cell_type": "code",
   "execution_count": null,
   "metadata": {},
   "outputs": [],
   "source": []
  },
  {
   "cell_type": "code",
   "execution_count": 10,
   "metadata": {},
   "outputs": [],
   "source": [
    "from fcmeans import FCM"
   ]
  },
  {
   "cell_type": "code",
   "execution_count": 11,
   "metadata": {},
   "outputs": [
    {
     "data": {
      "text/plain": [
       "<fcmeans.fcm.FCM at 0x1f235a21d08>"
      ]
     },
     "execution_count": 11,
     "metadata": {},
     "output_type": "execute_result"
    }
   ],
   "source": [
    "fcm = FCM(n_clusters=3)\n",
    "fcm.fit(x)"
   ]
  },
  {
   "cell_type": "code",
   "execution_count": 15,
   "metadata": {},
   "outputs": [],
   "source": [
    "lablesss=fcm.predict(x)"
   ]
  },
  {
   "cell_type": "code",
   "execution_count": 16,
   "metadata": {},
   "outputs": [],
   "source": [
    "from sklearn import metrics as m\n",
    "\n",
    "accuracylist=[]\n",
    "\n",
    "for j in range(len(combcols)):\n",
    "    currentlist=combcols[j]\n",
    "    temp=lablesss.copy()\n",
    "    for i in range(temp.shape[0]):\n",
    "        temp[i] = currentlist[temp[i]]\n",
    "    accuracylist.append(m.accuracy_score(y,temp))\n",
    "\n",
    "currentlist=combcols[np.argmax(accuracylist)]\n",
    "\n",
    "temp=lablesss.copy()\n",
    "for i in range(temp.shape[0]):\n",
    "    temp[i] = currentlist[temp[i]]\n",
    "\n",
    "prf=m.precision_recall_fscore_support(y,kk.labels,average='weighted')    "
   ]
  },
  {
   "cell_type": "code",
   "execution_count": 18,
   "metadata": {},
   "outputs": [
    {
     "data": {
      "text/plain": [
       "[0.31333333333333335,\n",
       " 0.08666666666666667,\n",
       " 0.02,\n",
       " 0.44,\n",
       " 0.24666666666666667,\n",
       " 0.8933333333333333]"
      ]
     },
     "execution_count": 18,
     "metadata": {},
     "output_type": "execute_result"
    }
   ],
   "source": [
    "accuracylist"
   ]
  },
  {
   "cell_type": "code",
   "execution_count": null,
   "metadata": {},
   "outputs": [],
   "source": []
  },
  {
   "cell_type": "code",
   "execution_count": 27,
   "metadata": {},
   "outputs": [],
   "source": [
    "def chunker(seq, size):\n",
    "    return (seq[pos:pos + size] for pos in range(0, len(seq), size))"
   ]
  },
  {
   "cell_type": "code",
   "execution_count": 23,
   "metadata": {},
   "outputs": [
    {
     "data": {
      "text/plain": [
       "array([60141931, 60161647, 60171889, 60141940, 60175071, 60151883,\n",
       "       60141949, 60161863, 60141960, 60161672, 60141962, 60141969,\n",
       "       60155307, 60151897, 60151900, 60171902, 60175072, 60175074,\n",
       "       60161700, 60142001, 60141931, 60161647, 60171889, 60141940,\n",
       "       60175071, 60151883, 60141949, 60161863, 60141960, 60161672,\n",
       "       60141962, 60141969, 60155307, 60151897, 60151900, 60171902,\n",
       "       60175072, 60175074, 60161700, 60142001], dtype=int64)"
      ]
     },
     "execution_count": 23,
     "metadata": {},
     "output_type": "execute_result"
    }
   ],
   "source": [
    "StuNum=[]\n",
    "data = pd.read_csv(\"./Student Number.csv\",header=None)\n",
    "data.columns=[\"n\",\"x\"]\n",
    "data=data.drop(columns=\"x\")\n",
    "#data.head()\n",
    "StuNum=np.array(data.n)\n",
    "StuNum"
   ]
  },
  {
   "cell_type": "code",
   "execution_count": 32,
   "metadata": {},
   "outputs": [
    {
     "name": "stdout",
     "output_type": "stream",
     "text": [
      "[60, 14, 19, 31, 13, 91, 41, 6]\n",
      "[8, 16, 17, 47, 74, 61, 62, 6]\n",
      "[6, 17, 18, 89, 98, 81, 71, 7]\n",
      "[60, 14, 19, 40, 4, 91, 41, 6]\n",
      "[60, 17, 50, 71, 18, 5, 72, 6]\n",
      "[20, 15, 18, 83, 38, 81, 51, 6]\n",
      "[6, 14, 19, 49, 94, 91, 41, 7]\n",
      "[20, 16, 18, 63, 36, 81, 61, 6]\n",
      "[60, 14, 19, 61, 6, 91, 41, 7]\n",
      "[30, 16, 17, 72, 27, 61, 62, 6]\n",
      "[30, 14, 19, 62, 26, 91, 41, 6]\n",
      "[6, 14, 19, 69, 96, 91, 41, 7]\n",
      "[8, 15, 53, 7, 70, 35, 51, 6]\n",
      "[8, 15, 18, 97, 79, 81, 51, 6]\n",
      "[60, 15, 19, 0, 1, 91, 51, 6]\n",
      "[30, 17, 19, 2, 20, 91, 71, 6]\n",
      "[30, 17, 50, 72, 27, 5, 71, 6]\n",
      "[15, 17, 50, 74, 47, 5, 71, 6]\n",
      "[60, 16, 17, 0, 1, 71, 61, 6]\n",
      "[60, 14, 20, 1, 10, 2, 41, 6]\n",
      "[60, 14, 19, 31, 13, 91, 41, 6]\n",
      "[8, 16, 17, 47, 74, 61, 62, 6]\n",
      "[6, 17, 18, 89, 98, 81, 71, 7]\n",
      "[60, 14, 19, 40, 4, 91, 41, 6]\n",
      "[60, 17, 50, 71, 18, 5, 72, 6]\n",
      "[20, 15, 18, 83, 38, 81, 51, 6]\n",
      "[6, 14, 19, 49, 94, 91, 41, 7]\n",
      "[20, 16, 18, 63, 36, 81, 61, 6]\n",
      "[60, 14, 19, 61, 6, 91, 41, 7]\n",
      "[30, 16, 17, 72, 27, 61, 62, 6]\n",
      "[30, 14, 19, 62, 26, 91, 41, 6]\n",
      "[6, 14, 19, 69, 96, 91, 41, 7]\n",
      "[8, 15, 53, 7, 70, 35, 51, 6]\n",
      "[8, 15, 18, 97, 79, 81, 51, 6]\n",
      "[60, 15, 19, 0, 1, 91, 51, 6]\n",
      "[30, 17, 19, 2, 20, 91, 71, 6]\n",
      "[30, 17, 50, 72, 27, 5, 71, 6]\n",
      "[15, 17, 50, 74, 47, 5, 71, 6]\n",
      "[60, 16, 17, 0, 1, 71, 61, 6]\n",
      "[60, 14, 20, 1, 10, 2, 41, 6]\n"
     ]
    }
   ],
   "source": [
    "Final_result=[]\n",
    "for k in StuNum:\n",
    "    temp=str(k)\n",
    "    studentnumlist=[]\n",
    "    for i in range(8):\n",
    "        studentnumlist.append(temp[i])  \n",
    "        \n",
    "    listof2=[]\n",
    "    for group in chunker(studentnumlist, 2):\n",
    "                listof2.append(group)\n",
    "    \n",
    "    temp2=np.array(listof2).ravel()\n",
    "    temp2=list(temp2.astype(int))\n",
    "    \n",
    "    temp3 = temp2+temp2[::-1]\n",
    "    \n",
    "    temp4 = []\n",
    "    for group in chunker(temp3, 2):\n",
    "        temp4.append(''.join(str(e) for e in group))\n",
    "    \n",
    "    temp4 = np.array(temp4).astype(int)\n",
    "   \n",
    "    if temp3[8] == 0:\n",
    "        temp4\n",
    "    else:\n",
    "        temp4[0] = int(temp4[0]/temp3[8])\n",
    "        temp4\n",
    "        \n",
    "    A = []\n",
    "    for v in temp4:\n",
    "        if v not in A:\n",
    "            A.append(v)\n",
    "        else: A.append(v+1)\n",
    "\n",
    "    print(A)        \n",
    "    Total = np.array(A)\n",
    "    Final_result.append(A)"
   ]
  },
  {
   "cell_type": "code",
   "execution_count": 33,
   "metadata": {},
   "outputs": [
    {
     "data": {
      "text/plain": [
       "[[60, 14, 19, 31, 13, 91, 41, 6],\n",
       " [8, 16, 17, 47, 74, 61, 62, 6],\n",
       " [6, 17, 18, 89, 98, 81, 71, 7],\n",
       " [60, 14, 19, 40, 4, 91, 41, 6],\n",
       " [60, 17, 50, 71, 18, 5, 72, 6],\n",
       " [20, 15, 18, 83, 38, 81, 51, 6],\n",
       " [6, 14, 19, 49, 94, 91, 41, 7],\n",
       " [20, 16, 18, 63, 36, 81, 61, 6],\n",
       " [60, 14, 19, 61, 6, 91, 41, 7],\n",
       " [30, 16, 17, 72, 27, 61, 62, 6],\n",
       " [30, 14, 19, 62, 26, 91, 41, 6],\n",
       " [6, 14, 19, 69, 96, 91, 41, 7],\n",
       " [8, 15, 53, 7, 70, 35, 51, 6],\n",
       " [8, 15, 18, 97, 79, 81, 51, 6],\n",
       " [60, 15, 19, 0, 1, 91, 51, 6],\n",
       " [30, 17, 19, 2, 20, 91, 71, 6],\n",
       " [30, 17, 50, 72, 27, 5, 71, 6],\n",
       " [15, 17, 50, 74, 47, 5, 71, 6],\n",
       " [60, 16, 17, 0, 1, 71, 61, 6],\n",
       " [60, 14, 20, 1, 10, 2, 41, 6],\n",
       " [60, 14, 19, 31, 13, 91, 41, 6],\n",
       " [8, 16, 17, 47, 74, 61, 62, 6],\n",
       " [6, 17, 18, 89, 98, 81, 71, 7],\n",
       " [60, 14, 19, 40, 4, 91, 41, 6],\n",
       " [60, 17, 50, 71, 18, 5, 72, 6],\n",
       " [20, 15, 18, 83, 38, 81, 51, 6],\n",
       " [6, 14, 19, 49, 94, 91, 41, 7],\n",
       " [20, 16, 18, 63, 36, 81, 61, 6],\n",
       " [60, 14, 19, 61, 6, 91, 41, 7],\n",
       " [30, 16, 17, 72, 27, 61, 62, 6],\n",
       " [30, 14, 19, 62, 26, 91, 41, 6],\n",
       " [6, 14, 19, 69, 96, 91, 41, 7],\n",
       " [8, 15, 53, 7, 70, 35, 51, 6],\n",
       " [8, 15, 18, 97, 79, 81, 51, 6],\n",
       " [60, 15, 19, 0, 1, 91, 51, 6],\n",
       " [30, 17, 19, 2, 20, 91, 71, 6],\n",
       " [30, 17, 50, 72, 27, 5, 71, 6],\n",
       " [15, 17, 50, 74, 47, 5, 71, 6],\n",
       " [60, 16, 17, 0, 1, 71, 61, 6],\n",
       " [60, 14, 20, 1, 10, 2, 41, 6]]"
      ]
     },
     "execution_count": 33,
     "metadata": {},
     "output_type": "execute_result"
    }
   ],
   "source": [
    "Final_result"
   ]
  },
  {
   "cell_type": "code",
   "execution_count": null,
   "metadata": {},
   "outputs": [],
   "source": []
  },
  {
   "cell_type": "code",
   "execution_count": null,
   "metadata": {},
   "outputs": [],
   "source": []
  },
  {
   "cell_type": "code",
   "execution_count": null,
   "metadata": {},
   "outputs": [],
   "source": []
  },
  {
   "cell_type": "code",
   "execution_count": null,
   "metadata": {},
   "outputs": [],
   "source": []
  },
  {
   "cell_type": "code",
   "execution_count": null,
   "metadata": {},
   "outputs": [],
   "source": []
  },
  {
   "cell_type": "code",
   "execution_count": null,
   "metadata": {},
   "outputs": [],
   "source": []
  },
  {
   "cell_type": "code",
   "execution_count": null,
   "metadata": {},
   "outputs": [],
   "source": []
  },
  {
   "cell_type": "code",
   "execution_count": null,
   "metadata": {},
   "outputs": [],
   "source": []
  },
  {
   "cell_type": "code",
   "execution_count": null,
   "metadata": {},
   "outputs": [],
   "source": []
  },
  {
   "cell_type": "code",
   "execution_count": null,
   "metadata": {},
   "outputs": [],
   "source": []
  }
 ],
 "metadata": {
  "kernelspec": {
   "display_name": "Python 3",
   "language": "python",
   "name": "python3"
  },
  "language_info": {
   "codemirror_mode": {
    "name": "ipython",
    "version": 3
   },
   "file_extension": ".py",
   "mimetype": "text/x-python",
   "name": "python",
   "nbconvert_exporter": "python",
   "pygments_lexer": "ipython3",
   "version": "3.7.7"
  }
 },
 "nbformat": 4,
 "nbformat_minor": 4
}
