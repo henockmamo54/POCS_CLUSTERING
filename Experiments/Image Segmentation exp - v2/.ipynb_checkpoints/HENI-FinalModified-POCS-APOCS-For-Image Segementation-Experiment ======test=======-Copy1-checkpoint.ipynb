{
 "cells": [
  {
   "cell_type": "code",
   "execution_count": 1,
   "metadata": {},
   "outputs": [],
   "source": [
    "import numpy as np\n",
    "import random\n",
    "import math\n",
    "from matplotlib import pyplot as plt\n",
    "from sklearn.datasets.samples_generator import make_blobs\n",
    "import time\n",
    "import pandas as pd"
   ]
  },
  {
   "cell_type": "markdown",
   "metadata": {},
   "source": [
    "Initialize the data points and Random centers\n",
    "===========================\n"
   ]
  },
  {
   "cell_type": "code",
   "execution_count": 90,
   "metadata": {},
   "outputs": [],
   "source": [
    "cluster=3# number of clusters"
   ]
  },
  {
   "cell_type": "code",
   "execution_count": 91,
   "metadata": {},
   "outputs": [],
   "source": [
    "def generateRandomCenters(c,x):\n",
    "    centers=[]\n",
    "    _min= (np.min(x))\n",
    "    _max= (np.max(x))\n",
    "    t= np.mean(x,axis=0)\n",
    "    \n",
    "    for i in range(c): \n",
    "        \n",
    "# #         main experiment centers  t + 0.75*i\n",
    "        centers.append( t + 0.01*i)\n",
    " \n",
    "    return np.asarray(centers)  "
   ]
  },
  {
   "cell_type": "code",
   "execution_count": 92,
   "metadata": {},
   "outputs": [],
   "source": [
    "# generateRandomCenters(cluster,x)"
   ]
  },
  {
   "cell_type": "code",
   "execution_count": 93,
   "metadata": {},
   "outputs": [],
   "source": [
    "# intialize random member ship\n",
    "def initializeMembershipMatrix(n):\n",
    "    membership_mat = list()\n",
    "    for i in range(n.shape[0]):\n",
    "        random_num_list = [random.random() for i in range(cluster)]\n",
    "        summation = sum(random_num_list) \n",
    "        temp_list = [x/summation for x in random_num_list]\n",
    "        membership_mat.append(temp_list) \n",
    "    return np.asarray(membership_mat) "
   ]
  },
  {
   "cell_type": "code",
   "execution_count": 94,
   "metadata": {},
   "outputs": [],
   "source": [
    "def updateMembershipValue3_2(u, v,val):\n",
    "\n",
    "    distances = cdist(val, v,metric='euclidean')\n",
    "#     for i in range(x.shape[0]):\n",
    "#         distances=[]\n",
    "#         for k in range(cluster):      \n",
    "#             distances.append(np.linalg.norm(val[i]-v[k]) )     \n",
    "#         u[i]=distances\n",
    "        \n",
    "#     return u\n",
    "    return distances"
   ]
  },
  {
   "cell_type": "code",
   "execution_count": 95,
   "metadata": {},
   "outputs": [],
   "source": [
    "\n",
    "def CalculateWeightValues2(cluster_center,val,q):\n",
    "    \n",
    "    distances=[]\n",
    "    membership=[]\n",
    "        \n",
    "    for j in range(val.shape[0]):\n",
    "        distances.append(np.linalg.norm(val[j]- v[q]))  \n",
    "        \n",
    "#     print('distances', distances)\n",
    "#     print('va',val)\n",
    "    \n",
    "    mean=np.mean(distances)\n",
    "    distances=abs(distances-mean)\n",
    "#     sumd=0\n",
    "#     for j in range(val.shape[0]):\n",
    "#         sumd +=abs(distances[j]-mean)\n",
    "    \n",
    "    sumdistance=np.sum(distances)\n",
    "#     membership= distances/sumdistance\n",
    "    \n",
    "    if(val.shape[0]!=0):\n",
    "        \n",
    "        for j in range(val.shape[0]):\n",
    "            if(sumdistance==0):\n",
    "                membership.append(1)\n",
    "            else:\n",
    "#                 membership.append( abs(distances[j]-mean)/ sumd )\n",
    "                mem=0\n",
    "                for r in range(val.shape[0]):\n",
    "            \n",
    "                    if(distances[r]==0 or math.isnan(distances[r]) or math.isinf(distances[r])):                 \n",
    "                        distances[r]==0.01\n",
    "                    mem += math.pow(( distances[j]/distances[r]),1)\n",
    "                \n",
    "                if(mem==0 or math.isnan(mem) or math.isinf(mem)):\n",
    "                     membership.append(1)\n",
    "                else:\n",
    "                    membership.append(1/mem )\n",
    "\n",
    "    \n",
    "\n",
    "#         print('membership',membership)\n",
    "#     print(np.sum(membership, axis=0))\n",
    "    return membership\n"
   ]
  },
  {
   "cell_type": "code",
   "execution_count": 96,
   "metadata": {},
   "outputs": [],
   "source": [
    "from scipy.spatial.distance import cdist\n",
    "\n",
    "def CalculateWeightValues(cluster_center,val,q):\n",
    "    \n",
    "    size=val.shape[0]\n",
    "    distances= np.arange(size)\n",
    "    membership=[]      \n",
    "    currentCenter=v[q]\n",
    "    \n",
    "    distances = cdist(x, v,metric='euclidean')[:,q]\n",
    "    \n",
    "#     for j in range(size):\n",
    "# #         distances.append(np.linalg.norm(val[j]-currentCenter ))  \n",
    "#         distances[j]=np.linalg.norm(val[j]-currentCenter )\n",
    "              \n",
    "    sumdistance=np.sum(distances)\n",
    "    membership= distances/sumdistance  \n",
    "#     print(np.sum(membership, axis=0))\n",
    "    return membership\n"
   ]
  },
  {
   "cell_type": "code",
   "execution_count": 97,
   "metadata": {},
   "outputs": [
    {
     "name": "stdout",
     "output_type": "stream",
     "text": [
      "heni  0.0012841224670410156\n",
      "[[  5.48397638  -4.77814182]\n",
      " [ -7.45124074  -4.4230769 ]\n",
      " [ -3.75349216  -7.77063397]\n",
      " ...\n",
      " [-11.19324441  -6.98647802]\n",
      " [ -9.10957916  -2.80653684]\n",
      " [  4.7768751    7.18333747]]\n",
      "[[14.58855763 -5.00035741]\n",
      " [-4.90640207  5.00617655]\n",
      " [15.53220912  5.62465506]\n",
      " [-5.2835356  -5.10421913]\n",
      " [ 5.17258454 -6.03840323]\n",
      " [ 5.55503616  4.24073886]]\n",
      "[[ 9.10729266 14.27210042 14.46323491 10.77244822  1.29816166  9.01916062]\n",
      " [22.04735733  9.7666281  25.08377733  2.27220165 12.72675308 15.62769793]\n",
      " [18.55007339 12.82872122 23.48131261  3.07421551  9.09260516 15.19611058]\n",
      " ...\n",
      " [25.85819003 13.54061114 29.55148971  6.20222192 16.393267   20.16321653]\n",
      " [23.79946504  8.87159445 26.04424555  4.46295342 14.64326331 16.27006568]\n",
      " [15.64325846  9.92501317 10.86769068 15.88067728 13.22766091  3.04375118]]\n",
      "\n",
      "\n",
      "x[j]-currentCenter [ 5.48397638 -4.77814182] [14.58855763 -5.00035741]  =  9.107292655054861\n",
      "x[j]-currentCenter [-7.45124074 -4.4230769 ] [14.58855763 -5.00035741]  =  22.04735732663201\n",
      "heni  0.001982450485229492\n",
      "[ 9 22] [14.58855763 -5.00035741]\n"
     ]
    }
   ],
   "source": [
    "start=time.time()\n",
    "temp = cdist(x, v,metric='minkowski')\n",
    "print('heni ',time.time()-start)\n",
    "\n",
    "print(x)\n",
    "print(v)\n",
    "print(temp)\n",
    "\n",
    "size=x.shape[0]\n",
    "currentCenter=v[0]\n",
    "distances= np.arange(2)\n",
    "\n",
    "print('\\n')\n",
    "start=time.time()\n",
    "for j in range(2): \n",
    "    print('x[j]-currentCenter',x[j],currentCenter,' = ',np.linalg.norm(x[j]-currentCenter ))\n",
    "    distances[j]=np.linalg.norm(x[j]-currentCenter )\n",
    "\n",
    "print('heni ',time.time()-start)    \n",
    "print(distances,currentCenter)\n",
    "\n",
    "\n",
    "# currentCenter=v[1]\n",
    "\n",
    "# print('\\n')\n",
    "# start=time.time()\n",
    "# for j in range(size): \n",
    "#     distances[j]=np.linalg.norm(x[j]-currentCenter )\n",
    "    \n",
    "# print('heni ',time.time()-start)    \n",
    "# print(distances,currentCenter)\n",
    "\n",
    "# print('\\n')\n",
    "# print(v)\n",
    "# print('\\n')\n",
    "\n",
    "# print(x)"
   ]
  },
  {
   "cell_type": "code",
   "execution_count": 98,
   "metadata": {},
   "outputs": [
    {
     "name": "stdout",
     "output_type": "stream",
     "text": [
      "[-7.45124074 -4.4230769 ] [14.58855763 -5.00035741]\n",
      "**** 22.04735732663201\n",
      "134.0\n",
      "134.0\n"
     ]
    }
   ],
   "source": [
    "np.linalg.norm(25-160 )\n",
    "\n",
    "# np.reshape(x[0],(1,1)) \n",
    "# x[0].shape\n",
    "\n",
    "# w=updateMembershipValue3_2(u,v,x)  \n",
    "# # ny=np.argmin(w,axis=1) \n",
    "# w\n",
    "print(x[j],currentCenter)\n",
    "print('****',np.linalg.norm(x[j]-currentCenter ))\n",
    "\n",
    "\n",
    "print(np.linalg.norm(np.asarray([26])-np.asarray([160])))\n",
    "\n",
    "print(np.linalg.norm(26-160))\n",
    "\n",
    "# x[j]-currentCenter"
   ]
  },
  {
   "cell_type": "code",
   "execution_count": 99,
   "metadata": {},
   "outputs": [],
   "source": [
    "\n",
    "def CalculateWeightValuesByIndex(cluster_center,val,q,index):\n",
    "    \n",
    "#     print(centers[q])\n",
    "    distances=[]\n",
    "    for j in range(val.shape[0]):\n",
    "        distances.append(np.linalg.norm(val[j]- v[q])) \n",
    "        \n",
    "    sumdistance=np.sum(distances)\n",
    "    membership= distances[index]/sumdistance\n",
    "    \n",
    "#     membership=membership*(1/sumdistance)\n",
    "    \n",
    "    return membership\n"
   ]
  },
  {
   "cell_type": "code",
   "execution_count": 100,
   "metadata": {},
   "outputs": [],
   "source": [
    "def calcError(center,mem):\n",
    "    dist=0\n",
    "    for i in range(mem.shape[0]):\n",
    "        dist+=np.linalg.norm(center - mem[i])\n",
    "    return dist"
   ]
  },
  {
   "cell_type": "code",
   "execution_count": 101,
   "metadata": {},
   "outputs": [],
   "source": [
    "def moveVtoTheCenter(v,u,x):\n",
    "    for k in range( cluster):\n",
    "        items=[]\n",
    "        for i  in range(  (x.shape[0])):\n",
    "            if(u[i,k]>=np.max(u[i])):\n",
    "                items.append(x[i])\n",
    "        v[k]=np.mean(items, axis=0)\n",
    "    return v"
   ]
  },
  {
   "cell_type": "markdown",
   "metadata": {},
   "source": [
    "Read Image\n",
    "==============="
   ]
  },
  {
   "cell_type": "code",
   "execution_count": 102,
   "metadata": {},
   "outputs": [
    {
     "data": {
      "image/png": "[encoded data removed]",
      "text/plain": [
       "<Figure size 432x288 with 1 Axes>"
      ]
     },
     "metadata": {
      "needs_background": "light"
     },
     "output_type": "display_data"
    },
    {
     "data": {
      "image/png": "[encoded data removed]",
      "text/plain": [
       "<Figure size 432x288 with 1 Axes>"
      ]
     },
     "metadata": {
      "needs_background": "light"
     },
     "output_type": "display_data"
    }
   ],
   "source": [
    "import cv2\n",
    "# img = cv2.imread('42049.jpg',0)\n",
    "# e = cv2.imread('42049s.png',0)\n",
    "\n",
    "# img = cv2.imread('238011.jpg',0)\n",
    "# e = cv2.imread('238011s.png',0)\n",
    "\n",
    "img = cv2.imread('35070.jpg',0)\n",
    "e = cv2.imread('35070s.png',0)\n",
    "\n",
    "\n",
    "# img = cv2.imread('41033.jpg',0)\n",
    "# e = cv2.imread('41033s.png',0)\n",
    "\n",
    "# img = cv2.imread('japanFlag.png',0)\n",
    "# e = cv2.imread('japanFlag.png',0)\n",
    "\n",
    "\n",
    "\n",
    "# ret,e = cv2.threshold(e,100,255,cv2.THRESH_BINARY)\n",
    "\n",
    "\n",
    "height, width = img.shape[0],img.shape[1]\n",
    "img_list = np.reshape(img, (height*width, 1))\n",
    "\n",
    "plt.imshow(img, cmap='gray')\n",
    "plt.show()\n",
    "\n",
    "plt.imshow(e, cmap='gray')\n",
    "plt.show()\n",
    "\n",
    "\n",
    "x=img_list\n",
    "# x=img"
   ]
  },
  {
   "cell_type": "code",
   "execution_count": 103,
   "metadata": {},
   "outputs": [
    {
     "ename": "ValueError",
     "evalue": "Length of `clusters_std` not consistent with number of centers. Got centers = [[-5 -5]\n [ 5  5]\n [-5  5]] and cluster_std = [3, 3, 3, 3, 3, 3]",
     "output_type": "error",
     "traceback": [
      "\u001b[0;31m---------------------------------------------------------------------------\u001b[0m",
      "\u001b[0;31mValueError\u001b[0m                                Traceback (most recent call last)",
      "\u001b[0;32m<ipython-input-103-042329e0fe73>\u001b[0m in \u001b[0;36m<module>\u001b[0;34m\u001b[0m\n\u001b[1;32m      6\u001b[0m \u001b[0mcluster_std\u001b[0m \u001b[0;34m=\u001b[0m\u001b[0;34m[\u001b[0m\u001b[0;36m3\u001b[0m\u001b[0;34m,\u001b[0m\u001b[0;36m3\u001b[0m\u001b[0;34m,\u001b[0m\u001b[0;36m3\u001b[0m\u001b[0;34m,\u001b[0m\u001b[0;36m3\u001b[0m\u001b[0;34m,\u001b[0m\u001b[0;36m3\u001b[0m\u001b[0;34m,\u001b[0m\u001b[0;36m3\u001b[0m\u001b[0;34m]\u001b[0m \u001b[0;31m#[2,2,2,2,2,2] #\u001b[0m\u001b[0;34m\u001b[0m\u001b[0;34m\u001b[0m\u001b[0m\n\u001b[1;32m      7\u001b[0m \u001b[0;34m\u001b[0m\u001b[0m\n\u001b[0;32m----> 8\u001b[0;31m \u001b[0mx\u001b[0m\u001b[0;34m,\u001b[0m \u001b[0my\u001b[0m \u001b[0;34m=\u001b[0m \u001b[0mmake_blobs\u001b[0m\u001b[0;34m(\u001b[0m\u001b[0mn_samples\u001b[0m\u001b[0;34m=\u001b[0m\u001b[0;36m1000\u001b[0m\u001b[0;34m,\u001b[0m \u001b[0mcluster_std\u001b[0m\u001b[0;34m=\u001b[0m\u001b[0mcluster_std\u001b[0m\u001b[0;34m,\u001b[0m \u001b[0mcenters\u001b[0m\u001b[0;34m=\u001b[0m\u001b[0mcenters\u001b[0m\u001b[0;34m,\u001b[0m \u001b[0mn_features\u001b[0m\u001b[0;34m=\u001b[0m\u001b[0;36m2\u001b[0m\u001b[0;34m,\u001b[0m \u001b[0mrandom_state\u001b[0m\u001b[0;34m=\u001b[0m\u001b[0;36m7\u001b[0m\u001b[0;34m,\u001b[0m\u001b[0mshuffle\u001b[0m \u001b[0;34m=\u001b[0m\u001b[0;32mTrue\u001b[0m \u001b[0;34m)\u001b[0m\u001b[0;34m\u001b[0m\u001b[0;34m\u001b[0m\u001b[0m\n\u001b[0m\u001b[1;32m      9\u001b[0m \u001b[0;34m\u001b[0m\u001b[0m\n\u001b[1;32m     10\u001b[0m \u001b[0;34m\u001b[0m\u001b[0m\n",
      "\u001b[0;32m~/anaconda3/lib/python3.6/site-packages/sklearn/datasets/samples_generator.py\u001b[0m in \u001b[0;36mmake_blobs\u001b[0;34m(n_samples, n_features, centers, cluster_std, center_box, shuffle, random_state)\u001b[0m\n\u001b[1;32m    806\u001b[0m         raise ValueError(\"Length of `clusters_std` not consistent with \"\n\u001b[1;32m    807\u001b[0m                          \u001b[0;34m\"number of centers. Got centers = {} \"\u001b[0m\u001b[0;34m\u001b[0m\u001b[0;34m\u001b[0m\u001b[0m\n\u001b[0;32m--> 808\u001b[0;31m                          \"and cluster_std = {}\".format(centers, cluster_std))\n\u001b[0m\u001b[1;32m    809\u001b[0m \u001b[0;34m\u001b[0m\u001b[0m\n\u001b[1;32m    810\u001b[0m     \u001b[0;32mif\u001b[0m \u001b[0misinstance\u001b[0m\u001b[0;34m(\u001b[0m\u001b[0mcluster_std\u001b[0m\u001b[0;34m,\u001b[0m \u001b[0mnumbers\u001b[0m\u001b[0;34m.\u001b[0m\u001b[0mReal\u001b[0m\u001b[0;34m)\u001b[0m\u001b[0;34m:\u001b[0m\u001b[0;34m\u001b[0m\u001b[0;34m\u001b[0m\u001b[0m\n",
      "\u001b[0;31mValueError\u001b[0m: Length of `clusters_std` not consistent with number of centers. Got centers = [[-5 -5]\n [ 5  5]\n [-5  5]] and cluster_std = [3, 3, 3, 3, 3, 3]"
     ]
    }
   ],
   "source": [
    "\n",
    "# centers =[(-5, -5), (5, 5),(-5, 5), (5, -5),(15,5),(15,-5)]\n",
    "# centers =[(-5, -5), (5, 5),(-5, 5), (5, -5)]\n",
    "centers =[(-5, -5), (5, 5),(-5, 5)]\n",
    "# centers =[(0, 10), (0, 25), (0, 40), (0, 55)]\n",
    "# cluster_std =[3,3,3,3,3,3] #[2,2,2,2,2,2] #\n",
    "cluster_std =[3,3,3] #[2,2,2,2,2,2] #\n",
    "\n",
    "x, y = make_blobs(n_samples=1000, cluster_std=cluster_std, centers=centers, n_features=2, random_state=7,shuffle =True )\n",
    "\n",
    "\n",
    "plt.scatter(x[y == 0, 0], x[y == 0, 1], color=\"red\", s=10, label=\"Cluster1\")\n",
    "plt.scatter(x[y == 1, 0], x[y == 1, 1], color=\"blue\", s=10, label=\"Cluster2\")\n",
    "plt.scatter(x[y == 2, 0], x[y == 2, 1], color=\"green\", s=10, label=\"Cluster3\")\n",
    "plt.scatter(x[y == 3, 0], x[y == 3, 1], color=\"orange\", s=10, label=\"Cluster4\")\n",
    "plt.scatter(x[y == 4, 0], x[y == 4, 1], color=\"cyan\", s=10, label=\"Cluster5\")\n",
    "plt.scatter(x[y == 5, 0], x[y == 5, 1], color=\"violet\", s=10, label=\"Cluster6\")\n",
    "plt.show()"
   ]
  },
  {
   "cell_type": "code",
   "execution_count": 84,
   "metadata": {},
   "outputs": [],
   "source": [
    "def _k_init(X, n_clusters, x_squared_norms, random_state, n_local_trials=None):\n",
    "    \"\"\"Init n_clusters seeds according to k-means++\n",
    "    Parameters\n",
    "    ----------\n",
    "    X : array or sparse matrix, shape (n_samples, n_features)\n",
    "        The data to pick seeds for. To avoid memory copy, the input data\n",
    "        should be double precision (dtype=np.float64).\n",
    "    n_clusters : integer\n",
    "        The number of seeds to choose\n",
    "    x_squared_norms : array, shape (n_samples,)\n",
    "        Squared Euclidean norm of each data point.\n",
    "    random_state : int, RandomState instance\n",
    "        The generator used to initialize the centers. Use an int to make the\n",
    "        randomness deterministic.\n",
    "        See :term:`Glossary <random_state>`.\n",
    "    n_local_trials : integer, optional\n",
    "        The number of seeding trials for each center (except the first),\n",
    "        of which the one reducing inertia the most is greedily chosen.\n",
    "        Set to None to make the number of trials depend logarithmically\n",
    "        on the number of seeds (2+log(k)); this is the default.\n",
    "    Notes\n",
    "    -----\n",
    "    Selects initial cluster centers for k-mean clustering in a smart way\n",
    "    to speed up convergence. see: Arthur, D. and Vassilvitskii, S.\n",
    "    \"k-means++: the advantages of careful seeding\". ACM-SIAM symposium\n",
    "    on Discrete algorithms. 2007\n",
    "    Version ported from http://www.stanford.edu/~darthur/kMeansppTest.zip,\n",
    "    which is the implementation used in the aforementioned paper.\n",
    "    \"\"\"\n",
    "    n_samples, n_features = X.shape\n",
    "\n",
    "    centers = np.empty((n_clusters, n_features), dtype=X.dtype)\n",
    "\n",
    "    assert x_squared_norms is not None, 'x_squared_norms None in _k_init'\n",
    "\n",
    "    # Set the number of local seeding trials if none is given\n",
    "    if n_local_trials is None:\n",
    "        # This is what Arthur/Vassilvitskii tried, but did not report\n",
    "        # specific results for other than mentioning in the conclusion\n",
    "        # that it helped.\n",
    "        n_local_trials = 2 + int(np.log(n_clusters))\n",
    "\n",
    "    # Pick first center randomly\n",
    "    center_id = random_state.randint(n_samples)\n",
    "    if sp.issparse(X):\n",
    "        centers[0] = X[center_id].toarray()\n",
    "    else:\n",
    "        centers[0] = X[center_id]\n",
    "\n",
    "    # Initialize list of closest distances and calculate current potential\n",
    "    closest_dist_sq = euclidean_distances(\n",
    "        centers[0, np.newaxis], X, Y_norm_squared=x_squared_norms,\n",
    "        squared=True)\n",
    "    current_pot = closest_dist_sq.sum()\n",
    "\n",
    "    # Pick the remaining n_clusters-1 points\n",
    "    for c in range(1, n_clusters):\n",
    "        # Choose center candidates by sampling with probability proportional\n",
    "        # to the squared distance to the closest existing center\n",
    "        rand_vals = random_state.random_sample(n_local_trials) * current_pot\n",
    "        candidate_ids = np.searchsorted(stable_cumsum(closest_dist_sq),\n",
    "                                        rand_vals)\n",
    "\n",
    "        # Compute distances to center candidates\n",
    "        distance_to_candidates = euclidean_distances(\n",
    "            X[candidate_ids], X, Y_norm_squared=x_squared_norms, squared=True)\n",
    "\n",
    "        # Decide which candidate is the best\n",
    "        best_candidate = None\n",
    "        best_pot = None\n",
    "        best_dist_sq = None\n",
    "        for trial in range(n_local_trials):\n",
    "            # Compute potential when including center candidate\n",
    "            new_dist_sq = np.minimum(closest_dist_sq,\n",
    "                                     distance_to_candidates[trial])\n",
    "            new_pot = new_dist_sq.sum()\n",
    "\n",
    "            # Store result if it is the best local trial so far\n",
    "            if (best_candidate is None) or (new_pot < best_pot):\n",
    "                best_candidate = candidate_ids[trial]\n",
    "                best_pot = new_pot\n",
    "                best_dist_sq = new_dist_sq\n",
    "\n",
    "        # Permanently add best center candidate found in local tries\n",
    "        if sp.issparse(X):\n",
    "            centers[c] = X[best_candidate].toarray()\n",
    "        else:\n",
    "            centers[c] = X[best_candidate]\n",
    "        current_pot = best_pot\n",
    "        closest_dist_sq = best_dist_sq\n",
    "\n",
    "    return centers"
   ]
  },
  {
   "cell_type": "code",
   "execution_count": 85,
   "metadata": {},
   "outputs": [
    {
     "data": {
      "text/plain": [
       "array([[11.02367187, -4.16133173],\n",
       "       [-4.03007795,  2.54443235],\n",
       "       [12.21715196, 11.56255228],\n",
       "       [-6.17115944, -7.53776791],\n",
       "       [ 3.09256497, -5.83839273],\n",
       "       [12.06429224,  4.34286395]])"
      ]
     },
     "execution_count": 85,
     "metadata": {},
     "output_type": "execute_result"
    }
   ],
   "source": [
    "# x_squared_norms = np.row_norms(x, squared=True)\n",
    "\n",
    "from sklearn.utils.extmath import row_norms\n",
    "from sklearn.utils.extmath import row_norms, squared_norm, stable_cumsum\n",
    "import scipy.sparse as sp\n",
    "from sklearn.metrics.pairwise import euclidean_distances\n",
    " \n",
    "c = _k_init(x,cluster, row_norms(x, squared=True), np.random.RandomState())\n",
    "c"
   ]
  },
  {
   "cell_type": "markdown",
   "metadata": {},
   "source": [
    "Initialization\n",
    "================="
   ]
  },
  {
   "cell_type": "code",
   "execution_count": 86,
   "metadata": {},
   "outputs": [],
   "source": [
    "import random\n",
    "# x =np.asarray( random.sample(x.tolist(), len(x.tolist())))\n",
    "# print(x[:5,])\n",
    "\n",
    "u=initializeMembershipMatrix(x)\n",
    "v=c#generateRandomCenters(cluster,x)\n",
    " \n",
    "w=updateMembershipValue3_2(u,v,x)\n",
    "\n",
    "\n",
    "ny=np.argmin(w,axis=1) \n",
    "plt.show()  "
   ]
  },
  {
   "cell_type": "markdown",
   "metadata": {},
   "source": [
    "POCS -- Parallel projection\n",
    "================="
   ]
  },
  {
   "cell_type": "code",
   "execution_count": 87,
   "metadata": {
    "scrolled": true
   },
   "outputs": [
    {
     "name": "stdout",
     "output_type": "stream",
     "text": [
      "0\n",
      "1\n",
      "2\n",
      "3\n",
      "4\n",
      "5\n",
      "6\n",
      "7\n",
      "8\n",
      "9\n",
      "10\n",
      "11\n",
      "12\n",
      "13\n",
      "14\n",
      "15\n",
      "16\n",
      "17\n",
      "18\n",
      "19\n",
      "20\n",
      "21\n",
      "22\n",
      "23\n",
      "24\n",
      "25\n",
      "26\n",
      "27\n",
      "28\n",
      "29\n",
      "30\n",
      "31\n",
      "32\n",
      "33\n",
      "34\n",
      "35\n",
      "36\n",
      "37\n",
      "38\n",
      "39\n",
      "40\n",
      "41\n",
      "42\n",
      "43\n",
      "44\n",
      "45\n",
      "46\n",
      "47\n",
      "48\n",
      "49\n"
     ]
    }
   ],
   "source": [
    "# val=x\n",
    "import time\n",
    "errorlist=[]\n",
    "start=time.time()\n",
    "for t in range(50): \n",
    "    \n",
    "    for q in range(cluster):  \n",
    "        \n",
    "        val=x[ny == q,:] \n",
    "        \n",
    "        if(val.shape[0]!=0):\n",
    "            currentClusterCenter=v[q] \n",
    "            \n",
    "            weight=CalculateWeightValues(currentClusterCenter,val,q)\n",
    "            \n",
    "            temp=0 \n",
    "            \n",
    "            for i in range(val.shape[0]):                \n",
    "                temp += weight[i]*(val[i]- currentClusterCenter)\n",
    "            v[q]= v[q]+temp\n",
    "            \n",
    "    w=updateMembershipValue3_2(u,v,x)  \n",
    "    ny=np.argmin(w,axis=1) \n",
    "    print(t)"
   ]
  },
  {
   "cell_type": "code",
   "execution_count": 89,
   "metadata": {},
   "outputs": [
    {
     "data": {
      "image/png": "[encoded data removed]",
      "text/plain": [
       "<Figure size 432x288 with 1 Axes>"
      ]
     },
     "metadata": {
      "needs_background": "light"
     },
     "output_type": "display_data"
    },
    {
     "name": "stdout",
     "output_type": "stream",
     "text": [
      "[[14.58855763 -5.00035741]\n",
      " [-4.90640207  5.00617655]\n",
      " [15.53220912  5.62465506]\n",
      " [-5.2835356  -5.10421913]\n",
      " [ 5.17258454 -6.03840323]\n",
      " [ 5.55503616  4.24073886]]\n"
     ]
    }
   ],
   "source": [
    "for i in range ( cluster):\n",
    "    plt.scatter(x[ny == i, 0], x[ny == i, 1],  s=10, label=\"Cluster - \"+str(i))\n",
    "plt.scatter(x=np.asarray(v)[:,0],y=np.asarray(v)[:,1], color='black',s=50)\n",
    "plt.show()  \n",
    "print(v)"
   ]
  },
  {
   "cell_type": "code",
   "execution_count": 88,
   "metadata": {},
   "outputs": [
    {
     "ename": "ValueError",
     "evalue": "cannot reshape array of size 1000 into shape (321,481)",
     "output_type": "error",
     "traceback": [
      "\u001b[0;31m---------------------------------------------------------------------------\u001b[0m",
      "\u001b[0;31mValueError\u001b[0m                                Traceback (most recent call last)",
      "\u001b[0;32m<ipython-input-88-7de02fcad873>\u001b[0m in \u001b[0;36m<module>\u001b[0;34m\u001b[0m\n\u001b[1;32m      1\u001b[0m \u001b[0mindex\u001b[0m \u001b[0;34m=\u001b[0m \u001b[0mnp\u001b[0m\u001b[0;34m.\u001b[0m\u001b[0mcopy\u001b[0m\u001b[0;34m(\u001b[0m\u001b[0mny\u001b[0m\u001b[0;34m)\u001b[0m\u001b[0;34m\u001b[0m\u001b[0;34m\u001b[0m\u001b[0m\n\u001b[0;32m----> 2\u001b[0;31m \u001b[0mindex\u001b[0m \u001b[0;34m=\u001b[0m \u001b[0mnp\u001b[0m\u001b[0;34m.\u001b[0m\u001b[0mreshape\u001b[0m\u001b[0;34m(\u001b[0m\u001b[0mindex\u001b[0m\u001b[0;34m,\u001b[0m \u001b[0;34m(\u001b[0m\u001b[0mheight\u001b[0m\u001b[0;34m,\u001b[0m \u001b[0mwidth\u001b[0m\u001b[0;34m)\u001b[0m\u001b[0;34m)\u001b[0m\u001b[0;34m\u001b[0m\u001b[0;34m\u001b[0m\u001b[0m\n\u001b[0m\u001b[1;32m      3\u001b[0m \u001b[0;34m\u001b[0m\u001b[0m\n\u001b[1;32m      4\u001b[0m \u001b[0;31m# axes = plt.gca()\u001b[0m\u001b[0;34m\u001b[0m\u001b[0;34m\u001b[0m\u001b[0;34m\u001b[0m\u001b[0m\n\u001b[1;32m      5\u001b[0m \u001b[0mplt\u001b[0m\u001b[0;34m.\u001b[0m\u001b[0mimshow\u001b[0m\u001b[0;34m(\u001b[0m\u001b[0mindex\u001b[0m\u001b[0;34m,\u001b[0m \u001b[0mcmap\u001b[0m\u001b[0;34m=\u001b[0m\u001b[0;34m'gray'\u001b[0m\u001b[0;34m)\u001b[0m\u001b[0;34m\u001b[0m\u001b[0;34m\u001b[0m\u001b[0m\n",
      "\u001b[0;32m~/anaconda3/lib/python3.6/site-packages/numpy/core/fromnumeric.py\u001b[0m in \u001b[0;36mreshape\u001b[0;34m(a, newshape, order)\u001b[0m\n\u001b[1;32m    255\u001b[0m            [5, 6]])\n\u001b[1;32m    256\u001b[0m     \"\"\"\n\u001b[0;32m--> 257\u001b[0;31m     \u001b[0;32mreturn\u001b[0m \u001b[0m_wrapfunc\u001b[0m\u001b[0;34m(\u001b[0m\u001b[0ma\u001b[0m\u001b[0;34m,\u001b[0m \u001b[0;34m'reshape'\u001b[0m\u001b[0;34m,\u001b[0m \u001b[0mnewshape\u001b[0m\u001b[0;34m,\u001b[0m \u001b[0morder\u001b[0m\u001b[0;34m=\u001b[0m\u001b[0morder\u001b[0m\u001b[0;34m)\u001b[0m\u001b[0;34m\u001b[0m\u001b[0;34m\u001b[0m\u001b[0m\n\u001b[0m\u001b[1;32m    258\u001b[0m \u001b[0;34m\u001b[0m\u001b[0m\n\u001b[1;32m    259\u001b[0m \u001b[0;34m\u001b[0m\u001b[0m\n",
      "\u001b[0;32m~/anaconda3/lib/python3.6/site-packages/numpy/core/fromnumeric.py\u001b[0m in \u001b[0;36m_wrapfunc\u001b[0;34m(obj, method, *args, **kwds)\u001b[0m\n\u001b[1;32m     50\u001b[0m \u001b[0;32mdef\u001b[0m \u001b[0m_wrapfunc\u001b[0m\u001b[0;34m(\u001b[0m\u001b[0mobj\u001b[0m\u001b[0;34m,\u001b[0m \u001b[0mmethod\u001b[0m\u001b[0;34m,\u001b[0m \u001b[0;34m*\u001b[0m\u001b[0margs\u001b[0m\u001b[0;34m,\u001b[0m \u001b[0;34m**\u001b[0m\u001b[0mkwds\u001b[0m\u001b[0;34m)\u001b[0m\u001b[0;34m:\u001b[0m\u001b[0;34m\u001b[0m\u001b[0;34m\u001b[0m\u001b[0m\n\u001b[1;32m     51\u001b[0m     \u001b[0;32mtry\u001b[0m\u001b[0;34m:\u001b[0m\u001b[0;34m\u001b[0m\u001b[0;34m\u001b[0m\u001b[0m\n\u001b[0;32m---> 52\u001b[0;31m         \u001b[0;32mreturn\u001b[0m \u001b[0mgetattr\u001b[0m\u001b[0;34m(\u001b[0m\u001b[0mobj\u001b[0m\u001b[0;34m,\u001b[0m \u001b[0mmethod\u001b[0m\u001b[0;34m)\u001b[0m\u001b[0;34m(\u001b[0m\u001b[0;34m*\u001b[0m\u001b[0margs\u001b[0m\u001b[0;34m,\u001b[0m \u001b[0;34m**\u001b[0m\u001b[0mkwds\u001b[0m\u001b[0;34m)\u001b[0m\u001b[0;34m\u001b[0m\u001b[0;34m\u001b[0m\u001b[0m\n\u001b[0m\u001b[1;32m     53\u001b[0m \u001b[0;34m\u001b[0m\u001b[0m\n\u001b[1;32m     54\u001b[0m     \u001b[0;31m# An AttributeError occurs if the object does not have\u001b[0m\u001b[0;34m\u001b[0m\u001b[0;34m\u001b[0m\u001b[0;34m\u001b[0m\u001b[0m\n",
      "\u001b[0;31mValueError\u001b[0m: cannot reshape array of size 1000 into shape (321,481)"
     ]
    }
   ],
   "source": [
    "index = np.copy(ny)\n",
    "index = np.reshape(index, (height, width))\n",
    "\n",
    "# axes = plt.gca()\n",
    "plt.imshow(index, cmap='gray')\n",
    "plt.show(block=True) \n",
    "\n",
    "# ny[ny==1]=0\n",
    "\n",
    "# # ny=np.argmin(w,axis=1) \n",
    "np.unique(ny)\n",
    "v"
   ]
  },
  {
   "cell_type": "code",
   "execution_count": 62,
   "metadata": {},
   "outputs": [
    {
     "name": "stdout",
     "output_type": "stream",
     "text": [
      "[1 2]\n",
      "[  0 183 255]\n"
     ]
    },
    {
     "data": {
      "text/plain": [
       "0.011134453504265004"
      ]
     },
     "execution_count": 62,
     "metadata": {},
     "output_type": "execute_result"
    }
   ],
   "source": [
    "#  ny[ny==1]=255\n",
    "\n",
    "\n",
    "print(np.unique(ny))\n",
    "\n",
    "print(np.unique(e))\n",
    "\n",
    "# # print(ny.shape)\n",
    "# # print(img_list.flatten().shape)\n",
    "\n",
    "from sklearn.metrics.cluster import adjusted_rand_score\n",
    "adjusted_rand_score(e.flatten(),ny)"
   ]
  },
  {
   "cell_type": "code",
   "execution_count": 63,
   "metadata": {},
   "outputs": [
    {
     "name": "stdout",
     "output_type": "stream",
     "text": [
      "0.020803568380985037\n",
      "13185.742514621019\n",
      "0.011134453504265004\n"
     ]
    },
    {
     "name": "stderr",
     "output_type": "stream",
     "text": [
      "/home/mju-hpc-02/anaconda3/lib/python3.6/site-packages/sklearn/metrics/cluster/supervised.py:844: FutureWarning: The behavior of NMI will change in version 0.22. To match the behavior of 'v_measure_score', NMI will use average_method='arithmetic' by default.\n",
      "  FutureWarning)\n"
     ]
    }
   ],
   "source": [
    "\n",
    "from sklearn.metrics.cluster import normalized_mutual_info_score\n",
    "print(normalized_mutual_info_score(e.flatten(),ny))\n",
    "\n",
    "from sklearn.metrics import mean_squared_error\n",
    "print(mean_squared_error(e.flatten(),ny))\n",
    "\n",
    "from sklearn.metrics.cluster import adjusted_rand_score\n",
    "print(adjusted_rand_score(e.flatten(),ny))"
   ]
  },
  {
   "cell_type": "code",
   "execution_count": null,
   "metadata": {},
   "outputs": [],
   "source": []
  },
  {
   "cell_type": "code",
   "execution_count": null,
   "metadata": {},
   "outputs": [],
   "source": []
  },
  {
   "cell_type": "code",
   "execution_count": null,
   "metadata": {},
   "outputs": [],
   "source": []
  },
  {
   "cell_type": "code",
   "execution_count": null,
   "metadata": {},
   "outputs": [],
   "source": []
  }
 ],
 "metadata": {
  "kernelspec": {
   "display_name": "Python 3",
   "language": "python",
   "name": "python3"
  },
  "language_info": {
   "codemirror_mode": {
    "name": "ipython",
    "version": 3
   },
   "file_extension": ".py",
   "mimetype": "text/x-python",
   "name": "python",
   "nbconvert_exporter": "python",
   "pygments_lexer": "ipython3",
   "version": "3.6.8"
  }
 },
 "nbformat": 4,
 "nbformat_minor": 2
}
