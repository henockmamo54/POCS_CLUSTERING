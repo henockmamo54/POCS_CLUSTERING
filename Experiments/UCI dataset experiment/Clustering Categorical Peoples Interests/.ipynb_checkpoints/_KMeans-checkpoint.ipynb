{
 "cells": [
  {
   "cell_type": "code",
   "execution_count": 1,
   "metadata": {},
   "outputs": [
    {
     "name": "stderr",
     "output_type": "stream",
     "text": [
      "C:\\ProgramData\\Anaconda3\\lib\\site-packages\\sklearn\\utils\\deprecation.py:143: FutureWarning: The sklearn.datasets.samples_generator module is  deprecated in version 0.22 and will be removed in version 0.24. The corresponding classes / functions should instead be imported from sklearn.datasets. Anything that cannot be imported from sklearn.datasets is now part of the private API.\n",
      "  warnings.warn(message, FutureWarning)\n"
     ]
    }
   ],
   "source": [
    "import numpy as np\n",
    "import random\n",
    "import math\n",
    "from matplotlib import pyplot as plt\n",
    "from sklearn.datasets.samples_generator import make_blobs\n",
    "import time\n",
    "import pandas as pd\n",
    "from scipy.spatial.distance import cdist\n",
    "from sklearn.utils import shuffle\n",
    "# from sklearn.cluster import KMeans\n",
    "import numpy as np\n",
    "from sklearn.cluster import KMeans \n",
    "\n",
    "from sklearn.preprocessing import LabelEncoder\n",
    "from sklearn.utils import shuffle\n",
    "np.random.seed(0)"
   ]
  },
  {
   "cell_type": "markdown",
   "metadata": {},
   "source": [
    "Initialize the data points and Random centers\n",
    "===========================\n"
   ]
  },
  {
   "cell_type": "markdown",
   "metadata": {},
   "source": [
    "KMeans - Clustering\n",
    "==============="
   ]
  },
  {
   "cell_type": "code",
   "execution_count": 2,
   "metadata": {},
   "outputs": [
    {
     "name": "stdout",
     "output_type": "stream",
     "text": [
      "(675, 148)\n"
     ]
    },
    {
     "data": {
      "text/html": [
       "<div>\n",
       "<style scoped>\n",
       "    .dataframe tbody tr th:only-of-type {\n",
       "        vertical-align: middle;\n",
       "    }\n",
       "\n",
       "    .dataframe tbody tr th {\n",
       "        vertical-align: top;\n",
       "    }\n",
       "\n",
       "    .dataframe thead th {\n",
       "        text-align: right;\n",
       "    }\n",
       "</style>\n",
       "<table border=\"1\" class=\"dataframe\">\n",
       "  <thead>\n",
       "    <tr style=\"text-align: right;\">\n",
       "      <th></th>\n",
       "      <th>class</th>\n",
       "      <th>BrdIndx</th>\n",
       "      <th>Area</th>\n",
       "      <th>Round</th>\n",
       "      <th>Bright</th>\n",
       "      <th>Compact</th>\n",
       "      <th>ShpIndx</th>\n",
       "      <th>Mean_G</th>\n",
       "      <th>Mean_R</th>\n",
       "      <th>Mean_NIR</th>\n",
       "      <th>...</th>\n",
       "      <th>SD_NIR_140</th>\n",
       "      <th>LW_140</th>\n",
       "      <th>GLCM1_140</th>\n",
       "      <th>Rect_140</th>\n",
       "      <th>GLCM2_140</th>\n",
       "      <th>Dens_140</th>\n",
       "      <th>Assym_140</th>\n",
       "      <th>NDVI_140</th>\n",
       "      <th>BordLngth_140</th>\n",
       "      <th>GLCM3_140</th>\n",
       "    </tr>\n",
       "  </thead>\n",
       "  <tbody>\n",
       "    <tr>\n",
       "      <th>0</th>\n",
       "      <td>car</td>\n",
       "      <td>1.27</td>\n",
       "      <td>91</td>\n",
       "      <td>0.97</td>\n",
       "      <td>231.38</td>\n",
       "      <td>1.39</td>\n",
       "      <td>1.47</td>\n",
       "      <td>207.92</td>\n",
       "      <td>241.74</td>\n",
       "      <td>244.48</td>\n",
       "      <td>...</td>\n",
       "      <td>26.18</td>\n",
       "      <td>2.00</td>\n",
       "      <td>0.50</td>\n",
       "      <td>0.85</td>\n",
       "      <td>6.29</td>\n",
       "      <td>1.67</td>\n",
       "      <td>0.70</td>\n",
       "      <td>-0.08</td>\n",
       "      <td>56</td>\n",
       "      <td>3806.36</td>\n",
       "    </tr>\n",
       "    <tr>\n",
       "      <th>1</th>\n",
       "      <td>concrete</td>\n",
       "      <td>2.36</td>\n",
       "      <td>241</td>\n",
       "      <td>1.56</td>\n",
       "      <td>216.15</td>\n",
       "      <td>2.46</td>\n",
       "      <td>2.51</td>\n",
       "      <td>187.85</td>\n",
       "      <td>229.39</td>\n",
       "      <td>231.20</td>\n",
       "      <td>...</td>\n",
       "      <td>22.29</td>\n",
       "      <td>2.25</td>\n",
       "      <td>0.79</td>\n",
       "      <td>0.55</td>\n",
       "      <td>8.42</td>\n",
       "      <td>1.38</td>\n",
       "      <td>0.81</td>\n",
       "      <td>-0.09</td>\n",
       "      <td>1746</td>\n",
       "      <td>1450.14</td>\n",
       "    </tr>\n",
       "    <tr>\n",
       "      <th>2</th>\n",
       "      <td>concrete</td>\n",
       "      <td>2.12</td>\n",
       "      <td>266</td>\n",
       "      <td>1.47</td>\n",
       "      <td>232.18</td>\n",
       "      <td>2.07</td>\n",
       "      <td>2.21</td>\n",
       "      <td>206.54</td>\n",
       "      <td>244.22</td>\n",
       "      <td>245.79</td>\n",
       "      <td>...</td>\n",
       "      <td>15.59</td>\n",
       "      <td>2.19</td>\n",
       "      <td>0.76</td>\n",
       "      <td>0.74</td>\n",
       "      <td>7.24</td>\n",
       "      <td>1.68</td>\n",
       "      <td>0.81</td>\n",
       "      <td>-0.07</td>\n",
       "      <td>566</td>\n",
       "      <td>1094.04</td>\n",
       "    </tr>\n",
       "    <tr>\n",
       "      <th>3</th>\n",
       "      <td>concrete</td>\n",
       "      <td>2.42</td>\n",
       "      <td>399</td>\n",
       "      <td>1.28</td>\n",
       "      <td>230.40</td>\n",
       "      <td>2.49</td>\n",
       "      <td>2.73</td>\n",
       "      <td>204.60</td>\n",
       "      <td>243.27</td>\n",
       "      <td>243.32</td>\n",
       "      <td>...</td>\n",
       "      <td>13.51</td>\n",
       "      <td>3.34</td>\n",
       "      <td>0.82</td>\n",
       "      <td>0.74</td>\n",
       "      <td>7.44</td>\n",
       "      <td>1.36</td>\n",
       "      <td>0.92</td>\n",
       "      <td>-0.09</td>\n",
       "      <td>1178</td>\n",
       "      <td>1125.38</td>\n",
       "    </tr>\n",
       "    <tr>\n",
       "      <th>4</th>\n",
       "      <td>concrete</td>\n",
       "      <td>2.15</td>\n",
       "      <td>944</td>\n",
       "      <td>1.73</td>\n",
       "      <td>193.18</td>\n",
       "      <td>2.28</td>\n",
       "      <td>4.10</td>\n",
       "      <td>165.98</td>\n",
       "      <td>205.55</td>\n",
       "      <td>208.00</td>\n",
       "      <td>...</td>\n",
       "      <td>15.65</td>\n",
       "      <td>50.08</td>\n",
       "      <td>0.85</td>\n",
       "      <td>0.49</td>\n",
       "      <td>8.15</td>\n",
       "      <td>0.23</td>\n",
       "      <td>1.00</td>\n",
       "      <td>-0.08</td>\n",
       "      <td>6232</td>\n",
       "      <td>1146.38</td>\n",
       "    </tr>\n",
       "  </tbody>\n",
       "</table>\n",
       "<p>5 rows × 148 columns</p>\n",
       "</div>"
      ],
      "text/plain": [
       "       class  BrdIndx  Area  Round  Bright  Compact  ShpIndx  Mean_G  Mean_R  \\\n",
       "0       car      1.27    91   0.97  231.38     1.39     1.47  207.92  241.74   \n",
       "1  concrete      2.36   241   1.56  216.15     2.46     2.51  187.85  229.39   \n",
       "2  concrete      2.12   266   1.47  232.18     2.07     2.21  206.54  244.22   \n",
       "3  concrete      2.42   399   1.28  230.40     2.49     2.73  204.60  243.27   \n",
       "4  concrete      2.15   944   1.73  193.18     2.28     4.10  165.98  205.55   \n",
       "\n",
       "   Mean_NIR  ...  SD_NIR_140  LW_140  GLCM1_140  Rect_140  GLCM2_140  \\\n",
       "0    244.48  ...       26.18    2.00       0.50      0.85       6.29   \n",
       "1    231.20  ...       22.29    2.25       0.79      0.55       8.42   \n",
       "2    245.79  ...       15.59    2.19       0.76      0.74       7.24   \n",
       "3    243.32  ...       13.51    3.34       0.82      0.74       7.44   \n",
       "4    208.00  ...       15.65   50.08       0.85      0.49       8.15   \n",
       "\n",
       "   Dens_140  Assym_140  NDVI_140  BordLngth_140  GLCM3_140  \n",
       "0      1.67       0.70     -0.08             56    3806.36  \n",
       "1      1.38       0.81     -0.09           1746    1450.14  \n",
       "2      1.68       0.81     -0.07            566    1094.04  \n",
       "3      1.36       0.92     -0.09           1178    1125.38  \n",
       "4      0.23       1.00     -0.08           6232    1146.38  \n",
       "\n",
       "[5 rows x 148 columns]"
      ]
     },
     "execution_count": 2,
     "metadata": {},
     "output_type": "execute_result"
    }
   ],
   "source": [
    "cluster=8\n",
    "data=pd.read_csv('training.csv', header=0, sep=',')  \n",
    "datasetname='ecoli'\n",
    "x= np.asarray(data.iloc[:, 1:]) \n",
    "y= np.asarray(data.iloc[:, 0]) \n",
    "le=LabelEncoder()\n",
    "y=le.fit_transform(y)\n",
    "cluster=np.unique(y).shape[0] \n",
    "print(data.shape)\n",
    "data.head() "
   ]
  },
  {
   "cell_type": "code",
   "execution_count": 3,
   "metadata": {},
   "outputs": [
    {
     "data": {
      "text/plain": [
       "9"
      ]
     },
     "execution_count": 3,
     "metadata": {},
     "output_type": "execute_result"
    }
   ],
   "source": [
    "cluster=np.unique(y).shape[0]\n",
    "cluster"
   ]
  },
  {
   "cell_type": "code",
   "execution_count": 4,
   "metadata": {},
   "outputs": [
    {
     "name": "stdout",
     "output_type": "stream",
     "text": [
      "0\n",
      "1\n",
      "2\n",
      "3\n",
      "4\n",
      "5\n",
      "6\n",
      "7\n",
      "8\n",
      "9\n"
     ]
    }
   ],
   "source": [
    "for i in range(10):\n",
    "    \n",
    "    data=shuffle(data)\n",
    "    x= np.asarray(data.iloc[:, 1:]) \n",
    "    y= np.asarray(data.iloc[:, 0]) \n",
    "    le=LabelEncoder()\n",
    "    y=le.fit_transform(y)\n",
    "    \n",
    "    kmeans = KMeans(n_clusters = cluster,max_iter=50, random_state=5) \n",
    "    kmeans.fit(x) \n",
    "    \n",
    "    ny=kmeans.labels_   \n",
    "        \n",
    "    mypred=pd.DataFrame()\n",
    "    mypred['Actual']=y\n",
    "    mypred['Predicted']=ny\n",
    "    \n",
    "    mypred.to_csv('KMEANS_'+str(i)+'_pred.txt',sep=',',index=False)\n",
    "    print(i)\n",
    "    "
   ]
  },
  {
   "cell_type": "code",
   "execution_count": null,
   "metadata": {},
   "outputs": [],
   "source": []
  },
  {
   "cell_type": "code",
   "execution_count": null,
   "metadata": {},
   "outputs": [],
   "source": []
  }
 ],
 "metadata": {
  "kernelspec": {
   "display_name": "Python 3",
   "language": "python",
   "name": "python3"
  },
  "language_info": {
   "codemirror_mode": {
    "name": "ipython",
    "version": 3
   },
   "file_extension": ".py",
   "mimetype": "text/x-python",
   "name": "python",
   "nbconvert_exporter": "python",
   "pygments_lexer": "ipython3",
   "version": "3.8.3"
  }
 },
 "nbformat": 4,
 "nbformat_minor": 2
}
