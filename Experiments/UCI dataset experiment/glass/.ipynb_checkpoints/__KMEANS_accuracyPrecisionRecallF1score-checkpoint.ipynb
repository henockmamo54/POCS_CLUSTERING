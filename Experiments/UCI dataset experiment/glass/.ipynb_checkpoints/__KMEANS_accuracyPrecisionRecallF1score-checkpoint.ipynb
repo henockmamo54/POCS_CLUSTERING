{
 "cells": [
  {
   "cell_type": "code",
   "execution_count": 1,
   "metadata": {},
   "outputs": [],
   "source": [
    "import pandas as pd\n",
    "import numpy as np\n",
    "from sklearn import metrics as m"
   ]
  },
  {
   "cell_type": "code",
   "execution_count": 2,
   "metadata": {
    "scrolled": true
   },
   "outputs": [],
   "source": [
    "data1=pd.read_csv('KMEANS_0_pred.txt')\n",
    "data2=pd.read_csv('KMEANS_1_pred.txt')\n",
    "data3=pd.read_csv('KMEANS_2_pred.txt')\n",
    "data4=pd.read_csv('KMEANS_3_pred.txt')\n",
    "data5=pd.read_csv('KMEANS_4_pred.txt')\n",
    "data6=pd.read_csv('KMEANS_5_pred.txt')\n",
    "data7=pd.read_csv('KMEANS_6_pred.txt')\n",
    "data8=pd.read_csv('KMEANS_7_pred.txt')\n",
    "data9=pd.read_csv('KMEANS_8_pred.txt') \n",
    "data10=pd.read_csv('KMEANS_9_pred.txt')"
   ]
  },
  {
   "cell_type": "code",
   "execution_count": 3,
   "metadata": {
    "scrolled": false
   },
   "outputs": [],
   "source": [
    "# data1.groupby(by=['Actual','Predicted']).size()\n",
    "datalist=[data1,data2,data3,data4,data5,data6,data7,data8,data9,data10]"
   ]
  },
  {
   "cell_type": "code",
   "execution_count": 4,
   "metadata": {},
   "outputs": [
    {
     "data": {
      "text/plain": [
       "6"
      ]
     },
     "execution_count": 4,
     "metadata": {},
     "output_type": "execute_result"
    }
   ],
   "source": [
    "noclasses=np.unique(data1.Actual).shape[0]\n",
    "noclasses"
   ]
  },
  {
   "cell_type": "code",
   "execution_count": 5,
   "metadata": {},
   "outputs": [
    {
     "data": {
      "text/plain": [
       "720"
      ]
     },
     "execution_count": 5,
     "metadata": {},
     "output_type": "execute_result"
    }
   ],
   "source": [
    "from itertools import permutations\n",
    "combcols=(list(permutations(np.arange(0,noclasses,1), noclasses)))\n",
    "len(combcols)"
   ]
  },
  {
   "cell_type": "code",
   "execution_count": 6,
   "metadata": {},
   "outputs": [],
   "source": [
    "Accuracy=[]\n",
    "Precision=[]\n",
    "Recall=[]\n",
    "F1_score=[]"
   ]
  },
  {
   "cell_type": "code",
   "execution_count": null,
   "metadata": {},
   "outputs": [
    {
     "name": "stdout",
     "output_type": "stream",
     "text": [
      "0\n",
      "1\n",
      "2\n",
      "3\n",
      "4\n"
     ]
    }
   ],
   "source": [
    "for h in range(len(datalist)):\n",
    "    \n",
    "    accuracylist=[]\n",
    "    \n",
    "    for j in range(len(combcols)):\n",
    "        currentlist=combcols[j]\n",
    "        temp=datalist[h].copy()\n",
    "        for i in range(temp.shape[0]):\n",
    "            temp.iloc[i,1] = currentlist[temp.Predicted[i]]\n",
    "        accuracylist.append(m.accuracy_score(temp.Actual,temp.Predicted))\n",
    "\n",
    "    currentlist=combcols[np.argmax(accuracylist)]\n",
    "    temp=datalist[h].copy()\n",
    "    for i in range(temp.shape[0]):\n",
    "        temp.iloc[i,1] = currentlist[temp.Predicted[i]]\n",
    "\n",
    "    prf=m.precision_recall_fscore_support(temp.Actual,temp.Predicted,average='weighted')    \n",
    "\n",
    "    Accuracy.append(accuracylist[np.argmax(accuracylist)])\n",
    "    Precision.append(prf[0])\n",
    "    Recall.append(prf[1])\n",
    "    F1_score.append(prf[2])\n",
    "    \n",
    "    print(h)"
   ]
  },
  {
   "cell_type": "code",
   "execution_count": null,
   "metadata": {},
   "outputs": [],
   "source": [
    "print('Accuracy',np.average(Accuracy) , ' std= ',np.std(Accuracy))\n",
    "print('Precision',np.average(Precision), ' std= ',np.std(Precision))\n",
    "print('Recall',np.average(Recall), ' std= ',np.std(Recall))\n",
    "print('F1_score',np.average(F1_score), ' std= ',np.std(F1_score))"
   ]
  },
  {
   "cell_type": "code",
   "execution_count": null,
   "metadata": {},
   "outputs": [],
   "source": []
  },
  {
   "cell_type": "code",
   "execution_count": null,
   "metadata": {},
   "outputs": [],
   "source": []
  },
  {
   "cell_type": "code",
   "execution_count": null,
   "metadata": {},
   "outputs": [],
   "source": []
  }
 ],
 "metadata": {
  "kernelspec": {
   "display_name": "Python 3",
   "language": "python",
   "name": "python3"
  },
  "language_info": {
   "codemirror_mode": {
    "name": "ipython",
    "version": 3
   },
   "file_extension": ".py",
   "mimetype": "text/x-python",
   "name": "python",
   "nbconvert_exporter": "python",
   "pygments_lexer": "ipython3",
   "version": "3.8.3"
  }
 },
 "nbformat": 4,
 "nbformat_minor": 2
}
