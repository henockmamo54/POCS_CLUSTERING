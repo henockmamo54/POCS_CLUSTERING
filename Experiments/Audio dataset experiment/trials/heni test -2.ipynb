{
 "cells": [
  {
   "cell_type": "code",
   "execution_count": 8,
   "metadata": {},
   "outputs": [],
   "source": [
    "import librosa\n",
    "import pandas as pd\n",
    "import numpy as np\n",
    "import matplotlib.pyplot as plt\n",
    "%matplotlib inline\n",
    "import os\n",
    "from PIL import Image\n",
    "import pathlib\n",
    "import csv\n",
    "\n",
    "# Preprocessing\n",
    "from sklearn.model_selection import train_test_split\n",
    "from sklearn.preprocessing import LabelEncoder, StandardScaler\n",
    "\n",
    "#Keras\n",
    "import keras\n",
    "\n",
    "import warnings\n",
    "warnings.filterwarnings('ignore')"
   ]
  },
  {
   "cell_type": "code",
   "execution_count": 11,
   "metadata": {},
   "outputs": [
    {
     "data": {
      "text/plain": [
       "<Figure size 720x720 with 0 Axes>"
      ]
     },
     "metadata": {},
     "output_type": "display_data"
    }
   ],
   "source": [
    "cmap = plt.get_cmap('inferno')\n",
    "\n",
    "plt.figure(figsize=(10,10))\n",
    "genres = 'blues classical country disco hiphop jazz metal pop reggae rock'.split()\n",
    "for g in genres:\n",
    "    pathlib.Path(f'img_data/{g}').mkdir(parents=True, exist_ok=True)     \n",
    "    for filename in os.listdir(f'./genres/{g}'):\n",
    "        songname = f'./genres/{g}/{filename}'\n",
    "        y, sr = librosa.load(songname, mono=True, duration=5)\n",
    "        plt.specgram(y, NFFT=2048, Fs=2, Fc=0, noverlap=128, cmap=cmap, sides='default', mode='default', scale='dB');\n",
    "        plt.axis('off');\n",
    "        plt.savefig(f'img_data/{g}/{filename[:-3].replace(\".\", \"\")}.png')\n",
    "        plt.clf()"
   ]
  },
  {
   "cell_type": "code",
   "execution_count": 12,
   "metadata": {},
   "outputs": [],
   "source": [
    "header = 'filename chroma_stft rmse spectral_centroid spectral_bandwidth rolloff zero_crossing_rate'\n",
    "for i in range(1, 21):\n",
    "    header += f' mfcc{i}'\n",
    "header += ' label'\n",
    "header = header.split()"
   ]
  },
  {
   "cell_type": "code",
   "execution_count": 13,
   "metadata": {},
   "outputs": [],
   "source": [
    "file = open('data.csv', 'w', newline='')\n",
    "with file:\n",
    "    writer = csv.writer(file)\n",
    "    writer.writerow(header)\n",
    "genres = 'blues classical country disco hiphop jazz metal pop reggae rock'.split()\n",
    "for g in genres:\n",
    "    for filename in os.listdir(f'./genres/{g}'):\n",
    "        songname = f'./genres/{g}/{filename}'\n",
    "        y, sr = librosa.load(songname, mono=True, duration=30)\n",
    "        rmse = librosa.feature.rms(y=y)\n",
    "        chroma_stft = librosa.feature.chroma_stft(y=y, sr=sr)\n",
    "        spec_cent = librosa.feature.spectral_centroid(y=y, sr=sr)\n",
    "        spec_bw = librosa.feature.spectral_bandwidth(y=y, sr=sr)\n",
    "        rolloff = librosa.feature.spectral_rolloff(y=y, sr=sr)\n",
    "        zcr = librosa.feature.zero_crossing_rate(y)\n",
    "        mfcc = librosa.feature.mfcc(y=y, sr=sr)\n",
    "        to_append = f'{filename} {np.mean(chroma_stft)} {np.mean(rmse)} {np.mean(spec_cent)} {np.mean(spec_bw)} {np.mean(rolloff)} {np.mean(zcr)}'    \n",
    "        for e in mfcc:\n",
    "            to_append += f' {np.mean(e)}'\n",
    "        to_append += f' {g}'\n",
    "        file = open('data.csv', 'a', newline='')\n",
    "        with file:\n",
    "            writer = csv.writer(file)\n",
    "            writer.writerow(to_append.split())"
   ]
  },
  {
   "cell_type": "code",
   "execution_count": 66,
   "metadata": {},
   "outputs": [
    {
     "data": {
      "text/html": [
       "<div>\n",
       "<style scoped>\n",
       "    .dataframe tbody tr th:only-of-type {\n",
       "        vertical-align: middle;\n",
       "    }\n",
       "\n",
       "    .dataframe tbody tr th {\n",
       "        vertical-align: top;\n",
       "    }\n",
       "\n",
       "    .dataframe thead th {\n",
       "        text-align: right;\n",
       "    }\n",
       "</style>\n",
       "<table border=\"1\" class=\"dataframe\">\n",
       "  <thead>\n",
       "    <tr style=\"text-align: right;\">\n",
       "      <th></th>\n",
       "      <th>filename</th>\n",
       "      <th>chroma_stft</th>\n",
       "      <th>rmse</th>\n",
       "      <th>spectral_centroid</th>\n",
       "      <th>spectral_bandwidth</th>\n",
       "      <th>rolloff</th>\n",
       "      <th>zero_crossing_rate</th>\n",
       "      <th>mfcc1</th>\n",
       "      <th>mfcc2</th>\n",
       "      <th>mfcc3</th>\n",
       "      <th>...</th>\n",
       "      <th>mfcc12</th>\n",
       "      <th>mfcc13</th>\n",
       "      <th>mfcc14</th>\n",
       "      <th>mfcc15</th>\n",
       "      <th>mfcc16</th>\n",
       "      <th>mfcc17</th>\n",
       "      <th>mfcc18</th>\n",
       "      <th>mfcc19</th>\n",
       "      <th>mfcc20</th>\n",
       "      <th>label</th>\n",
       "    </tr>\n",
       "  </thead>\n",
       "  <tbody>\n",
       "    <tr>\n",
       "      <th>343</th>\n",
       "      <td>disco.00043.wav</td>\n",
       "      <td>0.420332</td>\n",
       "      <td>0.173692</td>\n",
       "      <td>2874.926232</td>\n",
       "      <td>2759.729292</td>\n",
       "      <td>6019.138603</td>\n",
       "      <td>0.134784</td>\n",
       "      <td>-62.806194</td>\n",
       "      <td>77.884285</td>\n",
       "      <td>3.535205</td>\n",
       "      <td>...</td>\n",
       "      <td>0.984862</td>\n",
       "      <td>5.618052</td>\n",
       "      <td>0.688097</td>\n",
       "      <td>-0.131621</td>\n",
       "      <td>2.206273</td>\n",
       "      <td>-1.850217</td>\n",
       "      <td>-6.809112</td>\n",
       "      <td>-3.191936</td>\n",
       "      <td>-3.545320</td>\n",
       "      <td>disco</td>\n",
       "    </tr>\n",
       "    <tr>\n",
       "      <th>482</th>\n",
       "      <td>hiphop.00082.wav</td>\n",
       "      <td>0.503555</td>\n",
       "      <td>0.102340</td>\n",
       "      <td>2290.302465</td>\n",
       "      <td>2182.028104</td>\n",
       "      <td>4819.987521</td>\n",
       "      <td>0.113229</td>\n",
       "      <td>-122.766541</td>\n",
       "      <td>95.037415</td>\n",
       "      <td>-29.341730</td>\n",
       "      <td>...</td>\n",
       "      <td>15.642358</td>\n",
       "      <td>-6.696302</td>\n",
       "      <td>8.275928</td>\n",
       "      <td>-0.745034</td>\n",
       "      <td>9.416046</td>\n",
       "      <td>1.266228</td>\n",
       "      <td>1.673262</td>\n",
       "      <td>0.488482</td>\n",
       "      <td>1.613338</td>\n",
       "      <td>hiphop</td>\n",
       "    </tr>\n",
       "    <tr>\n",
       "      <th>568</th>\n",
       "      <td>jazz.00068.wav</td>\n",
       "      <td>0.285185</td>\n",
       "      <td>0.099549</td>\n",
       "      <td>1382.232294</td>\n",
       "      <td>1642.106473</td>\n",
       "      <td>2831.024548</td>\n",
       "      <td>0.061231</td>\n",
       "      <td>-204.397491</td>\n",
       "      <td>138.613831</td>\n",
       "      <td>-10.805427</td>\n",
       "      <td>...</td>\n",
       "      <td>-1.020453</td>\n",
       "      <td>-9.980793</td>\n",
       "      <td>-6.656221</td>\n",
       "      <td>-3.850046</td>\n",
       "      <td>-5.068009</td>\n",
       "      <td>-2.039894</td>\n",
       "      <td>-0.264972</td>\n",
       "      <td>-3.189402</td>\n",
       "      <td>-2.451722</td>\n",
       "      <td>jazz</td>\n",
       "    </tr>\n",
       "    <tr>\n",
       "      <th>499</th>\n",
       "      <td>hiphop.00099.wav</td>\n",
       "      <td>0.430902</td>\n",
       "      <td>0.153787</td>\n",
       "      <td>1962.886634</td>\n",
       "      <td>1916.814382</td>\n",
       "      <td>3798.243699</td>\n",
       "      <td>0.101571</td>\n",
       "      <td>-138.738937</td>\n",
       "      <td>100.225327</td>\n",
       "      <td>-31.469717</td>\n",
       "      <td>...</td>\n",
       "      <td>3.532051</td>\n",
       "      <td>-7.980703</td>\n",
       "      <td>0.803932</td>\n",
       "      <td>-2.977356</td>\n",
       "      <td>-0.726379</td>\n",
       "      <td>-7.721342</td>\n",
       "      <td>-1.218839</td>\n",
       "      <td>-6.524153</td>\n",
       "      <td>-5.398194</td>\n",
       "      <td>hiphop</td>\n",
       "    </tr>\n",
       "    <tr>\n",
       "      <th>919</th>\n",
       "      <td>rock.00019.wav</td>\n",
       "      <td>0.435911</td>\n",
       "      <td>0.112228</td>\n",
       "      <td>2321.185733</td>\n",
       "      <td>2118.985282</td>\n",
       "      <td>4702.063234</td>\n",
       "      <td>0.128200</td>\n",
       "      <td>-84.179573</td>\n",
       "      <td>102.337204</td>\n",
       "      <td>-41.332401</td>\n",
       "      <td>...</td>\n",
       "      <td>5.228018</td>\n",
       "      <td>-16.757763</td>\n",
       "      <td>1.092845</td>\n",
       "      <td>-9.666018</td>\n",
       "      <td>1.088416</td>\n",
       "      <td>-7.537924</td>\n",
       "      <td>3.236286</td>\n",
       "      <td>-4.712543</td>\n",
       "      <td>-0.318536</td>\n",
       "      <td>rock</td>\n",
       "    </tr>\n",
       "  </tbody>\n",
       "</table>\n",
       "<p>5 rows × 28 columns</p>\n",
       "</div>"
      ],
      "text/plain": [
       "             filename  chroma_stft      rmse  spectral_centroid  \\\n",
       "343   disco.00043.wav     0.420332  0.173692        2874.926232   \n",
       "482  hiphop.00082.wav     0.503555  0.102340        2290.302465   \n",
       "568    jazz.00068.wav     0.285185  0.099549        1382.232294   \n",
       "499  hiphop.00099.wav     0.430902  0.153787        1962.886634   \n",
       "919    rock.00019.wav     0.435911  0.112228        2321.185733   \n",
       "\n",
       "     spectral_bandwidth      rolloff  zero_crossing_rate       mfcc1  \\\n",
       "343         2759.729292  6019.138603            0.134784  -62.806194   \n",
       "482         2182.028104  4819.987521            0.113229 -122.766541   \n",
       "568         1642.106473  2831.024548            0.061231 -204.397491   \n",
       "499         1916.814382  3798.243699            0.101571 -138.738937   \n",
       "919         2118.985282  4702.063234            0.128200  -84.179573   \n",
       "\n",
       "          mfcc2      mfcc3  ...     mfcc12     mfcc13    mfcc14    mfcc15  \\\n",
       "343   77.884285   3.535205  ...   0.984862   5.618052  0.688097 -0.131621   \n",
       "482   95.037415 -29.341730  ...  15.642358  -6.696302  8.275928 -0.745034   \n",
       "568  138.613831 -10.805427  ...  -1.020453  -9.980793 -6.656221 -3.850046   \n",
       "499  100.225327 -31.469717  ...   3.532051  -7.980703  0.803932 -2.977356   \n",
       "919  102.337204 -41.332401  ...   5.228018 -16.757763  1.092845 -9.666018   \n",
       "\n",
       "       mfcc16    mfcc17    mfcc18    mfcc19    mfcc20   label  \n",
       "343  2.206273 -1.850217 -6.809112 -3.191936 -3.545320   disco  \n",
       "482  9.416046  1.266228  1.673262  0.488482  1.613338  hiphop  \n",
       "568 -5.068009 -2.039894 -0.264972 -3.189402 -2.451722    jazz  \n",
       "499 -0.726379 -7.721342 -1.218839 -6.524153 -5.398194  hiphop  \n",
       "919  1.088416 -7.537924  3.236286 -4.712543 -0.318536    rock  \n",
       "\n",
       "[5 rows x 28 columns]"
      ]
     },
     "execution_count": 66,
     "metadata": {},
     "output_type": "execute_result"
    }
   ],
   "source": [
    "from sklearn.utils import shuffle\n",
    "data=pd.read_csv('data.csv')\n",
    "data=shuffle(data)\n",
    "\n",
    "data.head()"
   ]
  },
  {
   "cell_type": "code",
   "execution_count": 74,
   "metadata": {},
   "outputs": [],
   "source": [
    "label= data.label\n",
    "x=data.iloc[:,1:-1]\n",
    "\n",
    "scaler = StandardScaler()\n",
    "x = scaler.fit_transform(np.array(data.iloc[:, 1:-1], dtype = float))"
   ]
  },
  {
   "cell_type": "code",
   "execution_count": 75,
   "metadata": {},
   "outputs": [
    {
     "name": "stdout",
     "output_type": "stream",
     "text": [
      "[0 1 2 3 4 5 6 7 8 9]\n"
     ]
    }
   ],
   "source": [
    "from sklearn.preprocessing import LabelEncoder\n",
    "encoder=LabelEncoder()\n",
    "y=encoder.fit_transform(label)\n",
    "print(np.unique(y))"
   ]
  },
  {
   "cell_type": "code",
   "execution_count": 76,
   "metadata": {},
   "outputs": [],
   "source": [
    "from sklearn.cluster import KMeans\n",
    "import numpy as np\n",
    "\n",
    "kmeans = KMeans(n_clusters=10,init='k-means++', random_state=0).fit(x)\n",
    "# kmeans.labels_\n"
   ]
  },
  {
   "cell_type": "code",
   "execution_count": 77,
   "metadata": {},
   "outputs": [],
   "source": [
    "test=pd.DataFrame()\n",
    "test['y']=y\n",
    "test['ny']=kmeans.labels_\n",
    "test.head()\n",
    "groupedtest=pd.DataFrame(test.groupby(by=['y','ny']).size().reset_index(name='count'))"
   ]
  },
  {
   "cell_type": "code",
   "execution_count": 78,
   "metadata": {},
   "outputs": [
    {
     "name": "stdout",
     "output_type": "stream",
     "text": [
      "0.17567683288131639\n"
     ]
    }
   ],
   "source": [
    "from sklearn.metrics.cluster import adjusted_rand_score\n",
    "print(adjusted_rand_score(test.y,test.ny))"
   ]
  },
  {
   "cell_type": "code",
   "execution_count": 50,
   "metadata": {},
   "outputs": [],
   "source": [
    "# groupedtest.head(20)"
   ]
  },
  {
   "cell_type": "code",
   "execution_count": 46,
   "metadata": {},
   "outputs": [],
   "source": [
    "# import itertools \n",
    "# perm = itertools.permutations(np.unique(y)) \n",
    "# _totalperm=[]\n",
    "  \n",
    "# for i in list(perm): \n",
    "#     print(i,list(i))\n",
    "#     _totalperm.append(list(i))"
   ]
  },
  {
   "cell_type": "code",
   "execution_count": null,
   "metadata": {},
   "outputs": [],
   "source": []
  },
  {
   "cell_type": "code",
   "execution_count": null,
   "metadata": {},
   "outputs": [],
   "source": []
  },
  {
   "cell_type": "code",
   "execution_count": null,
   "metadata": {},
   "outputs": [],
   "source": []
  },
  {
   "cell_type": "code",
   "execution_count": 79,
   "metadata": {},
   "outputs": [],
   "source": [
    "from sklearn.metrics.cluster import adjusted_rand_score\n",
    "from sklearn.metrics import mean_squared_error\n",
    "from sklearn.metrics.cluster import normalized_mutual_info_score"
   ]
  },
  {
   "cell_type": "code",
   "execution_count": 80,
   "metadata": {},
   "outputs": [
    {
     "name": "stdout",
     "output_type": "stream",
     "text": [
      "0.6004273504273504\n"
     ]
    }
   ],
   "source": [
    "oo=[1,1,1,1,1,3,3,3,3,3,3,6,6,6,6,6,2,2]\n",
    "oo2=[2,2,2,2,2,2,6,6,6,6,6,3,3,1,1,1,1,1]\n",
    "\n",
    "print(adjusted_rand_score( oo , oo2))"
   ]
  },
  {
   "cell_type": "code",
   "execution_count": 81,
   "metadata": {},
   "outputs": [
    {
     "name": "stdout",
     "output_type": "stream",
     "text": [
      "0.7449755017898662\n",
      "8.11111111111111\n",
      "0.6004273504273504\n"
     ]
    }
   ],
   "source": [
    "print(normalized_mutual_info_score(oo , oo2))\n",
    "print(mean_squared_error(oo , oo2))\n",
    "print(adjusted_rand_score(oo , oo2))"
   ]
  },
  {
   "cell_type": "code",
   "execution_count": null,
   "metadata": {},
   "outputs": [],
   "source": []
  },
  {
   "cell_type": "code",
   "execution_count": null,
   "metadata": {},
   "outputs": [],
   "source": []
  }
 ],
 "metadata": {
  "kernelspec": {
   "display_name": "Python 3",
   "language": "python",
   "name": "python3"
  },
  "language_info": {
   "codemirror_mode": {
    "name": "ipython",
    "version": 3
   },
   "file_extension": ".py",
   "mimetype": "text/x-python",
   "name": "python",
   "nbconvert_exporter": "python",
   "pygments_lexer": "ipython3",
   "version": "3.7.3"
  }
 },
 "nbformat": 4,
 "nbformat_minor": 2
}
