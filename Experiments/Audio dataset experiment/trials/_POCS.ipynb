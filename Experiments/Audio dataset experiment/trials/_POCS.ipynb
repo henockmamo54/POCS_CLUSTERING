{
 "cells": [
  {
   "cell_type": "code",
   "execution_count": 1,
   "metadata": {},
   "outputs": [],
   "source": [
    "import numpy as np\n",
    "import random\n",
    "import math\n",
    "from matplotlib import pyplot as plt\n",
    "from sklearn.datasets.samples_generator import make_blobs\n",
    "import time\n",
    "import pandas as pd\n",
    "from scipy.spatial.distance import cdist\n",
    "from sklearn.utils import shuffle\n",
    "from sklearn.preprocessing import LabelEncoder, StandardScaler"
   ]
  },
  {
   "cell_type": "markdown",
   "metadata": {},
   "source": [
    "Initialize the data points and Random centers\n",
    "===========================\n"
   ]
  },
  {
   "cell_type": "code",
   "execution_count": 2,
   "metadata": {},
   "outputs": [],
   "source": [
    "cluster=9"
   ]
  },
  {
   "cell_type": "code",
   "execution_count": 5,
   "metadata": {},
   "outputs": [],
   "source": [
    "features=pd.read_csv('data.csv')\n",
    "\n",
    "x= features.iloc[:,1:-1]\n",
    "y=features.iloc[:,-1]\n",
    "x=np.asarray(x)\n",
    "\n",
    "scaler = StandardScaler()\n",
    "x = scaler.fit_transform(np.array(x, dtype = float))"
   ]
  },
  {
   "cell_type": "code",
   "execution_count": 6,
   "metadata": {},
   "outputs": [
    {
     "name": "stdout",
     "output_type": "stream",
     "text": [
      "[0 1 2 3 4 5 6 7 8 9]\n"
     ]
    }
   ],
   "source": [
    "from sklearn.preprocessing import LabelEncoder\n",
    "encoder=LabelEncoder()\n",
    "y=encoder.fit_transform(y)\n",
    "print(np.unique(y))"
   ]
  },
  {
   "cell_type": "code",
   "execution_count": 7,
   "metadata": {},
   "outputs": [
    {
     "data": {
      "text/plain": [
       "array([[ 1.42108547e-16,  1.84741111e-16,  1.27897692e-16,\n",
       "        -6.96331881e-16,  2.84217094e-17, -2.27373675e-16,\n",
       "         4.26325641e-17,  7.10542736e-17, -1.77635684e-17,\n",
       "         2.48689958e-17,  1.77635684e-17,  4.97379915e-17,\n",
       "        -5.68434189e-17,  0.00000000e+00,  0.00000000e+00,\n",
       "        -4.26325641e-17,  5.68434189e-17, -2.84217094e-17,\n",
       "        -5.50670620e-17, -2.13162821e-17,  5.32907052e-17,\n",
       "         7.10542736e-18, -6.39488462e-17,  2.13162821e-17,\n",
       "        -4.26325641e-17, -2.13162821e-17],\n",
       "       [ 1.00000000e-02,  1.00000000e-02,  1.00000000e-02,\n",
       "         1.00000000e-02,  1.00000000e-02,  1.00000000e-02,\n",
       "         1.00000000e-02,  1.00000000e-02,  1.00000000e-02,\n",
       "         1.00000000e-02,  1.00000000e-02,  1.00000000e-02,\n",
       "         1.00000000e-02,  1.00000000e-02,  1.00000000e-02,\n",
       "         1.00000000e-02,  1.00000000e-02,  1.00000000e-02,\n",
       "         1.00000000e-02,  1.00000000e-02,  1.00000000e-02,\n",
       "         1.00000000e-02,  1.00000000e-02,  1.00000000e-02,\n",
       "         1.00000000e-02,  1.00000000e-02],\n",
       "       [ 2.00000000e-02,  2.00000000e-02,  2.00000000e-02,\n",
       "         2.00000000e-02,  2.00000000e-02,  2.00000000e-02,\n",
       "         2.00000000e-02,  2.00000000e-02,  2.00000000e-02,\n",
       "         2.00000000e-02,  2.00000000e-02,  2.00000000e-02,\n",
       "         2.00000000e-02,  2.00000000e-02,  2.00000000e-02,\n",
       "         2.00000000e-02,  2.00000000e-02,  2.00000000e-02,\n",
       "         2.00000000e-02,  2.00000000e-02,  2.00000000e-02,\n",
       "         2.00000000e-02,  2.00000000e-02,  2.00000000e-02,\n",
       "         2.00000000e-02,  2.00000000e-02],\n",
       "       [ 3.00000000e-02,  3.00000000e-02,  3.00000000e-02,\n",
       "         3.00000000e-02,  3.00000000e-02,  3.00000000e-02,\n",
       "         3.00000000e-02,  3.00000000e-02,  3.00000000e-02,\n",
       "         3.00000000e-02,  3.00000000e-02,  3.00000000e-02,\n",
       "         3.00000000e-02,  3.00000000e-02,  3.00000000e-02,\n",
       "         3.00000000e-02,  3.00000000e-02,  3.00000000e-02,\n",
       "         3.00000000e-02,  3.00000000e-02,  3.00000000e-02,\n",
       "         3.00000000e-02,  3.00000000e-02,  3.00000000e-02,\n",
       "         3.00000000e-02,  3.00000000e-02],\n",
       "       [ 4.00000000e-02,  4.00000000e-02,  4.00000000e-02,\n",
       "         4.00000000e-02,  4.00000000e-02,  4.00000000e-02,\n",
       "         4.00000000e-02,  4.00000000e-02,  4.00000000e-02,\n",
       "         4.00000000e-02,  4.00000000e-02,  4.00000000e-02,\n",
       "         4.00000000e-02,  4.00000000e-02,  4.00000000e-02,\n",
       "         4.00000000e-02,  4.00000000e-02,  4.00000000e-02,\n",
       "         4.00000000e-02,  4.00000000e-02,  4.00000000e-02,\n",
       "         4.00000000e-02,  4.00000000e-02,  4.00000000e-02,\n",
       "         4.00000000e-02,  4.00000000e-02],\n",
       "       [ 5.00000000e-02,  5.00000000e-02,  5.00000000e-02,\n",
       "         5.00000000e-02,  5.00000000e-02,  5.00000000e-02,\n",
       "         5.00000000e-02,  5.00000000e-02,  5.00000000e-02,\n",
       "         5.00000000e-02,  5.00000000e-02,  5.00000000e-02,\n",
       "         5.00000000e-02,  5.00000000e-02,  5.00000000e-02,\n",
       "         5.00000000e-02,  5.00000000e-02,  5.00000000e-02,\n",
       "         5.00000000e-02,  5.00000000e-02,  5.00000000e-02,\n",
       "         5.00000000e-02,  5.00000000e-02,  5.00000000e-02,\n",
       "         5.00000000e-02,  5.00000000e-02],\n",
       "       [ 6.00000000e-02,  6.00000000e-02,  6.00000000e-02,\n",
       "         6.00000000e-02,  6.00000000e-02,  6.00000000e-02,\n",
       "         6.00000000e-02,  6.00000000e-02,  6.00000000e-02,\n",
       "         6.00000000e-02,  6.00000000e-02,  6.00000000e-02,\n",
       "         6.00000000e-02,  6.00000000e-02,  6.00000000e-02,\n",
       "         6.00000000e-02,  6.00000000e-02,  6.00000000e-02,\n",
       "         6.00000000e-02,  6.00000000e-02,  6.00000000e-02,\n",
       "         6.00000000e-02,  6.00000000e-02,  6.00000000e-02,\n",
       "         6.00000000e-02,  6.00000000e-02],\n",
       "       [ 7.00000000e-02,  7.00000000e-02,  7.00000000e-02,\n",
       "         7.00000000e-02,  7.00000000e-02,  7.00000000e-02,\n",
       "         7.00000000e-02,  7.00000000e-02,  7.00000000e-02,\n",
       "         7.00000000e-02,  7.00000000e-02,  7.00000000e-02,\n",
       "         7.00000000e-02,  7.00000000e-02,  7.00000000e-02,\n",
       "         7.00000000e-02,  7.00000000e-02,  7.00000000e-02,\n",
       "         7.00000000e-02,  7.00000000e-02,  7.00000000e-02,\n",
       "         7.00000000e-02,  7.00000000e-02,  7.00000000e-02,\n",
       "         7.00000000e-02,  7.00000000e-02],\n",
       "       [ 8.00000000e-02,  8.00000000e-02,  8.00000000e-02,\n",
       "         8.00000000e-02,  8.00000000e-02,  8.00000000e-02,\n",
       "         8.00000000e-02,  8.00000000e-02,  8.00000000e-02,\n",
       "         8.00000000e-02,  8.00000000e-02,  8.00000000e-02,\n",
       "         8.00000000e-02,  8.00000000e-02,  8.00000000e-02,\n",
       "         8.00000000e-02,  8.00000000e-02,  8.00000000e-02,\n",
       "         8.00000000e-02,  8.00000000e-02,  8.00000000e-02,\n",
       "         8.00000000e-02,  8.00000000e-02,  8.00000000e-02,\n",
       "         8.00000000e-02,  8.00000000e-02]])"
      ]
     },
     "execution_count": 7,
     "metadata": {},
     "output_type": "execute_result"
    }
   ],
   "source": [
    "def generateRandomCenters(c,x):\n",
    "    centers=[]\n",
    "    _min= (np.min(x))\n",
    "    _max= (np.max(x))\n",
    "    t= np.mean(x,axis=0)    \n",
    "    for i in range(c):\n",
    "        centers.append( t + 0.01*i)   \n",
    "    return np.asarray(centers) \n",
    "\n",
    "generateRandomCenters(cluster,x)"
   ]
  },
  {
   "cell_type": "code",
   "execution_count": 8,
   "metadata": {},
   "outputs": [],
   "source": [
    "# intialize random member ship\n",
    "def initializeMembershipMatrix(n):\n",
    "    membership_mat = list()\n",
    "    for i in range(n.shape[0]):\n",
    "        random_num_list = [random.random() for i in range(cluster)]\n",
    "        summation = sum(random_num_list) \n",
    "        temp_list = [x/summation for x in random_num_list]\n",
    "        membership_mat.append(temp_list) \n",
    "    return np.asarray(membership_mat) "
   ]
  },
  {
   "cell_type": "code",
   "execution_count": 9,
   "metadata": {},
   "outputs": [],
   "source": [
    "def updateMembershipValue3_2(u, v,val):\n",
    "    distances = cdist(val, v,metric='euclidean')\n",
    "    return distances"
   ]
  },
  {
   "cell_type": "code",
   "execution_count": 10,
   "metadata": {},
   "outputs": [],
   "source": [
    "# def updateMembershipValue3_2(u, v,val):\n",
    "\n",
    "#     for i in range(x.shape[0]):\n",
    "#         distances=[]\n",
    "#         for k in range(cluster):      \n",
    "#             distances.append(np.linalg.norm(val[i]-v[k]) )     \n",
    "#         u[i]=distances\n",
    "        \n",
    "#     return u"
   ]
  },
  {
   "cell_type": "code",
   "execution_count": 11,
   "metadata": {},
   "outputs": [],
   "source": [
    "\n",
    "def CalculateWeightValues(cluster_center,val,q):\n",
    "        \n",
    "    membership=[]    \n",
    "    distances = cdist(val, v,metric='euclidean')[:,q]  \n",
    "    sumdistance=np.sum(distances)\n",
    "    membership= distances/sumdistance \n",
    "    \n",
    "    return membership\n"
   ]
  },
  {
   "cell_type": "code",
   "execution_count": 12,
   "metadata": {},
   "outputs": [],
   "source": [
    "\n",
    "def CalculateWeightValuesByIndex(cluster_center,val,q,index):\n",
    "    \n",
    "#     print(centers[q])\n",
    "#     distances=[]\n",
    "#     for j in range(val.shape[0]):\n",
    "#         distances.append(np.linalg.norm(val[j]- v[q])) \n",
    "    \n",
    "    distances = cdist(val, v,metric='euclidean')[:,q]  \n",
    "    sumdistance=np.sum(distances)\n",
    "    membership= distances[index]/sumdistance\n",
    "        \n",
    "    return membership\n"
   ]
  },
  {
   "cell_type": "code",
   "execution_count": 13,
   "metadata": {},
   "outputs": [],
   "source": [
    "def calcError(center,mem):\n",
    "    dist=0\n",
    "    for i in range(mem.shape[0]):\n",
    "        dist+=np.linalg.norm(center - mem[i])\n",
    "    return dist"
   ]
  },
  {
   "cell_type": "code",
   "execution_count": 14,
   "metadata": {},
   "outputs": [],
   "source": [
    "def moveVtoTheCenter(v,u,x):\n",
    "    for k in range( cluster):\n",
    "        items=[]\n",
    "        for i  in range(  (x.shape[0])):\n",
    "            if(u[i,k]>=np.max(u[i])):\n",
    "                items.append(x[i])\n",
    "        v[k]=np.mean(items, axis=0)\n",
    "    return v"
   ]
  },
  {
   "cell_type": "code",
   "execution_count": 15,
   "metadata": {},
   "outputs": [],
   "source": [
    "def _k_init(X, n_clusters, x_squared_norms, random_state, n_local_trials=None):\n",
    "    \"\"\"Init n_clusters seeds according to k-means++\n",
    "    Parameters\n",
    "    ----------\n",
    "    X : array or sparse matrix, shape (n_samples, n_features)\n",
    "        The data to pick seeds for. To avoid memory copy, the input data\n",
    "        should be double precision (dtype=np.float64).\n",
    "    n_clusters : integer\n",
    "        The number of seeds to choose\n",
    "    x_squared_norms : array, shape (n_samples,)\n",
    "        Squared Euclidean norm of each data point.\n",
    "    random_state : int, RandomState instance\n",
    "        The generator used to initialize the centers. Use an int to make the\n",
    "        randomness deterministic.\n",
    "        See :term:`Glossary <random_state>`.\n",
    "    n_local_trials : integer, optional\n",
    "        The number of seeding trials for each center (except the first),\n",
    "        of which the one reducing inertia the most is greedily chosen.\n",
    "        Set to None to make the number of trials depend logarithmically\n",
    "        on the number of seeds (2+log(k)); this is the default.\n",
    "    Notes\n",
    "    -----\n",
    "    Selects initial cluster centers for k-mean clustering in a smart way\n",
    "    to speed up convergence. see: Arthur, D. and Vassilvitskii, S.\n",
    "    \"k-means++: the advantages of careful seeding\". ACM-SIAM symposium\n",
    "    on Discrete algorithms. 2007\n",
    "    Version ported from http://www.stanford.edu/~darthur/kMeansppTest.zip,\n",
    "    which is the implementation used in the aforementioned paper.\n",
    "    \"\"\"\n",
    "    n_samples, n_features = X.shape\n",
    "\n",
    "    centers = np.empty((n_clusters, n_features), dtype=X.dtype)\n",
    "\n",
    "    assert x_squared_norms is not None, 'x_squared_norms None in _k_init'\n",
    "\n",
    "    # Set the number of local seeding trials if none is given\n",
    "    if n_local_trials is None:\n",
    "        # This is what Arthur/Vassilvitskii tried, but did not report\n",
    "        # specific results for other than mentioning in the conclusion\n",
    "        # that it helped.\n",
    "        n_local_trials = 2 + int(np.log(n_clusters))\n",
    "\n",
    "    # Pick first center randomly\n",
    "    center_id = random_state.randint(n_samples)\n",
    "    if sp.issparse(X):\n",
    "        centers[0] = X[center_id].toarray()\n",
    "    else:\n",
    "        centers[0] = X[center_id]\n",
    "\n",
    "    # Initialize list of closest distances and calculate current potential\n",
    "    closest_dist_sq = euclidean_distances(\n",
    "        centers[0, np.newaxis], X, Y_norm_squared=x_squared_norms,\n",
    "        squared=True)\n",
    "    current_pot = closest_dist_sq.sum()\n",
    "\n",
    "    # Pick the remaining n_clusters-1 points\n",
    "    for c in range(1, n_clusters):\n",
    "        # Choose center candidates by sampling with probability proportional\n",
    "        # to the squared distance to the closest existing center\n",
    "        rand_vals = random_state.random_sample(n_local_trials) * current_pot\n",
    "        candidate_ids = np.searchsorted(stable_cumsum(closest_dist_sq),\n",
    "                                        rand_vals)\n",
    "\n",
    "        # Compute distances to center candidates\n",
    "        distance_to_candidates = euclidean_distances(\n",
    "            X[candidate_ids], X, Y_norm_squared=x_squared_norms, squared=True)\n",
    "\n",
    "        # Decide which candidate is the best\n",
    "        best_candidate = None\n",
    "        best_pot = None\n",
    "        best_dist_sq = None\n",
    "        for trial in range(n_local_trials):\n",
    "            # Compute potential when including center candidate\n",
    "            new_dist_sq = np.minimum(closest_dist_sq,\n",
    "                                     distance_to_candidates[trial])\n",
    "            new_pot = new_dist_sq.sum()\n",
    "\n",
    "            # Store result if it is the best local trial so far\n",
    "            if (best_candidate is None) or (new_pot < best_pot):\n",
    "                best_candidate = candidate_ids[trial]\n",
    "                best_pot = new_pot\n",
    "                best_dist_sq = new_dist_sq\n",
    "\n",
    "        # Permanently add best center candidate found in local tries\n",
    "        if sp.issparse(X):\n",
    "            centers[c] = X[best_candidate].toarray()\n",
    "        else:\n",
    "            centers[c] = X[best_candidate]\n",
    "        current_pot = best_pot\n",
    "        closest_dist_sq = best_dist_sq\n",
    "\n",
    "    return centers"
   ]
  },
  {
   "cell_type": "code",
   "execution_count": 16,
   "metadata": {},
   "outputs": [
    {
     "data": {
      "text/plain": [
       "array([[ 1.71545165e+00, -6.35896579e-01,  1.05952008e+00,\n",
       "         5.99900284e-01,  7.81142398e-01,  4.12847441e-01,\n",
       "        -7.63324886e-01, -1.86542631e+00, -2.34165047e-01,\n",
       "        -1.60583733e-01,  1.09112321e+00, -8.19798412e-02,\n",
       "         1.11531188e+00, -2.37879351e-01,  1.48397160e+00,\n",
       "         3.45678596e-01,  1.58239438e+00,  3.01980182e-01,\n",
       "         1.83009684e+00,  7.34517676e-01,  1.32239045e+00,\n",
       "        -6.08304375e-01,  5.31525052e-01,  6.66743009e-01,\n",
       "         1.93340950e+00,  1.25442382e+00],\n",
       "       [ 2.03941442e-01, -2.18334463e-01, -5.91989337e-01,\n",
       "        -1.30333985e-01, -4.76540849e-01, -1.02162458e+00,\n",
       "        -7.26587903e-02,  1.77835030e-01,  1.26771421e-01,\n",
       "         6.99892734e-01,  1.02246770e+00,  3.85751693e-02,\n",
       "         1.68735345e+00, -3.35376401e-01,  1.66870645e+00,\n",
       "        -6.71408490e-01,  7.32360368e-01, -6.98540788e-01,\n",
       "         6.73790996e-01, -1.16092731e+00,  4.40963052e-01,\n",
       "        -3.96850954e-01, -6.62285581e-01, -7.59261081e-01,\n",
       "         3.06376092e-01, -7.08247457e-01],\n",
       "       [ 1.81503627e-02, -2.27177578e-01,  1.70319739e-01,\n",
       "         4.04508876e-02,  2.84099414e-01,  3.93414927e-01,\n",
       "         4.77562457e-01,  6.95652407e-02, -3.65574336e-01,\n",
       "         6.61734887e-01, -2.12386840e+00,  1.15291343e+00,\n",
       "        -1.21560177e+00,  1.10296804e+00, -1.31651243e+00,\n",
       "        -8.90536049e-02, -1.26175950e+00,  1.60140453e+00,\n",
       "        -1.81875305e+00,  3.40847547e-01, -1.97881778e+00,\n",
       "        -1.73991538e-01, -1.24005765e+00,  6.32828925e-01,\n",
       "        -1.26292194e+00, -5.29100002e-01],\n",
       "       [ 9.97245204e-01,  2.65829431e-03,  1.05353135e+00,\n",
       "         8.51537500e-01,  8.25456474e-01,  5.61338962e-01,\n",
       "         3.95484282e-01, -1.05910796e+00,  3.05134531e-01,\n",
       "        -7.01403447e-01,  7.82774271e-01, -6.64267166e-01,\n",
       "         6.85180889e-01, -4.71860837e-01,  9.72343657e-01,\n",
       "        -6.97201849e-01,  1.31720357e+00,  1.68983050e-02,\n",
       "         1.46035810e+00,  2.63358968e-01,  5.04184387e-01,\n",
       "        -2.01205722e-01,  1.11283167e+00, -7.32866965e-01,\n",
       "        -1.50707122e-01, -2.84310828e-01],\n",
       "       [-1.64611085e+00, -1.50810650e+00, -1.18227003e+00,\n",
       "        -1.19194190e+00, -1.30197920e+00, -7.83987530e-01,\n",
       "        -1.76377132e+00,  1.11794841e+00, -4.30287007e-01,\n",
       "        -8.46545539e-01,  1.28574234e-01, -1.55798983e+00,\n",
       "         5.65853052e-01, -1.07702151e+00,  6.15692579e-01,\n",
       "        -9.87314855e-01,  4.79139140e-01, -5.77188191e-01,\n",
       "         1.18295898e+00, -2.94028683e-01,  1.13907237e+00,\n",
       "         3.79403545e-01,  1.33026477e+00,  1.68719967e-01,\n",
       "        -1.70701788e-02, -6.03320246e-01],\n",
       "       [ 1.15994779e-01, -5.88816749e-01, -8.05508970e-02,\n",
       "         3.07135653e-01,  2.38842936e-01, -9.27580250e-01,\n",
       "        -4.46284151e-01, -1.78394315e-01,  7.76016303e-01,\n",
       "         3.36392949e-01, -4.87055312e-01,  1.45785961e+00,\n",
       "        -7.50753080e-01,  1.34845751e+00,  1.12833332e-01,\n",
       "         2.11946288e+00, -9.56593673e-05,  1.83153625e+00,\n",
       "         4.50411011e-01,  9.09520155e-01, -9.60941665e-01,\n",
       "         5.82463228e-01,  3.04219547e-01, -3.53396577e-01,\n",
       "        -2.09395998e-01,  2.94829607e+00],\n",
       "       [ 1.47411754e+00,  1.54800371e+00,  1.26709201e+00,\n",
       "         2.25791680e-01,  7.16180186e-01,  2.23106190e+00,\n",
       "         1.54692263e+00, -1.14460485e+00, -8.99546008e-01,\n",
       "         1.57893931e+00, -1.51016056e+00,  1.19826592e+00,\n",
       "        -1.01598336e+00,  8.77223242e-01, -4.46109741e-01,\n",
       "         1.40197898e+00, -9.80888062e-01,  2.01906539e+00,\n",
       "        -9.76623688e-01,  2.18162769e+00, -4.60964294e-01,\n",
       "         1.77074190e+00, -6.97550387e-01,  1.06809778e+00,\n",
       "        -1.11216835e+00,  2.33341096e+00],\n",
       "       [-7.00014114e-01,  2.23785985e-01, -7.76411511e-01,\n",
       "        -1.02986318e+00, -8.81741984e-01, -4.39390310e-01,\n",
       "         5.10222658e-01,  1.21207898e+00, -1.66961836e+00,\n",
       "         9.30779944e-02, -6.78625173e-01, -1.71671750e-01,\n",
       "        -2.38028317e-01, -4.37009804e-01,  3.93715909e-01,\n",
       "        -1.22820399e+00,  5.23059692e-01, -2.09262622e+00,\n",
       "         2.62904856e-01, -1.46863952e+00, -7.45817102e-01,\n",
       "        -1.49072861e+00,  4.32171179e-01, -1.13219214e+00,\n",
       "        -1.03534536e+00, -1.82733312e+00],\n",
       "       [ 1.10709013e+00,  8.16903634e-02,  7.32908797e-02,\n",
       "        -3.26713848e-01, -1.21207609e-01,  3.95123180e-01,\n",
       "         6.18769593e-01, -6.97922224e-02, -1.17471757e+00,\n",
       "         2.10895724e+00, -1.76135406e-01,  2.32432261e-01,\n",
       "        -3.93044856e-01,  5.64478339e-01, -1.45165161e+00,\n",
       "         5.49017077e-01, -5.21785401e-01,  1.41318320e+00,\n",
       "        -1.56757782e+00,  1.23391905e+00, -6.68643540e-01,\n",
       "         8.80264302e-01, -7.11684699e-01,  4.19471930e-02,\n",
       "        -6.67326067e-01, -2.64015633e-01]])"
      ]
     },
     "execution_count": 16,
     "metadata": {},
     "output_type": "execute_result"
    }
   ],
   "source": [
    "# x_squared_norms = np.row_norms(x, squared=True)\n",
    "\n",
    "from sklearn.utils.extmath import row_norms\n",
    "from sklearn.utils.extmath import row_norms, squared_norm, stable_cumsum\n",
    "import scipy.sparse as sp\n",
    "from sklearn.metrics.pairwise import euclidean_distances\n",
    " \n",
    "c = _k_init(x,cluster, row_norms(x, squared=True), np.random.RandomState())\n",
    "c"
   ]
  },
  {
   "cell_type": "markdown",
   "metadata": {},
   "source": [
    "Initialization\n",
    "================="
   ]
  },
  {
   "cell_type": "code",
   "execution_count": 17,
   "metadata": {},
   "outputs": [],
   "source": [
    "import random\n",
    "# x =np.asarray( random.sample(x.tolist(), len(x.tolist())))\n",
    "# print(x[:5,])\n",
    "\n",
    "u=initializeMembershipMatrix(x)\n",
    "v=c#generateRandomCenters(cluster,x)\n",
    " \n",
    "w=updateMembershipValue3_2(u,v,x)\n",
    "\n",
    "\n",
    "ny=np.argmin(w,axis=1)\n",
    "\n",
    "# for i in range ( cluster):\n",
    "#     plt.scatter(x[ny == i, 0], x[ny == i, 1],  s=10, label=\"Cluster - \"+str(i))\n",
    "# plt.scatter(x=np.asarray(v)[:,0],y=np.asarray(v)[:,1], color='black',s=50)\n",
    "# plt.show()  "
   ]
  },
  {
   "cell_type": "markdown",
   "metadata": {},
   "source": [
    "POCS -- Parallel projection\n",
    "================="
   ]
  },
  {
   "cell_type": "code",
   "execution_count": 18,
   "metadata": {
    "scrolled": true
   },
   "outputs": [
    {
     "name": "stdout",
     "output_type": "stream",
     "text": [
      "0\n",
      "1\n",
      "2\n",
      "3\n",
      "4\n",
      "5\n",
      "6\n",
      "7\n",
      "8\n",
      "9\n",
      "10\n",
      "11\n",
      "12\n",
      "13\n",
      "14\n",
      "15\n",
      "16\n",
      "17\n",
      "18\n",
      "19\n",
      "20\n",
      "21\n",
      "22\n",
      "23\n",
      "24\n",
      "25\n",
      "26\n",
      "27\n",
      "28\n",
      "29\n",
      "30\n",
      "31\n",
      "32\n",
      "33\n",
      "34\n",
      "35\n",
      "36\n",
      "37\n",
      "38\n",
      "39\n",
      "40\n",
      "41\n",
      "42\n",
      "43\n",
      "44\n",
      "45\n",
      "46\n",
      "47\n",
      "48\n",
      "49\n"
     ]
    }
   ],
   "source": [
    "# val=x\n",
    "errorlist=[]\n",
    "start=time.time()\n",
    "for t in range(50):\n",
    "    print(t)\n",
    "    error=0\n",
    "    for q in range(cluster): \n",
    "         \n",
    "        val=x[ny == q,:] \n",
    "                \n",
    "        if(val.shape[0]!=0):\n",
    "            \n",
    "            weight=CalculateWeightValues(v[q],val,q) \n",
    "\n",
    "            temp=0    \n",
    "            for i in range(val.shape[0]):                \n",
    "                temp += weight[i]*(val[i]- v[q])\n",
    "            v[q]= v[q]+temp    \n",
    "\n",
    "        error+=calcError(v[q],val)\n",
    "    \n",
    "#     print(t,q,error) \n",
    "    errorlist.append([error,time.time()- start])\n",
    "\n",
    "    w=updateMembershipValue3_2(u,v,x)  \n",
    "    ny=np.argmin(w,axis=1)\n",
    "    \n",
    "    \n"
   ]
  },
  {
   "cell_type": "code",
   "execution_count": 19,
   "metadata": {},
   "outputs": [
    {
     "name": "stdout",
     "output_type": "stream",
     "text": [
      "0.18216173035905106\n",
      "17.901\n",
      "0.2957504190788666\n"
     ]
    },
    {
     "name": "stderr",
     "output_type": "stream",
     "text": [
      "C:\\ProgramData\\Anaconda3\\lib\\site-packages\\sklearn\\metrics\\cluster\\supervised.py:859: FutureWarning: The behavior of NMI will change in version 0.22. To match the behavior of 'v_measure_score', NMI will use average_method='arithmetic' by default.\n",
      "  FutureWarning)\n"
     ]
    }
   ],
   "source": [
    "\n",
    "from sklearn.metrics.cluster import adjusted_rand_score\n",
    "from sklearn.metrics import mean_squared_error\n",
    "from sklearn.metrics.cluster import normalized_mutual_info_score\n",
    "\n",
    "print(adjusted_rand_score(y,ny))\n",
    "print(mean_squared_error(y,ny))\n",
    "print(normalized_mutual_info_score(y,ny))\n"
   ]
  },
  {
   "cell_type": "code",
   "execution_count": null,
   "metadata": {},
   "outputs": [],
   "source": []
  },
  {
   "cell_type": "code",
   "execution_count": null,
   "metadata": {},
   "outputs": [],
   "source": []
  },
  {
   "cell_type": "code",
   "execution_count": null,
   "metadata": {},
   "outputs": [],
   "source": []
  },
  {
   "cell_type": "code",
   "execution_count": null,
   "metadata": {},
   "outputs": [],
   "source": []
  },
  {
   "cell_type": "code",
   "execution_count": null,
   "metadata": {},
   "outputs": [],
   "source": []
  },
  {
   "cell_type": "code",
   "execution_count": null,
   "metadata": {},
   "outputs": [],
   "source": []
  },
  {
   "cell_type": "code",
   "execution_count": null,
   "metadata": {},
   "outputs": [],
   "source": []
  },
  {
   "cell_type": "code",
   "execution_count": null,
   "metadata": {},
   "outputs": [],
   "source": []
  },
  {
   "cell_type": "code",
   "execution_count": null,
   "metadata": {},
   "outputs": [],
   "source": []
  },
  {
   "cell_type": "code",
   "execution_count": null,
   "metadata": {},
   "outputs": [],
   "source": []
  }
 ],
 "metadata": {
  "kernelspec": {
   "display_name": "Python 3",
   "language": "python",
   "name": "python3"
  },
  "language_info": {
   "codemirror_mode": {
    "name": "ipython",
    "version": 3
   },
   "file_extension": ".py",
   "mimetype": "text/x-python",
   "name": "python",
   "nbconvert_exporter": "python",
   "pygments_lexer": "ipython3",
   "version": "3.7.3"
  }
 },
 "nbformat": 4,
 "nbformat_minor": 2
}
