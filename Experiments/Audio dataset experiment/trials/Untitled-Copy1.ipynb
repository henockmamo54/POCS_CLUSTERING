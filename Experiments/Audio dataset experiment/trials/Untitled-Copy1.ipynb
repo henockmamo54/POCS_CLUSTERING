{
 "cells": [
  {
   "cell_type": "code",
   "execution_count": 1,
   "metadata": {},
   "outputs": [],
   "source": [
    "import pandas as pd\n",
    "import numpy as np"
   ]
  },
  {
   "cell_type": "code",
   "execution_count": 2,
   "metadata": {},
   "outputs": [],
   "source": [
    "data=pd.read_csv('music_data_17_10_05.exa',header=None,sep=' ')"
   ]
  },
  {
   "cell_type": "code",
   "execution_count": 3,
   "metadata": {},
   "outputs": [
    {
     "name": "stdout",
     "output_type": "stream",
     "text": [
      "(1856, 52)\n"
     ]
    },
    {
     "data": {
      "text/html": [
       "<div>\n",
       "<style scoped>\n",
       "    .dataframe tbody tr th:only-of-type {\n",
       "        vertical-align: middle;\n",
       "    }\n",
       "\n",
       "    .dataframe tbody tr th {\n",
       "        vertical-align: top;\n",
       "    }\n",
       "\n",
       "    .dataframe thead th {\n",
       "        text-align: right;\n",
       "    }\n",
       "</style>\n",
       "<table border=\"1\" class=\"dataframe\">\n",
       "  <thead>\n",
       "    <tr style=\"text-align: right;\">\n",
       "      <th></th>\n",
       "      <th>0</th>\n",
       "      <th>1</th>\n",
       "      <th>2</th>\n",
       "      <th>3</th>\n",
       "      <th>4</th>\n",
       "      <th>5</th>\n",
       "      <th>6</th>\n",
       "      <th>7</th>\n",
       "      <th>8</th>\n",
       "      <th>9</th>\n",
       "      <th>...</th>\n",
       "      <th>42</th>\n",
       "      <th>43</th>\n",
       "      <th>44</th>\n",
       "      <th>45</th>\n",
       "      <th>46</th>\n",
       "      <th>47</th>\n",
       "      <th>48</th>\n",
       "      <th>49</th>\n",
       "      <th>50</th>\n",
       "      <th>51</th>\n",
       "    </tr>\n",
       "  </thead>\n",
       "  <tbody>\n",
       "    <tr>\n",
       "      <th>0</th>\n",
       "      <td>Los_Blancos_Mighty_Mean_Mama_mp3</td>\n",
       "      <td>0.137072</td>\n",
       "      <td>0.193835</td>\n",
       "      <td>0.104253</td>\n",
       "      <td>92.0</td>\n",
       "      <td>0.037564</td>\n",
       "      <td>0.000906</td>\n",
       "      <td>236.970344</td>\n",
       "      <td>106.615050</td>\n",
       "      <td>11.199597</td>\n",
       "      <td>...</td>\n",
       "      <td>0.0</td>\n",
       "      <td>2219.0</td>\n",
       "      <td>2635.0</td>\n",
       "      <td>2.0</td>\n",
       "      <td>0.00390625</td>\n",
       "      <td>2635.0</td>\n",
       "      <td>3915.0</td>\n",
       "      <td>221258.0</td>\n",
       "      <td>blues</td>\n",
       "      <td>NaN</td>\n",
       "    </tr>\n",
       "    <tr>\n",
       "      <th>1</th>\n",
       "      <td>Los_Blancos_Shakin__That_Thing_mp3</td>\n",
       "      <td>0.055199</td>\n",
       "      <td>0.078068</td>\n",
       "      <td>0.038234</td>\n",
       "      <td>150.0</td>\n",
       "      <td>0.006993</td>\n",
       "      <td>0.000306</td>\n",
       "      <td>532.218667</td>\n",
       "      <td>684.290340</td>\n",
       "      <td>35.793807</td>\n",
       "      <td>...</td>\n",
       "      <td>0.0</td>\n",
       "      <td>245.0</td>\n",
       "      <td>491.0</td>\n",
       "      <td>2.0</td>\n",
       "      <td>0.014344262295081968</td>\n",
       "      <td>491.0</td>\n",
       "      <td>979.0</td>\n",
       "      <td>221258.0</td>\n",
       "      <td>blues</td>\n",
       "      <td>NaN</td>\n",
       "    </tr>\n",
       "    <tr>\n",
       "      <th>2</th>\n",
       "      <td>Funky_Blues_Messiahs_Uptown_Groove_mp3</td>\n",
       "      <td>0.192750</td>\n",
       "      <td>0.272795</td>\n",
       "      <td>0.134086</td>\n",
       "      <td>119.0</td>\n",
       "      <td>0.074675</td>\n",
       "      <td>0.001225</td>\n",
       "      <td>255.797695</td>\n",
       "      <td>119.270392</td>\n",
       "      <td>9.960404</td>\n",
       "      <td>...</td>\n",
       "      <td>0.0</td>\n",
       "      <td>2050.0</td>\n",
       "      <td>3150.0</td>\n",
       "      <td>2.0</td>\n",
       "      <td>0.005571030640668524</td>\n",
       "      <td>3150.0</td>\n",
       "      <td>3509.0</td>\n",
       "      <td>221258.0</td>\n",
       "      <td>blues</td>\n",
       "      <td>NaN</td>\n",
       "    </tr>\n",
       "    <tr>\n",
       "      <th>3</th>\n",
       "      <td>Funky_Blues_Messiahs_Way_too_Funky_mp3</td>\n",
       "      <td>0.227361</td>\n",
       "      <td>0.321862</td>\n",
       "      <td>0.171515</td>\n",
       "      <td>126.0</td>\n",
       "      <td>0.103152</td>\n",
       "      <td>0.001565</td>\n",
       "      <td>284.073969</td>\n",
       "      <td>117.721035</td>\n",
       "      <td>10.641322</td>\n",
       "      <td>...</td>\n",
       "      <td>0.0</td>\n",
       "      <td>2034.0</td>\n",
       "      <td>4588.0</td>\n",
       "      <td>2.0</td>\n",
       "      <td>Infinity</td>\n",
       "      <td>4588.0</td>\n",
       "      <td>4588.0</td>\n",
       "      <td>221258.0</td>\n",
       "      <td>blues</td>\n",
       "      <td>NaN</td>\n",
       "    </tr>\n",
       "    <tr>\n",
       "      <th>4</th>\n",
       "      <td>Bobby_Manriquez_How_We_Start_mp3</td>\n",
       "      <td>0.234228</td>\n",
       "      <td>0.330992</td>\n",
       "      <td>0.182275</td>\n",
       "      <td>118.0</td>\n",
       "      <td>0.109558</td>\n",
       "      <td>0.001967</td>\n",
       "      <td>219.341383</td>\n",
       "      <td>103.362156</td>\n",
       "      <td>9.486457</td>\n",
       "      <td>...</td>\n",
       "      <td>0.0</td>\n",
       "      <td>584.0</td>\n",
       "      <td>2781.0</td>\n",
       "      <td>2.0</td>\n",
       "      <td>0.002183406113537118</td>\n",
       "      <td>2781.0</td>\n",
       "      <td>3697.0</td>\n",
       "      <td>219534.0</td>\n",
       "      <td>blues</td>\n",
       "      <td>NaN</td>\n",
       "    </tr>\n",
       "  </tbody>\n",
       "</table>\n",
       "<p>5 rows × 52 columns</p>\n",
       "</div>"
      ],
      "text/plain": [
       "                                       0         1         2         3   \\\n",
       "0        Los_Blancos_Mighty_Mean_Mama_mp3  0.137072  0.193835  0.104253   \n",
       "1      Los_Blancos_Shakin__That_Thing_mp3  0.055199  0.078068  0.038234   \n",
       "2  Funky_Blues_Messiahs_Uptown_Groove_mp3  0.192750  0.272795  0.134086   \n",
       "3  Funky_Blues_Messiahs_Way_too_Funky_mp3  0.227361  0.321862  0.171515   \n",
       "4        Bobby_Manriquez_How_We_Start_mp3  0.234228  0.330992  0.182275   \n",
       "\n",
       "      4         5         6           7           8          9   ...   42  \\\n",
       "0   92.0  0.037564  0.000906  236.970344  106.615050  11.199597  ...  0.0   \n",
       "1  150.0  0.006993  0.000306  532.218667  684.290340  35.793807  ...  0.0   \n",
       "2  119.0  0.074675  0.001225  255.797695  119.270392   9.960404  ...  0.0   \n",
       "3  126.0  0.103152  0.001565  284.073969  117.721035  10.641322  ...  0.0   \n",
       "4  118.0  0.109558  0.001967  219.341383  103.362156   9.486457  ...  0.0   \n",
       "\n",
       "       43      44   45                    46      47      48        49     50  \\\n",
       "0  2219.0  2635.0  2.0            0.00390625  2635.0  3915.0  221258.0  blues   \n",
       "1   245.0   491.0  2.0  0.014344262295081968   491.0   979.0  221258.0  blues   \n",
       "2  2050.0  3150.0  2.0  0.005571030640668524  3150.0  3509.0  221258.0  blues   \n",
       "3  2034.0  4588.0  2.0              Infinity  4588.0  4588.0  221258.0  blues   \n",
       "4   584.0  2781.0  2.0  0.002183406113537118  2781.0  3697.0  219534.0  blues   \n",
       "\n",
       "   51  \n",
       "0 NaN  \n",
       "1 NaN  \n",
       "2 NaN  \n",
       "3 NaN  \n",
       "4 NaN  \n",
       "\n",
       "[5 rows x 52 columns]"
      ]
     },
     "execution_count": 3,
     "metadata": {},
     "output_type": "execute_result"
    }
   ],
   "source": [
    "print(data.shape)\n",
    "data.head()"
   ]
  },
  {
   "cell_type": "code",
   "execution_count": 4,
   "metadata": {},
   "outputs": [
    {
     "ename": "ValueError",
     "evalue": "Input contains infinity or a value too large for dtype('float64').",
     "output_type": "error",
     "traceback": [
      "\u001b[1;31m---------------------------------------------------------------------------\u001b[0m",
      "\u001b[1;31mValueError\u001b[0m                                Traceback (most recent call last)",
      "\u001b[1;32m<ipython-input-4-4251626608a8>\u001b[0m in \u001b[0;36m<module>\u001b[1;34m\u001b[0m\n\u001b[0;32m     15\u001b[0m \u001b[1;32mfrom\u001b[0m \u001b[0msklearn\u001b[0m\u001b[1;33m.\u001b[0m\u001b[0mpreprocessing\u001b[0m \u001b[1;32mimport\u001b[0m \u001b[0mMinMaxScaler\u001b[0m\u001b[1;33m\u001b[0m\u001b[1;33m\u001b[0m\u001b[0m\n\u001b[0;32m     16\u001b[0m \u001b[0mscaler\u001b[0m \u001b[1;33m=\u001b[0m \u001b[0mMinMaxScaler\u001b[0m\u001b[1;33m(\u001b[0m\u001b[1;33m)\u001b[0m\u001b[1;33m\u001b[0m\u001b[1;33m\u001b[0m\u001b[0m\n\u001b[1;32m---> 17\u001b[1;33m \u001b[0mscaler\u001b[0m\u001b[1;33m.\u001b[0m\u001b[0mfit\u001b[0m\u001b[1;33m(\u001b[0m\u001b[0mx\u001b[0m\u001b[1;33m)\u001b[0m\u001b[1;33m\u001b[0m\u001b[1;33m\u001b[0m\u001b[0m\n\u001b[0m\u001b[0;32m     18\u001b[0m \u001b[0mdata\u001b[0m\u001b[1;33m=\u001b[0m\u001b[1;33m(\u001b[0m\u001b[0mscaler\u001b[0m\u001b[1;33m.\u001b[0m\u001b[0mtransform\u001b[0m\u001b[1;33m(\u001b[0m\u001b[0mx\u001b[0m\u001b[1;33m)\u001b[0m\u001b[1;33m)\u001b[0m\u001b[1;33m\u001b[0m\u001b[1;33m\u001b[0m\u001b[0m\n",
      "\u001b[1;32mC:\\ProgramData\\Anaconda3\\lib\\site-packages\\sklearn\\preprocessing\\data.py\u001b[0m in \u001b[0;36mfit\u001b[1;34m(self, X, y)\u001b[0m\n\u001b[0;32m    323\u001b[0m         \u001b[1;31m# Reset internal state before fitting\u001b[0m\u001b[1;33m\u001b[0m\u001b[1;33m\u001b[0m\u001b[1;33m\u001b[0m\u001b[0m\n\u001b[0;32m    324\u001b[0m         \u001b[0mself\u001b[0m\u001b[1;33m.\u001b[0m\u001b[0m_reset\u001b[0m\u001b[1;33m(\u001b[0m\u001b[1;33m)\u001b[0m\u001b[1;33m\u001b[0m\u001b[1;33m\u001b[0m\u001b[0m\n\u001b[1;32m--> 325\u001b[1;33m         \u001b[1;32mreturn\u001b[0m \u001b[0mself\u001b[0m\u001b[1;33m.\u001b[0m\u001b[0mpartial_fit\u001b[0m\u001b[1;33m(\u001b[0m\u001b[0mX\u001b[0m\u001b[1;33m,\u001b[0m \u001b[0my\u001b[0m\u001b[1;33m)\u001b[0m\u001b[1;33m\u001b[0m\u001b[1;33m\u001b[0m\u001b[0m\n\u001b[0m\u001b[0;32m    326\u001b[0m \u001b[1;33m\u001b[0m\u001b[0m\n\u001b[0;32m    327\u001b[0m     \u001b[1;32mdef\u001b[0m \u001b[0mpartial_fit\u001b[0m\u001b[1;33m(\u001b[0m\u001b[0mself\u001b[0m\u001b[1;33m,\u001b[0m \u001b[0mX\u001b[0m\u001b[1;33m,\u001b[0m \u001b[0my\u001b[0m\u001b[1;33m=\u001b[0m\u001b[1;32mNone\u001b[0m\u001b[1;33m)\u001b[0m\u001b[1;33m:\u001b[0m\u001b[1;33m\u001b[0m\u001b[1;33m\u001b[0m\u001b[0m\n",
      "\u001b[1;32mC:\\ProgramData\\Anaconda3\\lib\\site-packages\\sklearn\\preprocessing\\data.py\u001b[0m in \u001b[0;36mpartial_fit\u001b[1;34m(self, X, y)\u001b[0m\n\u001b[0;32m    351\u001b[0m         X = check_array(X, copy=self.copy,\n\u001b[0;32m    352\u001b[0m                         \u001b[0mestimator\u001b[0m\u001b[1;33m=\u001b[0m\u001b[0mself\u001b[0m\u001b[1;33m,\u001b[0m \u001b[0mdtype\u001b[0m\u001b[1;33m=\u001b[0m\u001b[0mFLOAT_DTYPES\u001b[0m\u001b[1;33m,\u001b[0m\u001b[1;33m\u001b[0m\u001b[1;33m\u001b[0m\u001b[0m\n\u001b[1;32m--> 353\u001b[1;33m                         force_all_finite=\"allow-nan\")\n\u001b[0m\u001b[0;32m    354\u001b[0m \u001b[1;33m\u001b[0m\u001b[0m\n\u001b[0;32m    355\u001b[0m         \u001b[0mdata_min\u001b[0m \u001b[1;33m=\u001b[0m \u001b[0mnp\u001b[0m\u001b[1;33m.\u001b[0m\u001b[0mnanmin\u001b[0m\u001b[1;33m(\u001b[0m\u001b[0mX\u001b[0m\u001b[1;33m,\u001b[0m \u001b[0maxis\u001b[0m\u001b[1;33m=\u001b[0m\u001b[1;36m0\u001b[0m\u001b[1;33m)\u001b[0m\u001b[1;33m\u001b[0m\u001b[1;33m\u001b[0m\u001b[0m\n",
      "\u001b[1;32mC:\\ProgramData\\Anaconda3\\lib\\site-packages\\sklearn\\utils\\validation.py\u001b[0m in \u001b[0;36mcheck_array\u001b[1;34m(array, accept_sparse, accept_large_sparse, dtype, order, copy, force_all_finite, ensure_2d, allow_nd, ensure_min_samples, ensure_min_features, warn_on_dtype, estimator)\u001b[0m\n\u001b[0;32m    540\u001b[0m         \u001b[1;32mif\u001b[0m \u001b[0mforce_all_finite\u001b[0m\u001b[1;33m:\u001b[0m\u001b[1;33m\u001b[0m\u001b[1;33m\u001b[0m\u001b[0m\n\u001b[0;32m    541\u001b[0m             _assert_all_finite(array,\n\u001b[1;32m--> 542\u001b[1;33m                                allow_nan=force_all_finite == 'allow-nan')\n\u001b[0m\u001b[0;32m    543\u001b[0m \u001b[1;33m\u001b[0m\u001b[0m\n\u001b[0;32m    544\u001b[0m     \u001b[1;32mif\u001b[0m \u001b[0mensure_min_samples\u001b[0m \u001b[1;33m>\u001b[0m \u001b[1;36m0\u001b[0m\u001b[1;33m:\u001b[0m\u001b[1;33m\u001b[0m\u001b[1;33m\u001b[0m\u001b[0m\n",
      "\u001b[1;32mC:\\ProgramData\\Anaconda3\\lib\\site-packages\\sklearn\\utils\\validation.py\u001b[0m in \u001b[0;36m_assert_all_finite\u001b[1;34m(X, allow_nan)\u001b[0m\n\u001b[0;32m     54\u001b[0m                 not allow_nan and not np.isfinite(X).all()):\n\u001b[0;32m     55\u001b[0m             \u001b[0mtype_err\u001b[0m \u001b[1;33m=\u001b[0m \u001b[1;34m'infinity'\u001b[0m \u001b[1;32mif\u001b[0m \u001b[0mallow_nan\u001b[0m \u001b[1;32melse\u001b[0m \u001b[1;34m'NaN, infinity'\u001b[0m\u001b[1;33m\u001b[0m\u001b[1;33m\u001b[0m\u001b[0m\n\u001b[1;32m---> 56\u001b[1;33m             \u001b[1;32mraise\u001b[0m \u001b[0mValueError\u001b[0m\u001b[1;33m(\u001b[0m\u001b[0mmsg_err\u001b[0m\u001b[1;33m.\u001b[0m\u001b[0mformat\u001b[0m\u001b[1;33m(\u001b[0m\u001b[0mtype_err\u001b[0m\u001b[1;33m,\u001b[0m \u001b[0mX\u001b[0m\u001b[1;33m.\u001b[0m\u001b[0mdtype\u001b[0m\u001b[1;33m)\u001b[0m\u001b[1;33m)\u001b[0m\u001b[1;33m\u001b[0m\u001b[1;33m\u001b[0m\u001b[0m\n\u001b[0m\u001b[0;32m     57\u001b[0m     \u001b[1;31m# for object dtype data, we only check for NaNs (GH-13254)\u001b[0m\u001b[1;33m\u001b[0m\u001b[1;33m\u001b[0m\u001b[1;33m\u001b[0m\u001b[0m\n\u001b[0;32m     58\u001b[0m     \u001b[1;32melif\u001b[0m \u001b[0mX\u001b[0m\u001b[1;33m.\u001b[0m\u001b[0mdtype\u001b[0m \u001b[1;33m==\u001b[0m \u001b[0mnp\u001b[0m\u001b[1;33m.\u001b[0m\u001b[0mdtype\u001b[0m\u001b[1;33m(\u001b[0m\u001b[1;34m'object'\u001b[0m\u001b[1;33m)\u001b[0m \u001b[1;32mand\u001b[0m \u001b[1;32mnot\u001b[0m \u001b[0mallow_nan\u001b[0m\u001b[1;33m:\u001b[0m\u001b[1;33m\u001b[0m\u001b[1;33m\u001b[0m\u001b[0m\n",
      "\u001b[1;31mValueError\u001b[0m: Input contains infinity or a value too large for dtype('float64')."
     ]
    }
   ],
   "source": [
    "# data.iloc[:,51].isnull().shape\n",
    "data=data.iloc[:,:-1]\n",
    "data=data.fillna(0)\n",
    "data=data.replace(np.Infinity, 0)\n",
    "\n",
    "data=data.drop(data[data.iloc[:,46]== 'Infinity'].iloc[:,46].index)\n",
    "data=data.drop(data[data.iloc[:,46]== 'NaN'].iloc[:,46].index)\n",
    "\n",
    "    \n",
    "\n",
    "x=data.iloc[:,1:-1].astype(float)\n",
    "y=data.iloc[:,-1]\n",
    "\n",
    "\n",
    "from sklearn.preprocessing import MinMaxScaler \n",
    "scaler = MinMaxScaler()\n",
    "scaler.fit(x)\n",
    "data=(scaler.transform(x))"
   ]
  },
  {
   "cell_type": "code",
   "execution_count": null,
   "metadata": {},
   "outputs": [],
   "source": [
    "from sklearn.cluster import KMeans\n",
    "import numpy as np\n",
    "\n",
    "kmeans = KMeans(n_clusters=2, random_state=0).fit(x)\n",
    "kmeans.labels_\n",
    "\n",
    "kmeans.cluster_centers_\n"
   ]
  },
  {
   "cell_type": "code",
   "execution_count": null,
   "metadata": {},
   "outputs": [],
   "source": [
    "x=data.iloc[:,46]\n",
    "x.dropna().shape\n",
    "\n",
    "data[x==np.Infinity]"
   ]
  },
  {
   "cell_type": "code",
   "execution_count": null,
   "metadata": {},
   "outputs": [],
   "source": [
    "x.dropna().shape"
   ]
  },
  {
   "cell_type": "code",
   "execution_count": null,
   "metadata": {},
   "outputs": [],
   "source": [
    "# for i in x.columns:\n",
    "#     print(x[i].dropna().shape)\n",
    "\n",
    "data=data.drop(data[data.iloc[:,46]== 'Infinity'].iloc[:,46].index)"
   ]
  },
  {
   "cell_type": "code",
   "execution_count": null,
   "metadata": {},
   "outputs": [],
   "source": [
    "data[data.iloc[:,46]== 'Infinity'].iloc[:,46].index"
   ]
  },
  {
   "cell_type": "code",
   "execution_count": null,
   "metadata": {},
   "outputs": [],
   "source": [
    "data[data.iloc[:,46]== 'Infinity'].iloc[:,46]=0"
   ]
  },
  {
   "cell_type": "code",
   "execution_count": null,
   "metadata": {},
   "outputs": [],
   "source": [
    "data"
   ]
  },
  {
   "cell_type": "code",
   "execution_count": null,
   "metadata": {},
   "outputs": [],
   "source": []
  }
 ],
 "metadata": {
  "kernelspec": {
   "display_name": "Python 3",
   "language": "python",
   "name": "python3"
  },
  "language_info": {
   "codemirror_mode": {
    "name": "ipython",
    "version": 3
   },
   "file_extension": ".py",
   "mimetype": "text/x-python",
   "name": "python",
   "nbconvert_exporter": "python",
   "pygments_lexer": "ipython3",
   "version": "3.7.3"
  }
 },
 "nbformat": 4,
 "nbformat_minor": 2
}
