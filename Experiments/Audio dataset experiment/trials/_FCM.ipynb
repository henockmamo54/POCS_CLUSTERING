{
 "cells": [
  {
   "cell_type": "code",
   "execution_count": 11,
   "metadata": {},
   "outputs": [],
   "source": [
    "import random\n",
    "\n",
    "import matplotlib.pyplot as plt\n",
    "import numpy as np\n",
    "import seaborn as sns\n",
    "from sklearn.datasets.samples_generator import make_blobs\n",
    "from fuzzy_cmeans import FCM \n",
    "import pandas as pd"
   ]
  },
  {
   "cell_type": "code",
   "execution_count": 12,
   "metadata": {},
   "outputs": [],
   "source": [
    "clusters=10"
   ]
  },
  {
   "cell_type": "code",
   "execution_count": 20,
   "metadata": {},
   "outputs": [],
   "source": [
    "features=pd.read_csv('data.csv')\n",
    "\n",
    "x= features.iloc[:,1:-1]\n",
    "y=features.iloc[:,-1]\n",
    "x=np.asarray(x)"
   ]
  },
  {
   "cell_type": "code",
   "execution_count": 21,
   "metadata": {},
   "outputs": [],
   "source": [
    "from sklearn.preprocessing import LabelEncoder\n",
    "encoder=LabelEncoder()\n",
    "y=encoder.fit_transform(y)"
   ]
  },
  {
   "cell_type": "code",
   "execution_count": 22,
   "metadata": {},
   "outputs": [],
   "source": [
    "def _k_init(X, n_clusters, x_squared_norms, random_state, n_local_trials=None):\n",
    "    \"\"\"Init n_clusters seeds according to k-means++\n",
    "    Parameters\n",
    "    ----------\n",
    "    X : array or sparse matrix, shape (n_samples, n_features)\n",
    "        The data to pick seeds for. To avoid memory copy, the input data\n",
    "        should be double precision (dtype=np.float64).\n",
    "    n_clusters : integer\n",
    "        The number of seeds to choose\n",
    "    x_squared_norms : array, shape (n_samples,)\n",
    "        Squared Euclidean norm of each data point.\n",
    "    random_state : int, RandomState instance\n",
    "        The generator used to initialize the centers. Use an int to make the\n",
    "        randomness deterministic.\n",
    "        See :term:`Glossary <random_state>`.\n",
    "    n_local_trials : integer, optional\n",
    "        The number of seeding trials for each center (except the first),\n",
    "        of which the one reducing inertia the most is greedily chosen.\n",
    "        Set to None to make the number of trials depend logarithmically\n",
    "        on the number of seeds (2+log(k)); this is the default.\n",
    "    Notes\n",
    "    -----\n",
    "    Selects initial cluster centers for k-mean clustering in a smart way\n",
    "    to speed up convergence. see: Arthur, D. and Vassilvitskii, S.\n",
    "    \"k-means++: the advantages of careful seeding\". ACM-SIAM symposium\n",
    "    on Discrete algorithms. 2007\n",
    "    Version ported from http://www.stanford.edu/~darthur/kMeansppTest.zip,\n",
    "    which is the implementation used in the aforementioned paper.\n",
    "    \"\"\"\n",
    "    n_samples, n_features = X.shape\n",
    "\n",
    "    centers = np.empty((n_clusters, n_features), dtype=X.dtype)\n",
    "\n",
    "    assert x_squared_norms is not None, 'x_squared_norms None in _k_init'\n",
    "\n",
    "    # Set the number of local seeding trials if none is given\n",
    "    if n_local_trials is None:\n",
    "        # This is what Arthur/Vassilvitskii tried, but did not report\n",
    "        # specific results for other than mentioning in the conclusion\n",
    "        # that it helped.\n",
    "        n_local_trials = 2 + int(np.log(n_clusters))\n",
    "\n",
    "    # Pick first center randomly\n",
    "    center_id = random_state.randint(n_samples)\n",
    "    if sp.issparse(X):\n",
    "        centers[0] = X[center_id].toarray()\n",
    "    else:\n",
    "        centers[0] = X[center_id]\n",
    "\n",
    "    # Initialize list of closest distances and calculate current potential\n",
    "    closest_dist_sq = euclidean_distances(\n",
    "        centers[0, np.newaxis], X, Y_norm_squared=x_squared_norms,\n",
    "        squared=True)\n",
    "    current_pot = closest_dist_sq.sum()\n",
    "\n",
    "    # Pick the remaining n_clusters-1 points\n",
    "    for c in range(1, n_clusters):\n",
    "        # Choose center candidates by sampling with probability proportional\n",
    "        # to the squared distance to the closest existing center\n",
    "        rand_vals = random_state.random_sample(n_local_trials) * current_pot\n",
    "        candidate_ids = np.searchsorted(stable_cumsum(closest_dist_sq),\n",
    "                                        rand_vals)\n",
    "\n",
    "        # Compute distances to center candidates\n",
    "        distance_to_candidates = euclidean_distances(\n",
    "            X[candidate_ids], X, Y_norm_squared=x_squared_norms, squared=True)\n",
    "\n",
    "        # Decide which candidate is the best\n",
    "        best_candidate = None\n",
    "        best_pot = None\n",
    "        best_dist_sq = None\n",
    "        for trial in range(n_local_trials):\n",
    "            # Compute potential when including center candidate\n",
    "            new_dist_sq = np.minimum(closest_dist_sq,\n",
    "                                     distance_to_candidates[trial])\n",
    "            new_pot = new_dist_sq.sum()\n",
    "\n",
    "            # Store result if it is the best local trial so far\n",
    "            if (best_candidate is None) or (new_pot < best_pot):\n",
    "                best_candidate = candidate_ids[trial]\n",
    "                best_pot = new_pot\n",
    "                best_dist_sq = new_dist_sq\n",
    "\n",
    "        # Permanently add best center candidate found in local tries\n",
    "        if sp.issparse(X):\n",
    "            centers[c] = X[best_candidate].toarray()\n",
    "        else:\n",
    "            centers[c] = X[best_candidate]\n",
    "        current_pot = best_pot\n",
    "        closest_dist_sq = best_dist_sq\n",
    "\n",
    "    return centers"
   ]
  },
  {
   "cell_type": "code",
   "execution_count": 23,
   "metadata": {},
   "outputs": [
    {
     "data": {
      "text/plain": [
       "array([[ 4.55553830e-01,  1.11079216e-01,  2.44922673e+03,\n",
       "         2.31182774e+03,  5.18528531e+03,  1.34614832e-01,\n",
       "        -8.17088242e+01,  9.76197662e+01, -2.75949345e+01,\n",
       "         3.66553612e+01, -1.72625046e+01,  3.07822781e+01,\n",
       "        -1.59567528e+01,  2.09796848e+01, -1.62379131e+01,\n",
       "         1.74293957e+01, -1.33704138e+01,  1.50917845e+01,\n",
       "        -1.03960066e+01,  1.02585382e+01, -8.40222740e+00,\n",
       "         4.79765797e+00, -7.95053387e+00,  2.30702043e+00,\n",
       "        -7.11000061e+00,  1.77592409e+00],\n",
       "       [ 2.74045765e-01,  3.89264338e-02,  1.36962755e+03,\n",
       "         1.46590437e+03,  2.65511728e+03,  7.35679603e-02,\n",
       "        -3.09226379e+02,  1.38649078e+02, -2.97111607e+01,\n",
       "         3.36200676e+01, -3.66601706e-01,  5.23973227e+00,\n",
       "        -6.32744551e+00,  3.26768064e+00, -6.71717787e+00,\n",
       "        -6.96607471e-01, -1.32433634e+01, -8.52291107e+00,\n",
       "        -9.66567707e+00, -4.29915047e+00,  2.54182130e-01,\n",
       "         1.02588797e+00,  1.90587151e+00,  3.71826434e+00,\n",
       "         2.55591965e+00, -4.92879486e+00],\n",
       "       [ 4.89478201e-01,  2.71920264e-01,  3.29918089e+03,\n",
       "         3.13940446e+03,  7.08176551e+03,  1.20966011e-01,\n",
       "        -5.91951294e+01,  3.62181053e+01,  3.98454933e+01,\n",
       "         4.99810219e+01,  1.01438837e+01,  1.68864384e+01,\n",
       "         9.77282715e+00,  4.44622278e+00,  2.41816974e+00,\n",
       "         1.70697439e+00,  2.37079072e+00,  3.91130280e+00,\n",
       "         3.19593072e+00,  2.62481737e+00,  3.22155356e+00,\n",
       "         1.47196805e+00, -7.00006306e-01, -3.15613174e+00,\n",
       "        -2.09600282e+00, -2.37222147e+00],\n",
       "       [ 4.73594874e-01,  1.55638978e-01,  1.81121684e+03,\n",
       "         2.20102333e+03,  3.80525199e+03,  6.72769930e-02,\n",
       "        -1.27294746e+02,  9.57912292e+01, -1.27686996e+01,\n",
       "         3.79798508e+01,  2.05915184e+01,  2.32091084e+01,\n",
       "         8.28881931e+00,  9.62794781e+00,  8.68066978e+00,\n",
       "         5.51905203e+00,  6.67004728e+00,  4.02573204e+00,\n",
       "         1.73257327e+00,  7.29124963e-01, -4.18834776e-01,\n",
       "         2.24115014e+00, -1.60884821e+00, -1.21726978e+00,\n",
       "        -2.21864986e+00, -7.35699713e-01],\n",
       "       [ 1.90956712e-01,  1.15407556e-01,  1.06315331e+03,\n",
       "         1.55208904e+03,  1.61094859e+03,  5.10408856e-02,\n",
       "        -2.49533813e+02,  1.61605591e+02,  1.01345901e+01,\n",
       "        -3.07930923e+00, -6.01394773e-01, -2.07670283e+00,\n",
       "        -1.21903706e+01, -8.60326958e+00, -1.46388016e+01,\n",
       "        -1.20511875e+01, -1.23064651e+01, -7.17568207e+00,\n",
       "        -7.88932180e+00, -2.08209991e+00, -2.90861344e+00,\n",
       "        -8.59943032e-01, -3.97287703e+00, -8.83545220e-01,\n",
       "        -3.98747540e+00, -3.88522434e+00],\n",
       "       [ 4.36497867e-01,  1.36937410e-01,  3.70739885e+03,\n",
       "         3.24940753e+03,  7.80699446e+03,  1.72899937e-01,\n",
       "        -7.19219208e+01,  4.68851700e+01,  2.10328751e+01,\n",
       "         2.99542656e+01,  9.50314903e+00,  2.40523386e+00,\n",
       "         8.24598598e+00,  2.52281308e+00, -2.15284991e+00,\n",
       "         4.45569575e-01, -2.33711690e-01, -1.56157720e+00,\n",
       "        -3.62224650e+00, -3.81734657e+00, -5.29104567e+00,\n",
       "        -2.92267370e+00, -2.89988780e+00, -1.79963291e+00,\n",
       "        -7.12629735e-01, -9.83583927e-01],\n",
       "       [ 3.90102327e-01,  1.82989359e-01,  2.70664367e+03,\n",
       "         2.94121996e+03,  5.99629707e+03,  1.12571504e-01,\n",
       "        -1.21610146e+02,  7.69189529e+01,  2.90133114e+01,\n",
       "         9.93605137e+00,  3.17443657e+00,  5.17590046e+00,\n",
       "         4.96863222e+00, -1.02618110e+00,  1.17093146e+00,\n",
       "         2.13951230e+00,  3.11758113e+00,  1.13666058e+00,\n",
       "        -7.81654179e-01, -4.98283100e+00, -1.25941411e-01,\n",
       "        -4.50572538e+00, -2.19002676e+00, -1.37275040e+00,\n",
       "        -3.15517282e+00, -7.36351538e+00],\n",
       "       [ 4.66435909e-01,  1.92153707e-01,  2.22521665e+03,\n",
       "         2.25519501e+03,  4.70318823e+03,  1.08586645e-01,\n",
       "        -8.63523331e+01,  9.26752472e+01, -1.53774071e+01,\n",
       "         5.40597801e+01,  8.83209229e-01,  3.15639267e+01,\n",
       "        -1.46153975e+01,  2.33200645e+01, -1.49754200e+01,\n",
       "         1.53358231e+01, -7.04720020e+00,  1.21812716e+01,\n",
       "        -6.09762478e+00,  7.02541924e+00, -5.80534792e+00,\n",
       "         7.43212795e+00, -6.07514191e+00,  3.38299084e+00,\n",
       "        -4.27693367e+00,  1.23819327e+00],\n",
       "       [ 3.23506564e-01,  1.27883598e-01,  1.67328836e+03,\n",
       "         1.94727806e+03,  3.42959593e+03,  7.48865464e-02,\n",
       "        -1.19109299e+02,  1.28949310e+02, -1.78675900e+01,\n",
       "         2.91902237e+01,  2.70723605e+00,  8.01138401e+00,\n",
       "        -7.06260681e+00,  3.88745379e+00, -1.50966311e+00,\n",
       "        -3.98335147e+00, -7.04367828e+00, -2.86361003e+00,\n",
       "        -4.17483473e+00, -1.85088265e+00, -2.94826913e+00,\n",
       "        -2.24805093e+00, -5.65478086e-01, -9.62743610e-02,\n",
       "        -2.79410982e+00, -2.62742710e+00],\n",
       "       [ 4.98329192e-01,  1.20762311e-01,  2.67012992e+03,\n",
       "         2.39685875e+03,  5.52703325e+03,  1.17624005e-01,\n",
       "        -1.03096504e+02,  7.40863571e+01, -2.24147778e+01,\n",
       "         5.15876198e+01, -7.06998205e+00,  3.26539268e+01,\n",
       "        -1.49872885e+01,  1.96233635e+01, -7.06300259e+00,\n",
       "         2.22591362e+01, -7.31828594e+00,  1.76079597e+01,\n",
       "        -3.95722054e-02,  1.47121983e+01, -4.23861694e+00,\n",
       "         1.06623592e+01, -6.33435249e+00,  1.03147209e+00,\n",
       "        -1.83142030e+00,  5.55014801e+00]])"
      ]
     },
     "execution_count": 23,
     "metadata": {},
     "output_type": "execute_result"
    }
   ],
   "source": [
    "# x_squared_norms = np.row_norms(x, squared=True)\n",
    "\n",
    "from sklearn.utils.extmath import row_norms\n",
    "from sklearn.utils.extmath import row_norms, squared_norm, stable_cumsum\n",
    "import scipy.sparse as sp\n",
    "from sklearn.metrics.pairwise import euclidean_distances\n",
    " \n",
    "c = _k_init(x,clusters, row_norms(x, squared=True), np.random.RandomState())\n",
    "c"
   ]
  },
  {
   "cell_type": "code",
   "execution_count": 24,
   "metadata": {},
   "outputs": [
    {
     "data": {
      "text/plain": [
       "(1000,)"
      ]
     },
     "execution_count": 24,
     "metadata": {},
     "output_type": "execute_result"
    }
   ],
   "source": [
    "fuzzy_cmeans2 = FCM(n_clusters=clusters)\n",
    "fuzzy_cmeans2.centers=c\n",
    "\n",
    "fuzzy_cmeans2.fit(x)\n",
    "centers = fuzzy_cmeans2.centers\n",
    "\n",
    "\n",
    "label=fuzzy_cmeans2.predict(x)\n",
    "\n",
    "label.shape"
   ]
  },
  {
   "cell_type": "code",
   "execution_count": 25,
   "metadata": {},
   "outputs": [],
   "source": [
    "np.unique(label)\n",
    "ny=label"
   ]
  },
  {
   "cell_type": "code",
   "execution_count": 26,
   "metadata": {},
   "outputs": [
    {
     "name": "stdout",
     "output_type": "stream",
     "text": [
      "0.08163069958553679\n",
      "16.206\n",
      "0.19156710129965895\n"
     ]
    },
    {
     "name": "stderr",
     "output_type": "stream",
     "text": [
      "C:\\ProgramData\\Anaconda3\\lib\\site-packages\\sklearn\\metrics\\cluster\\supervised.py:859: FutureWarning: The behavior of NMI will change in version 0.22. To match the behavior of 'v_measure_score', NMI will use average_method='arithmetic' by default.\n",
      "  FutureWarning)\n"
     ]
    }
   ],
   "source": [
    "\n",
    "from sklearn.metrics.cluster import adjusted_rand_score\n",
    "from sklearn.metrics import mean_squared_error\n",
    "from sklearn.metrics.cluster import normalized_mutual_info_score\n",
    "\n",
    "print(adjusted_rand_score(y,ny))\n",
    "print(mean_squared_error(y,ny))\n",
    "print(normalized_mutual_info_score(y,ny))\n"
   ]
  },
  {
   "cell_type": "code",
   "execution_count": null,
   "metadata": {},
   "outputs": [],
   "source": []
  },
  {
   "cell_type": "code",
   "execution_count": null,
   "metadata": {},
   "outputs": [],
   "source": []
  },
  {
   "cell_type": "code",
   "execution_count": null,
   "metadata": {},
   "outputs": [],
   "source": []
  }
 ],
 "metadata": {
  "kernelspec": {
   "display_name": "Python 3",
   "language": "python",
   "name": "python3"
  },
  "language_info": {
   "codemirror_mode": {
    "name": "ipython",
    "version": 3
   },
   "file_extension": ".py",
   "mimetype": "text/x-python",
   "name": "python",
   "nbconvert_exporter": "python",
   "pygments_lexer": "ipython3",
   "version": "3.7.3"
  }
 },
 "nbformat": 4,
 "nbformat_minor": 2
}
