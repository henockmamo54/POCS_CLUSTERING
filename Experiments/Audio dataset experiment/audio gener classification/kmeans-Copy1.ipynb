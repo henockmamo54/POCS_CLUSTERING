{
 "cells": [
  {
   "cell_type": "code",
   "execution_count": 112,
   "metadata": {},
   "outputs": [],
   "source": [
    "import pandas as pd\n",
    "import numpy as np\n",
    "from pyAudioAnalysis import audioBasicIO #A\n",
    "from pyAudioAnalysis import audioFeatureExtraction #B\n",
    "import matplotlib.pyplot as plt\n",
    "import os\n",
    "from sklearn.metrics.cluster import adjusted_rand_score\n",
    "from sklearn.metrics import mean_squared_error\n",
    "from sklearn.metrics.cluster import normalized_mutual_info_score\n",
    "import warnings \n",
    "warnings.filterwarnings('ignore')\n",
    "from sklearn.preprocessing import LabelEncoder, StandardScaler\n",
    "\n",
    "from sklearn.utils import shuffle"
   ]
  },
  {
   "cell_type": "code",
   "execution_count": 113,
   "metadata": {},
   "outputs": [
    {
     "name": "stdout",
     "output_type": "stream",
     "text": [
      "['disco' 'country' 'blues' 'classical']\n",
      "(400, 28)\n"
     ]
    },
    {
     "data": {
      "text/html": [
       "<div>\n",
       "<style scoped>\n",
       "    .dataframe tbody tr th:only-of-type {\n",
       "        vertical-align: middle;\n",
       "    }\n",
       "\n",
       "    .dataframe tbody tr th {\n",
       "        vertical-align: top;\n",
       "    }\n",
       "\n",
       "    .dataframe thead th {\n",
       "        text-align: right;\n",
       "    }\n",
       "</style>\n",
       "<table border=\"1\" class=\"dataframe\">\n",
       "  <thead>\n",
       "    <tr style=\"text-align: right;\">\n",
       "      <th></th>\n",
       "      <th>filename</th>\n",
       "      <th>chroma_stft</th>\n",
       "      <th>rmse</th>\n",
       "      <th>spectral_centroid</th>\n",
       "      <th>spectral_bandwidth</th>\n",
       "      <th>rolloff</th>\n",
       "      <th>zero_crossing_rate</th>\n",
       "      <th>mfcc1</th>\n",
       "      <th>mfcc2</th>\n",
       "      <th>mfcc3</th>\n",
       "      <th>...</th>\n",
       "      <th>mfcc12</th>\n",
       "      <th>mfcc13</th>\n",
       "      <th>mfcc14</th>\n",
       "      <th>mfcc15</th>\n",
       "      <th>mfcc16</th>\n",
       "      <th>mfcc17</th>\n",
       "      <th>mfcc18</th>\n",
       "      <th>mfcc19</th>\n",
       "      <th>mfcc20</th>\n",
       "      <th>label</th>\n",
       "    </tr>\n",
       "  </thead>\n",
       "  <tbody>\n",
       "    <tr>\n",
       "      <th>305</th>\n",
       "      <td>disco.00005.wav</td>\n",
       "      <td>0.449312</td>\n",
       "      <td>0.207375</td>\n",
       "      <td>2722.057084</td>\n",
       "      <td>2569.155880</td>\n",
       "      <td>5469.391927</td>\n",
       "      <td>0.144552</td>\n",
       "      <td>-24.676065</td>\n",
       "      <td>73.739952</td>\n",
       "      <td>-11.565221</td>\n",
       "      <td>...</td>\n",
       "      <td>-0.975480</td>\n",
       "      <td>0.606067</td>\n",
       "      <td>2.366081</td>\n",
       "      <td>-3.786756</td>\n",
       "      <td>-0.927254</td>\n",
       "      <td>-0.881867</td>\n",
       "      <td>-3.493237</td>\n",
       "      <td>-0.969887</td>\n",
       "      <td>0.118535</td>\n",
       "      <td>disco</td>\n",
       "    </tr>\n",
       "    <tr>\n",
       "      <th>236</th>\n",
       "      <td>country.00036.wav</td>\n",
       "      <td>0.344660</td>\n",
       "      <td>0.022725</td>\n",
       "      <td>1826.924934</td>\n",
       "      <td>2050.394029</td>\n",
       "      <td>3646.994614</td>\n",
       "      <td>0.084825</td>\n",
       "      <td>-339.794006</td>\n",
       "      <td>97.778793</td>\n",
       "      <td>-9.692497</td>\n",
       "      <td>...</td>\n",
       "      <td>-2.883340</td>\n",
       "      <td>-6.157088</td>\n",
       "      <td>-1.850732</td>\n",
       "      <td>-5.354364</td>\n",
       "      <td>-8.309540</td>\n",
       "      <td>-10.727865</td>\n",
       "      <td>-7.735629</td>\n",
       "      <td>-3.439421</td>\n",
       "      <td>-6.959963</td>\n",
       "      <td>country</td>\n",
       "    </tr>\n",
       "    <tr>\n",
       "      <th>41</th>\n",
       "      <td>blues.00041.wav</td>\n",
       "      <td>0.386950</td>\n",
       "      <td>0.129172</td>\n",
       "      <td>2390.772194</td>\n",
       "      <td>2463.394088</td>\n",
       "      <td>5403.783991</td>\n",
       "      <td>0.102289</td>\n",
       "      <td>-107.161522</td>\n",
       "      <td>88.466171</td>\n",
       "      <td>-4.174954</td>\n",
       "      <td>...</td>\n",
       "      <td>12.072803</td>\n",
       "      <td>-4.580049</td>\n",
       "      <td>3.791739</td>\n",
       "      <td>-16.991062</td>\n",
       "      <td>11.624591</td>\n",
       "      <td>-7.360203</td>\n",
       "      <td>-3.657302</td>\n",
       "      <td>-7.177438</td>\n",
       "      <td>1.977192</td>\n",
       "      <td>blues</td>\n",
       "    </tr>\n",
       "    <tr>\n",
       "      <th>156</th>\n",
       "      <td>classical.00056.wav</td>\n",
       "      <td>0.312900</td>\n",
       "      <td>0.189937</td>\n",
       "      <td>1680.088264</td>\n",
       "      <td>1706.919816</td>\n",
       "      <td>3077.806389</td>\n",
       "      <td>0.096726</td>\n",
       "      <td>-81.103737</td>\n",
       "      <td>129.102798</td>\n",
       "      <td>-42.538536</td>\n",
       "      <td>...</td>\n",
       "      <td>1.934638</td>\n",
       "      <td>-10.066493</td>\n",
       "      <td>0.944550</td>\n",
       "      <td>-3.573206</td>\n",
       "      <td>-6.168347</td>\n",
       "      <td>-8.033391</td>\n",
       "      <td>3.775875</td>\n",
       "      <td>-5.029609</td>\n",
       "      <td>-0.853512</td>\n",
       "      <td>classical</td>\n",
       "    </tr>\n",
       "    <tr>\n",
       "      <th>119</th>\n",
       "      <td>classical.00019.wav</td>\n",
       "      <td>0.284018</td>\n",
       "      <td>0.007993</td>\n",
       "      <td>1184.632142</td>\n",
       "      <td>1525.044737</td>\n",
       "      <td>2289.452823</td>\n",
       "      <td>0.057591</td>\n",
       "      <td>-475.849060</td>\n",
       "      <td>141.520584</td>\n",
       "      <td>-8.481038</td>\n",
       "      <td>...</td>\n",
       "      <td>-0.101293</td>\n",
       "      <td>0.793870</td>\n",
       "      <td>3.873308</td>\n",
       "      <td>5.313764</td>\n",
       "      <td>4.670821</td>\n",
       "      <td>6.868613</td>\n",
       "      <td>5.391767</td>\n",
       "      <td>1.047285</td>\n",
       "      <td>-6.492128</td>\n",
       "      <td>classical</td>\n",
       "    </tr>\n",
       "  </tbody>\n",
       "</table>\n",
       "<p>5 rows × 28 columns</p>\n",
       "</div>"
      ],
      "text/plain": [
       "                filename  chroma_stft      rmse  spectral_centroid  \\\n",
       "305      disco.00005.wav     0.449312  0.207375        2722.057084   \n",
       "236    country.00036.wav     0.344660  0.022725        1826.924934   \n",
       "41       blues.00041.wav     0.386950  0.129172        2390.772194   \n",
       "156  classical.00056.wav     0.312900  0.189937        1680.088264   \n",
       "119  classical.00019.wav     0.284018  0.007993        1184.632142   \n",
       "\n",
       "     spectral_bandwidth      rolloff  zero_crossing_rate       mfcc1  \\\n",
       "305         2569.155880  5469.391927            0.144552  -24.676065   \n",
       "236         2050.394029  3646.994614            0.084825 -339.794006   \n",
       "41          2463.394088  5403.783991            0.102289 -107.161522   \n",
       "156         1706.919816  3077.806389            0.096726  -81.103737   \n",
       "119         1525.044737  2289.452823            0.057591 -475.849060   \n",
       "\n",
       "          mfcc2      mfcc3  ...     mfcc12     mfcc13    mfcc14     mfcc15  \\\n",
       "305   73.739952 -11.565221  ...  -0.975480   0.606067  2.366081  -3.786756   \n",
       "236   97.778793  -9.692497  ...  -2.883340  -6.157088 -1.850732  -5.354364   \n",
       "41    88.466171  -4.174954  ...  12.072803  -4.580049  3.791739 -16.991062   \n",
       "156  129.102798 -42.538536  ...   1.934638 -10.066493  0.944550  -3.573206   \n",
       "119  141.520584  -8.481038  ...  -0.101293   0.793870  3.873308   5.313764   \n",
       "\n",
       "        mfcc16     mfcc17    mfcc18    mfcc19    mfcc20      label  \n",
       "305  -0.927254  -0.881867 -3.493237 -0.969887  0.118535      disco  \n",
       "236  -8.309540 -10.727865 -7.735629 -3.439421 -6.959963    country  \n",
       "41   11.624591  -7.360203 -3.657302 -7.177438  1.977192      blues  \n",
       "156  -6.168347  -8.033391  3.775875 -5.029609 -0.853512  classical  \n",
       "119   4.670821   6.868613  5.391767  1.047285 -6.492128  classical  \n",
       "\n",
       "[5 rows x 28 columns]"
      ]
     },
     "execution_count": 113,
     "metadata": {},
     "output_type": "execute_result"
    }
   ],
   "source": [
    "features=pd.read_csv('data.csv')\n",
    "\n",
    "features=features[features.label.isin(['blues', 'classical', 'country', 'disco'                                         \n",
    "#                                        ,'hiphop','jazz', 'metal' ,'pop' ,'reggae'\n",
    "                                      ])]\n",
    "features=shuffle(features)\n",
    "\n",
    "print(features.label.unique())\n",
    "print(features.shape)\n",
    "features.head(5)"
   ]
  },
  {
   "cell_type": "code",
   "execution_count": 114,
   "metadata": {},
   "outputs": [],
   "source": [
    "\n",
    "x= features.iloc[:,1:-1]\n",
    "y=features.iloc[:,-1]\n",
    "x=np.asarray(x)"
   ]
  },
  {
   "cell_type": "code",
   "execution_count": 115,
   "metadata": {},
   "outputs": [],
   "source": [
    "scaler = StandardScaler()\n",
    "x = scaler.fit_transform(np.array(x, dtype = float))"
   ]
  },
  {
   "cell_type": "code",
   "execution_count": 116,
   "metadata": {},
   "outputs": [],
   "source": [
    "# import numpy as np\n",
    "# from sklearn.decomposition import PCA \n",
    "# pca = PCA(n_components=5)\n",
    "# pca.fit(x)  \n",
    "\n",
    "# print(np.sum(pca.explained_variance_ratio_)  )\n",
    "# print(pca.singular_values_)  \n",
    "\n",
    "# x=pca.fit_transform(x)"
   ]
  },
  {
   "cell_type": "code",
   "execution_count": 117,
   "metadata": {},
   "outputs": [],
   "source": [
    "# from sklearn.preprocessing import MinMaxScaler \n",
    "# scaler = MinMaxScaler()\n",
    "# x=scaler.fit_transform(x)"
   ]
  },
  {
   "cell_type": "code",
   "execution_count": 118,
   "metadata": {},
   "outputs": [
    {
     "name": "stdout",
     "output_type": "stream",
     "text": [
      "[0 1 2 3]\n"
     ]
    }
   ],
   "source": [
    "from sklearn.preprocessing import LabelEncoder\n",
    "encoder=LabelEncoder()\n",
    "y=encoder.fit_transform(y)\n",
    "print(np.unique(y))"
   ]
  },
  {
   "cell_type": "code",
   "execution_count": 123,
   "metadata": {
    "scrolled": true
   },
   "outputs": [],
   "source": [
    "from sklearn.cluster import KMeans\n",
    "import numpy as np\n",
    "\n",
    "kmeans = KMeans(n_clusters=4,init='k-means++', random_state=0).fit(x)"
   ]
  },
  {
   "cell_type": "code",
   "execution_count": 124,
   "metadata": {},
   "outputs": [],
   "source": [
    "test=pd.DataFrame()\n",
    "test['y']=y\n",
    "test['ny']=kmeans.labels_\n",
    "test.head()\n",
    "groupedtest=pd.DataFrame(test.groupby(by=['y','ny']).size().reset_index(name='count'))"
   ]
  },
  {
   "cell_type": "code",
   "execution_count": 125,
   "metadata": {},
   "outputs": [
    {
     "name": "stdout",
     "output_type": "stream",
     "text": [
      "adjusted_rand_score 0.27673947628061996\n",
      "mean_squared_error 2.3025\n",
      "adjusted_rand_score 0.27673947628061996\n"
     ]
    }
   ],
   "source": [
    "print('adjusted_rand_score',adjusted_rand_score(test.y,test.ny))\n",
    "print('mean_squared_error',mean_squared_error(test.y,test.ny))\n",
    "print('adjusted_rand_score',adjusted_rand_score(test.y,test.ny))"
   ]
  },
  {
   "cell_type": "code",
   "execution_count": 126,
   "metadata": {},
   "outputs": [
    {
     "name": "stdout",
     "output_type": "stream",
     "text": [
      "0.1025\n"
     ]
    }
   ],
   "source": [
    "from sklearn import metrics as m\n",
    "print(m.accuracy_score(test.y,test.ny))"
   ]
  },
  {
   "cell_type": "code",
   "execution_count": null,
   "metadata": {},
   "outputs": [],
   "source": []
  },
  {
   "cell_type": "code",
   "execution_count": 127,
   "metadata": {},
   "outputs": [],
   "source": [
    "import itertools \n",
    "perm = itertools.permutations(np.unique(y)) \n",
    "_totalperm=[]\n",
    "  \n",
    "for i in list(perm): \n",
    "    _totalperm.append(list(i)) "
   ]
  },
  {
   "cell_type": "code",
   "execution_count": 128,
   "metadata": {},
   "outputs": [],
   "source": [
    "test=pd.DataFrame()\n",
    "test['y']=y\n",
    "test['ny']=kmeans.labels_\n",
    "test['new']=0"
   ]
  },
  {
   "cell_type": "code",
   "execution_count": 129,
   "metadata": {},
   "outputs": [
    {
     "name": "stdout",
     "output_type": "stream",
     "text": [
      "0\n",
      "1\n",
      "2\n",
      "3\n",
      "4\n",
      "5\n",
      "6\n",
      "7\n",
      "8\n",
      "9\n",
      "10\n",
      "11\n",
      "12\n",
      "13\n",
      "14\n",
      "15\n",
      "16\n",
      "17\n",
      "18\n",
      "19\n",
      "20\n",
      "21\n",
      "22\n",
      "23\n"
     ]
    }
   ],
   "source": [
    "accuracy=[]\n",
    "values=[]\n",
    "for i in range(len(_totalperm)):    \n",
    "    print(i)\n",
    "    newcolvals=[]\n",
    "    for j in range(test.shape[0]):\n",
    "        newcolvals.append(list(_totalperm[i])[test.ny[j]])\n",
    "    accval=m.accuracy_score(test.y,newcolvals)\n",
    "#     print(accval,i)\n",
    "    accuracy.append(accval)\n",
    "    values.append(list(_totalperm[i]))"
   ]
  },
  {
   "cell_type": "code",
   "execution_count": 130,
   "metadata": {},
   "outputs": [
    {
     "data": {
      "text/plain": [
       "0.5325"
      ]
     },
     "execution_count": 130,
     "metadata": {},
     "output_type": "execute_result"
    }
   ],
   "source": [
    "np.max(accuracy)"
   ]
  },
  {
   "cell_type": "code",
   "execution_count": null,
   "metadata": {},
   "outputs": [],
   "source": []
  },
  {
   "cell_type": "code",
   "execution_count": null,
   "metadata": {},
   "outputs": [],
   "source": []
  },
  {
   "cell_type": "code",
   "execution_count": null,
   "metadata": {},
   "outputs": [],
   "source": []
  },
  {
   "cell_type": "code",
   "execution_count": null,
   "metadata": {},
   "outputs": [],
   "source": []
  }
 ],
 "metadata": {
  "kernelspec": {
   "display_name": "Python 3",
   "language": "python",
   "name": "python3"
  },
  "language_info": {
   "codemirror_mode": {
    "name": "ipython",
    "version": 3
   },
   "file_extension": ".py",
   "mimetype": "text/x-python",
   "name": "python",
   "nbconvert_exporter": "python",
   "pygments_lexer": "ipython3",
   "version": "3.7.3"
  }
 },
 "nbformat": 4,
 "nbformat_minor": 2
}
