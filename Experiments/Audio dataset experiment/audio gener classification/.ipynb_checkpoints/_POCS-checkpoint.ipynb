{
 "cells": [
  {
   "cell_type": "code",
   "execution_count": 1,
   "metadata": {},
   "outputs": [],
   "source": [
    "import numpy as np\n",
    "import random\n",
    "import math\n",
    "from matplotlib import pyplot as plt\n",
    "from sklearn.datasets.samples_generator import make_blobs\n",
    "import time\n",
    "import pandas as pd\n",
    "from scipy.spatial.distance import cdist\n",
    "from sklearn.utils import shuffle\n",
    "from sklearn.preprocessing import LabelEncoder, StandardScaler"
   ]
  },
  {
   "cell_type": "markdown",
   "metadata": {},
   "source": [
    "Initialize the data points and Random centers\n",
    "===========================\n"
   ]
  },
  {
   "cell_type": "code",
   "execution_count": 2,
   "metadata": {},
   "outputs": [],
   "source": [
    "cluster=4\n",
    "np.random.seed(0)"
   ]
  },
  {
   "cell_type": "code",
   "execution_count": 3,
   "metadata": {},
   "outputs": [
    {
     "name": "stdout",
     "output_type": "stream",
     "text": [
      "['classical' 'disco' 'country' 'blues']\n",
      "(400, 28)\n"
     ]
    },
    {
     "data": {
      "text/html": [
       "<div>\n",
       "<style scoped>\n",
       "    .dataframe tbody tr th:only-of-type {\n",
       "        vertical-align: middle;\n",
       "    }\n",
       "\n",
       "    .dataframe tbody tr th {\n",
       "        vertical-align: top;\n",
       "    }\n",
       "\n",
       "    .dataframe thead th {\n",
       "        text-align: right;\n",
       "    }\n",
       "</style>\n",
       "<table border=\"1\" class=\"dataframe\">\n",
       "  <thead>\n",
       "    <tr style=\"text-align: right;\">\n",
       "      <th></th>\n",
       "      <th>filename</th>\n",
       "      <th>chroma_stft</th>\n",
       "      <th>rmse</th>\n",
       "      <th>spectral_centroid</th>\n",
       "      <th>spectral_bandwidth</th>\n",
       "      <th>rolloff</th>\n",
       "      <th>zero_crossing_rate</th>\n",
       "      <th>mfcc1</th>\n",
       "      <th>mfcc2</th>\n",
       "      <th>mfcc3</th>\n",
       "      <th>...</th>\n",
       "      <th>mfcc12</th>\n",
       "      <th>mfcc13</th>\n",
       "      <th>mfcc14</th>\n",
       "      <th>mfcc15</th>\n",
       "      <th>mfcc16</th>\n",
       "      <th>mfcc17</th>\n",
       "      <th>mfcc18</th>\n",
       "      <th>mfcc19</th>\n",
       "      <th>mfcc20</th>\n",
       "      <th>label</th>\n",
       "    </tr>\n",
       "  </thead>\n",
       "  <tbody>\n",
       "    <tr>\n",
       "      <th>132</th>\n",
       "      <td>classical.00032.wav</td>\n",
       "      <td>0.283134</td>\n",
       "      <td>0.008045</td>\n",
       "      <td>792.899921</td>\n",
       "      <td>1205.270470</td>\n",
       "      <td>1207.567698</td>\n",
       "      <td>0.036582</td>\n",
       "      <td>-498.584076</td>\n",
       "      <td>177.519913</td>\n",
       "      <td>11.205842</td>\n",
       "      <td>...</td>\n",
       "      <td>-8.566302</td>\n",
       "      <td>-9.185144</td>\n",
       "      <td>-11.930792</td>\n",
       "      <td>-9.190084</td>\n",
       "      <td>-10.897354</td>\n",
       "      <td>-8.853785</td>\n",
       "      <td>-3.932598</td>\n",
       "      <td>-2.391123</td>\n",
       "      <td>-2.302706</td>\n",
       "      <td>classical</td>\n",
       "    </tr>\n",
       "    <tr>\n",
       "      <th>309</th>\n",
       "      <td>disco.00009.wav</td>\n",
       "      <td>0.442069</td>\n",
       "      <td>0.119055</td>\n",
       "      <td>3016.609887</td>\n",
       "      <td>2623.393865</td>\n",
       "      <td>5954.630660</td>\n",
       "      <td>0.170654</td>\n",
       "      <td>-68.942665</td>\n",
       "      <td>63.130878</td>\n",
       "      <td>-15.854275</td>\n",
       "      <td>...</td>\n",
       "      <td>-3.936930</td>\n",
       "      <td>-1.169979</td>\n",
       "      <td>-6.541956</td>\n",
       "      <td>-6.176916</td>\n",
       "      <td>-5.045521</td>\n",
       "      <td>-4.407592</td>\n",
       "      <td>-5.374968</td>\n",
       "      <td>-1.652997</td>\n",
       "      <td>-0.888413</td>\n",
       "      <td>disco</td>\n",
       "    </tr>\n",
       "    <tr>\n",
       "      <th>341</th>\n",
       "      <td>disco.00041.wav</td>\n",
       "      <td>0.355832</td>\n",
       "      <td>0.175453</td>\n",
       "      <td>1776.252275</td>\n",
       "      <td>2452.626216</td>\n",
       "      <td>3874.509905</td>\n",
       "      <td>0.053842</td>\n",
       "      <td>-122.034210</td>\n",
       "      <td>116.823967</td>\n",
       "      <td>28.335266</td>\n",
       "      <td>...</td>\n",
       "      <td>-4.177089</td>\n",
       "      <td>-2.551635</td>\n",
       "      <td>-3.767213</td>\n",
       "      <td>-0.257976</td>\n",
       "      <td>3.238701</td>\n",
       "      <td>-5.761263</td>\n",
       "      <td>0.717694</td>\n",
       "      <td>0.272524</td>\n",
       "      <td>-2.280594</td>\n",
       "      <td>disco</td>\n",
       "    </tr>\n",
       "    <tr>\n",
       "      <th>196</th>\n",
       "      <td>classical.00096.wav</td>\n",
       "      <td>0.293142</td>\n",
       "      <td>0.057000</td>\n",
       "      <td>1932.858343</td>\n",
       "      <td>1740.355038</td>\n",
       "      <td>3573.061728</td>\n",
       "      <td>0.117520</td>\n",
       "      <td>-203.587173</td>\n",
       "      <td>111.198334</td>\n",
       "      <td>-51.526943</td>\n",
       "      <td>...</td>\n",
       "      <td>3.836547</td>\n",
       "      <td>-3.773128</td>\n",
       "      <td>5.291516</td>\n",
       "      <td>4.111487</td>\n",
       "      <td>6.639014</td>\n",
       "      <td>2.993226</td>\n",
       "      <td>3.539750</td>\n",
       "      <td>-3.361387</td>\n",
       "      <td>-3.682384</td>\n",
       "      <td>classical</td>\n",
       "    </tr>\n",
       "    <tr>\n",
       "      <th>246</th>\n",
       "      <td>country.00046.wav</td>\n",
       "      <td>0.374186</td>\n",
       "      <td>0.103362</td>\n",
       "      <td>2109.337133</td>\n",
       "      <td>1933.798703</td>\n",
       "      <td>3843.926756</td>\n",
       "      <td>0.115892</td>\n",
       "      <td>-126.866608</td>\n",
       "      <td>103.504234</td>\n",
       "      <td>-31.895626</td>\n",
       "      <td>...</td>\n",
       "      <td>-10.144177</td>\n",
       "      <td>0.732738</td>\n",
       "      <td>-1.623948</td>\n",
       "      <td>-10.050242</td>\n",
       "      <td>-5.208335</td>\n",
       "      <td>-9.043372</td>\n",
       "      <td>-4.728586</td>\n",
       "      <td>-1.037697</td>\n",
       "      <td>-2.846361</td>\n",
       "      <td>country</td>\n",
       "    </tr>\n",
       "  </tbody>\n",
       "</table>\n",
       "<p>5 rows × 28 columns</p>\n",
       "</div>"
      ],
      "text/plain": [
       "                filename  chroma_stft      rmse  spectral_centroid  \\\n",
       "132  classical.00032.wav     0.283134  0.008045         792.899921   \n",
       "309      disco.00009.wav     0.442069  0.119055        3016.609887   \n",
       "341      disco.00041.wav     0.355832  0.175453        1776.252275   \n",
       "196  classical.00096.wav     0.293142  0.057000        1932.858343   \n",
       "246    country.00046.wav     0.374186  0.103362        2109.337133   \n",
       "\n",
       "     spectral_bandwidth      rolloff  zero_crossing_rate       mfcc1  \\\n",
       "132         1205.270470  1207.567698            0.036582 -498.584076   \n",
       "309         2623.393865  5954.630660            0.170654  -68.942665   \n",
       "341         2452.626216  3874.509905            0.053842 -122.034210   \n",
       "196         1740.355038  3573.061728            0.117520 -203.587173   \n",
       "246         1933.798703  3843.926756            0.115892 -126.866608   \n",
       "\n",
       "          mfcc2      mfcc3  ...     mfcc12    mfcc13     mfcc14     mfcc15  \\\n",
       "132  177.519913  11.205842  ...  -8.566302 -9.185144 -11.930792  -9.190084   \n",
       "309   63.130878 -15.854275  ...  -3.936930 -1.169979  -6.541956  -6.176916   \n",
       "341  116.823967  28.335266  ...  -4.177089 -2.551635  -3.767213  -0.257976   \n",
       "196  111.198334 -51.526943  ...   3.836547 -3.773128   5.291516   4.111487   \n",
       "246  103.504234 -31.895626  ... -10.144177  0.732738  -1.623948 -10.050242   \n",
       "\n",
       "        mfcc16    mfcc17    mfcc18    mfcc19    mfcc20      label  \n",
       "132 -10.897354 -8.853785 -3.932598 -2.391123 -2.302706  classical  \n",
       "309  -5.045521 -4.407592 -5.374968 -1.652997 -0.888413      disco  \n",
       "341   3.238701 -5.761263  0.717694  0.272524 -2.280594      disco  \n",
       "196   6.639014  2.993226  3.539750 -3.361387 -3.682384  classical  \n",
       "246  -5.208335 -9.043372 -4.728586 -1.037697 -2.846361    country  \n",
       "\n",
       "[5 rows x 28 columns]"
      ]
     },
     "execution_count": 3,
     "metadata": {},
     "output_type": "execute_result"
    }
   ],
   "source": [
    "features=pd.read_csv('data.csv')\n",
    "\n",
    "features=features[features.label.isin(['blues', 'classical', 'country', 'disco'                                        \n",
    "                                       #,'hiphop', ,'jazz', 'metal' 'pop' ,'reggae'\n",
    "                                      ])]\n",
    "features=shuffle(features)\n",
    "\n",
    "print(features.label.unique())\n",
    "print(features.shape)\n",
    "features.head(5)"
   ]
  },
  {
   "cell_type": "code",
   "execution_count": 4,
   "metadata": {},
   "outputs": [],
   "source": [
    "# features=pd.read_csv('data.csv')\n",
    "\n",
    "x= features.iloc[:,1:-1]\n",
    "y=features.iloc[:,-1]\n",
    "x=np.asarray(x)\n",
    "\n",
    "# scaler = StandardScaler()\n",
    "# x = scaler.fit_transform(np.array(x, dtype = float))"
   ]
  },
  {
   "cell_type": "code",
   "execution_count": 5,
   "metadata": {},
   "outputs": [],
   "source": [
    "from sklearn.preprocessing import MinMaxScaler \n",
    "scaler = MinMaxScaler()\n",
    "x=scaler.fit_transform(x)"
   ]
  },
  {
   "cell_type": "code",
   "execution_count": 6,
   "metadata": {},
   "outputs": [
    {
     "name": "stdout",
     "output_type": "stream",
     "text": [
      "[0 1 2 3]\n"
     ]
    }
   ],
   "source": [
    "from sklearn.preprocessing import LabelEncoder\n",
    "encoder=LabelEncoder()\n",
    "y=encoder.fit_transform(y)\n",
    "print(np.unique(y))"
   ]
  },
  {
   "cell_type": "code",
   "execution_count": 7,
   "metadata": {
    "scrolled": true
   },
   "outputs": [
    {
     "data": {
      "text/plain": [
       "array([[0.41326373, 0.36395471, 0.4167166 , 0.44735288, 0.42977893,\n",
       "        0.37056389, 0.6578946 , 0.4990675 , 0.41243136, 0.45242163,\n",
       "        0.52668814, 0.48755929, 0.54475525, 0.41794496, 0.38919943,\n",
       "        0.47544466, 0.55522878, 0.50947149, 0.61976301, 0.43654614,\n",
       "        0.44236315, 0.56477664, 0.45531616, 0.43141227, 0.47879283,\n",
       "        0.58278603],\n",
       "       [0.42326373, 0.37395471, 0.4267166 , 0.45735288, 0.43977893,\n",
       "        0.38056389, 0.6678946 , 0.5090675 , 0.42243136, 0.46242163,\n",
       "        0.53668814, 0.49755929, 0.55475525, 0.42794496, 0.39919943,\n",
       "        0.48544466, 0.56522878, 0.51947149, 0.62976301, 0.44654614,\n",
       "        0.45236315, 0.57477664, 0.46531616, 0.44141227, 0.48879283,\n",
       "        0.59278603],\n",
       "       [0.43326373, 0.38395471, 0.4367166 , 0.46735288, 0.44977893,\n",
       "        0.39056389, 0.6778946 , 0.5190675 , 0.43243136, 0.47242163,\n",
       "        0.54668814, 0.50755929, 0.56475525, 0.43794496, 0.40919943,\n",
       "        0.49544466, 0.57522878, 0.52947149, 0.63976301, 0.45654614,\n",
       "        0.46236315, 0.58477664, 0.47531616, 0.45141227, 0.49879283,\n",
       "        0.60278603],\n",
       "       [0.44326373, 0.39395471, 0.4467166 , 0.47735288, 0.45977893,\n",
       "        0.40056389, 0.6878946 , 0.5290675 , 0.44243136, 0.48242163,\n",
       "        0.55668814, 0.51755929, 0.57475525, 0.44794496, 0.41919943,\n",
       "        0.50544466, 0.58522878, 0.53947149, 0.64976301, 0.46654614,\n",
       "        0.47236315, 0.59477664, 0.48531616, 0.46141227, 0.50879283,\n",
       "        0.61278603]])"
      ]
     },
     "execution_count": 7,
     "metadata": {},
     "output_type": "execute_result"
    }
   ],
   "source": [
    "def generateRandomCenters(c,x):\n",
    "    centers=[]\n",
    "    _min= (np.min(x))\n",
    "    _max= (np.max(x))\n",
    "    t= np.mean(x,axis=0)    \n",
    "    for i in range(c):\n",
    "        centers.append( t + 0.01*i)   \n",
    "    return np.asarray(centers) \n",
    "\n",
    "generateRandomCenters(cluster,x)"
   ]
  },
  {
   "cell_type": "code",
   "execution_count": 8,
   "metadata": {},
   "outputs": [],
   "source": [
    "# intialize random member ship\n",
    "def initializeMembershipMatrix(n):\n",
    "    membership_mat = list()\n",
    "    for i in range(n.shape[0]):\n",
    "#         random_num_list = [random.random() for i in range(cluster)]\n",
    "        random_num_list = [ np.random.rand() for i in range(cluster)]\n",
    "        summation = sum(random_num_list) \n",
    "        temp_list = [x/summation for x in random_num_list]\n",
    "        membership_mat.append(temp_list) \n",
    "    return np.asarray(membership_mat) "
   ]
  },
  {
   "cell_type": "code",
   "execution_count": 9,
   "metadata": {},
   "outputs": [],
   "source": [
    "def updateMembershipValue3_2(u, v,val):\n",
    "    distances = cdist(val, v,metric='euclidean')\n",
    "    return distances"
   ]
  },
  {
   "cell_type": "code",
   "execution_count": 10,
   "metadata": {},
   "outputs": [],
   "source": [
    "\n",
    "def CalculateWeightValues(cluster_center,val,q):\n",
    "        \n",
    "    membership=[]    \n",
    "    distances = cdist(val, v,metric='euclidean')[:,q]  \n",
    "    sumdistance=np.sum(distances)\n",
    "    membership= distances/sumdistance \n",
    "    \n",
    "    return membership\n"
   ]
  },
  {
   "cell_type": "code",
   "execution_count": 11,
   "metadata": {},
   "outputs": [],
   "source": [
    "\n",
    "def CalculateWeightValuesByIndex(cluster_center,val,q,index):\n",
    "    \n",
    "#     print(centers[q])\n",
    "#     distances=[]\n",
    "#     for j in range(val.shape[0]):\n",
    "#         distances.append(np.linalg.norm(val[j]- v[q])) \n",
    "    \n",
    "    distances = cdist(val, v,metric='euclidean')[:,q]  \n",
    "    sumdistance=np.sum(distances)\n",
    "    membership= distances[index]/sumdistance\n",
    "        \n",
    "    return membership\n"
   ]
  },
  {
   "cell_type": "code",
   "execution_count": 12,
   "metadata": {},
   "outputs": [],
   "source": [
    "def calcError(center,mem):\n",
    "    dist=0\n",
    "    for i in range(mem.shape[0]):\n",
    "        dist+=np.linalg.norm(center - mem[i])\n",
    "    return dist"
   ]
  },
  {
   "cell_type": "code",
   "execution_count": 13,
   "metadata": {},
   "outputs": [],
   "source": [
    "def moveVtoTheCenter(v,u,x):\n",
    "    for k in range( cluster):\n",
    "        items=[]\n",
    "        for i  in range(  (x.shape[0])):\n",
    "            if(u[i,k]>=np.max(u[i])):\n",
    "                items.append(x[i])\n",
    "        v[k]=np.mean(items, axis=0)\n",
    "    return v"
   ]
  },
  {
   "cell_type": "code",
   "execution_count": 14,
   "metadata": {},
   "outputs": [],
   "source": [
    "def _k_init(X, n_clusters, x_squared_norms, random_state, n_local_trials=None):\n",
    "    \"\"\"Init n_clusters seeds according to k-means++\n",
    "    Parameters\n",
    "    ----------\n",
    "    X : array or sparse matrix, shape (n_samples, n_features)\n",
    "        The data to pick seeds for. To avoid memory copy, the input data\n",
    "        should be double precision (dtype=np.float64).\n",
    "    n_clusters : integer\n",
    "        The number of seeds to choose\n",
    "    x_squared_norms : array, shape (n_samples,)\n",
    "        Squared Euclidean norm of each data point.\n",
    "    random_state : int, RandomState instance\n",
    "        The generator used to initialize the centers. Use an int to make the\n",
    "        randomness deterministic.\n",
    "        See :term:`Glossary <random_state>`.\n",
    "    n_local_trials : integer, optional\n",
    "        The number of seeding trials for each center (except the first),\n",
    "        of which the one reducing inertia the most is greedily chosen.\n",
    "        Set to None to make the number of trials depend logarithmically\n",
    "        on the number of seeds (2+log(k)); this is the default.\n",
    "    Notes\n",
    "    -----\n",
    "    Selects initial cluster centers for k-mean clustering in a smart way\n",
    "    to speed up convergence. see: Arthur, D. and Vassilvitskii, S.\n",
    "    \"k-means++: the advantages of careful seeding\". ACM-SIAM symposium\n",
    "    on Discrete algorithms. 2007\n",
    "    Version ported from http://www.stanford.edu/~darthur/kMeansppTest.zip,\n",
    "    which is the implementation used in the aforementioned paper.\n",
    "    \"\"\"\n",
    "    n_samples, n_features = X.shape\n",
    "\n",
    "    centers = np.empty((n_clusters, n_features), dtype=X.dtype)\n",
    "\n",
    "    assert x_squared_norms is not None, 'x_squared_norms None in _k_init'\n",
    "\n",
    "    # Set the number of local seeding trials if none is given\n",
    "    if n_local_trials is None:\n",
    "        # This is what Arthur/Vassilvitskii tried, but did not report\n",
    "        # specific results for other than mentioning in the conclusion\n",
    "        # that it helped.\n",
    "        n_local_trials = 2 + int(np.log(n_clusters))\n",
    "\n",
    "    # Pick first center randomly\n",
    "    center_id = random_state.randint(n_samples)\n",
    "    if sp.issparse(X):\n",
    "        centers[0] = X[center_id].toarray()\n",
    "    else:\n",
    "        centers[0] = X[center_id]\n",
    "\n",
    "    # Initialize list of closest distances and calculate current potential\n",
    "    closest_dist_sq = euclidean_distances(\n",
    "        centers[0, np.newaxis], X, Y_norm_squared=x_squared_norms,\n",
    "        squared=True)\n",
    "    current_pot = closest_dist_sq.sum()\n",
    "\n",
    "    # Pick the remaining n_clusters-1 points\n",
    "    for c in range(1, n_clusters):\n",
    "        # Choose center candidates by sampling with probability proportional\n",
    "        # to the squared distance to the closest existing center\n",
    "        rand_vals = random_state.random_sample(n_local_trials) * current_pot\n",
    "        candidate_ids = np.searchsorted(stable_cumsum(closest_dist_sq),\n",
    "                                        rand_vals)\n",
    "\n",
    "        # Compute distances to center candidates\n",
    "        distance_to_candidates = euclidean_distances(\n",
    "            X[candidate_ids], X, Y_norm_squared=x_squared_norms, squared=True)\n",
    "\n",
    "        # Decide which candidate is the best\n",
    "        best_candidate = None\n",
    "        best_pot = None\n",
    "        best_dist_sq = None\n",
    "        for trial in range(n_local_trials):\n",
    "            # Compute potential when including center candidate\n",
    "            new_dist_sq = np.minimum(closest_dist_sq,\n",
    "                                     distance_to_candidates[trial])\n",
    "            new_pot = new_dist_sq.sum()\n",
    "\n",
    "            # Store result if it is the best local trial so far\n",
    "            if (best_candidate is None) or (new_pot < best_pot):\n",
    "                best_candidate = candidate_ids[trial]\n",
    "                best_pot = new_pot\n",
    "                best_dist_sq = new_dist_sq\n",
    "\n",
    "        # Permanently add best center candidate found in local tries\n",
    "        if sp.issparse(X):\n",
    "            centers[c] = X[best_candidate].toarray()\n",
    "        else:\n",
    "            centers[c] = X[best_candidate]\n",
    "        current_pot = best_pot\n",
    "        closest_dist_sq = best_dist_sq\n",
    "\n",
    "    return centers"
   ]
  },
  {
   "cell_type": "code",
   "execution_count": 15,
   "metadata": {
    "scrolled": true
   },
   "outputs": [
    {
     "data": {
      "text/plain": [
       "array([[0.63977156, 0.59115865, 0.67990903, 0.68625728, 0.67739378,\n",
       "        0.57715643, 0.87622271, 0.20765401, 0.37890609, 0.31665101,\n",
       "        0.76596289, 0.48639622, 0.74820854, 0.47782307, 0.5886402 ,\n",
       "        0.63245009, 0.75969691, 0.52498246, 0.79360158, 0.4437943 ,\n",
       "        0.60495872, 0.65013297, 0.70631089, 0.58072331, 0.57322862,\n",
       "        0.69611142],\n",
       "       [0.32752854, 0.43829016, 0.27639784, 0.27172101, 0.30119485,\n",
       "        0.20838924, 0.66045733, 0.6483426 , 0.28045458, 0.51439874,\n",
       "        0.629669  , 0.45028986, 0.26344169, 0.41572492, 0.34210313,\n",
       "        0.21855266, 0.53093848, 0.19456492, 0.67152853, 0.14783703,\n",
       "        0.28712567, 0.25316339, 0.23393814, 0.03436002, 0.41608865,\n",
       "        0.35923133],\n",
       "       [0.60797114, 0.58325801, 0.45982247, 0.47251213, 0.47160187,\n",
       "        0.36658692, 0.7711304 , 0.40259779, 0.34653506, 0.57213835,\n",
       "        0.60867733, 0.73190059, 0.67827857, 0.50489351, 0.42042111,\n",
       "        0.55516193, 0.48526732, 0.62000447, 0.66101227, 0.66601684,\n",
       "        0.47960404, 0.55078497, 0.32949469, 0.36816442, 0.48445574,\n",
       "        0.61081959],\n",
       "       [0.18332955, 0.04384678, 0.1915397 , 0.20541723, 0.17514183,\n",
       "        0.26225356, 0.26556712, 0.76212468, 0.37922017, 0.21986629,\n",
       "        0.51029605, 0.22374225, 0.49287683, 0.04309896, 0.32158318,\n",
       "        0.10551372, 0.56678606, 0.40790871, 0.81415346, 0.36171978,\n",
       "        0.52850237, 0.61105285, 0.78093188, 0.40496083, 0.55338719,\n",
       "        0.54302543]])"
      ]
     },
     "execution_count": 15,
     "metadata": {},
     "output_type": "execute_result"
    }
   ],
   "source": [
    "# x_squared_norms = np.row_norms(x, squared=True)\n",
    "\n",
    "from sklearn.utils.extmath import row_norms\n",
    "from sklearn.utils.extmath import row_norms, squared_norm, stable_cumsum\n",
    "import scipy.sparse as sp\n",
    "from sklearn.metrics.pairwise import euclidean_distances\n",
    " \n",
    "c = _k_init(x,cluster, row_norms(x, squared=True), np.random.RandomState(seed=42))\n",
    "c"
   ]
  },
  {
   "cell_type": "markdown",
   "metadata": {},
   "source": [
    "Initialization\n",
    "================="
   ]
  },
  {
   "cell_type": "code",
   "execution_count": 16,
   "metadata": {},
   "outputs": [],
   "source": [
    "import random\n",
    "# x =np.asarray( random.sample(x.tolist(), len(x.tolist())))\n",
    "# print(x[:5,])\n",
    "\n",
    "u=initializeMembershipMatrix(x)\n",
    "v=c#generateRandomCenters(cluster,x)\n",
    " \n",
    "w=updateMembershipValue3_2(u,v,x)\n",
    "\n",
    "\n",
    "ny=np.argmin(w,axis=1)\n",
    "\n",
    "# for i in range ( cluster):\n",
    "#     plt.scatter(x[ny == i, 0], x[ny == i, 1],  s=10, label=\"Cluster - \"+str(i))\n",
    "# plt.scatter(x=np.asarray(v)[:,0],y=np.asarray(v)[:,1], color='black',s=50)\n",
    "# plt.show()  "
   ]
  },
  {
   "cell_type": "markdown",
   "metadata": {},
   "source": [
    "POCS -- Parallel projection\n",
    "================="
   ]
  },
  {
   "cell_type": "code",
   "execution_count": 17,
   "metadata": {
    "scrolled": true
   },
   "outputs": [
    {
     "name": "stdout",
     "output_type": "stream",
     "text": [
      "0\n",
      "1\n",
      "2\n",
      "3\n",
      "4\n",
      "5\n",
      "6\n",
      "7\n",
      "8\n",
      "9\n",
      "10\n",
      "11\n",
      "12\n",
      "13\n",
      "14\n",
      "15\n",
      "16\n",
      "17\n",
      "18\n",
      "19\n",
      "20\n",
      "21\n",
      "22\n",
      "23\n",
      "24\n",
      "25\n",
      "26\n",
      "27\n",
      "28\n",
      "29\n",
      "30\n",
      "31\n",
      "32\n",
      "33\n",
      "34\n",
      "35\n",
      "36\n",
      "37\n",
      "38\n",
      "39\n",
      "40\n",
      "41\n",
      "42\n",
      "43\n",
      "44\n",
      "45\n",
      "46\n",
      "47\n",
      "48\n",
      "49\n"
     ]
    }
   ],
   "source": [
    "# val=x\n",
    "errorlist=[]\n",
    "start=time.time()\n",
    "for t in range(50):\n",
    "    print(t)\n",
    "    error=0\n",
    "    for q in range(cluster): \n",
    "         \n",
    "        val=x[ny == q,:] \n",
    "                \n",
    "        if(val.shape[0]!=0):\n",
    "            \n",
    "            weight=CalculateWeightValues(v[q],val,q) \n",
    "\n",
    "            temp=0    \n",
    "            for i in range(val.shape[0]):                \n",
    "                temp += weight[i]*(val[i]- v[q])\n",
    "            v[q]= v[q]+temp    \n",
    "\n",
    "        error+=calcError(v[q],val)\n",
    "    \n",
    "#     print(t,q,error) \n",
    "    errorlist.append([error,time.time()- start])\n",
    "\n",
    "    w=updateMembershipValue3_2(u,v,x)  \n",
    "    ny=np.argmin(w,axis=1)\n",
    "    \n",
    "    \n"
   ]
  },
  {
   "cell_type": "code",
   "execution_count": 18,
   "metadata": {},
   "outputs": [
    {
     "name": "stdout",
     "output_type": "stream",
     "text": [
      "0.27057710736230656\n",
      "3.2925\n",
      "0.32390298270967655\n"
     ]
    },
    {
     "name": "stderr",
     "output_type": "stream",
     "text": [
      "C:\\ProgramData\\Anaconda3\\lib\\site-packages\\sklearn\\metrics\\cluster\\supervised.py:859: FutureWarning: The behavior of NMI will change in version 0.22. To match the behavior of 'v_measure_score', NMI will use average_method='arithmetic' by default.\n",
      "  FutureWarning)\n"
     ]
    }
   ],
   "source": [
    "\n",
    "from sklearn.metrics.cluster import adjusted_rand_score\n",
    "from sklearn.metrics import mean_squared_error\n",
    "from sklearn.metrics.cluster import normalized_mutual_info_score\n",
    "\n",
    "print(adjusted_rand_score(y,ny))\n",
    "print(mean_squared_error(y,ny))\n",
    "print(normalized_mutual_info_score(y,ny))\n"
   ]
  },
  {
   "cell_type": "code",
   "execution_count": null,
   "metadata": {},
   "outputs": [],
   "source": []
  },
  {
   "cell_type": "code",
   "execution_count": 19,
   "metadata": {},
   "outputs": [],
   "source": [
    "test=pd.DataFrame()\n",
    "test['y']=y\n",
    "test['ny']=ny\n",
    "# test.head()"
   ]
  },
  {
   "cell_type": "code",
   "execution_count": 20,
   "metadata": {},
   "outputs": [],
   "source": [
    "import itertools \n",
    "perm = itertools.permutations(np.unique(y)) \n",
    "_totalperm=[]\n",
    "  \n",
    "for i in list(perm): \n",
    "    _totalperm.append(list(i)) "
   ]
  },
  {
   "cell_type": "code",
   "execution_count": 21,
   "metadata": {},
   "outputs": [
    {
     "name": "stdout",
     "output_type": "stream",
     "text": [
      "0\n",
      "1\n",
      "2\n",
      "3\n",
      "4\n",
      "5\n",
      "6\n",
      "7\n",
      "8\n",
      "9\n",
      "10\n",
      "11\n",
      "12\n",
      "13\n",
      "14\n",
      "15\n",
      "16\n",
      "17\n",
      "18\n",
      "19\n",
      "20\n",
      "21\n",
      "22\n",
      "23\n"
     ]
    }
   ],
   "source": [
    "from sklearn import metrics as m\n",
    "accuracy=np.zeros((len(_totalperm)))\n",
    "values=[]\n",
    "\n",
    "for i in range(len(_totalperm)): \n",
    "    print(i)\n",
    "    newcolvals=np.zeros((test.shape[0]))\n",
    "    for j in range(test.shape[0]):\n",
    "        newcolvals[j]=(_totalperm[i])[test.ny[j]] \n",
    "        \n",
    "    accval=m.accuracy_score(test.y,newcolvals)\n",
    "    accuracy[i]=(accval)\n",
    "    values.append(list(_totalperm[i]))"
   ]
  },
  {
   "cell_type": "code",
   "execution_count": null,
   "metadata": {},
   "outputs": [],
   "source": []
  },
  {
   "cell_type": "code",
   "execution_count": 22,
   "metadata": {},
   "outputs": [
    {
     "data": {
      "text/plain": [
       "0.5375"
      ]
     },
     "execution_count": 22,
     "metadata": {},
     "output_type": "execute_result"
    }
   ],
   "source": [
    "np.max(accuracy)"
   ]
  },
  {
   "cell_type": "code",
   "execution_count": null,
   "metadata": {},
   "outputs": [],
   "source": []
  },
  {
   "cell_type": "code",
   "execution_count": null,
   "metadata": {},
   "outputs": [],
   "source": []
  },
  {
   "cell_type": "code",
   "execution_count": null,
   "metadata": {},
   "outputs": [],
   "source": []
  },
  {
   "cell_type": "code",
   "execution_count": null,
   "metadata": {},
   "outputs": [],
   "source": []
  }
 ],
 "metadata": {
  "kernelspec": {
   "display_name": "Python 3",
   "language": "python",
   "name": "python3"
  },
  "language_info": {
   "codemirror_mode": {
    "name": "ipython",
    "version": 3
   },
   "file_extension": ".py",
   "mimetype": "text/x-python",
   "name": "python",
   "nbconvert_exporter": "python",
   "pygments_lexer": "ipython3",
   "version": "3.7.3"
  }
 },
 "nbformat": 4,
 "nbformat_minor": 2
}
