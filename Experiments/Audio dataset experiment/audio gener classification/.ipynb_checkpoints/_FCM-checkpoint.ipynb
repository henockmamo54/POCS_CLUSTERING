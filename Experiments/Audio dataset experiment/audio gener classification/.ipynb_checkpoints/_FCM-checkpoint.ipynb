{
 "cells": [
  {
   "cell_type": "code",
   "execution_count": 48,
   "metadata": {},
   "outputs": [],
   "source": [
    "import random\n",
    "\n",
    "import matplotlib.pyplot as plt\n",
    "import numpy as np\n",
    "import seaborn as sns\n",
    "from sklearn.datasets.samples_generator import make_blobs\n",
    "from fuzzy_cmeans import FCM \n",
    "import pandas as pd\n",
    "from sklearn.preprocessing import LabelEncoder, StandardScaler\n",
    "from sklearn.utils import shuffle"
   ]
  },
  {
   "cell_type": "code",
   "execution_count": 49,
   "metadata": {},
   "outputs": [],
   "source": [
    "clusters=4"
   ]
  },
  {
   "cell_type": "code",
   "execution_count": 50,
   "metadata": {},
   "outputs": [
    {
     "name": "stdout",
     "output_type": "stream",
     "text": [
      "['classical' 'disco' 'country' 'blues']\n",
      "(400, 28)\n"
     ]
    },
    {
     "data": {
      "text/html": [
       "<div>\n",
       "<style scoped>\n",
       "    .dataframe tbody tr th:only-of-type {\n",
       "        vertical-align: middle;\n",
       "    }\n",
       "\n",
       "    .dataframe tbody tr th {\n",
       "        vertical-align: top;\n",
       "    }\n",
       "\n",
       "    .dataframe thead th {\n",
       "        text-align: right;\n",
       "    }\n",
       "</style>\n",
       "<table border=\"1\" class=\"dataframe\">\n",
       "  <thead>\n",
       "    <tr style=\"text-align: right;\">\n",
       "      <th></th>\n",
       "      <th>filename</th>\n",
       "      <th>chroma_stft</th>\n",
       "      <th>rmse</th>\n",
       "      <th>spectral_centroid</th>\n",
       "      <th>spectral_bandwidth</th>\n",
       "      <th>rolloff</th>\n",
       "      <th>zero_crossing_rate</th>\n",
       "      <th>mfcc1</th>\n",
       "      <th>mfcc2</th>\n",
       "      <th>mfcc3</th>\n",
       "      <th>...</th>\n",
       "      <th>mfcc12</th>\n",
       "      <th>mfcc13</th>\n",
       "      <th>mfcc14</th>\n",
       "      <th>mfcc15</th>\n",
       "      <th>mfcc16</th>\n",
       "      <th>mfcc17</th>\n",
       "      <th>mfcc18</th>\n",
       "      <th>mfcc19</th>\n",
       "      <th>mfcc20</th>\n",
       "      <th>label</th>\n",
       "    </tr>\n",
       "  </thead>\n",
       "  <tbody>\n",
       "    <tr>\n",
       "      <th>188</th>\n",
       "      <td>classical.00088.wav</td>\n",
       "      <td>0.294135</td>\n",
       "      <td>0.028242</td>\n",
       "      <td>1302.662455</td>\n",
       "      <td>1455.251726</td>\n",
       "      <td>2347.185807</td>\n",
       "      <td>0.070536</td>\n",
       "      <td>-299.775543</td>\n",
       "      <td>157.336853</td>\n",
       "      <td>-37.354210</td>\n",
       "      <td>...</td>\n",
       "      <td>-7.837649</td>\n",
       "      <td>-2.732072</td>\n",
       "      <td>-1.108236</td>\n",
       "      <td>1.650344</td>\n",
       "      <td>3.642180</td>\n",
       "      <td>3.084368</td>\n",
       "      <td>0.109205</td>\n",
       "      <td>-0.795172</td>\n",
       "      <td>-2.738004</td>\n",
       "      <td>classical</td>\n",
       "    </tr>\n",
       "    <tr>\n",
       "      <th>389</th>\n",
       "      <td>disco.00089.wav</td>\n",
       "      <td>0.429834</td>\n",
       "      <td>0.100328</td>\n",
       "      <td>2129.231122</td>\n",
       "      <td>2109.128920</td>\n",
       "      <td>4424.039915</td>\n",
       "      <td>0.111870</td>\n",
       "      <td>-114.909477</td>\n",
       "      <td>113.479637</td>\n",
       "      <td>-29.811432</td>\n",
       "      <td>...</td>\n",
       "      <td>8.600738</td>\n",
       "      <td>-11.434924</td>\n",
       "      <td>6.218772</td>\n",
       "      <td>-10.903845</td>\n",
       "      <td>3.672883</td>\n",
       "      <td>-10.321050</td>\n",
       "      <td>0.569581</td>\n",
       "      <td>-4.173322</td>\n",
       "      <td>3.480233</td>\n",
       "      <td>disco</td>\n",
       "    </tr>\n",
       "    <tr>\n",
       "      <th>227</th>\n",
       "      <td>country.00027.wav</td>\n",
       "      <td>0.391822</td>\n",
       "      <td>0.116632</td>\n",
       "      <td>2012.171334</td>\n",
       "      <td>2140.555052</td>\n",
       "      <td>3908.251367</td>\n",
       "      <td>0.097395</td>\n",
       "      <td>-100.706062</td>\n",
       "      <td>106.971024</td>\n",
       "      <td>-27.177935</td>\n",
       "      <td>...</td>\n",
       "      <td>-2.712965</td>\n",
       "      <td>-6.647001</td>\n",
       "      <td>-4.666949</td>\n",
       "      <td>-5.697685</td>\n",
       "      <td>-5.990891</td>\n",
       "      <td>-10.220709</td>\n",
       "      <td>-10.534969</td>\n",
       "      <td>-5.729181</td>\n",
       "      <td>-7.295534</td>\n",
       "      <td>country</td>\n",
       "    </tr>\n",
       "    <tr>\n",
       "      <th>309</th>\n",
       "      <td>disco.00009.wav</td>\n",
       "      <td>0.442069</td>\n",
       "      <td>0.119055</td>\n",
       "      <td>3016.609887</td>\n",
       "      <td>2623.393865</td>\n",
       "      <td>5954.630660</td>\n",
       "      <td>0.170654</td>\n",
       "      <td>-68.942665</td>\n",
       "      <td>63.130878</td>\n",
       "      <td>-15.854275</td>\n",
       "      <td>...</td>\n",
       "      <td>-3.936930</td>\n",
       "      <td>-1.169979</td>\n",
       "      <td>-6.541956</td>\n",
       "      <td>-6.176916</td>\n",
       "      <td>-5.045521</td>\n",
       "      <td>-4.407592</td>\n",
       "      <td>-5.374968</td>\n",
       "      <td>-1.652997</td>\n",
       "      <td>-0.888413</td>\n",
       "      <td>disco</td>\n",
       "    </tr>\n",
       "    <tr>\n",
       "      <th>39</th>\n",
       "      <td>blues.00039.wav</td>\n",
       "      <td>0.255321</td>\n",
       "      <td>0.085868</td>\n",
       "      <td>1151.340441</td>\n",
       "      <td>1709.193938</td>\n",
       "      <td>2312.577683</td>\n",
       "      <td>0.035339</td>\n",
       "      <td>-301.686279</td>\n",
       "      <td>111.539207</td>\n",
       "      <td>21.895657</td>\n",
       "      <td>...</td>\n",
       "      <td>-10.572882</td>\n",
       "      <td>-15.687017</td>\n",
       "      <td>-12.598773</td>\n",
       "      <td>-12.245660</td>\n",
       "      <td>-14.543065</td>\n",
       "      <td>-10.092299</td>\n",
       "      <td>-5.780286</td>\n",
       "      <td>-7.776048</td>\n",
       "      <td>-7.186642</td>\n",
       "      <td>blues</td>\n",
       "    </tr>\n",
       "  </tbody>\n",
       "</table>\n",
       "<p>5 rows × 28 columns</p>\n",
       "</div>"
      ],
      "text/plain": [
       "                filename  chroma_stft      rmse  spectral_centroid  \\\n",
       "188  classical.00088.wav     0.294135  0.028242        1302.662455   \n",
       "389      disco.00089.wav     0.429834  0.100328        2129.231122   \n",
       "227    country.00027.wav     0.391822  0.116632        2012.171334   \n",
       "309      disco.00009.wav     0.442069  0.119055        3016.609887   \n",
       "39       blues.00039.wav     0.255321  0.085868        1151.340441   \n",
       "\n",
       "     spectral_bandwidth      rolloff  zero_crossing_rate       mfcc1  \\\n",
       "188         1455.251726  2347.185807            0.070536 -299.775543   \n",
       "389         2109.128920  4424.039915            0.111870 -114.909477   \n",
       "227         2140.555052  3908.251367            0.097395 -100.706062   \n",
       "309         2623.393865  5954.630660            0.170654  -68.942665   \n",
       "39          1709.193938  2312.577683            0.035339 -301.686279   \n",
       "\n",
       "          mfcc2      mfcc3  ...     mfcc12     mfcc13     mfcc14     mfcc15  \\\n",
       "188  157.336853 -37.354210  ...  -7.837649  -2.732072  -1.108236   1.650344   \n",
       "389  113.479637 -29.811432  ...   8.600738 -11.434924   6.218772 -10.903845   \n",
       "227  106.971024 -27.177935  ...  -2.712965  -6.647001  -4.666949  -5.697685   \n",
       "309   63.130878 -15.854275  ...  -3.936930  -1.169979  -6.541956  -6.176916   \n",
       "39   111.539207  21.895657  ... -10.572882 -15.687017 -12.598773 -12.245660   \n",
       "\n",
       "        mfcc16     mfcc17     mfcc18    mfcc19    mfcc20      label  \n",
       "188   3.642180   3.084368   0.109205 -0.795172 -2.738004  classical  \n",
       "389   3.672883 -10.321050   0.569581 -4.173322  3.480233      disco  \n",
       "227  -5.990891 -10.220709 -10.534969 -5.729181 -7.295534    country  \n",
       "309  -5.045521  -4.407592  -5.374968 -1.652997 -0.888413      disco  \n",
       "39  -14.543065 -10.092299  -5.780286 -7.776048 -7.186642      blues  \n",
       "\n",
       "[5 rows x 28 columns]"
      ]
     },
     "execution_count": 50,
     "metadata": {},
     "output_type": "execute_result"
    }
   ],
   "source": [
    "features=pd.read_csv('data.csv')\n",
    "\n",
    "features=features[features.label.isin(['blues', 'classical', 'country', 'disco'                                        \n",
    "#                                        ,'hiphop', 'jazz', 'metal' ,'pop' ,'reggae'\n",
    "                                      ])]\n",
    "features=shuffle(features)\n",
    "\n",
    "print(features.label.unique())\n",
    "print(features.shape)\n",
    "features.head(5)"
   ]
  },
  {
   "cell_type": "code",
   "execution_count": 51,
   "metadata": {},
   "outputs": [],
   "source": [
    "# features=pd.read_csv('data.csv')\n",
    "\n",
    "x= features.iloc[:,1:-1]\n",
    "y=features.iloc[:,-1]\n",
    "x=np.asarray(x)"
   ]
  },
  {
   "cell_type": "code",
   "execution_count": 52,
   "metadata": {},
   "outputs": [],
   "source": [
    "# scaler = StandardScaler()\n",
    "# x = scaler.fit_transform(np.array(x, dtype = float))"
   ]
  },
  {
   "cell_type": "code",
   "execution_count": 53,
   "metadata": {},
   "outputs": [],
   "source": [
    "from sklearn.preprocessing import MinMaxScaler \n",
    "scaler = MinMaxScaler()\n",
    "x=scaler.fit_transform(x)"
   ]
  },
  {
   "cell_type": "code",
   "execution_count": 54,
   "metadata": {},
   "outputs": [],
   "source": [
    "from sklearn.preprocessing import LabelEncoder\n",
    "encoder=LabelEncoder()\n",
    "y=encoder.fit_transform(y)"
   ]
  },
  {
   "cell_type": "code",
   "execution_count": 55,
   "metadata": {},
   "outputs": [],
   "source": [
    "def _k_init(X, n_clusters, x_squared_norms, random_state, n_local_trials=None):\n",
    "    \"\"\"Init n_clusters seeds according to k-means++\n",
    "    Parameters\n",
    "    ----------\n",
    "    X : array or sparse matrix, shape (n_samples, n_features)\n",
    "        The data to pick seeds for. To avoid memory copy, the input data\n",
    "        should be double precision (dtype=np.float64).\n",
    "    n_clusters : integer\n",
    "        The number of seeds to choose\n",
    "    x_squared_norms : array, shape (n_samples,)\n",
    "        Squared Euclidean norm of each data point.\n",
    "    random_state : int, RandomState instance\n",
    "        The generator used to initialize the centers. Use an int to make the\n",
    "        randomness deterministic.\n",
    "        See :term:`Glossary <random_state>`.\n",
    "    n_local_trials : integer, optional\n",
    "        The number of seeding trials for each center (except the first),\n",
    "        of which the one reducing inertia the most is greedily chosen.\n",
    "        Set to None to make the number of trials depend logarithmically\n",
    "        on the number of seeds (2+log(k)); this is the default.\n",
    "    Notes\n",
    "    -----\n",
    "    Selects initial cluster centers for k-mean clustering in a smart way\n",
    "    to speed up convergence. see: Arthur, D. and Vassilvitskii, S.\n",
    "    \"k-means++: the advantages of careful seeding\". ACM-SIAM symposium\n",
    "    on Discrete algorithms. 2007\n",
    "    Version ported from http://www.stanford.edu/~darthur/kMeansppTest.zip,\n",
    "    which is the implementation used in the aforementioned paper.\n",
    "    \"\"\"\n",
    "    n_samples, n_features = X.shape\n",
    "\n",
    "    centers = np.empty((n_clusters, n_features), dtype=X.dtype)\n",
    "\n",
    "    assert x_squared_norms is not None, 'x_squared_norms None in _k_init'\n",
    "\n",
    "    # Set the number of local seeding trials if none is given\n",
    "    if n_local_trials is None:\n",
    "        # This is what Arthur/Vassilvitskii tried, but did not report\n",
    "        # specific results for other than mentioning in the conclusion\n",
    "        # that it helped.\n",
    "        n_local_trials = 2 + int(np.log(n_clusters))\n",
    "\n",
    "    # Pick first center randomly\n",
    "    center_id = random_state.randint(n_samples)\n",
    "    if sp.issparse(X):\n",
    "        centers[0] = X[center_id].toarray()\n",
    "    else:\n",
    "        centers[0] = X[center_id]\n",
    "\n",
    "    # Initialize list of closest distances and calculate current potential\n",
    "    closest_dist_sq = euclidean_distances(\n",
    "        centers[0, np.newaxis], X, Y_norm_squared=x_squared_norms,\n",
    "        squared=True)\n",
    "    current_pot = closest_dist_sq.sum()\n",
    "\n",
    "    # Pick the remaining n_clusters-1 points\n",
    "    for c in range(1, n_clusters):\n",
    "        # Choose center candidates by sampling with probability proportional\n",
    "        # to the squared distance to the closest existing center\n",
    "        rand_vals = random_state.random_sample(n_local_trials) * current_pot\n",
    "        candidate_ids = np.searchsorted(stable_cumsum(closest_dist_sq),\n",
    "                                        rand_vals)\n",
    "\n",
    "        # Compute distances to center candidates\n",
    "        distance_to_candidates = euclidean_distances(\n",
    "            X[candidate_ids], X, Y_norm_squared=x_squared_norms, squared=True)\n",
    "\n",
    "        # Decide which candidate is the best\n",
    "        best_candidate = None\n",
    "        best_pot = None\n",
    "        best_dist_sq = None\n",
    "        for trial in range(n_local_trials):\n",
    "            # Compute potential when including center candidate\n",
    "            new_dist_sq = np.minimum(closest_dist_sq,\n",
    "                                     distance_to_candidates[trial])\n",
    "            new_pot = new_dist_sq.sum()\n",
    "\n",
    "            # Store result if it is the best local trial so far\n",
    "            if (best_candidate is None) or (new_pot < best_pot):\n",
    "                best_candidate = candidate_ids[trial]\n",
    "                best_pot = new_pot\n",
    "                best_dist_sq = new_dist_sq\n",
    "\n",
    "        # Permanently add best center candidate found in local tries\n",
    "        if sp.issparse(X):\n",
    "            centers[c] = X[best_candidate].toarray()\n",
    "        else:\n",
    "            centers[c] = X[best_candidate]\n",
    "        current_pot = best_pot\n",
    "        closest_dist_sq = best_dist_sq\n",
    "\n",
    "    return centers"
   ]
  },
  {
   "cell_type": "code",
   "execution_count": 56,
   "metadata": {
    "scrolled": true
   },
   "outputs": [],
   "source": [
    "# x_squared_norms = np.row_norms(x, squared=True)\n",
    "\n",
    "from sklearn.utils.extmath import row_norms\n",
    "from sklearn.utils.extmath import row_norms, squared_norm, stable_cumsum\n",
    "import scipy.sparse as sp\n",
    "from sklearn.metrics.pairwise import euclidean_distances\n",
    " \n",
    "c = _k_init(x,clusters, row_norms(x, squared=True), np.random.RandomState())"
   ]
  },
  {
   "cell_type": "code",
   "execution_count": 57,
   "metadata": {},
   "outputs": [
    {
     "data": {
      "text/plain": [
       "(400,)"
      ]
     },
     "execution_count": 57,
     "metadata": {},
     "output_type": "execute_result"
    }
   ],
   "source": [
    "fuzzy_cmeans2 = FCM(n_clusters=clusters)\n",
    "fuzzy_cmeans2.centers=c\n",
    "\n",
    "fuzzy_cmeans2.fit(x)\n",
    "centers = fuzzy_cmeans2.centers\n",
    "\n",
    "\n",
    "label=fuzzy_cmeans2.predict(x)\n",
    "\n",
    "label.shape"
   ]
  },
  {
   "cell_type": "code",
   "execution_count": 58,
   "metadata": {},
   "outputs": [],
   "source": [
    "np.unique(label)\n",
    "ny=label"
   ]
  },
  {
   "cell_type": "code",
   "execution_count": 59,
   "metadata": {},
   "outputs": [
    {
     "name": "stdout",
     "output_type": "stream",
     "text": [
      "0.274122259066099\n",
      "2.8\n",
      "0.3290946363341161\n"
     ]
    },
    {
     "name": "stderr",
     "output_type": "stream",
     "text": [
      "C:\\ProgramData\\Anaconda3\\lib\\site-packages\\sklearn\\metrics\\cluster\\supervised.py:859: FutureWarning: The behavior of NMI will change in version 0.22. To match the behavior of 'v_measure_score', NMI will use average_method='arithmetic' by default.\n",
      "  FutureWarning)\n"
     ]
    }
   ],
   "source": [
    "\n",
    "from sklearn.metrics.cluster import adjusted_rand_score\n",
    "from sklearn.metrics import mean_squared_error\n",
    "from sklearn.metrics.cluster import normalized_mutual_info_score\n",
    "\n",
    "print(adjusted_rand_score(y,ny))\n",
    "print(mean_squared_error(y,ny))\n",
    "print(normalized_mutual_info_score(y,ny))\n"
   ]
  },
  {
   "cell_type": "code",
   "execution_count": null,
   "metadata": {},
   "outputs": [],
   "source": []
  },
  {
   "cell_type": "code",
   "execution_count": 60,
   "metadata": {},
   "outputs": [],
   "source": [
    "test=pd.DataFrame()\n",
    "test['y']=y\n",
    "test['ny']=label\n",
    "test.head()\n",
    "groupedtest=pd.DataFrame(test.groupby(by=['y','ny']).size().reset_index(name='count'))"
   ]
  },
  {
   "cell_type": "code",
   "execution_count": 61,
   "metadata": {},
   "outputs": [],
   "source": [
    "import itertools \n",
    "perm = itertools.permutations(np.unique(y)) \n",
    "_totalperm=[]\n",
    "  \n",
    "for i in list(perm): \n",
    "    _totalperm.append(list(i)) "
   ]
  },
  {
   "cell_type": "code",
   "execution_count": 62,
   "metadata": {},
   "outputs": [
    {
     "name": "stdout",
     "output_type": "stream",
     "text": [
      "0\n",
      "1\n",
      "2\n",
      "3\n",
      "4\n",
      "5\n",
      "6\n",
      "7\n",
      "8\n",
      "9\n",
      "10\n",
      "11\n",
      "12\n",
      "13\n",
      "14\n",
      "15\n",
      "16\n",
      "17\n",
      "18\n",
      "19\n",
      "20\n",
      "21\n",
      "22\n",
      "23\n"
     ]
    }
   ],
   "source": [
    "from sklearn import metrics as m\n",
    "accuracy=np.zeros((len(_totalperm)))\n",
    "values=[]\n",
    "\n",
    "for i in range(len(_totalperm)): \n",
    "    print(i)\n",
    "    newcolvals=np.zeros((test.shape[0]))\n",
    "    for j in range(test.shape[0]):\n",
    "        newcolvals[j]=(_totalperm[i])[test.ny[j]] \n",
    "        \n",
    "    accval=m.accuracy_score(test.y,newcolvals)\n",
    "    accuracy[i]=(accval)\n",
    "    values.append(list(_totalperm[i]))"
   ]
  },
  {
   "cell_type": "code",
   "execution_count": 63,
   "metadata": {},
   "outputs": [
    {
     "data": {
      "text/plain": [
       "0.5225"
      ]
     },
     "execution_count": 63,
     "metadata": {},
     "output_type": "execute_result"
    }
   ],
   "source": [
    "np.max(accuracy)"
   ]
  },
  {
   "cell_type": "code",
   "execution_count": null,
   "metadata": {},
   "outputs": [],
   "source": []
  }
 ],
 "metadata": {
  "kernelspec": {
   "display_name": "Python 3",
   "language": "python",
   "name": "python3"
  },
  "language_info": {
   "codemirror_mode": {
    "name": "ipython",
    "version": 3
   },
   "file_extension": ".py",
   "mimetype": "text/x-python",
   "name": "python",
   "nbconvert_exporter": "python",
   "pygments_lexer": "ipython3",
   "version": "3.7.3"
  }
 },
 "nbformat": 4,
 "nbformat_minor": 2
}
