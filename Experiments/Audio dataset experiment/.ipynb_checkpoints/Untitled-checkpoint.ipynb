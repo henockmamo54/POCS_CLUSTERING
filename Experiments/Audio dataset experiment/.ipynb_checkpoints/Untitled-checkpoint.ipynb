{
 "cells": [
  {
   "cell_type": "code",
   "execution_count": 1,
   "metadata": {},
   "outputs": [
    {
     "name": "stderr",
     "output_type": "stream",
     "text": [
      "C:\\ProgramData\\Anaconda3\\lib\\site-packages\\pydub\\utils.py:165: RuntimeWarning: Couldn't find ffmpeg or avconv - defaulting to ffmpeg, but may not work\n",
      "  warn(\"Couldn't find ffmpeg or avconv - defaulting to ffmpeg, but may not work\", RuntimeWarning)\n"
     ]
    }
   ],
   "source": [
    "import pandas as pd\n",
    "import numpy as np\n",
    "from pyAudioAnalysis import audioBasicIO #A\n",
    "from pyAudioAnalysis import audioFeatureExtraction #B\n",
    "import matplotlib.pyplot as plt\n",
    "import os"
   ]
  },
  {
   "cell_type": "code",
   "execution_count": 2,
   "metadata": {},
   "outputs": [],
   "source": [
    "def preProcess( fileName ):\n",
    "    \n",
    "    # Extracting wav file data\n",
    "    [Fs, x] = audioBasicIO.readAudioFile(fileName);\n",
    "\n",
    "    # If double channel data then take mean\n",
    "    if( len( x.shape ) > 1 and  x.shape[1] == 2 ):\n",
    "        x = np.mean( x, axis = 1, keepdims = True )\n",
    "    else:\n",
    "        x = x.reshape( x.shape[0], 1 )\n",
    "    \n",
    "    # Extract the raw chromagram data, expected dimention is [ m,  ] not [ m, 1 ]\n",
    "    F, f_names = audioFeatureExtraction.stFeatureExtraction(\n",
    "        x[ :, 0 ], \n",
    "        Fs, 0.050*Fs, \n",
    "        0.025*Fs\n",
    "    )\n",
    "    \n",
    "    return (f_names, F)"
   ]
  },
  {
   "cell_type": "code",
   "execution_count": 3,
   "metadata": {},
   "outputs": [],
   "source": [
    "def getChromagram( audioData ):\n",
    "    \n",
    "    # chronograph_1\n",
    "    temp_data =  audioData[ 21 ].reshape( 1, audioData[ 21 ].shape[0] )\n",
    "    chronograph = temp_data\n",
    "    \n",
    "    # looping through the next 11 stacking them vertically\n",
    "    for i in range( 22, 33 ):\n",
    "        temp_data =  audioData[ i ].reshape( 1, audioData[ i ].shape[0] )\n",
    "        chronograph = np.vstack( [ chronograph,  temp_data ] )\n",
    "    \n",
    "    return chronograph"
   ]
  },
  {
   "cell_type": "code",
   "execution_count": 4,
   "metadata": {},
   "outputs": [],
   "source": [
    "def getNoteFrequency( chromagram ):\n",
    "    \n",
    "    # Total number of time frames in the current sample\n",
    "    numberOfWindows = chromagram.shape[1]\n",
    "    \n",
    "    # Taking the note with the highest amplitude\n",
    "    freqVal = chromagram.argmax( axis = 0 )\n",
    "    \n",
    "    # Converting the freqVal vs time to freq count\n",
    "    histogram, bin = np.histogram( freqVal, bins = 12 ) \n",
    "    \n",
    "    # Normalizing the distribution by the number of time frames\n",
    "    normalized_hist = histogram.reshape( 1, 12 ).astype( float ) / numberOfWindows\n",
    "    \n",
    "    return normalized_hist"
   ]
  },
  {
   "cell_type": "code",
   "execution_count": 5,
   "metadata": {},
   "outputs": [],
   "source": [
    "def plotHeatmap( chromagraph, smallSample = True ):\n",
    "    \n",
    "    notesLabels = [ \"G#\", \"G\", \"F#\", \"F\", \"E\", \"D#\", \"D\", \"C#\", \"C\", \"B\", \"A#\", \"A\" ]\n",
    "    \n",
    "    fig, axis = plt.subplots()\n",
    "    \n",
    "    if smallSample:\n",
    "        im = axis.imshow( chromagram[ :, 0 : 25 ], cmap = \"YlGn\" )\n",
    "    else:\n",
    "        im = axis.imshow( chromagram )\n",
    "        \n",
    "    cbar = axis.figure.colorbar(im, ax = axis,  cmap = \"YlGn\")\n",
    "    cbar.ax.set_ylabel(\"Amplitude\", rotation=-90, va=\"bottom\")\n",
    "    \n",
    "    axis.set_yticks( np.arange( len(notesLabels) ) )\n",
    "    axis.set_yticklabels(notesLabels)\n",
    "    \n",
    "    axis.set_title( \"chromagram\" )\n",
    "    \n",
    "    fig.tight_layout()\n",
    "    _ = plt.show()"
   ]
  },
  {
   "cell_type": "code",
   "execution_count": 6,
   "metadata": {},
   "outputs": [],
   "source": [
    "def noteFrequencyPlot( noteFrequency, smallSample = True ):\n",
    "    \n",
    "    fig, axis = plt.subplots(1, 1, sharey=True )\n",
    "    \n",
    "    axis.plot( np.arange( 1, 13 ), noteFrequency[0, :] )\n",
    "    \n",
    "    _ = plt.show()"
   ]
  },
  {
   "cell_type": "code",
   "execution_count": 7,
   "metadata": {},
   "outputs": [],
   "source": [
    "def dirMp3toWavWrapper(directory, samplerate, channels):\n",
    "    if not os.path.isdir(directory):\n",
    "        raise Exception(\"Input path not found!\")\n",
    "\n",
    "    useMp3TagsAsNames = True\n",
    "    audioBasicIO.convertDirMP3ToWav(directory, samplerate, channels, useMp3TagsAsNames)"
   ]
  },
  {
   "cell_type": "code",
   "execution_count": 8,
   "metadata": {},
   "outputs": [],
   "source": [
    "# dataset/alternative/50_Minutes-Colours.mp3"
   ]
  },
  {
   "cell_type": "code",
   "execution_count": 9,
   "metadata": {},
   "outputs": [],
   "source": [
    "feature_name, features = preProcess( \"dataset - original/alternative/50_Minutes-Colours.wav\" )"
   ]
  },
  {
   "cell_type": "code",
   "execution_count": 10,
   "metadata": {},
   "outputs": [
    {
     "data": {
      "image/png": "[encoded data removed]",
      "text/plain": [
       "<Figure size 432x288 with 2 Axes>"
      ]
     },
     "metadata": {
      "needs_background": "light"
     },
     "output_type": "display_data"
    }
   ],
   "source": [
    "chromagram = getChromagram( features )\n",
    "plotHeatmap( chromagram )"
   ]
  },
  {
   "cell_type": "code",
   "execution_count": 11,
   "metadata": {},
   "outputs": [],
   "source": [
    "featurespd=pd.DataFrame(features)"
   ]
  },
  {
   "cell_type": "code",
   "execution_count": 12,
   "metadata": {},
   "outputs": [
    {
     "data": {
      "image/png": "[encoded data removed]",
      "text/plain": [
       "<Figure size 432x288 with 1 Axes>"
      ]
     },
     "metadata": {
      "needs_background": "light"
     },
     "output_type": "display_data"
    }
   ],
   "source": [
    "noteFrequency = getNoteFrequency( chromagram )\n",
    "noteFrequencyPlot( noteFrequency )"
   ]
  },
  {
   "cell_type": "code",
   "execution_count": 13,
   "metadata": {},
   "outputs": [],
   "source": [
    "fileList = []\n",
    "\n",
    "def getDataset( filePath ):\n",
    "    X = pd.DataFrame(  )\n",
    "    \n",
    "    columns=[ \"G#\", \"G\", \"F#\", \"F\", \"E\", \"D#\", \"D\", \"C#\", \"C\", \"B\", \"A#\", \"A\" ]\n",
    "    \n",
    "    for root, dirs, filenames in os.walk( filePath ):\n",
    "        for file in filenames:\n",
    "            fileList.append( file )\n",
    "            feature_name, features = preProcess(filePath + file )\n",
    "            chromagram = getChromagram( features )\n",
    "            noteFrequency = getNoteFrequency( chromagram )\n",
    "            x_new =  pd.Series(noteFrequency[ 0, : ])\n",
    "            X = pd.concat( [ X, x_new ], axis = 1 ) \n",
    "        \n",
    "    data = X.T.copy()\n",
    "    data.columns = columns\n",
    "    data.index = [ i for i in range( 0, data.shape[ 0 ] ) ]\n",
    "            \n",
    "    return data"
   ]
  },
  {
   "cell_type": "code",
   "execution_count": 14,
   "metadata": {},
   "outputs": [
    {
     "name": "stdout",
     "output_type": "stream",
     "text": [
      "dataset/blues/\n",
      "dataset/electronic/\n",
      "dataset/folkcountry/\n",
      "dataset/jazz/\n",
      "dataset/pop/\n"
     ]
    }
   ],
   "source": [
    "mydata=[]\n",
    "for k in os.listdir('dataset'):\n",
    "    fileList = []\n",
    "    data=getDataset( 'dataset/'+k+'/')\n",
    "    data['filename']=fileList\n",
    "    data['group']=k\n",
    "    mydata.append(data)\n",
    "    print('dataset/'+k+'/')"
   ]
  },
  {
   "cell_type": "code",
   "execution_count": 15,
   "metadata": {},
   "outputs": [
    {
     "data": {
      "text/plain": [
       "(774, 14)"
      ]
     },
     "execution_count": 15,
     "metadata": {},
     "output_type": "execute_result"
    }
   ],
   "source": [
    "# features=pd.concat([mydata[0],mydata[1]])\n",
    "features=pd.concat([mydata[0],mydata[1],mydata[2],mydata[3]])#,mydata[4],mydata[5],mydata[6],mydata[7],mydata[8]\n",
    "features.shape"
   ]
  },
  {
   "cell_type": "code",
   "execution_count": 16,
   "metadata": {},
   "outputs": [
    {
     "data": {
      "text/plain": [
       "group\n",
       "blues          120\n",
       "electronic     113\n",
       "folkcountry    222\n",
       "jazz           319\n",
       "dtype: int64"
      ]
     },
     "execution_count": 16,
     "metadata": {},
     "output_type": "execute_result"
    }
   ],
   "source": [
    "features.groupby(by='group').size()"
   ]
  },
  {
   "cell_type": "code",
   "execution_count": 17,
   "metadata": {},
   "outputs": [
    {
     "data": {
      "text/plain": [
       "array(['blues', 'electronic', 'folkcountry', 'jazz'], dtype=object)"
      ]
     },
     "execution_count": 17,
     "metadata": {},
     "output_type": "execute_result"
    }
   ],
   "source": [
    "features.group.unique()"
   ]
  },
  {
   "cell_type": "code",
   "execution_count": 18,
   "metadata": {},
   "outputs": [
    {
     "data": {
      "text/html": [
       "<div>\n",
       "<style scoped>\n",
       "    .dataframe tbody tr th:only-of-type {\n",
       "        vertical-align: middle;\n",
       "    }\n",
       "\n",
       "    .dataframe tbody tr th {\n",
       "        vertical-align: top;\n",
       "    }\n",
       "\n",
       "    .dataframe thead th {\n",
       "        text-align: right;\n",
       "    }\n",
       "</style>\n",
       "<table border=\"1\" class=\"dataframe\">\n",
       "  <thead>\n",
       "    <tr style=\"text-align: right;\">\n",
       "      <th></th>\n",
       "      <th>G#</th>\n",
       "      <th>G</th>\n",
       "      <th>F#</th>\n",
       "      <th>F</th>\n",
       "      <th>E</th>\n",
       "      <th>D#</th>\n",
       "      <th>D</th>\n",
       "      <th>C#</th>\n",
       "      <th>C</th>\n",
       "      <th>B</th>\n",
       "      <th>A#</th>\n",
       "      <th>A</th>\n",
       "      <th>filename</th>\n",
       "      <th>group</th>\n",
       "    </tr>\n",
       "  </thead>\n",
       "  <tbody>\n",
       "    <tr>\n",
       "      <th>0</th>\n",
       "      <td>0.184539</td>\n",
       "      <td>0.037406</td>\n",
       "      <td>0.119701</td>\n",
       "      <td>0.029925</td>\n",
       "      <td>0.144638</td>\n",
       "      <td>0.009975</td>\n",
       "      <td>0.082294</td>\n",
       "      <td>0.004988</td>\n",
       "      <td>0.047382</td>\n",
       "      <td>0.089776</td>\n",
       "      <td>0.197007</td>\n",
       "      <td>0.052369</td>\n",
       "      <td>All_Men_Are_Dogs_-GIGOLETTE.wav</td>\n",
       "      <td>blues</td>\n",
       "    </tr>\n",
       "    <tr>\n",
       "      <th>1</th>\n",
       "      <td>0.037406</td>\n",
       "      <td>0.062344</td>\n",
       "      <td>0.231920</td>\n",
       "      <td>0.052369</td>\n",
       "      <td>0.059850</td>\n",
       "      <td>0.057357</td>\n",
       "      <td>0.234414</td>\n",
       "      <td>0.029925</td>\n",
       "      <td>0.014963</td>\n",
       "      <td>0.059850</td>\n",
       "      <td>0.147132</td>\n",
       "      <td>0.012469</td>\n",
       "      <td>All_Men_Are_Dogs_-I_M_LOOKING_FOR_MY_HUSBAND_.wav</td>\n",
       "      <td>blues</td>\n",
       "    </tr>\n",
       "    <tr>\n",
       "      <th>2</th>\n",
       "      <td>0.029925</td>\n",
       "      <td>0.009975</td>\n",
       "      <td>0.276808</td>\n",
       "      <td>0.057357</td>\n",
       "      <td>0.172070</td>\n",
       "      <td>0.012469</td>\n",
       "      <td>0.204489</td>\n",
       "      <td>0.017456</td>\n",
       "      <td>0.000000</td>\n",
       "      <td>0.024938</td>\n",
       "      <td>0.187032</td>\n",
       "      <td>0.007481</td>\n",
       "      <td>Andy_Kimbel-Red_Hot_Blues.wav</td>\n",
       "      <td>blues</td>\n",
       "    </tr>\n",
       "    <tr>\n",
       "      <th>3</th>\n",
       "      <td>0.024938</td>\n",
       "      <td>0.009975</td>\n",
       "      <td>0.089776</td>\n",
       "      <td>0.044888</td>\n",
       "      <td>0.039900</td>\n",
       "      <td>0.102244</td>\n",
       "      <td>0.344140</td>\n",
       "      <td>0.004988</td>\n",
       "      <td>0.022444</td>\n",
       "      <td>0.069825</td>\n",
       "      <td>0.214464</td>\n",
       "      <td>0.032419</td>\n",
       "      <td>barry_harvey-__ORIGINAL__BLACK___BLUE__MASTERP...</td>\n",
       "      <td>blues</td>\n",
       "    </tr>\n",
       "    <tr>\n",
       "      <th>4</th>\n",
       "      <td>0.039900</td>\n",
       "      <td>0.000000</td>\n",
       "      <td>0.463840</td>\n",
       "      <td>0.002494</td>\n",
       "      <td>0.054863</td>\n",
       "      <td>0.000000</td>\n",
       "      <td>0.002494</td>\n",
       "      <td>0.271820</td>\n",
       "      <td>0.014963</td>\n",
       "      <td>0.022444</td>\n",
       "      <td>0.007481</td>\n",
       "      <td>0.119701</td>\n",
       "      <td>BB_CHUNG_KING_AND_THE_BUDDAHEADS-COMPANY_GRAVE...</td>\n",
       "      <td>blues</td>\n",
       "    </tr>\n",
       "  </tbody>\n",
       "</table>\n",
       "</div>"
      ],
      "text/plain": [
       "         G#         G        F#         F         E        D#         D  \\\n",
       "0  0.184539  0.037406  0.119701  0.029925  0.144638  0.009975  0.082294   \n",
       "1  0.037406  0.062344  0.231920  0.052369  0.059850  0.057357  0.234414   \n",
       "2  0.029925  0.009975  0.276808  0.057357  0.172070  0.012469  0.204489   \n",
       "3  0.024938  0.009975  0.089776  0.044888  0.039900  0.102244  0.344140   \n",
       "4  0.039900  0.000000  0.463840  0.002494  0.054863  0.000000  0.002494   \n",
       "\n",
       "         C#         C         B        A#         A  \\\n",
       "0  0.004988  0.047382  0.089776  0.197007  0.052369   \n",
       "1  0.029925  0.014963  0.059850  0.147132  0.012469   \n",
       "2  0.017456  0.000000  0.024938  0.187032  0.007481   \n",
       "3  0.004988  0.022444  0.069825  0.214464  0.032419   \n",
       "4  0.271820  0.014963  0.022444  0.007481  0.119701   \n",
       "\n",
       "                                            filename  group  \n",
       "0                    All_Men_Are_Dogs_-GIGOLETTE.wav  blues  \n",
       "1  All_Men_Are_Dogs_-I_M_LOOKING_FOR_MY_HUSBAND_.wav  blues  \n",
       "2                      Andy_Kimbel-Red_Hot_Blues.wav  blues  \n",
       "3  barry_harvey-__ORIGINAL__BLACK___BLUE__MASTERP...  blues  \n",
       "4  BB_CHUNG_KING_AND_THE_BUDDAHEADS-COMPANY_GRAVE...  blues  "
      ]
     },
     "execution_count": 18,
     "metadata": {},
     "output_type": "execute_result"
    }
   ],
   "source": [
    "features.head()"
   ]
  },
  {
   "cell_type": "code",
   "execution_count": 19,
   "metadata": {},
   "outputs": [],
   "source": [
    "features.to_csv('features.txt',sep=',')"
   ]
  },
  {
   "cell_type": "code",
   "execution_count": null,
   "metadata": {},
   "outputs": [],
   "source": []
  },
  {
   "cell_type": "code",
   "execution_count": 20,
   "metadata": {},
   "outputs": [
    {
     "data": {
      "text/html": [
       "<div>\n",
       "<style scoped>\n",
       "    .dataframe tbody tr th:only-of-type {\n",
       "        vertical-align: middle;\n",
       "    }\n",
       "\n",
       "    .dataframe tbody tr th {\n",
       "        vertical-align: top;\n",
       "    }\n",
       "\n",
       "    .dataframe thead th {\n",
       "        text-align: right;\n",
       "    }\n",
       "</style>\n",
       "<table border=\"1\" class=\"dataframe\">\n",
       "  <thead>\n",
       "    <tr style=\"text-align: right;\">\n",
       "      <th></th>\n",
       "      <th>G#</th>\n",
       "      <th>G</th>\n",
       "      <th>F#</th>\n",
       "      <th>F</th>\n",
       "      <th>E</th>\n",
       "      <th>D#</th>\n",
       "      <th>D</th>\n",
       "      <th>C#</th>\n",
       "      <th>C</th>\n",
       "      <th>B</th>\n",
       "      <th>A#</th>\n",
       "      <th>A</th>\n",
       "    </tr>\n",
       "  </thead>\n",
       "  <tbody>\n",
       "    <tr>\n",
       "      <th>0</th>\n",
       "      <td>0.184539</td>\n",
       "      <td>0.037406</td>\n",
       "      <td>0.119701</td>\n",
       "      <td>0.029925</td>\n",
       "      <td>0.144638</td>\n",
       "      <td>0.009975</td>\n",
       "      <td>0.082294</td>\n",
       "      <td>0.004988</td>\n",
       "      <td>0.047382</td>\n",
       "      <td>0.089776</td>\n",
       "      <td>0.197007</td>\n",
       "      <td>0.052369</td>\n",
       "    </tr>\n",
       "    <tr>\n",
       "      <th>1</th>\n",
       "      <td>0.037406</td>\n",
       "      <td>0.062344</td>\n",
       "      <td>0.231920</td>\n",
       "      <td>0.052369</td>\n",
       "      <td>0.059850</td>\n",
       "      <td>0.057357</td>\n",
       "      <td>0.234414</td>\n",
       "      <td>0.029925</td>\n",
       "      <td>0.014963</td>\n",
       "      <td>0.059850</td>\n",
       "      <td>0.147132</td>\n",
       "      <td>0.012469</td>\n",
       "    </tr>\n",
       "    <tr>\n",
       "      <th>2</th>\n",
       "      <td>0.029925</td>\n",
       "      <td>0.009975</td>\n",
       "      <td>0.276808</td>\n",
       "      <td>0.057357</td>\n",
       "      <td>0.172070</td>\n",
       "      <td>0.012469</td>\n",
       "      <td>0.204489</td>\n",
       "      <td>0.017456</td>\n",
       "      <td>0.000000</td>\n",
       "      <td>0.024938</td>\n",
       "      <td>0.187032</td>\n",
       "      <td>0.007481</td>\n",
       "    </tr>\n",
       "    <tr>\n",
       "      <th>3</th>\n",
       "      <td>0.024938</td>\n",
       "      <td>0.009975</td>\n",
       "      <td>0.089776</td>\n",
       "      <td>0.044888</td>\n",
       "      <td>0.039900</td>\n",
       "      <td>0.102244</td>\n",
       "      <td>0.344140</td>\n",
       "      <td>0.004988</td>\n",
       "      <td>0.022444</td>\n",
       "      <td>0.069825</td>\n",
       "      <td>0.214464</td>\n",
       "      <td>0.032419</td>\n",
       "    </tr>\n",
       "    <tr>\n",
       "      <th>4</th>\n",
       "      <td>0.039900</td>\n",
       "      <td>0.000000</td>\n",
       "      <td>0.463840</td>\n",
       "      <td>0.002494</td>\n",
       "      <td>0.054863</td>\n",
       "      <td>0.000000</td>\n",
       "      <td>0.002494</td>\n",
       "      <td>0.271820</td>\n",
       "      <td>0.014963</td>\n",
       "      <td>0.022444</td>\n",
       "      <td>0.007481</td>\n",
       "      <td>0.119701</td>\n",
       "    </tr>\n",
       "  </tbody>\n",
       "</table>\n",
       "</div>"
      ],
      "text/plain": [
       "         G#         G        F#         F         E        D#         D  \\\n",
       "0  0.184539  0.037406  0.119701  0.029925  0.144638  0.009975  0.082294   \n",
       "1  0.037406  0.062344  0.231920  0.052369  0.059850  0.057357  0.234414   \n",
       "2  0.029925  0.009975  0.276808  0.057357  0.172070  0.012469  0.204489   \n",
       "3  0.024938  0.009975  0.089776  0.044888  0.039900  0.102244  0.344140   \n",
       "4  0.039900  0.000000  0.463840  0.002494  0.054863  0.000000  0.002494   \n",
       "\n",
       "         C#         C         B        A#         A  \n",
       "0  0.004988  0.047382  0.089776  0.197007  0.052369  \n",
       "1  0.029925  0.014963  0.059850  0.147132  0.012469  \n",
       "2  0.017456  0.000000  0.024938  0.187032  0.007481  \n",
       "3  0.004988  0.022444  0.069825  0.214464  0.032419  \n",
       "4  0.271820  0.014963  0.022444  0.007481  0.119701  "
      ]
     },
     "execution_count": 20,
     "metadata": {},
     "output_type": "execute_result"
    }
   ],
   "source": [
    "x= features.iloc[:,:-2]\n",
    "y=features.iloc[:,-1]\n",
    "x.head()"
   ]
  },
  {
   "cell_type": "code",
   "execution_count": 21,
   "metadata": {},
   "outputs": [],
   "source": [
    "from sklearn.preprocessing import LabelEncoder\n",
    "encoder=LabelEncoder()\n",
    "y=encoder.fit_transform(y)"
   ]
  },
  {
   "cell_type": "code",
   "execution_count": 22,
   "metadata": {},
   "outputs": [
    {
     "data": {
      "text/plain": [
       "array([1, 3, 2, 3, 0, 2, 2, 0, 2, 2, 3, 3, 0, 3, 1, 0, 3, 2, 0, 0, 3, 3,\n",
       "       2, 3, 3, 2, 1, 3, 0, 2, 0, 2, 3, 2, 2, 0, 1, 3, 2, 3, 3, 3, 3, 3,\n",
       "       2, 0, 2, 0, 0, 1, 0, 3, 3, 3, 2, 2, 3, 0, 3, 2, 0, 0, 3, 2, 0, 1,\n",
       "       3, 0, 0, 0, 3, 3, 2, 2, 3, 2, 3, 3, 2, 3, 0, 3, 3, 0, 0, 3, 2, 0,\n",
       "       3, 0, 2, 0, 3, 0, 3, 0, 3, 3, 0, 3, 3, 0, 2, 0, 3, 3, 3, 3, 0, 2,\n",
       "       3, 0, 2, 0, 1, 3, 3, 2, 0, 0, 0, 3, 1, 1, 0, 1, 0, 0, 2, 1, 3, 2,\n",
       "       2, 1, 1, 0, 0, 0, 3, 0, 1, 0, 0, 3, 2, 1, 3, 1, 0, 0, 1, 0, 0, 1,\n",
       "       2, 0, 3, 1, 2, 1, 0, 2, 0, 3, 3, 2, 1, 0, 0, 2, 0, 0, 0, 0, 2, 3,\n",
       "       1, 1, 2, 0, 2, 0, 0, 3, 3, 1, 0, 0, 1, 0, 0, 0, 0, 0, 0, 1, 2, 2,\n",
       "       3, 0, 0, 0, 0, 3, 3, 1, 3, 0, 3, 3, 0, 1, 1, 3, 0, 3, 0, 0, 1, 0,\n",
       "       1, 2, 1, 0, 1, 1, 0, 2, 3, 1, 3, 2, 3, 2, 2, 2, 2, 0, 0, 2, 1, 2,\n",
       "       0, 2, 2, 2, 2, 2, 3, 3, 2, 3, 3, 3, 2, 0, 3, 0, 2, 0, 1, 3, 0, 0,\n",
       "       2, 0, 3, 2, 3, 2, 1, 1, 0, 2, 0, 0, 2, 2, 2, 0, 2, 2, 1, 3, 0, 0,\n",
       "       0, 0, 1, 3, 2, 1, 2, 2, 2, 2, 1, 2, 3, 3, 3, 1, 2, 2, 3, 2, 3, 3,\n",
       "       1, 1, 2, 0, 3, 2, 3, 2, 3, 3, 3, 2, 2, 3, 2, 1, 3, 2, 3, 3, 0, 0,\n",
       "       0, 0, 0, 2, 0, 3, 0, 2, 0, 0, 1, 1, 3, 0, 3, 2, 3, 3, 2, 3, 2, 1,\n",
       "       3, 1, 2, 0, 0, 2, 2, 2, 2, 1, 2, 3, 2, 3, 2, 0, 0, 3, 0, 2, 0, 2,\n",
       "       3, 3, 0, 2, 3, 0, 0, 0, 0, 0, 2, 3, 2, 3, 0, 1, 3, 1, 2, 1, 2, 0,\n",
       "       2, 0, 0, 0, 1, 3, 1, 2, 2, 2, 3, 2, 1, 3, 0, 0, 2, 2, 2, 2, 0, 0,\n",
       "       3, 0, 2, 1, 1, 2, 0, 2, 1, 3, 2, 0, 0, 0, 0, 3, 2, 0, 0, 3, 2, 0,\n",
       "       2, 3, 2, 1, 2, 3, 3, 2, 2, 0, 0, 0, 1, 2, 0, 3, 2, 3, 3, 2, 3, 0,\n",
       "       0, 2, 3, 2, 3, 0, 0, 3, 0, 2, 0, 2, 1, 1, 3, 0, 0, 0, 3, 0, 3, 0,\n",
       "       3, 3, 2, 0, 1, 0, 0, 2, 3, 2, 3, 3, 3, 3, 2, 3, 0, 2, 3, 0, 0, 3,\n",
       "       0, 2, 0, 2, 2, 2, 2, 2, 2, 0, 3, 2, 3, 1, 0, 3, 0, 0, 3, 1, 1, 3,\n",
       "       1, 0, 2, 3, 2, 1, 3, 2, 3, 3, 2, 0, 3, 2, 3, 0, 0, 3, 0, 3, 2, 3,\n",
       "       0, 0, 1, 2, 3, 3, 0, 0, 3, 2, 3, 3, 1, 2, 0, 0, 3, 3, 3, 3, 2, 3,\n",
       "       3, 3, 2, 3, 2, 3, 3, 3, 0, 3, 0, 3, 0, 3, 2, 3, 0, 1, 2, 3, 1, 3,\n",
       "       2, 2, 3, 2, 0, 0, 3, 2, 3, 0, 0, 0, 2, 3, 3, 3, 0, 0, 0, 3, 3, 3,\n",
       "       2, 1, 3, 3, 2, 1, 2, 2, 3, 2, 0, 1, 2, 1, 0, 0, 2, 2, 0, 3, 3, 0,\n",
       "       0, 0, 3, 2, 3, 3, 1, 3, 3, 3, 3, 0, 3, 3, 3, 1, 2, 2, 2, 2, 2, 1,\n",
       "       0, 0, 3, 0, 0, 3, 1, 1, 2, 2, 3, 3, 2, 2, 3, 3, 2, 2, 0, 2, 2, 3,\n",
       "       3, 3, 0, 0, 3, 3, 0, 0, 2, 0, 1, 0, 2, 1, 3, 1, 3, 1, 2, 3, 3, 0,\n",
       "       3, 0, 3, 0, 0, 2, 2, 2, 0, 0, 2, 3, 3, 0, 2, 3, 2, 2, 2, 2, 3, 0,\n",
       "       3, 0, 3, 2, 0, 0, 2, 3, 3, 3, 3, 2, 2, 3, 0, 3, 3, 1, 1, 2, 3, 2,\n",
       "       1, 3, 3, 0, 3, 2, 3, 2, 2, 0, 1, 3, 3, 0, 2, 1, 3, 0, 0, 2, 0, 2,\n",
       "       0, 3, 3, 2])"
      ]
     },
     "execution_count": 22,
     "metadata": {},
     "output_type": "execute_result"
    }
   ],
   "source": [
    "from sklearn.cluster import KMeans\n",
    "import numpy as np\n",
    "\n",
    "kmeans = KMeans(n_clusters=4,init='k-means++', random_state=0).fit(x)\n",
    "kmeans.labels_\n",
    "\n"
   ]
  },
  {
   "cell_type": "code",
   "execution_count": 23,
   "metadata": {},
   "outputs": [],
   "source": [
    "test=pd.DataFrame()\n",
    "test['y']=y\n",
    "test['ny']=kmeans.labels_\n",
    "test.head()\n",
    "groupedtest=pd.DataFrame(test.groupby(by=['y','ny']).size().reset_index(name='count'))"
   ]
  },
  {
   "cell_type": "code",
   "execution_count": 24,
   "metadata": {},
   "outputs": [
    {
     "data": {
      "text/html": [
       "<div>\n",
       "<style scoped>\n",
       "    .dataframe tbody tr th:only-of-type {\n",
       "        vertical-align: middle;\n",
       "    }\n",
       "\n",
       "    .dataframe tbody tr th {\n",
       "        vertical-align: top;\n",
       "    }\n",
       "\n",
       "    .dataframe thead th {\n",
       "        text-align: right;\n",
       "    }\n",
       "</style>\n",
       "<table border=\"1\" class=\"dataframe\">\n",
       "  <thead>\n",
       "    <tr style=\"text-align: right;\">\n",
       "      <th></th>\n",
       "      <th>y</th>\n",
       "      <th>ny</th>\n",
       "      <th>count</th>\n",
       "    </tr>\n",
       "  </thead>\n",
       "  <tbody>\n",
       "  </tbody>\n",
       "</table>\n",
       "</div>"
      ],
      "text/plain": [
       "Empty DataFrame\n",
       "Columns: [y, ny, count]\n",
       "Index: []"
      ]
     },
     "execution_count": 24,
     "metadata": {},
     "output_type": "execute_result"
    }
   ],
   "source": [
    "groupedtest[groupedtest.y==7]"
   ]
  },
  {
   "cell_type": "code",
   "execution_count": 25,
   "metadata": {},
   "outputs": [
    {
     "data": {
      "text/html": [
       "<div>\n",
       "<style scoped>\n",
       "    .dataframe tbody tr th:only-of-type {\n",
       "        vertical-align: middle;\n",
       "    }\n",
       "\n",
       "    .dataframe tbody tr th {\n",
       "        vertical-align: top;\n",
       "    }\n",
       "\n",
       "    .dataframe thead th {\n",
       "        text-align: right;\n",
       "    }\n",
       "</style>\n",
       "<table border=\"1\" class=\"dataframe\">\n",
       "  <thead>\n",
       "    <tr style=\"text-align: right;\">\n",
       "      <th></th>\n",
       "      <th>y</th>\n",
       "      <th>ny</th>\n",
       "      <th>count</th>\n",
       "    </tr>\n",
       "  </thead>\n",
       "  <tbody>\n",
       "    <tr>\n",
       "      <th>0</th>\n",
       "      <td>0</td>\n",
       "      <td>0</td>\n",
       "      <td>36</td>\n",
       "    </tr>\n",
       "    <tr>\n",
       "      <th>1</th>\n",
       "      <td>0</td>\n",
       "      <td>1</td>\n",
       "      <td>7</td>\n",
       "    </tr>\n",
       "    <tr>\n",
       "      <th>2</th>\n",
       "      <td>0</td>\n",
       "      <td>2</td>\n",
       "      <td>29</td>\n",
       "    </tr>\n",
       "    <tr>\n",
       "      <th>3</th>\n",
       "      <td>0</td>\n",
       "      <td>3</td>\n",
       "      <td>48</td>\n",
       "    </tr>\n",
       "    <tr>\n",
       "      <th>4</th>\n",
       "      <td>1</td>\n",
       "      <td>0</td>\n",
       "      <td>46</td>\n",
       "    </tr>\n",
       "    <tr>\n",
       "      <th>5</th>\n",
       "      <td>1</td>\n",
       "      <td>1</td>\n",
       "      <td>28</td>\n",
       "    </tr>\n",
       "    <tr>\n",
       "      <th>6</th>\n",
       "      <td>1</td>\n",
       "      <td>2</td>\n",
       "      <td>17</td>\n",
       "    </tr>\n",
       "    <tr>\n",
       "      <th>7</th>\n",
       "      <td>1</td>\n",
       "      <td>3</td>\n",
       "      <td>22</td>\n",
       "    </tr>\n",
       "    <tr>\n",
       "      <th>8</th>\n",
       "      <td>2</td>\n",
       "      <td>0</td>\n",
       "      <td>62</td>\n",
       "    </tr>\n",
       "    <tr>\n",
       "      <th>9</th>\n",
       "      <td>2</td>\n",
       "      <td>1</td>\n",
       "      <td>28</td>\n",
       "    </tr>\n",
       "    <tr>\n",
       "      <th>10</th>\n",
       "      <td>2</td>\n",
       "      <td>2</td>\n",
       "      <td>80</td>\n",
       "    </tr>\n",
       "    <tr>\n",
       "      <th>11</th>\n",
       "      <td>2</td>\n",
       "      <td>3</td>\n",
       "      <td>52</td>\n",
       "    </tr>\n",
       "    <tr>\n",
       "      <th>12</th>\n",
       "      <td>3</td>\n",
       "      <td>0</td>\n",
       "      <td>84</td>\n",
       "    </tr>\n",
       "    <tr>\n",
       "      <th>13</th>\n",
       "      <td>3</td>\n",
       "      <td>1</td>\n",
       "      <td>30</td>\n",
       "    </tr>\n",
       "    <tr>\n",
       "      <th>14</th>\n",
       "      <td>3</td>\n",
       "      <td>2</td>\n",
       "      <td>85</td>\n",
       "    </tr>\n",
       "    <tr>\n",
       "      <th>15</th>\n",
       "      <td>3</td>\n",
       "      <td>3</td>\n",
       "      <td>120</td>\n",
       "    </tr>\n",
       "  </tbody>\n",
       "</table>\n",
       "</div>"
      ],
      "text/plain": [
       "    y  ny  count\n",
       "0   0   0     36\n",
       "1   0   1      7\n",
       "2   0   2     29\n",
       "3   0   3     48\n",
       "4   1   0     46\n",
       "5   1   1     28\n",
       "6   1   2     17\n",
       "7   1   3     22\n",
       "8   2   0     62\n",
       "9   2   1     28\n",
       "10  2   2     80\n",
       "11  2   3     52\n",
       "12  3   0     84\n",
       "13  3   1     30\n",
       "14  3   2     85\n",
       "15  3   3    120"
      ]
     },
     "execution_count": 25,
     "metadata": {},
     "output_type": "execute_result"
    }
   ],
   "source": [
    "groupedtest"
   ]
  },
  {
   "cell_type": "code",
   "execution_count": null,
   "metadata": {},
   "outputs": [],
   "source": []
  }
 ],
 "metadata": {
  "kernelspec": {
   "display_name": "Python 3",
   "language": "python",
   "name": "python3"
  },
  "language_info": {
   "codemirror_mode": {
    "name": "ipython",
    "version": 3
   },
   "file_extension": ".py",
   "mimetype": "text/x-python",
   "name": "python",
   "nbconvert_exporter": "python",
   "pygments_lexer": "ipython3",
   "version": "3.7.3"
  }
 },
 "nbformat": 4,
 "nbformat_minor": 2
}
