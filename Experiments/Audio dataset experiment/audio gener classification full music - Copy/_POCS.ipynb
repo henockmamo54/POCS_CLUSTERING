{
 "cells": [
  {
   "cell_type": "code",
   "execution_count": 1,
   "metadata": {},
   "outputs": [],
   "source": [
    "import numpy as np\n",
    "import random\n",
    "import math\n",
    "from matplotlib import pyplot as plt\n",
    "from sklearn.datasets.samples_generator import make_blobs\n",
    "import time\n",
    "import pandas as pd\n",
    "from scipy.spatial.distance import cdist\n",
    "from sklearn.utils import shuffle\n",
    "from sklearn.preprocessing import LabelEncoder, StandardScaler"
   ]
  },
  {
   "cell_type": "markdown",
   "metadata": {},
   "source": [
    "Initialize the data points and Random centers\n",
    "===========================\n"
   ]
  },
  {
   "cell_type": "code",
   "execution_count": 2,
   "metadata": {},
   "outputs": [],
   "source": [
    "cluster=4\n",
    "np.random.seed(0)"
   ]
  },
  {
   "cell_type": "code",
   "execution_count": 3,
   "metadata": {},
   "outputs": [
    {
     "data": {
      "text/plain": [
       "array(['alternative', 'blues', 'electronic', 'folkcountry', 'funksoulrnb',\n",
       "       'jazz', 'pop', 'raphiphop', 'rock'], dtype=object)"
      ]
     },
     "execution_count": 3,
     "metadata": {},
     "output_type": "execute_result"
    }
   ],
   "source": [
    "features= pd.read_csv('dataset for 9.csv') \n",
    "features.label.unique()"
   ]
  },
  {
   "cell_type": "code",
   "execution_count": 4,
   "metadata": {},
   "outputs": [
    {
     "data": {
      "text/html": [
       "<div>\n",
       "<style scoped>\n",
       "    .dataframe tbody tr th:only-of-type {\n",
       "        vertical-align: middle;\n",
       "    }\n",
       "\n",
       "    .dataframe tbody tr th {\n",
       "        vertical-align: top;\n",
       "    }\n",
       "\n",
       "    .dataframe thead th {\n",
       "        text-align: right;\n",
       "    }\n",
       "</style>\n",
       "<table border=\"1\" class=\"dataframe\">\n",
       "  <thead>\n",
       "    <tr style=\"text-align: right;\">\n",
       "      <th></th>\n",
       "      <th>filename</th>\n",
       "      <th>chroma_stft</th>\n",
       "      <th>rmse</th>\n",
       "      <th>spectral_centroid</th>\n",
       "      <th>spectral_bandwidth</th>\n",
       "      <th>rolloff</th>\n",
       "      <th>zero_crossing_rate</th>\n",
       "      <th>mfcc1</th>\n",
       "      <th>mfcc2</th>\n",
       "      <th>mfcc3</th>\n",
       "      <th>...</th>\n",
       "      <th>mfcc12</th>\n",
       "      <th>mfcc13</th>\n",
       "      <th>mfcc14</th>\n",
       "      <th>mfcc15</th>\n",
       "      <th>mfcc16</th>\n",
       "      <th>mfcc17</th>\n",
       "      <th>mfcc18</th>\n",
       "      <th>mfcc19</th>\n",
       "      <th>mfcc20</th>\n",
       "      <th>label</th>\n",
       "    </tr>\n",
       "  </thead>\n",
       "  <tbody>\n",
       "    <tr>\n",
       "      <th>0</th>\n",
       "      <td>50_Minutes-Colours.wav</td>\n",
       "      <td>0.370957</td>\n",
       "      <td>0.191483</td>\n",
       "      <td>1554.272672</td>\n",
       "      <td>2272.273786</td>\n",
       "      <td>3586.444289</td>\n",
       "      <td>0.039205</td>\n",
       "      <td>-128.463409</td>\n",
       "      <td>117.550293</td>\n",
       "      <td>32.394691</td>\n",
       "      <td>...</td>\n",
       "      <td>4.688472</td>\n",
       "      <td>-7.322381</td>\n",
       "      <td>-0.384554</td>\n",
       "      <td>-0.297131</td>\n",
       "      <td>-0.951402</td>\n",
       "      <td>-5.560275</td>\n",
       "      <td>2.688139</td>\n",
       "      <td>-3.069870</td>\n",
       "      <td>2.455562</td>\n",
       "      <td>alternative</td>\n",
       "    </tr>\n",
       "    <tr>\n",
       "      <th>1</th>\n",
       "      <td>50_Minutes-Nightwalk.wav</td>\n",
       "      <td>0.301646</td>\n",
       "      <td>0.118957</td>\n",
       "      <td>892.314417</td>\n",
       "      <td>1477.003664</td>\n",
       "      <td>1649.473129</td>\n",
       "      <td>0.033195</td>\n",
       "      <td>-228.945496</td>\n",
       "      <td>162.367874</td>\n",
       "      <td>25.274275</td>\n",
       "      <td>...</td>\n",
       "      <td>-2.929274</td>\n",
       "      <td>-5.459329</td>\n",
       "      <td>-3.360488</td>\n",
       "      <td>-5.309353</td>\n",
       "      <td>-2.012183</td>\n",
       "      <td>-8.864375</td>\n",
       "      <td>-0.077231</td>\n",
       "      <td>-6.165314</td>\n",
       "      <td>0.011491</td>\n",
       "      <td>alternative</td>\n",
       "    </tr>\n",
       "    <tr>\n",
       "      <th>2</th>\n",
       "      <td>50_Minutes-The_Great_Wall.wav</td>\n",
       "      <td>0.375948</td>\n",
       "      <td>0.203939</td>\n",
       "      <td>1270.664430</td>\n",
       "      <td>1838.236128</td>\n",
       "      <td>2720.278635</td>\n",
       "      <td>0.043340</td>\n",
       "      <td>-114.051369</td>\n",
       "      <td>133.875641</td>\n",
       "      <td>-2.535841</td>\n",
       "      <td>...</td>\n",
       "      <td>1.340597</td>\n",
       "      <td>-1.123214</td>\n",
       "      <td>4.357597</td>\n",
       "      <td>-1.194922</td>\n",
       "      <td>-6.105379</td>\n",
       "      <td>-10.633196</td>\n",
       "      <td>-7.830831</td>\n",
       "      <td>-9.174461</td>\n",
       "      <td>1.239748</td>\n",
       "      <td>alternative</td>\n",
       "    </tr>\n",
       "    <tr>\n",
       "      <th>3</th>\n",
       "      <td>Abigail_Lapell-Dress_Rehearsal.wav</td>\n",
       "      <td>0.288743</td>\n",
       "      <td>0.124793</td>\n",
       "      <td>1946.785743</td>\n",
       "      <td>2323.686436</td>\n",
       "      <td>4007.160408</td>\n",
       "      <td>0.080200</td>\n",
       "      <td>-159.387787</td>\n",
       "      <td>104.808685</td>\n",
       "      <td>-9.930721</td>\n",
       "      <td>...</td>\n",
       "      <td>0.982948</td>\n",
       "      <td>-14.001296</td>\n",
       "      <td>2.717434</td>\n",
       "      <td>-12.282285</td>\n",
       "      <td>-2.516945</td>\n",
       "      <td>-7.880888</td>\n",
       "      <td>-3.486890</td>\n",
       "      <td>-5.966151</td>\n",
       "      <td>-2.050257</td>\n",
       "      <td>alternative</td>\n",
       "    </tr>\n",
       "    <tr>\n",
       "      <th>4</th>\n",
       "      <td>Albino_Catfish-Ice_Cream.wav</td>\n",
       "      <td>0.291857</td>\n",
       "      <td>0.154149</td>\n",
       "      <td>2477.062284</td>\n",
       "      <td>2280.878176</td>\n",
       "      <td>4829.267342</td>\n",
       "      <td>0.135053</td>\n",
       "      <td>-123.162804</td>\n",
       "      <td>69.661911</td>\n",
       "      <td>-16.024954</td>\n",
       "      <td>...</td>\n",
       "      <td>-8.382612</td>\n",
       "      <td>-10.428762</td>\n",
       "      <td>-10.952260</td>\n",
       "      <td>-3.459139</td>\n",
       "      <td>-4.728041</td>\n",
       "      <td>-5.685522</td>\n",
       "      <td>-10.800599</td>\n",
       "      <td>-2.911047</td>\n",
       "      <td>-0.371204</td>\n",
       "      <td>alternative</td>\n",
       "    </tr>\n",
       "  </tbody>\n",
       "</table>\n",
       "<p>5 rows × 28 columns</p>\n",
       "</div>"
      ],
      "text/plain": [
       "                             filename  chroma_stft      rmse  \\\n",
       "0              50_Minutes-Colours.wav     0.370957  0.191483   \n",
       "1            50_Minutes-Nightwalk.wav     0.301646  0.118957   \n",
       "2       50_Minutes-The_Great_Wall.wav     0.375948  0.203939   \n",
       "3  Abigail_Lapell-Dress_Rehearsal.wav     0.288743  0.124793   \n",
       "4        Albino_Catfish-Ice_Cream.wav     0.291857  0.154149   \n",
       "\n",
       "   spectral_centroid  spectral_bandwidth      rolloff  zero_crossing_rate  \\\n",
       "0        1554.272672         2272.273786  3586.444289            0.039205   \n",
       "1         892.314417         1477.003664  1649.473129            0.033195   \n",
       "2        1270.664430         1838.236128  2720.278635            0.043340   \n",
       "3        1946.785743         2323.686436  4007.160408            0.080200   \n",
       "4        2477.062284         2280.878176  4829.267342            0.135053   \n",
       "\n",
       "        mfcc1       mfcc2      mfcc3  ...    mfcc12     mfcc13     mfcc14  \\\n",
       "0 -128.463409  117.550293  32.394691  ...  4.688472  -7.322381  -0.384554   \n",
       "1 -228.945496  162.367874  25.274275  ... -2.929274  -5.459329  -3.360488   \n",
       "2 -114.051369  133.875641  -2.535841  ...  1.340597  -1.123214   4.357597   \n",
       "3 -159.387787  104.808685  -9.930721  ...  0.982948 -14.001296   2.717434   \n",
       "4 -123.162804   69.661911 -16.024954  ... -8.382612 -10.428762 -10.952260   \n",
       "\n",
       "      mfcc15    mfcc16     mfcc17     mfcc18    mfcc19    mfcc20        label  \n",
       "0  -0.297131 -0.951402  -5.560275   2.688139 -3.069870  2.455562  alternative  \n",
       "1  -5.309353 -2.012183  -8.864375  -0.077231 -6.165314  0.011491  alternative  \n",
       "2  -1.194922 -6.105379 -10.633196  -7.830831 -9.174461  1.239748  alternative  \n",
       "3 -12.282285 -2.516945  -7.880888  -3.486890 -5.966151 -2.050257  alternative  \n",
       "4  -3.459139 -4.728041  -5.685522 -10.800599 -2.911047 -0.371204  alternative  \n",
       "\n",
       "[5 rows x 28 columns]"
      ]
     },
     "execution_count": 4,
     "metadata": {},
     "output_type": "execute_result"
    }
   ],
   "source": [
    "features=features.drop(features[features.label=='rock'].index)\n",
    "features=features.drop(features[features.label=='raphiphop'].index)\n",
    "features=features.drop(features[features.label=='pop'].index)\n",
    "features=features.drop(features[features.label=='jazz'].index)\n",
    "features=features.drop(features[features.label=='funksoulrnb'].index)\n",
    "features.head()"
   ]
  },
  {
   "cell_type": "code",
   "execution_count": 5,
   "metadata": {},
   "outputs": [],
   "source": [
    "x= features.iloc[:,1:-1]\n",
    "y=features.iloc[:,-1]\n",
    "x=np.asarray(x)"
   ]
  },
  {
   "cell_type": "code",
   "execution_count": 6,
   "metadata": {},
   "outputs": [],
   "source": [
    "scaler = StandardScaler()\n",
    "x = scaler.fit_transform(np.array(x, dtype = float))"
   ]
  },
  {
   "cell_type": "code",
   "execution_count": 7,
   "metadata": {},
   "outputs": [],
   "source": [
    "# from sklearn.preprocessing import MinMaxScaler \n",
    "# scaler = MinMaxScaler()\n",
    "# x=scaler.fit_transform(x)"
   ]
  },
  {
   "cell_type": "code",
   "execution_count": 8,
   "metadata": {},
   "outputs": [
    {
     "name": "stdout",
     "output_type": "stream",
     "text": [
      "[0 1 2 3]\n"
     ]
    }
   ],
   "source": [
    "from sklearn.preprocessing import LabelEncoder\n",
    "encoder=LabelEncoder()\n",
    "y=encoder.fit_transform(y)\n",
    "print(np.unique(y))"
   ]
  },
  {
   "cell_type": "code",
   "execution_count": 9,
   "metadata": {
    "scrolled": true
   },
   "outputs": [
    {
     "data": {
      "text/plain": [
       "array([[ 3.67113747e-16, -9.47390314e-17, -1.18423789e-17,\n",
       "        -7.04621546e-16,  4.14483263e-16,  3.55271368e-17,\n",
       "         9.47390314e-17,  3.31586610e-16, -1.18423789e-17,\n",
       "        -2.36847579e-16, -9.76996262e-17, -2.07241631e-17,\n",
       "        -1.18423789e-17,  1.65793305e-16,  1.18423789e-17,\n",
       "         2.96059473e-17,  2.13162821e-16, -5.92118946e-17,\n",
       "         1.06581410e-16, -1.77635684e-17,  1.45069142e-16,\n",
       "         0.00000000e+00,  1.77635684e-16, -1.77635684e-17,\n",
       "        -1.00660221e-16, -5.92118946e-18],\n",
       "       [ 1.00000000e-02,  1.00000000e-02,  1.00000000e-02,\n",
       "         1.00000000e-02,  1.00000000e-02,  1.00000000e-02,\n",
       "         1.00000000e-02,  1.00000000e-02,  1.00000000e-02,\n",
       "         1.00000000e-02,  1.00000000e-02,  1.00000000e-02,\n",
       "         1.00000000e-02,  1.00000000e-02,  1.00000000e-02,\n",
       "         1.00000000e-02,  1.00000000e-02,  1.00000000e-02,\n",
       "         1.00000000e-02,  1.00000000e-02,  1.00000000e-02,\n",
       "         1.00000000e-02,  1.00000000e-02,  1.00000000e-02,\n",
       "         1.00000000e-02,  1.00000000e-02],\n",
       "       [ 2.00000000e-02,  2.00000000e-02,  2.00000000e-02,\n",
       "         2.00000000e-02,  2.00000000e-02,  2.00000000e-02,\n",
       "         2.00000000e-02,  2.00000000e-02,  2.00000000e-02,\n",
       "         2.00000000e-02,  2.00000000e-02,  2.00000000e-02,\n",
       "         2.00000000e-02,  2.00000000e-02,  2.00000000e-02,\n",
       "         2.00000000e-02,  2.00000000e-02,  2.00000000e-02,\n",
       "         2.00000000e-02,  2.00000000e-02,  2.00000000e-02,\n",
       "         2.00000000e-02,  2.00000000e-02,  2.00000000e-02,\n",
       "         2.00000000e-02,  2.00000000e-02],\n",
       "       [ 3.00000000e-02,  3.00000000e-02,  3.00000000e-02,\n",
       "         3.00000000e-02,  3.00000000e-02,  3.00000000e-02,\n",
       "         3.00000000e-02,  3.00000000e-02,  3.00000000e-02,\n",
       "         3.00000000e-02,  3.00000000e-02,  3.00000000e-02,\n",
       "         3.00000000e-02,  3.00000000e-02,  3.00000000e-02,\n",
       "         3.00000000e-02,  3.00000000e-02,  3.00000000e-02,\n",
       "         3.00000000e-02,  3.00000000e-02,  3.00000000e-02,\n",
       "         3.00000000e-02,  3.00000000e-02,  3.00000000e-02,\n",
       "         3.00000000e-02,  3.00000000e-02]])"
      ]
     },
     "execution_count": 9,
     "metadata": {},
     "output_type": "execute_result"
    }
   ],
   "source": [
    "def generateRandomCenters(c,x):\n",
    "    centers=[]\n",
    "    _min= (np.min(x))\n",
    "    _max= (np.max(x))\n",
    "    t= np.mean(x,axis=0)    \n",
    "    for i in range(c):\n",
    "        centers.append( t + 0.01*i)   \n",
    "    return np.asarray(centers) \n",
    "\n",
    "generateRandomCenters(cluster,x)"
   ]
  },
  {
   "cell_type": "code",
   "execution_count": 10,
   "metadata": {},
   "outputs": [],
   "source": [
    "# intialize random member ship\n",
    "def initializeMembershipMatrix(n):\n",
    "    membership_mat = list()\n",
    "    for i in range(n.shape[0]):\n",
    "#         random_num_list = [random.random() for i in range(cluster)]\n",
    "        random_num_list = [ np.random.rand() for i in range(cluster)]\n",
    "        summation = sum(random_num_list) \n",
    "        temp_list = [x/summation for x in random_num_list]\n",
    "        membership_mat.append(temp_list) \n",
    "    return np.asarray(membership_mat) "
   ]
  },
  {
   "cell_type": "code",
   "execution_count": 11,
   "metadata": {},
   "outputs": [],
   "source": [
    "def updateMembershipValue3_2(u, v,val):\n",
    "    distances = cdist(val, v,metric='euclidean')\n",
    "    return distances"
   ]
  },
  {
   "cell_type": "code",
   "execution_count": 12,
   "metadata": {},
   "outputs": [],
   "source": [
    "\n",
    "def CalculateWeightValues(cluster_center,val,q):\n",
    "        \n",
    "    membership=[]    \n",
    "    distances = cdist(val, v,metric='euclidean')[:,q]  \n",
    "    sumdistance=np.sum(distances)\n",
    "    membership= distances/sumdistance \n",
    "    \n",
    "    return membership\n"
   ]
  },
  {
   "cell_type": "code",
   "execution_count": 13,
   "metadata": {},
   "outputs": [],
   "source": [
    "\n",
    "def CalculateWeightValuesByIndex(cluster_center,val,q,index):\n",
    "    \n",
    "#     print(centers[q])\n",
    "#     distances=[]\n",
    "#     for j in range(val.shape[0]):\n",
    "#         distances.append(np.linalg.norm(val[j]- v[q])) \n",
    "    \n",
    "    distances = cdist(val, v,metric='euclidean')[:,q]  \n",
    "    sumdistance=np.sum(distances)\n",
    "    membership= distances[index]/sumdistance\n",
    "        \n",
    "    return membership\n"
   ]
  },
  {
   "cell_type": "code",
   "execution_count": 14,
   "metadata": {},
   "outputs": [],
   "source": [
    "def calcError(center,mem):\n",
    "    dist=0\n",
    "    for i in range(mem.shape[0]):\n",
    "        dist+=np.linalg.norm(center - mem[i])\n",
    "    return dist"
   ]
  },
  {
   "cell_type": "code",
   "execution_count": 15,
   "metadata": {},
   "outputs": [],
   "source": [
    "def moveVtoTheCenter(v,u,x):\n",
    "    for k in range( cluster):\n",
    "        items=[]\n",
    "        for i  in range(  (x.shape[0])):\n",
    "            if(u[i,k]>=np.max(u[i])):\n",
    "                items.append(x[i])\n",
    "        v[k]=np.mean(items, axis=0)\n",
    "    return v"
   ]
  },
  {
   "cell_type": "code",
   "execution_count": 16,
   "metadata": {},
   "outputs": [],
   "source": [
    "def _k_init(X, n_clusters, x_squared_norms, random_state, n_local_trials=None):\n",
    "    \"\"\"Init n_clusters seeds according to k-means++\n",
    "    Parameters\n",
    "    ----------\n",
    "    X : array or sparse matrix, shape (n_samples, n_features)\n",
    "        The data to pick seeds for. To avoid memory copy, the input data\n",
    "        should be double precision (dtype=np.float64).\n",
    "    n_clusters : integer\n",
    "        The number of seeds to choose\n",
    "    x_squared_norms : array, shape (n_samples,)\n",
    "        Squared Euclidean norm of each data point.\n",
    "    random_state : int, RandomState instance\n",
    "        The generator used to initialize the centers. Use an int to make the\n",
    "        randomness deterministic.\n",
    "        See :term:`Glossary <random_state>`.\n",
    "    n_local_trials : integer, optional\n",
    "        The number of seeding trials for each center (except the first),\n",
    "        of which the one reducing inertia the most is greedily chosen.\n",
    "        Set to None to make the number of trials depend logarithmically\n",
    "        on the number of seeds (2+log(k)); this is the default.\n",
    "    Notes\n",
    "    -----\n",
    "    Selects initial cluster centers for k-mean clustering in a smart way\n",
    "    to speed up convergence. see: Arthur, D. and Vassilvitskii, S.\n",
    "    \"k-means++: the advantages of careful seeding\". ACM-SIAM symposium\n",
    "    on Discrete algorithms. 2007\n",
    "    Version ported from http://www.stanford.edu/~darthur/kMeansppTest.zip,\n",
    "    which is the implementation used in the aforementioned paper.\n",
    "    \"\"\"\n",
    "    n_samples, n_features = X.shape\n",
    "\n",
    "    centers = np.empty((n_clusters, n_features), dtype=X.dtype)\n",
    "\n",
    "    assert x_squared_norms is not None, 'x_squared_norms None in _k_init'\n",
    "\n",
    "    # Set the number of local seeding trials if none is given\n",
    "    if n_local_trials is None:\n",
    "        # This is what Arthur/Vassilvitskii tried, but did not report\n",
    "        # specific results for other than mentioning in the conclusion\n",
    "        # that it helped.\n",
    "        n_local_trials = 2 + int(np.log(n_clusters))\n",
    "\n",
    "    # Pick first center randomly\n",
    "    center_id = random_state.randint(n_samples)\n",
    "    if sp.issparse(X):\n",
    "        centers[0] = X[center_id].toarray()\n",
    "    else:\n",
    "        centers[0] = X[center_id]\n",
    "\n",
    "    # Initialize list of closest distances and calculate current potential\n",
    "    closest_dist_sq = euclidean_distances(\n",
    "        centers[0, np.newaxis], X, Y_norm_squared=x_squared_norms,\n",
    "        squared=True)\n",
    "    current_pot = closest_dist_sq.sum()\n",
    "\n",
    "    # Pick the remaining n_clusters-1 points\n",
    "    for c in range(1, n_clusters):\n",
    "        # Choose center candidates by sampling with probability proportional\n",
    "        # to the squared distance to the closest existing center\n",
    "        rand_vals = random_state.random_sample(n_local_trials) * current_pot\n",
    "        candidate_ids = np.searchsorted(stable_cumsum(closest_dist_sq),\n",
    "                                        rand_vals)\n",
    "\n",
    "        # Compute distances to center candidates\n",
    "        distance_to_candidates = euclidean_distances(\n",
    "            X[candidate_ids], X, Y_norm_squared=x_squared_norms, squared=True)\n",
    "\n",
    "        # Decide which candidate is the best\n",
    "        best_candidate = None\n",
    "        best_pot = None\n",
    "        best_dist_sq = None\n",
    "        for trial in range(n_local_trials):\n",
    "            # Compute potential when including center candidate\n",
    "            new_dist_sq = np.minimum(closest_dist_sq,\n",
    "                                     distance_to_candidates[trial])\n",
    "            new_pot = new_dist_sq.sum()\n",
    "\n",
    "            # Store result if it is the best local trial so far\n",
    "            if (best_candidate is None) or (new_pot < best_pot):\n",
    "                best_candidate = candidate_ids[trial]\n",
    "                best_pot = new_pot\n",
    "                best_dist_sq = new_dist_sq\n",
    "\n",
    "        # Permanently add best center candidate found in local tries\n",
    "        if sp.issparse(X):\n",
    "            centers[c] = X[best_candidate].toarray()\n",
    "        else:\n",
    "            centers[c] = X[best_candidate]\n",
    "        current_pot = best_pot\n",
    "        closest_dist_sq = best_dist_sq\n",
    "\n",
    "    return centers"
   ]
  },
  {
   "cell_type": "code",
   "execution_count": 17,
   "metadata": {
    "scrolled": true
   },
   "outputs": [
    {
     "data": {
      "text/plain": [
       "array([[ 0.14591782,  2.36086056,  0.5599574 ,  0.18043443,  0.3842748 ,\n",
       "         0.60186878,  1.60584676, -0.56374168, -0.72131979,  1.3689187 ,\n",
       "        -0.22696825, -0.70423403, -0.67377537, -0.01129317,  0.35331333,\n",
       "        -0.48716719, -0.60666531,  0.47072052, -0.04794361, -0.57929162,\n",
       "        -0.543044  ,  0.3092124 , -0.26573023, -0.63712485, -1.01964212,\n",
       "        -1.08770455],\n",
       "       [-1.4709506 , -1.51168168, -0.41830045, -0.27758505, -0.55010588,\n",
       "        -0.54060227, -1.89934683,  0.12074606,  1.10828553,  0.07370339,\n",
       "         1.37246559,  0.07163308, -1.13589519, -1.46562504, -1.78573707,\n",
       "        -0.89739533, -1.74849113, -2.93993077, -1.80282294, -2.21502041,\n",
       "        -0.74278132, -1.53353023, -0.60379111, -2.18608643, -0.09553641,\n",
       "        -0.02075801],\n",
       "       [-0.6291413 ,  0.89139233, -0.20975235,  0.39161376, -0.00776291,\n",
       "        -0.51411904,  0.67001608,  0.56528791,  0.88686671, -1.66448365,\n",
       "        -1.11493836, -0.45816883,  0.42704356, -0.28040365, -0.37987044,\n",
       "        -0.41193739, -0.39327326, -0.81164706, -1.42290519, -1.06024861,\n",
       "        -0.38752318, -0.52826811,  0.21784861,  0.89203766,  1.20771402,\n",
       "         1.67392534],\n",
       "       [ 2.25248381, -1.10064454,  0.48390219,  0.57553493,  0.55990966,\n",
       "         0.15042321, -0.06106233, -0.55273566, -0.55693089,  0.49035559,\n",
       "         0.82451503, -0.1690851 ,  0.54208186,  0.63241759,  1.89130147,\n",
       "         1.30427151,  0.85846632,  2.05745905,  0.70893083,  0.7424881 ,\n",
       "         0.24757812,  0.7006869 ,  0.64658021,  0.78019349,  0.48871359,\n",
       "         0.35847228]])"
      ]
     },
     "execution_count": 17,
     "metadata": {},
     "output_type": "execute_result"
    }
   ],
   "source": [
    "# x_squared_norms = np.row_norms(x, squared=True)\n",
    "\n",
    "from sklearn.utils.extmath import row_norms\n",
    "from sklearn.utils.extmath import row_norms, squared_norm, stable_cumsum\n",
    "import scipy.sparse as sp\n",
    "from sklearn.metrics.pairwise import euclidean_distances\n",
    " \n",
    "c = _k_init(x,cluster, row_norms(x, squared=True), np.random.RandomState(seed=42))\n",
    "c"
   ]
  },
  {
   "cell_type": "markdown",
   "metadata": {},
   "source": [
    "Initialization\n",
    "================="
   ]
  },
  {
   "cell_type": "code",
   "execution_count": 18,
   "metadata": {},
   "outputs": [],
   "source": [
    "import random\n",
    "# x =np.asarray( random.sample(x.tolist(), len(x.tolist())))\n",
    "# print(x[:5,])\n",
    "\n",
    "u=initializeMembershipMatrix(x)\n",
    "v=c#generateRandomCenters(cluster,x)\n",
    " \n",
    "w=updateMembershipValue3_2(u,v,x)\n",
    "\n",
    "\n",
    "ny=np.argmin(w,axis=1)\n",
    "\n",
    "# for i in range ( cluster):\n",
    "#     plt.scatter(x[ny == i, 0], x[ny == i, 1],  s=10, label=\"Cluster - \"+str(i))\n",
    "# plt.scatter(x=np.asarray(v)[:,0],y=np.asarray(v)[:,1], color='black',s=50)\n",
    "# plt.show()  "
   ]
  },
  {
   "cell_type": "markdown",
   "metadata": {},
   "source": [
    "POCS -- Parallel projection\n",
    "================="
   ]
  },
  {
   "cell_type": "code",
   "execution_count": 19,
   "metadata": {
    "scrolled": true
   },
   "outputs": [
    {
     "name": "stdout",
     "output_type": "stream",
     "text": [
      "0\n",
      "1\n",
      "2\n",
      "3\n",
      "4\n",
      "5\n",
      "6\n",
      "7\n",
      "8\n",
      "9\n",
      "10\n",
      "11\n",
      "12\n",
      "13\n",
      "14\n",
      "15\n",
      "16\n",
      "17\n",
      "18\n",
      "19\n",
      "20\n",
      "21\n",
      "22\n",
      "23\n",
      "24\n",
      "25\n",
      "26\n",
      "27\n",
      "28\n",
      "29\n",
      "30\n",
      "31\n",
      "32\n",
      "33\n",
      "34\n",
      "35\n",
      "36\n",
      "37\n",
      "38\n",
      "39\n",
      "40\n",
      "41\n",
      "42\n",
      "43\n",
      "44\n",
      "45\n",
      "46\n",
      "47\n",
      "48\n",
      "49\n"
     ]
    }
   ],
   "source": [
    "# val=x\n",
    "errorlist=[]\n",
    "start=time.time()\n",
    "for t in range(50):\n",
    "    print(t)\n",
    "    error=0\n",
    "    for q in range(cluster): \n",
    "         \n",
    "        val=x[ny == q,:] \n",
    "                \n",
    "        if(val.shape[0]!=0):\n",
    "            \n",
    "            weight=CalculateWeightValues(v[q],val,q) \n",
    "\n",
    "            temp=0    \n",
    "            for i in range(val.shape[0]):                \n",
    "                temp += weight[i]*(val[i]- v[q])\n",
    "            v[q]= v[q]+temp    \n",
    "\n",
    "        error+=calcError(v[q],val)\n",
    "    \n",
    "#     print(t,q,error) \n",
    "    errorlist.append([error,time.time()- start])\n",
    "\n",
    "    w=updateMembershipValue3_2(u,v,x)  \n",
    "    ny=np.argmin(w,axis=1)\n",
    "    \n",
    "    \n"
   ]
  },
  {
   "cell_type": "code",
   "execution_count": 20,
   "metadata": {},
   "outputs": [
    {
     "name": "stdout",
     "output_type": "stream",
     "text": [
      "0.026329091798082085\n",
      "3.09\n",
      "0.04877255611916577\n"
     ]
    },
    {
     "name": "stderr",
     "output_type": "stream",
     "text": [
      "C:\\ProgramData\\Anaconda3\\lib\\site-packages\\sklearn\\metrics\\cluster\\supervised.py:859: FutureWarning: The behavior of NMI will change in version 0.22. To match the behavior of 'v_measure_score', NMI will use average_method='arithmetic' by default.\n",
      "  FutureWarning)\n"
     ]
    }
   ],
   "source": [
    "\n",
    "from sklearn.metrics.cluster import adjusted_rand_score\n",
    "from sklearn.metrics import mean_squared_error\n",
    "from sklearn.metrics.cluster import normalized_mutual_info_score\n",
    "\n",
    "print(adjusted_rand_score(y,ny))\n",
    "print(mean_squared_error(y,ny))\n",
    "print(normalized_mutual_info_score(y,ny))\n"
   ]
  },
  {
   "cell_type": "code",
   "execution_count": null,
   "metadata": {},
   "outputs": [],
   "source": []
  },
  {
   "cell_type": "code",
   "execution_count": 21,
   "metadata": {},
   "outputs": [],
   "source": [
    "test=pd.DataFrame()\n",
    "test['y']=y\n",
    "test['ny']=ny\n",
    "# test.head()"
   ]
  },
  {
   "cell_type": "code",
   "execution_count": 22,
   "metadata": {},
   "outputs": [],
   "source": [
    "import itertools \n",
    "perm = itertools.permutations(np.unique(y)) \n",
    "_totalperm=[]\n",
    "  \n",
    "for i in list(perm): \n",
    "    _totalperm.append(list(i)) "
   ]
  },
  {
   "cell_type": "code",
   "execution_count": 23,
   "metadata": {},
   "outputs": [
    {
     "name": "stdout",
     "output_type": "stream",
     "text": [
      "0\n",
      "1\n",
      "2\n",
      "3\n",
      "4\n",
      "5\n",
      "6\n",
      "7\n",
      "8\n",
      "9\n",
      "10\n",
      "11\n",
      "12\n",
      "13\n",
      "14\n",
      "15\n",
      "16\n",
      "17\n",
      "18\n",
      "19\n",
      "20\n",
      "21\n",
      "22\n",
      "23\n"
     ]
    }
   ],
   "source": [
    "from sklearn import metrics as m\n",
    "accuracy=np.zeros((len(_totalperm)))\n",
    "values=[]\n",
    "\n",
    "for i in range(len(_totalperm)): \n",
    "    print(i)\n",
    "    newcolvals=np.zeros((test.shape[0]))\n",
    "    for j in range(test.shape[0]):\n",
    "        newcolvals[j]=(_totalperm[i])[test.ny[j]] \n",
    "        \n",
    "    accval=m.accuracy_score(test.y,newcolvals)\n",
    "    accuracy[i]=(accval)\n",
    "    values.append(list(_totalperm[i]))"
   ]
  },
  {
   "cell_type": "code",
   "execution_count": null,
   "metadata": {},
   "outputs": [],
   "source": []
  },
  {
   "cell_type": "code",
   "execution_count": 24,
   "metadata": {},
   "outputs": [
    {
     "data": {
      "text/plain": [
       "0.34"
      ]
     },
     "execution_count": 24,
     "metadata": {},
     "output_type": "execute_result"
    }
   ],
   "source": [
    "np.max(accuracy)"
   ]
  },
  {
   "cell_type": "code",
   "execution_count": null,
   "metadata": {},
   "outputs": [],
   "source": []
  },
  {
   "cell_type": "code",
   "execution_count": null,
   "metadata": {},
   "outputs": [],
   "source": []
  },
  {
   "cell_type": "code",
   "execution_count": null,
   "metadata": {},
   "outputs": [],
   "source": []
  },
  {
   "cell_type": "code",
   "execution_count": null,
   "metadata": {},
   "outputs": [],
   "source": []
  }
 ],
 "metadata": {
  "kernelspec": {
   "display_name": "Python 3",
   "language": "python",
   "name": "python3"
  },
  "language_info": {
   "codemirror_mode": {
    "name": "ipython",
    "version": 3
   },
   "file_extension": ".py",
   "mimetype": "text/x-python",
   "name": "python",
   "nbconvert_exporter": "python",
   "pygments_lexer": "ipython3",
   "version": "3.7.3"
  }
 },
 "nbformat": 4,
 "nbformat_minor": 2
}
