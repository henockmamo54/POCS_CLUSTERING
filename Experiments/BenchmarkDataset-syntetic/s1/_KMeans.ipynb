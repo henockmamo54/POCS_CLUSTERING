{
 "cells": [
  {
   "cell_type": "code",
   "execution_count": 1,
   "metadata": {},
   "outputs": [],
   "source": [
    "import numpy as np\n",
    "import random\n",
    "import math\n",
    "from matplotlib import pyplot as plt\n",
    "from sklearn.datasets.samples_generator import make_blobs\n",
    "import time\n",
    "import pandas as pd\n",
    "from scipy.spatial.distance import cdist\n",
    "from sklearn.utils import shuffle\n",
    "from sklearn.cluster import KMeans\n",
    "import numpy as np\n",
    "from scipy.spatial import distance\n",
    "\n",
    "from sklearn.preprocessing import LabelEncoder\n",
    "from sklearn.utils import shuffle\n",
    "from sklearn.preprocessing import MinMaxScaler\n",
    "np.random.seed(0)"
   ]
  },
  {
   "cell_type": "markdown",
   "metadata": {},
   "source": [
    "Initialize the data points and Random centers\n",
    "===========================\n"
   ]
  },
  {
   "cell_type": "markdown",
   "metadata": {},
   "source": [
    "KMeans - Clustering\n",
    "==============="
   ]
  },
  {
   "cell_type": "code",
   "execution_count": 2,
   "metadata": {},
   "outputs": [
    {
     "data": {
      "text/html": [
       "<div>\n",
       "<style scoped>\n",
       "    .dataframe tbody tr th:only-of-type {\n",
       "        vertical-align: middle;\n",
       "    }\n",
       "\n",
       "    .dataframe tbody tr th {\n",
       "        vertical-align: top;\n",
       "    }\n",
       "\n",
       "    .dataframe thead th {\n",
       "        text-align: right;\n",
       "    }\n",
       "</style>\n",
       "<table border=\"1\" class=\"dataframe\">\n",
       "  <thead>\n",
       "    <tr style=\"text-align: right;\">\n",
       "      <th></th>\n",
       "      <th>0</th>\n",
       "      <th>1</th>\n",
       "    </tr>\n",
       "  </thead>\n",
       "  <tbody>\n",
       "    <tr>\n",
       "      <th>0</th>\n",
       "      <td>0.683912</td>\n",
       "      <td>0.543504</td>\n",
       "    </tr>\n",
       "    <tr>\n",
       "      <th>1</th>\n",
       "      <td>0.685701</td>\n",
       "      <td>0.551136</td>\n",
       "    </tr>\n",
       "    <tr>\n",
       "      <th>2</th>\n",
       "      <td>0.612810</td>\n",
       "      <td>0.570245</td>\n",
       "    </tr>\n",
       "    <tr>\n",
       "      <th>3</th>\n",
       "      <td>0.635553</td>\n",
       "      <td>0.544047</td>\n",
       "    </tr>\n",
       "    <tr>\n",
       "      <th>4</th>\n",
       "      <td>0.653693</td>\n",
       "      <td>0.605594</td>\n",
       "    </tr>\n",
       "  </tbody>\n",
       "</table>\n",
       "</div>"
      ],
      "text/plain": [
       "          0         1\n",
       "0  0.683912  0.543504\n",
       "1  0.685701  0.551136\n",
       "2  0.612810  0.570245\n",
       "3  0.635553  0.544047\n",
       "4  0.653693  0.605594"
      ]
     },
     "execution_count": 2,
     "metadata": {},
     "output_type": "execute_result"
    }
   ],
   "source": [
    "cluster=15\n",
    "data=pd.read_csv('../../../dataset/s1.txt', header=None, sep=',')  #\n",
    "datasetname='s1'\n",
    "scaler=MinMaxScaler()\n",
    "data=pd.DataFrame(scaler.fit_transform(data))\n",
    "x= np.asarray(data.iloc[:, :]) \n",
    "data.head()  "
   ]
  },
  {
   "cell_type": "code",
   "execution_count": 3,
   "metadata": {
    "scrolled": true
   },
   "outputs": [
    {
     "name": "stdout",
     "output_type": "stream",
     "text": [
      "0\n",
      "1\n",
      "2\n",
      "3\n",
      "4\n",
      "5\n",
      "6\n",
      "7\n",
      "8\n",
      "9\n"
     ]
    }
   ],
   "source": [
    "error=[]\n",
    "\n",
    "for i in range(10):\n",
    "    \n",
    "    data=shuffle(data)\n",
    "    x= np.asarray(data.iloc[:, :])\n",
    "\n",
    "    kmeans = KMeans(n_clusters=cluster, random_state=5,max_iter=50).fit(x)\n",
    "    \n",
    "    labels=kmeans.labels_\n",
    "    centers=kmeans.cluster_centers_\n",
    "    dst=0\n",
    "    \n",
    "    for j in range(len(labels)):\n",
    "        dst+=distance.euclidean(list(x[j,:]),centers[labels[j]]) \n",
    "    error.append(dst)\n",
    "    \n",
    "    print(i)\n",
    "    "
   ]
  },
  {
   "cell_type": "code",
   "execution_count": 4,
   "metadata": {},
   "outputs": [
    {
     "name": "stdout",
     "output_type": "stream",
     "text": [
      "[181.96629860770108, 181.9662986077008, 181.96629860770102, 181.96629860770094, 181.96629860770153, 181.96629860770108, 181.96629860770082, 181.9736071457195, 181.96402184079878, 181.9640218407997]\n",
      "mean  181.96657410812253\n",
      "std  0.002510439367827913\n"
     ]
    }
   ],
   "source": [
    "print(error)\n",
    "print('mean ',np.mean(error))\n",
    "print('std ',np.std(error))"
   ]
  },
  {
   "cell_type": "code",
   "execution_count": 5,
   "metadata": {},
   "outputs": [
    {
     "data": {
      "text/plain": [
       "array([[0.89066842, 0.5384078 ],\n",
       "       [0.15711562, 0.32261899],\n",
       "       [0.33725159, 0.55569457],\n",
       "       [0.63483868, 0.37873172],\n",
       "       [0.42241581, 0.80018811],\n",
       "       [0.88335561, 0.11587698],\n",
       "       [0.51796521, 0.13536829],\n",
       "       [0.69109756, 0.88257269],\n",
       "       [0.40232312, 0.38472118],\n",
       "       [0.12721085, 0.5513083 ],\n",
       "       [0.31924683, 0.12004855],\n",
       "       [0.6227895 , 0.56906726],\n",
       "       [0.23863291, 0.86612737],\n",
       "       [0.82981478, 0.29359729],\n",
       "       [0.85295893, 0.73945019]])"
      ]
     },
     "execution_count": 5,
     "metadata": {},
     "output_type": "execute_result"
    }
   ],
   "source": [
    "centers"
   ]
  },
  {
   "cell_type": "code",
   "execution_count": null,
   "metadata": {},
   "outputs": [],
   "source": []
  },
  {
   "cell_type": "code",
   "execution_count": null,
   "metadata": {},
   "outputs": [],
   "source": []
  }
 ],
 "metadata": {
  "kernelspec": {
   "display_name": "Python 3",
   "language": "python",
   "name": "python3"
  },
  "language_info": {
   "codemirror_mode": {
    "name": "ipython",
    "version": 3
   },
   "file_extension": ".py",
   "mimetype": "text/x-python",
   "name": "python",
   "nbconvert_exporter": "python",
   "pygments_lexer": "ipython3",
   "version": "3.7.3"
  }
 },
 "nbformat": 4,
 "nbformat_minor": 2
}
