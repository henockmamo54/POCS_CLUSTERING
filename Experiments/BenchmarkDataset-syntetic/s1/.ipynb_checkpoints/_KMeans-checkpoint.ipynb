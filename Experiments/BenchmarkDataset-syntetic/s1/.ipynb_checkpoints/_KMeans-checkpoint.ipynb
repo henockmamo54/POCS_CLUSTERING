{
 "cells": [
  {
   "cell_type": "code",
   "execution_count": 1,
   "metadata": {},
   "outputs": [],
   "source": [
    "import numpy as np\n",
    "import random\n",
    "import math\n",
    "from matplotlib import pyplot as plt\n",
    "from sklearn.datasets.samples_generator import make_blobs\n",
    "import time\n",
    "import pandas as pd\n",
    "from scipy.spatial.distance import cdist\n",
    "from sklearn.utils import shuffle\n",
    "from sklearn.cluster import KMeans\n",
    "import numpy as np\n",
    "from scipy.spatial import distance\n",
    "\n",
    "from sklearn.preprocessing import LabelEncoder\n",
    "from sklearn.utils import shuffle\n",
    "np.random.seed(0)"
   ]
  },
  {
   "cell_type": "markdown",
   "metadata": {},
   "source": [
    "Initialize the data points and Random centers\n",
    "===========================\n"
   ]
  },
  {
   "cell_type": "markdown",
   "metadata": {},
   "source": [
    "KMeans - Clustering\n",
    "==============="
   ]
  },
  {
   "cell_type": "code",
   "execution_count": 2,
   "metadata": {},
   "outputs": [
    {
     "data": {
      "text/html": [
       "<div>\n",
       "<style scoped>\n",
       "    .dataframe tbody tr th:only-of-type {\n",
       "        vertical-align: middle;\n",
       "    }\n",
       "\n",
       "    .dataframe tbody tr th {\n",
       "        vertical-align: top;\n",
       "    }\n",
       "\n",
       "    .dataframe thead th {\n",
       "        text-align: right;\n",
       "    }\n",
       "</style>\n",
       "<table border=\"1\" class=\"dataframe\">\n",
       "  <thead>\n",
       "    <tr style=\"text-align: right;\">\n",
       "      <th></th>\n",
       "      <th>0</th>\n",
       "      <th>1</th>\n",
       "    </tr>\n",
       "  </thead>\n",
       "  <tbody>\n",
       "    <tr>\n",
       "      <th>0</th>\n",
       "      <td>845753</td>\n",
       "      <td>636607</td>\n",
       "    </tr>\n",
       "    <tr>\n",
       "      <th>1</th>\n",
       "      <td>812954</td>\n",
       "      <td>643720</td>\n",
       "    </tr>\n",
       "    <tr>\n",
       "      <th>2</th>\n",
       "      <td>868217</td>\n",
       "      <td>609046</td>\n",
       "    </tr>\n",
       "    <tr>\n",
       "      <th>3</th>\n",
       "      <td>920248</td>\n",
       "      <td>607272</td>\n",
       "    </tr>\n",
       "    <tr>\n",
       "      <th>4</th>\n",
       "      <td>841621</td>\n",
       "      <td>639394</td>\n",
       "    </tr>\n",
       "  </tbody>\n",
       "</table>\n",
       "</div>"
      ],
      "text/plain": [
       "        0       1\n",
       "0  845753  636607\n",
       "1  812954  643720\n",
       "2  868217  609046\n",
       "3  920248  607272\n",
       "4  841621  639394"
      ]
     },
     "execution_count": 2,
     "metadata": {},
     "output_type": "execute_result"
    }
   ],
   "source": [
    "cluster=15\n",
    "data=pd.read_csv('../../../dataset/s1.txt', header=None, sep=',')  #\n",
    "datasetname='s1'\n",
    "x= np.asarray(data.iloc[:, :]) \n",
    "data.head()  "
   ]
  },
  {
   "cell_type": "code",
   "execution_count": 3,
   "metadata": {
    "scrolled": true
   },
   "outputs": [
    {
     "name": "stdout",
     "output_type": "stream",
     "text": [
      "0\n",
      "1\n",
      "2\n",
      "3\n",
      "4\n",
      "5\n",
      "6\n",
      "7\n",
      "8\n",
      "9\n"
     ]
    }
   ],
   "source": [
    "error=[]\n",
    "\n",
    "for i in range(10):\n",
    "    \n",
    "    data=shuffle(data)\n",
    "    x= np.asarray(data.iloc[:, :])\n",
    "\n",
    "    kmeans = KMeans(n_clusters=cluster, random_state=5,max_iter=50).fit(x)\n",
    "    \n",
    "    labels=kmeans.labels_\n",
    "    centers=kmeans.cluster_centers_\n",
    "    dst=0\n",
    "    \n",
    "    for j in range(len(labels)):\n",
    "        dst+=distance.euclidean(list(x[j,:]),centers[labels[j]]) \n",
    "    error.append(dst)\n",
    "    \n",
    "    print(i)\n",
    "    "
   ]
  },
  {
   "cell_type": "code",
   "execution_count": 4,
   "metadata": {},
   "outputs": [
    {
     "name": "stdout",
     "output_type": "stream",
     "text": [
      "[207121265.61371037, 207135315.1943059, 207121265.61371118, 207145911.23946384, 207124182.00902864, 207121265.61371028, 207135315.19430616, 207135315.19430584, 207121265.61371112, 207145911.23946363]\n",
      "mean  207130701.2525717\n",
      "std  9618.619634463035\n"
     ]
    }
   ],
   "source": [
    "print(error)\n",
    "print('mean ',np.mean(error))\n",
    "print('std ',np.std(error))"
   ]
  },
  {
   "cell_type": "code",
   "execution_count": 5,
   "metadata": {},
   "outputs": [
    {
     "data": {
      "text/plain": [
       "array([[380160.96176471, 169091.53823529],\n",
       "       [809538.63343109, 797406.27565982],\n",
       "       [808125.09638554, 234833.54518072],\n",
       "       [258855.64536741, 740048.90734824],\n",
       "       [742741.9112426 , 489417.17455621],\n",
       "       [444512.13095238, 611892.54761905],\n",
       "       [199699.99152542, 478030.29378531],\n",
       "       [545950.07443366, 432863.93527508],\n",
       "       [633300.53008596, 717099.38968481],\n",
       "       [503665.84477612, 854338.09850746],\n",
       "       [152590.79710145, 239488.48405797],\n",
       "       [562468.49221184, 243230.54205607],\n",
       "       [836524.95637584, 636550.12416107],\n",
       "       [677971.76231884, 150751.28115942],\n",
       "       [371348.75290698, 392301.69476744]])"
      ]
     },
     "execution_count": 5,
     "metadata": {},
     "output_type": "execute_result"
    }
   ],
   "source": [
    "centers"
   ]
  },
  {
   "cell_type": "code",
   "execution_count": null,
   "metadata": {},
   "outputs": [],
   "source": []
  },
  {
   "cell_type": "code",
   "execution_count": null,
   "metadata": {},
   "outputs": [],
   "source": []
  }
 ],
 "metadata": {
  "kernelspec": {
   "display_name": "Python 3",
   "language": "python",
   "name": "python3"
  },
  "language_info": {
   "codemirror_mode": {
    "name": "ipython",
    "version": 3
   },
   "file_extension": ".py",
   "mimetype": "text/x-python",
   "name": "python",
   "nbconvert_exporter": "python",
   "pygments_lexer": "ipython3",
   "version": "3.7.3"
  }
 },
 "nbformat": 4,
 "nbformat_minor": 2
}
